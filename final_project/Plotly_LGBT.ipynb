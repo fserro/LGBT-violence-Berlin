{
 "cells": [
  {
   "cell_type": "code",
   "execution_count": 245,
   "metadata": {},
   "outputs": [
    {
     "data": {
      "text/html": [
       "\n",
       "        <iframe\n",
       "            width=\"1000\"\n",
       "            height=\"500\"\n",
       "            src=\"https://plotly.com/python/\"\n",
       "            frameborder=\"0\"\n",
       "            allowfullscreen\n",
       "        ></iframe>\n",
       "        "
      ],
      "text/plain": [
       "<IPython.lib.display.IFrame at 0x11e562c40>"
      ]
     },
     "metadata": {},
     "output_type": "display_data"
    }
   ],
   "source": [
    "from IPython.display import IFrame\n",
    "documentation = IFrame(src='https://plotly.com/python/', width=1000, height=500)\n",
    "display(documentation)"
   ]
  },
  {
   "cell_type": "code",
   "execution_count": 5,
   "metadata": {},
   "outputs": [],
   "source": [
    "import plotly.io as pio\n",
    "import plotly.express as px\n",
    "import pandas as pd\n",
    "import pickle\n",
    "import numpy as np"
   ]
  },
  {
   "cell_type": "code",
   "execution_count": 4,
   "metadata": {},
   "outputs": [],
   "source": [
    "pio.templates.default = \"plotly\""
   ]
  },
  {
   "cell_type": "markdown",
   "metadata": {},
   "source": [
    "## Load pickle df_lgbt"
   ]
  },
  {
   "cell_type": "code",
   "execution_count": 10,
   "metadata": {},
   "outputs": [],
   "source": [
    "with open('pickles/df_lgbt.pickle', 'rb') as f:\n",
    "    df_lgbt = pickle.load(f)"
   ]
  },
  {
   "cell_type": "markdown",
   "metadata": {},
   "source": [
    "## Load pickle df_barplot_count\n"
   ]
  },
  {
   "cell_type": "code",
   "execution_count": 2,
   "metadata": {},
   "outputs": [],
   "source": [
    "with open('pickles/df_barplot_count.pickle', 'rb') as f:\n",
    "    df_barplot_count = pickle.load(f)"
   ]
  },
  {
   "cell_type": "code",
   "execution_count": 139,
   "metadata": {},
   "outputs": [],
   "source": [
    "df_barplot = df_lgbt[['District', 'year', 'type of incident']]"
   ]
  },
  {
   "cell_type": "markdown",
   "metadata": {},
   "source": [
    "**Join attacks in a single colums**"
   ]
  },
  {
   "cell_type": "code",
   "execution_count": 64,
   "metadata": {},
   "outputs": [],
   "source": [
    "'''\n",
    "df_barplot['type of incident'] = df_barplot['Attack'] \n",
    "df_barplot.loc[df_barplot['type of incident'] == 'physical', 'type of incident'] = 'physical attack'\n",
    "df_barplot.loc[df_barplot['Attack'] == 'verbal', 'type of incident'] = 'verbal attack'\n",
    "df_barplot.loc[df_barplot['Propaganda'] == 'yes', 'type of incident'] = 'propaganda'\n",
    "df_barplot.loc[df_barplot['Material Damage'] == 'yes', 'type of incident'] = 'vandalism'\n",
    "df_barplot = df_barplot[['District', 'year', 'type of incident']]\n",
    "'''"
   ]
  },
  {
   "cell_type": "code",
   "execution_count": 33,
   "metadata": {},
   "outputs": [],
   "source": [
    "#df_2020.groupby(['District', df_complete['Date'].dt.month])[['Header']].count().unstack('District')\n",
    "df_barplot = df_barplot.groupby(['District', 'year'])['Header'].count().unstack('District')"
   ]
  },
  {
   "cell_type": "code",
   "execution_count": 215,
   "metadata": {},
   "outputs": [],
   "source": [
    "df_barplot = df_barplot[['year', 'District', 'type of incident', 'count']]"
   ]
  },
  {
   "cell_type": "code",
   "execution_count": 16,
   "metadata": {},
   "outputs": [],
   "source": [
    "# format date in df_lgbt\n",
    "df_lgbt['date_form'] = df_lgbt['Date'].apply(lambda d: d.strftime('%Y %b %d'))"
   ]
  },
  {
   "cell_type": "code",
   "execution_count": 146,
   "metadata": {},
   "outputs": [],
   "source": [
    "df_barplot_count = df_barplot.groupby(['District', 'year', 'type of incident'])['type of incident'].count().reset_index(name=\"count\")"
   ]
  },
  {
   "cell_type": "code",
   "execution_count": 17,
   "metadata": {},
   "outputs": [
    {
     "data": {
      "text/html": [
       "<div>\n",
       "<style scoped>\n",
       "    .dataframe tbody tr th:only-of-type {\n",
       "        vertical-align: middle;\n",
       "    }\n",
       "\n",
       "    .dataframe tbody tr th {\n",
       "        vertical-align: top;\n",
       "    }\n",
       "\n",
       "    .dataframe thead th {\n",
       "        text-align: right;\n",
       "    }\n",
       "</style>\n",
       "<table border=\"1\" class=\"dataframe\">\n",
       "  <thead>\n",
       "    <tr style=\"text-align: right;\">\n",
       "      <th></th>\n",
       "      <th>Date</th>\n",
       "      <th>District</th>\n",
       "      <th>Header</th>\n",
       "      <th>Story</th>\n",
       "      <th>Source</th>\n",
       "      <th>Attack</th>\n",
       "      <th>Propaganda</th>\n",
       "      <th>Structural Discrimination</th>\n",
       "      <th>Material Damage</th>\n",
       "      <th>Reported status</th>\n",
       "      <th>year</th>\n",
       "      <th>type of incident</th>\n",
       "      <th>date_form</th>\n",
       "    </tr>\n",
       "  </thead>\n",
       "  <tbody>\n",
       "    <tr>\n",
       "      <th>1707</th>\n",
       "      <td>2014-11-29</td>\n",
       "      <td>Tempelhof-Schöneberg</td>\n",
       "      <td>Angriff aus transphober Motivation</td>\n",
       "      <td>Ein 30-jähriger Mann wird gegen 05.00 Uhr in d...</td>\n",
       "      <td>ReachOut</td>\n",
       "      <td>physical</td>\n",
       "      <td>NaN</td>\n",
       "      <td>NaN</td>\n",
       "      <td>NaN</td>\n",
       "      <td>NaN</td>\n",
       "      <td>2014</td>\n",
       "      <td>physical attack</td>\n",
       "      <td>2014 Nov 29</td>\n",
       "    </tr>\n",
       "    <tr>\n",
       "      <th>1836</th>\n",
       "      <td>2014-10-26</td>\n",
       "      <td>Tempelhof-Schöneberg</td>\n",
       "      <td>Angriff aus transphober Motivation</td>\n",
       "      <td>Am 26.10.14 wird ein 30-jähriger Mann gegen 07...</td>\n",
       "      <td>ReachOut</td>\n",
       "      <td>physical</td>\n",
       "      <td>NaN</td>\n",
       "      <td>NaN</td>\n",
       "      <td>NaN</td>\n",
       "      <td>NaN</td>\n",
       "      <td>2014</td>\n",
       "      <td>physical attack</td>\n",
       "      <td>2014 Oct 26</td>\n",
       "    </tr>\n",
       "    <tr>\n",
       "      <th>1861</th>\n",
       "      <td>2014-10-17</td>\n",
       "      <td>Mitte</td>\n",
       "      <td>LGBQT feindliche Schmiererei entdeckt!</td>\n",
       "      <td>Am Abend gegen 20.10 Uhr stellen Polizeibeamte...</td>\n",
       "      <td>Polizei Berlin</td>\n",
       "      <td>NaN</td>\n",
       "      <td>NaN</td>\n",
       "      <td>NaN</td>\n",
       "      <td>yes</td>\n",
       "      <td>NaN</td>\n",
       "      <td>2014</td>\n",
       "      <td>vandalism</td>\n",
       "      <td>2014 Oct 17</td>\n",
       "    </tr>\n",
       "    <tr>\n",
       "      <th>1874</th>\n",
       "      <td>2014-10-12</td>\n",
       "      <td>Marzahn-Hellersdorf</td>\n",
       "      <td>Menschenfeindliche Parolen beim Sport</td>\n",
       "      <td>Gegen 16:00 Uhr werden Fans des Fußballvereins...</td>\n",
       "      <td>Register Charlottenburg-Wilmersdorf; Antisemit...</td>\n",
       "      <td>verbal</td>\n",
       "      <td>NaN</td>\n",
       "      <td>NaN</td>\n",
       "      <td>NaN</td>\n",
       "      <td>NaN</td>\n",
       "      <td>2014</td>\n",
       "      <td>verbal attack</td>\n",
       "      <td>2014 Oct 12</td>\n",
       "    </tr>\n",
       "    <tr>\n",
       "      <th>1913</th>\n",
       "      <td>2014-10-03</td>\n",
       "      <td>Charlottenburg-Wilmersdorf</td>\n",
       "      <td>Homosexuellenfeindliches Banner bei Stuttgarte...</td>\n",
       "      <td>Am 3. Oktober 2014 hing im Olympiastadion in W...</td>\n",
       "      <td>Fußballfans gegen Homophobie, Hertha-Inside.de</td>\n",
       "      <td>NaN</td>\n",
       "      <td>NaN</td>\n",
       "      <td>NaN</td>\n",
       "      <td>NaN</td>\n",
       "      <td>NaN</td>\n",
       "      <td>2014</td>\n",
       "      <td>NaN</td>\n",
       "      <td>2014 Oct 03</td>\n",
       "    </tr>\n",
       "    <tr>\n",
       "      <th>...</th>\n",
       "      <td>...</td>\n",
       "      <td>...</td>\n",
       "      <td>...</td>\n",
       "      <td>...</td>\n",
       "      <td>...</td>\n",
       "      <td>...</td>\n",
       "      <td>...</td>\n",
       "      <td>...</td>\n",
       "      <td>...</td>\n",
       "      <td>...</td>\n",
       "      <td>...</td>\n",
       "      <td>...</td>\n",
       "      <td>...</td>\n",
       "    </tr>\n",
       "    <tr>\n",
       "      <th>21900</th>\n",
       "      <td>2021-01-14</td>\n",
       "      <td>Friedrichshain-Kreuzberg</td>\n",
       "      <td>Homophobe Beleidigung während Online-Unterrichts</td>\n",
       "      <td>Ein Lehrer einer Kreuzberger Schule wurde anon...</td>\n",
       "      <td>Bürger*innenmeldung</td>\n",
       "      <td>verbal</td>\n",
       "      <td>NaN</td>\n",
       "      <td>NaN</td>\n",
       "      <td>NaN</td>\n",
       "      <td>NaN</td>\n",
       "      <td>2021</td>\n",
       "      <td>verbal attack</td>\n",
       "      <td>2021 Jan 14</td>\n",
       "    </tr>\n",
       "    <tr>\n",
       "      <th>21930</th>\n",
       "      <td>2021-01-10</td>\n",
       "      <td>Treptow-Köpenick</td>\n",
       "      <td>Extrem rechte Propaganda des 3. Weg in Johanni...</td>\n",
       "      <td>Im Gebiet zwischen Landschaftspark, Gerhard-Se...</td>\n",
       "      <td>Zentrum für Demokratie</td>\n",
       "      <td>NaN</td>\n",
       "      <td>NaN</td>\n",
       "      <td>NaN</td>\n",
       "      <td>NaN</td>\n",
       "      <td>NaN</td>\n",
       "      <td>2021</td>\n",
       "      <td>NaN</td>\n",
       "      <td>2021 Jan 10</td>\n",
       "    </tr>\n",
       "    <tr>\n",
       "      <th>21933</th>\n",
       "      <td>2021-01-10</td>\n",
       "      <td>Lichtenberg</td>\n",
       "      <td>NS-Propaganda am Fennpfuhl</td>\n",
       "      <td>Am Anton-Saefkow-Platz, in der Bernhard-Bästle...</td>\n",
       "      <td>Berliner Register</td>\n",
       "      <td>NaN</td>\n",
       "      <td>NaN</td>\n",
       "      <td>NaN</td>\n",
       "      <td>NaN</td>\n",
       "      <td>NaN</td>\n",
       "      <td>2021</td>\n",
       "      <td>NaN</td>\n",
       "      <td>2021 Jan 10</td>\n",
       "    </tr>\n",
       "    <tr>\n",
       "      <th>21948</th>\n",
       "      <td>2021-01-07</td>\n",
       "      <td>Mitte</td>\n",
       "      <td>Homophobe Beleidigung und Bedrohung im U-Bahnh...</td>\n",
       "      <td>Im U-Bahnhof Seestraße wurde gegen 8.20 Uhr ei...</td>\n",
       "      <td>Registerstelle Mitte, Twitter</td>\n",
       "      <td>verbal</td>\n",
       "      <td>NaN</td>\n",
       "      <td>NaN</td>\n",
       "      <td>NaN</td>\n",
       "      <td>NaN</td>\n",
       "      <td>2021</td>\n",
       "      <td>verbal attack</td>\n",
       "      <td>2021 Jan 07</td>\n",
       "    </tr>\n",
       "    <tr>\n",
       "      <th>21974</th>\n",
       "      <td>2021-01-02</td>\n",
       "      <td>Reinickendorf</td>\n",
       "      <td>Transfeindliche Sticker am Tegeler See</td>\n",
       "      <td>An einem Uferweg, unweit der Sehenswürdigkeit ...</td>\n",
       "      <td>Register Reinickendorf</td>\n",
       "      <td>verbal</td>\n",
       "      <td>NaN</td>\n",
       "      <td>NaN</td>\n",
       "      <td>NaN</td>\n",
       "      <td>NaN</td>\n",
       "      <td>2021</td>\n",
       "      <td>verbal attack</td>\n",
       "      <td>2021 Jan 02</td>\n",
       "    </tr>\n",
       "  </tbody>\n",
       "</table>\n",
       "<p>1006 rows × 13 columns</p>\n",
       "</div>"
      ],
      "text/plain": [
       "            Date                    District  \\\n",
       "1707  2014-11-29        Tempelhof-Schöneberg   \n",
       "1836  2014-10-26        Tempelhof-Schöneberg   \n",
       "1861  2014-10-17                       Mitte   \n",
       "1874  2014-10-12         Marzahn-Hellersdorf   \n",
       "1913  2014-10-03  Charlottenburg-Wilmersdorf   \n",
       "...          ...                         ...   \n",
       "21900 2021-01-14    Friedrichshain-Kreuzberg   \n",
       "21930 2021-01-10            Treptow-Köpenick   \n",
       "21933 2021-01-10                 Lichtenberg   \n",
       "21948 2021-01-07                       Mitte   \n",
       "21974 2021-01-02               Reinickendorf   \n",
       "\n",
       "                                                  Header  \\\n",
       "1707                  Angriff aus transphober Motivation   \n",
       "1836                  Angriff aus transphober Motivation   \n",
       "1861              LGBQT feindliche Schmiererei entdeckt!   \n",
       "1874               Menschenfeindliche Parolen beim Sport   \n",
       "1913   Homosexuellenfeindliches Banner bei Stuttgarte...   \n",
       "...                                                  ...   \n",
       "21900   Homophobe Beleidigung während Online-Unterrichts   \n",
       "21930  Extrem rechte Propaganda des 3. Weg in Johanni...   \n",
       "21933                         NS-Propaganda am Fennpfuhl   \n",
       "21948  Homophobe Beleidigung und Bedrohung im U-Bahnh...   \n",
       "21974             Transfeindliche Sticker am Tegeler See   \n",
       "\n",
       "                                                   Story  \\\n",
       "1707   Ein 30-jähriger Mann wird gegen 05.00 Uhr in d...   \n",
       "1836   Am 26.10.14 wird ein 30-jähriger Mann gegen 07...   \n",
       "1861   Am Abend gegen 20.10 Uhr stellen Polizeibeamte...   \n",
       "1874   Gegen 16:00 Uhr werden Fans des Fußballvereins...   \n",
       "1913   Am 3. Oktober 2014 hing im Olympiastadion in W...   \n",
       "...                                                  ...   \n",
       "21900  Ein Lehrer einer Kreuzberger Schule wurde anon...   \n",
       "21930  Im Gebiet zwischen Landschaftspark, Gerhard-Se...   \n",
       "21933  Am Anton-Saefkow-Platz, in der Bernhard-Bästle...   \n",
       "21948  Im U-Bahnhof Seestraße wurde gegen 8.20 Uhr ei...   \n",
       "21974  An einem Uferweg, unweit der Sehenswürdigkeit ...   \n",
       "\n",
       "                                                  Source    Attack Propaganda  \\\n",
       "1707                                            ReachOut  physical        NaN   \n",
       "1836                                            ReachOut  physical        NaN   \n",
       "1861                                      Polizei Berlin       NaN        NaN   \n",
       "1874   Register Charlottenburg-Wilmersdorf; Antisemit...    verbal        NaN   \n",
       "1913      Fußballfans gegen Homophobie, Hertha-Inside.de       NaN        NaN   \n",
       "...                                                  ...       ...        ...   \n",
       "21900                                Bürger*innenmeldung    verbal        NaN   \n",
       "21930                             Zentrum für Demokratie       NaN        NaN   \n",
       "21933                                  Berliner Register       NaN        NaN   \n",
       "21948                      Registerstelle Mitte, Twitter    verbal        NaN   \n",
       "21974                             Register Reinickendorf    verbal        NaN   \n",
       "\n",
       "      Structural Discrimination Material Damage  Reported status  year  \\\n",
       "1707                        NaN             NaN              NaN  2014   \n",
       "1836                        NaN             NaN              NaN  2014   \n",
       "1861                        NaN             yes              NaN  2014   \n",
       "1874                        NaN             NaN              NaN  2014   \n",
       "1913                        NaN             NaN              NaN  2014   \n",
       "...                         ...             ...              ...   ...   \n",
       "21900                       NaN             NaN              NaN  2021   \n",
       "21930                       NaN             NaN              NaN  2021   \n",
       "21933                       NaN             NaN              NaN  2021   \n",
       "21948                       NaN             NaN              NaN  2021   \n",
       "21974                       NaN             NaN              NaN  2021   \n",
       "\n",
       "      type of incident    date_form  \n",
       "1707   physical attack  2014 Nov 29  \n",
       "1836   physical attack  2014 Oct 26  \n",
       "1861         vandalism  2014 Oct 17  \n",
       "1874     verbal attack  2014 Oct 12  \n",
       "1913               NaN  2014 Oct 03  \n",
       "...                ...          ...  \n",
       "21900    verbal attack  2021 Jan 14  \n",
       "21930              NaN  2021 Jan 10  \n",
       "21933              NaN  2021 Jan 10  \n",
       "21948    verbal attack  2021 Jan 07  \n",
       "21974    verbal attack  2021 Jan 02  \n",
       "\n",
       "[1006 rows x 13 columns]"
      ]
     },
     "execution_count": 17,
     "metadata": {},
     "output_type": "execute_result"
    }
   ],
   "source": [
    "df_lgbt"
   ]
  },
  {
   "cell_type": "code",
   "execution_count": 205,
   "metadata": {},
   "outputs": [],
   "source": [
    "df_barplot_count = df_barplot_count.sort_values(['year', 'District'])"
   ]
  },
  {
   "cell_type": "code",
   "execution_count": 225,
   "metadata": {},
   "outputs": [],
   "source": [
    "df_barplot_count = df_barplot.reindex(sorted(df_barplot.index), axis=0).sort_values('year')"
   ]
  },
  {
   "cell_type": "code",
   "execution_count": 232,
   "metadata": {},
   "outputs": [
    {
     "ename": "AttributeError",
     "evalue": "'DataFrameGroupBy' object has no attribute 'sort_values'",
     "output_type": "error",
     "traceback": [
      "\u001b[0;31m---------------------------------------------------------------------------\u001b[0m",
      "\u001b[0;31mAttributeError\u001b[0m                            Traceback (most recent call last)",
      "\u001b[0;32m<ipython-input-232-d5a2972245a5>\u001b[0m in \u001b[0;36m<module>\u001b[0;34m\u001b[0m\n\u001b[0;32m----> 1\u001b[0;31m \u001b[0mdf_barplot_count\u001b[0m\u001b[0;34m.\u001b[0m\u001b[0mgroupby\u001b[0m\u001b[0;34m(\u001b[0m\u001b[0;34m'year'\u001b[0m\u001b[0;34m)\u001b[0m\u001b[0;34m.\u001b[0m\u001b[0msort_values\u001b[0m\u001b[0;34m(\u001b[0m\u001b[0;34m'District'\u001b[0m\u001b[0;34m)\u001b[0m\u001b[0;34m\u001b[0m\u001b[0;34m\u001b[0m\u001b[0m\n\u001b[0m",
      "\u001b[0;32m/opt/anaconda3/lib/python3.8/site-packages/pandas/core/groupby/groupby.py\u001b[0m in \u001b[0;36m__getattr__\u001b[0;34m(self, attr)\u001b[0m\n\u001b[1;32m    701\u001b[0m             \u001b[0;32mreturn\u001b[0m \u001b[0mself\u001b[0m\u001b[0;34m[\u001b[0m\u001b[0mattr\u001b[0m\u001b[0;34m]\u001b[0m\u001b[0;34m\u001b[0m\u001b[0;34m\u001b[0m\u001b[0m\n\u001b[1;32m    702\u001b[0m \u001b[0;34m\u001b[0m\u001b[0m\n\u001b[0;32m--> 703\u001b[0;31m         raise AttributeError(\n\u001b[0m\u001b[1;32m    704\u001b[0m             \u001b[0;34mf\"'{type(self).__name__}' object has no attribute '{attr}'\"\u001b[0m\u001b[0;34m\u001b[0m\u001b[0;34m\u001b[0m\u001b[0m\n\u001b[1;32m    705\u001b[0m         )\n",
      "\u001b[0;31mAttributeError\u001b[0m: 'DataFrameGroupBy' object has no attribute 'sort_values'"
     ]
    }
   ],
   "source": [
    "df_barplot_count.groupby('year').sort_values('District')"
   ]
  },
  {
   "cell_type": "code",
   "execution_count": 7,
   "metadata": {},
   "outputs": [
    {
     "data": {
      "text/html": [
       "<div>\n",
       "<style scoped>\n",
       "    .dataframe tbody tr th:only-of-type {\n",
       "        vertical-align: middle;\n",
       "    }\n",
       "\n",
       "    .dataframe tbody tr th {\n",
       "        vertical-align: top;\n",
       "    }\n",
       "\n",
       "    .dataframe thead th {\n",
       "        text-align: right;\n",
       "    }\n",
       "</style>\n",
       "<table border=\"1\" class=\"dataframe\">\n",
       "  <thead>\n",
       "    <tr style=\"text-align: right;\">\n",
       "      <th></th>\n",
       "      <th>year</th>\n",
       "      <th>District</th>\n",
       "      <th>type of incident</th>\n",
       "      <th>count</th>\n",
       "    </tr>\n",
       "  </thead>\n",
       "  <tbody>\n",
       "    <tr>\n",
       "      <th>3</th>\n",
       "      <td>2016</td>\n",
       "      <td>Charlottenburg-Wilmersdorf</td>\n",
       "      <td>verbal attack</td>\n",
       "      <td>3</td>\n",
       "    </tr>\n",
       "    <tr>\n",
       "      <th>19</th>\n",
       "      <td>2016</td>\n",
       "      <td>Friedrichshain-Kreuzberg</td>\n",
       "      <td>verbal attack</td>\n",
       "      <td>3</td>\n",
       "    </tr>\n",
       "    <tr>\n",
       "      <th>18</th>\n",
       "      <td>2016</td>\n",
       "      <td>Friedrichshain-Kreuzberg</td>\n",
       "      <td>vandalism</td>\n",
       "      <td>1</td>\n",
       "    </tr>\n",
       "    <tr>\n",
       "      <th>17</th>\n",
       "      <td>2016</td>\n",
       "      <td>Friedrichshain-Kreuzberg</td>\n",
       "      <td>physical attack</td>\n",
       "      <td>12</td>\n",
       "    </tr>\n",
       "    <tr>\n",
       "      <th>32</th>\n",
       "      <td>2016</td>\n",
       "      <td>Lichtenberg</td>\n",
       "      <td>physical attack</td>\n",
       "      <td>1</td>\n",
       "    </tr>\n",
       "    <tr>\n",
       "      <th>45</th>\n",
       "      <td>2016</td>\n",
       "      <td>Marzahn-Hellersdorf</td>\n",
       "      <td>verbal attack</td>\n",
       "      <td>5</td>\n",
       "    </tr>\n",
       "    <tr>\n",
       "      <th>44</th>\n",
       "      <td>2016</td>\n",
       "      <td>Marzahn-Hellersdorf</td>\n",
       "      <td>physical attack</td>\n",
       "      <td>2</td>\n",
       "    </tr>\n",
       "    <tr>\n",
       "      <th>60</th>\n",
       "      <td>2016</td>\n",
       "      <td>Mitte</td>\n",
       "      <td>vandalism</td>\n",
       "      <td>1</td>\n",
       "    </tr>\n",
       "    <tr>\n",
       "      <th>59</th>\n",
       "      <td>2016</td>\n",
       "      <td>Mitte</td>\n",
       "      <td>physical attack</td>\n",
       "      <td>17</td>\n",
       "    </tr>\n",
       "    <tr>\n",
       "      <th>61</th>\n",
       "      <td>2016</td>\n",
       "      <td>Mitte</td>\n",
       "      <td>verbal attack</td>\n",
       "      <td>4</td>\n",
       "    </tr>\n",
       "    <tr>\n",
       "      <th>80</th>\n",
       "      <td>2016</td>\n",
       "      <td>Neukölln</td>\n",
       "      <td>verbal attack</td>\n",
       "      <td>3</td>\n",
       "    </tr>\n",
       "    <tr>\n",
       "      <th>79</th>\n",
       "      <td>2016</td>\n",
       "      <td>Neukölln</td>\n",
       "      <td>physical attack</td>\n",
       "      <td>11</td>\n",
       "    </tr>\n",
       "    <tr>\n",
       "      <th>97</th>\n",
       "      <td>2016</td>\n",
       "      <td>Pankow</td>\n",
       "      <td>verbal attack</td>\n",
       "      <td>1</td>\n",
       "    </tr>\n",
       "    <tr>\n",
       "      <th>96</th>\n",
       "      <td>2016</td>\n",
       "      <td>Pankow</td>\n",
       "      <td>physical attack</td>\n",
       "      <td>3</td>\n",
       "    </tr>\n",
       "    <tr>\n",
       "      <th>108</th>\n",
       "      <td>2016</td>\n",
       "      <td>Reinickendorf</td>\n",
       "      <td>physical attack</td>\n",
       "      <td>1</td>\n",
       "    </tr>\n",
       "    <tr>\n",
       "      <th>110</th>\n",
       "      <td>2016</td>\n",
       "      <td>Reinickendorf</td>\n",
       "      <td>verbal attack</td>\n",
       "      <td>1</td>\n",
       "    </tr>\n",
       "    <tr>\n",
       "      <th>109</th>\n",
       "      <td>2016</td>\n",
       "      <td>Reinickendorf</td>\n",
       "      <td>vandalism</td>\n",
       "      <td>2</td>\n",
       "    </tr>\n",
       "    <tr>\n",
       "      <th>121</th>\n",
       "      <td>2016</td>\n",
       "      <td>Spandau</td>\n",
       "      <td>physical attack</td>\n",
       "      <td>2</td>\n",
       "    </tr>\n",
       "    <tr>\n",
       "      <th>122</th>\n",
       "      <td>2016</td>\n",
       "      <td>Spandau</td>\n",
       "      <td>verbal attack</td>\n",
       "      <td>1</td>\n",
       "    </tr>\n",
       "    <tr>\n",
       "      <th>132</th>\n",
       "      <td>2016</td>\n",
       "      <td>Steglitz-Zehlendorf</td>\n",
       "      <td>verbal attack</td>\n",
       "      <td>1</td>\n",
       "    </tr>\n",
       "    <tr>\n",
       "      <th>131</th>\n",
       "      <td>2016</td>\n",
       "      <td>Steglitz-Zehlendorf</td>\n",
       "      <td>physical attack</td>\n",
       "      <td>1</td>\n",
       "    </tr>\n",
       "    <tr>\n",
       "      <th>143</th>\n",
       "      <td>2016</td>\n",
       "      <td>Tempelhof-Schöneberg</td>\n",
       "      <td>verbal attack</td>\n",
       "      <td>6</td>\n",
       "    </tr>\n",
       "    <tr>\n",
       "      <th>142</th>\n",
       "      <td>2016</td>\n",
       "      <td>Tempelhof-Schöneberg</td>\n",
       "      <td>physical attack</td>\n",
       "      <td>5</td>\n",
       "    </tr>\n",
       "    <tr>\n",
       "      <th>154</th>\n",
       "      <td>2016</td>\n",
       "      <td>Treptow-Köpenick</td>\n",
       "      <td>physical attack</td>\n",
       "      <td>2</td>\n",
       "    </tr>\n",
       "  </tbody>\n",
       "</table>\n",
       "</div>"
      ],
      "text/plain": [
       "     year                    District type of incident  count\n",
       "3    2016  Charlottenburg-Wilmersdorf    verbal attack      3\n",
       "19   2016    Friedrichshain-Kreuzberg    verbal attack      3\n",
       "18   2016    Friedrichshain-Kreuzberg        vandalism      1\n",
       "17   2016    Friedrichshain-Kreuzberg  physical attack     12\n",
       "32   2016                 Lichtenberg  physical attack      1\n",
       "45   2016         Marzahn-Hellersdorf    verbal attack      5\n",
       "44   2016         Marzahn-Hellersdorf  physical attack      2\n",
       "60   2016                       Mitte        vandalism      1\n",
       "59   2016                       Mitte  physical attack     17\n",
       "61   2016                       Mitte    verbal attack      4\n",
       "80   2016                    Neukölln    verbal attack      3\n",
       "79   2016                    Neukölln  physical attack     11\n",
       "97   2016                      Pankow    verbal attack      1\n",
       "96   2016                      Pankow  physical attack      3\n",
       "108  2016               Reinickendorf  physical attack      1\n",
       "110  2016               Reinickendorf    verbal attack      1\n",
       "109  2016               Reinickendorf        vandalism      2\n",
       "121  2016                     Spandau  physical attack      2\n",
       "122  2016                     Spandau    verbal attack      1\n",
       "132  2016         Steglitz-Zehlendorf    verbal attack      1\n",
       "131  2016         Steglitz-Zehlendorf  physical attack      1\n",
       "143  2016        Tempelhof-Schöneberg    verbal attack      6\n",
       "142  2016        Tempelhof-Schöneberg  physical attack      5\n",
       "154  2016            Treptow-Köpenick  physical attack      2"
      ]
     },
     "execution_count": 7,
     "metadata": {},
     "output_type": "execute_result"
    }
   ],
   "source": [
    "df_barplot_count[df_barplot_count['year'] == 2016]"
   ]
  },
  {
   "cell_type": "code",
   "execution_count": 248,
   "metadata": {},
   "outputs": [
    {
     "data": {
      "text/html": [
       "<div>\n",
       "<style scoped>\n",
       "    .dataframe tbody tr th:only-of-type {\n",
       "        vertical-align: middle;\n",
       "    }\n",
       "\n",
       "    .dataframe tbody tr th {\n",
       "        vertical-align: top;\n",
       "    }\n",
       "\n",
       "    .dataframe thead th {\n",
       "        text-align: right;\n",
       "    }\n",
       "</style>\n",
       "<table border=\"1\" class=\"dataframe\">\n",
       "  <thead>\n",
       "    <tr style=\"text-align: right;\">\n",
       "      <th></th>\n",
       "      <th>year</th>\n",
       "      <th>District</th>\n",
       "      <th>type of incident</th>\n",
       "      <th>count</th>\n",
       "    </tr>\n",
       "  </thead>\n",
       "  <tbody>\n",
       "    <tr>\n",
       "      <th>2</th>\n",
       "      <td>2015</td>\n",
       "      <td>Charlottenburg-Wilmersdorf</td>\n",
       "      <td>physical attack</td>\n",
       "      <td>3</td>\n",
       "    </tr>\n",
       "    <tr>\n",
       "      <th>16</th>\n",
       "      <td>2015</td>\n",
       "      <td>Friedrichshain-Kreuzberg</td>\n",
       "      <td>verbal attack</td>\n",
       "      <td>5</td>\n",
       "    </tr>\n",
       "    <tr>\n",
       "      <th>15</th>\n",
       "      <td>2015</td>\n",
       "      <td>Friedrichshain-Kreuzberg</td>\n",
       "      <td>physical attack</td>\n",
       "      <td>7</td>\n",
       "    </tr>\n",
       "    <tr>\n",
       "      <th>31</th>\n",
       "      <td>2015</td>\n",
       "      <td>Lichtenberg</td>\n",
       "      <td>propaganda</td>\n",
       "      <td>1</td>\n",
       "    </tr>\n",
       "    <tr>\n",
       "      <th>30</th>\n",
       "      <td>2015</td>\n",
       "      <td>Lichtenberg</td>\n",
       "      <td>physical attack</td>\n",
       "      <td>1</td>\n",
       "    </tr>\n",
       "    <tr>\n",
       "      <th>43</th>\n",
       "      <td>2015</td>\n",
       "      <td>Marzahn-Hellersdorf</td>\n",
       "      <td>physical attack</td>\n",
       "      <td>1</td>\n",
       "    </tr>\n",
       "    <tr>\n",
       "      <th>57</th>\n",
       "      <td>2015</td>\n",
       "      <td>Mitte</td>\n",
       "      <td>vandalism</td>\n",
       "      <td>1</td>\n",
       "    </tr>\n",
       "    <tr>\n",
       "      <th>56</th>\n",
       "      <td>2015</td>\n",
       "      <td>Mitte</td>\n",
       "      <td>physical attack</td>\n",
       "      <td>9</td>\n",
       "    </tr>\n",
       "    <tr>\n",
       "      <th>58</th>\n",
       "      <td>2015</td>\n",
       "      <td>Mitte</td>\n",
       "      <td>verbal attack</td>\n",
       "      <td>4</td>\n",
       "    </tr>\n",
       "    <tr>\n",
       "      <th>77</th>\n",
       "      <td>2015</td>\n",
       "      <td>Neukölln</td>\n",
       "      <td>physical attack</td>\n",
       "      <td>1</td>\n",
       "    </tr>\n",
       "    <tr>\n",
       "      <th>78</th>\n",
       "      <td>2015</td>\n",
       "      <td>Neukölln</td>\n",
       "      <td>verbal attack</td>\n",
       "      <td>3</td>\n",
       "    </tr>\n",
       "    <tr>\n",
       "      <th>94</th>\n",
       "      <td>2015</td>\n",
       "      <td>Pankow</td>\n",
       "      <td>physical attack</td>\n",
       "      <td>1</td>\n",
       "    </tr>\n",
       "    <tr>\n",
       "      <th>95</th>\n",
       "      <td>2015</td>\n",
       "      <td>Pankow</td>\n",
       "      <td>verbal attack</td>\n",
       "      <td>2</td>\n",
       "    </tr>\n",
       "    <tr>\n",
       "      <th>107</th>\n",
       "      <td>2015</td>\n",
       "      <td>Reinickendorf</td>\n",
       "      <td>verbal attack</td>\n",
       "      <td>1</td>\n",
       "    </tr>\n",
       "    <tr>\n",
       "      <th>106</th>\n",
       "      <td>2015</td>\n",
       "      <td>Reinickendorf</td>\n",
       "      <td>physical attack</td>\n",
       "      <td>1</td>\n",
       "    </tr>\n",
       "    <tr>\n",
       "      <th>129</th>\n",
       "      <td>2015</td>\n",
       "      <td>Steglitz-Zehlendorf</td>\n",
       "      <td>physical attack</td>\n",
       "      <td>1</td>\n",
       "    </tr>\n",
       "    <tr>\n",
       "      <th>130</th>\n",
       "      <td>2015</td>\n",
       "      <td>Steglitz-Zehlendorf</td>\n",
       "      <td>verbal attack</td>\n",
       "      <td>1</td>\n",
       "    </tr>\n",
       "    <tr>\n",
       "      <th>141</th>\n",
       "      <td>2015</td>\n",
       "      <td>Tempelhof-Schöneberg</td>\n",
       "      <td>verbal attack</td>\n",
       "      <td>2</td>\n",
       "    </tr>\n",
       "    <tr>\n",
       "      <th>140</th>\n",
       "      <td>2015</td>\n",
       "      <td>Tempelhof-Schöneberg</td>\n",
       "      <td>physical attack</td>\n",
       "      <td>7</td>\n",
       "    </tr>\n",
       "    <tr>\n",
       "      <th>153</th>\n",
       "      <td>2015</td>\n",
       "      <td>Treptow-Köpenick</td>\n",
       "      <td>physical attack</td>\n",
       "      <td>1</td>\n",
       "    </tr>\n",
       "    <tr>\n",
       "      <th>152</th>\n",
       "      <td>2015</td>\n",
       "      <td>Treptow-Köpenick</td>\n",
       "      <td>discrimination</td>\n",
       "      <td>1</td>\n",
       "    </tr>\n",
       "  </tbody>\n",
       "</table>\n",
       "</div>"
      ],
      "text/plain": [
       "     year                    District type of incident  count\n",
       "2    2015  Charlottenburg-Wilmersdorf  physical attack      3\n",
       "16   2015    Friedrichshain-Kreuzberg    verbal attack      5\n",
       "15   2015    Friedrichshain-Kreuzberg  physical attack      7\n",
       "31   2015                 Lichtenberg       propaganda      1\n",
       "30   2015                 Lichtenberg  physical attack      1\n",
       "43   2015         Marzahn-Hellersdorf  physical attack      1\n",
       "57   2015                       Mitte        vandalism      1\n",
       "56   2015                       Mitte  physical attack      9\n",
       "58   2015                       Mitte    verbal attack      4\n",
       "77   2015                    Neukölln  physical attack      1\n",
       "78   2015                    Neukölln    verbal attack      3\n",
       "94   2015                      Pankow  physical attack      1\n",
       "95   2015                      Pankow    verbal attack      2\n",
       "107  2015               Reinickendorf    verbal attack      1\n",
       "106  2015               Reinickendorf  physical attack      1\n",
       "129  2015         Steglitz-Zehlendorf  physical attack      1\n",
       "130  2015         Steglitz-Zehlendorf    verbal attack      1\n",
       "141  2015        Tempelhof-Schöneberg    verbal attack      2\n",
       "140  2015        Tempelhof-Schöneberg  physical attack      7\n",
       "153  2015            Treptow-Köpenick  physical attack      1\n",
       "152  2015            Treptow-Köpenick   discrimination      1"
      ]
     },
     "execution_count": 248,
     "metadata": {},
     "output_type": "execute_result"
    }
   ],
   "source": [
    "df_barplot_count[df_barplot_count['year'] == 2015]"
   ]
  },
  {
   "cell_type": "code",
   "execution_count": 242,
   "metadata": {
    "scrolled": false
   },
   "outputs": [],
   "source": [
    "df_barplot_count = df_barplot_count.sort_values(['year', 'District'])"
   ]
  },
  {
   "cell_type": "code",
   "execution_count": 9,
   "metadata": {
    "scrolled": false
   },
   "outputs": [
    {
     "data": {
      "application/vnd.plotly.v1+json": {
       "config": {
        "plotlyServerURL": "https://plot.ly"
       },
       "data": [
        {
         "alignmentgroup": "True",
         "hovertemplate": "<b>%{hovertext}</b><br><br>type of incident=physical attack<br>year=2014<br>District=%{x}<br>count=%{y}<extra></extra>",
         "hovertext": [
          "physical attack",
          "physical attack",
          "physical attack",
          "physical attack",
          "physical attack",
          "physical attack",
          "physical attack",
          "physical attack"
         ],
         "ids": [
          "Charlottenburg-Wilmersdorf",
          "Friedrichshain-Kreuzberg",
          "Marzahn-Hellersdorf",
          "Mitte",
          "Neukölln",
          "Pankow",
          "Spandau",
          "Tempelhof-Schöneberg"
         ],
         "legendgroup": "physical attack",
         "marker": {
          "color": "#636efa"
         },
         "name": "physical attack",
         "offsetgroup": "physical attack",
         "orientation": "v",
         "showlegend": true,
         "textposition": "auto",
         "type": "bar",
         "x": [
          "Charlottenburg-Wilmersdorf",
          "Friedrichshain-Kreuzberg",
          "Marzahn-Hellersdorf",
          "Mitte",
          "Neukölln",
          "Pankow",
          "Spandau",
          "Tempelhof-Schöneberg"
         ],
         "xaxis": "x",
         "y": [
          2,
          1,
          1,
          7,
          1,
          2,
          1,
          5
         ],
         "yaxis": "y"
        },
        {
         "alignmentgroup": "True",
         "hovertemplate": "<b>%{hovertext}</b><br><br>type of incident=verbal attack<br>year=2014<br>District=%{x}<br>count=%{y}<extra></extra>",
         "hovertext": [
          "verbal attack",
          "verbal attack",
          "verbal attack",
          "verbal attack",
          "verbal attack"
         ],
         "ids": [
          "Friedrichshain-Kreuzberg",
          "Marzahn-Hellersdorf",
          "Mitte",
          "Neukölln",
          "Pankow"
         ],
         "legendgroup": "verbal attack",
         "marker": {
          "color": "#EF553B"
         },
         "name": "verbal attack",
         "offsetgroup": "verbal attack",
         "orientation": "v",
         "showlegend": true,
         "textposition": "auto",
         "type": "bar",
         "x": [
          "Friedrichshain-Kreuzberg",
          "Marzahn-Hellersdorf",
          "Mitte",
          "Neukölln",
          "Pankow"
         ],
         "xaxis": "x",
         "y": [
          6,
          1,
          1,
          3,
          1
         ],
         "yaxis": "y"
        },
        {
         "alignmentgroup": "True",
         "hovertemplate": "<b>%{hovertext}</b><br><br>type of incident=vandalism<br>year=2014<br>District=%{x}<br>count=%{y}<extra></extra>",
         "hovertext": [
          "vandalism"
         ],
         "ids": [
          "Mitte"
         ],
         "legendgroup": "vandalism",
         "marker": {
          "color": "#00cc96"
         },
         "name": "vandalism",
         "offsetgroup": "vandalism",
         "orientation": "v",
         "showlegend": true,
         "textposition": "auto",
         "type": "bar",
         "x": [
          "Mitte"
         ],
         "xaxis": "x",
         "y": [
          1
         ],
         "yaxis": "y"
        },
        {
         "alignmentgroup": "True",
         "hovertemplate": "<b>%{hovertext}</b><br><br>type of incident=discrimination<br>year=2014<br>District=%{x}<br>count=%{y}<extra></extra>",
         "hovertext": [
          "discrimination"
         ],
         "ids": [
          "Pankow"
         ],
         "legendgroup": "discrimination",
         "marker": {
          "color": "#ab63fa"
         },
         "name": "discrimination",
         "offsetgroup": "discrimination",
         "orientation": "v",
         "showlegend": true,
         "textposition": "auto",
         "type": "bar",
         "x": [
          "Pankow"
         ],
         "xaxis": "x",
         "y": [
          1
         ],
         "yaxis": "y"
        }
       ],
       "frames": [
        {
         "data": [
          {
           "alignmentgroup": "True",
           "hovertemplate": "<b>%{hovertext}</b><br><br>type of incident=physical attack<br>year=2014<br>District=%{x}<br>count=%{y}<extra></extra>",
           "hovertext": [
            "physical attack",
            "physical attack",
            "physical attack",
            "physical attack",
            "physical attack",
            "physical attack",
            "physical attack",
            "physical attack"
           ],
           "ids": [
            "Charlottenburg-Wilmersdorf",
            "Friedrichshain-Kreuzberg",
            "Marzahn-Hellersdorf",
            "Mitte",
            "Neukölln",
            "Pankow",
            "Spandau",
            "Tempelhof-Schöneberg"
           ],
           "legendgroup": "physical attack",
           "marker": {
            "color": "#636efa"
           },
           "name": "physical attack",
           "offsetgroup": "physical attack",
           "orientation": "v",
           "showlegend": true,
           "textposition": "auto",
           "type": "bar",
           "x": [
            "Charlottenburg-Wilmersdorf",
            "Friedrichshain-Kreuzberg",
            "Marzahn-Hellersdorf",
            "Mitte",
            "Neukölln",
            "Pankow",
            "Spandau",
            "Tempelhof-Schöneberg"
           ],
           "xaxis": "x",
           "y": [
            2,
            1,
            1,
            7,
            1,
            2,
            1,
            5
           ],
           "yaxis": "y"
          },
          {
           "alignmentgroup": "True",
           "hovertemplate": "<b>%{hovertext}</b><br><br>type of incident=verbal attack<br>year=2014<br>District=%{x}<br>count=%{y}<extra></extra>",
           "hovertext": [
            "verbal attack",
            "verbal attack",
            "verbal attack",
            "verbal attack",
            "verbal attack"
           ],
           "ids": [
            "Friedrichshain-Kreuzberg",
            "Marzahn-Hellersdorf",
            "Mitte",
            "Neukölln",
            "Pankow"
           ],
           "legendgroup": "verbal attack",
           "marker": {
            "color": "#EF553B"
           },
           "name": "verbal attack",
           "offsetgroup": "verbal attack",
           "orientation": "v",
           "showlegend": true,
           "textposition": "auto",
           "type": "bar",
           "x": [
            "Friedrichshain-Kreuzberg",
            "Marzahn-Hellersdorf",
            "Mitte",
            "Neukölln",
            "Pankow"
           ],
           "xaxis": "x",
           "y": [
            6,
            1,
            1,
            3,
            1
           ],
           "yaxis": "y"
          },
          {
           "alignmentgroup": "True",
           "hovertemplate": "<b>%{hovertext}</b><br><br>type of incident=vandalism<br>year=2014<br>District=%{x}<br>count=%{y}<extra></extra>",
           "hovertext": [
            "vandalism"
           ],
           "ids": [
            "Mitte"
           ],
           "legendgroup": "vandalism",
           "marker": {
            "color": "#00cc96"
           },
           "name": "vandalism",
           "offsetgroup": "vandalism",
           "orientation": "v",
           "showlegend": true,
           "textposition": "auto",
           "type": "bar",
           "x": [
            "Mitte"
           ],
           "xaxis": "x",
           "y": [
            1
           ],
           "yaxis": "y"
          },
          {
           "alignmentgroup": "True",
           "hovertemplate": "<b>%{hovertext}</b><br><br>type of incident=discrimination<br>year=2014<br>District=%{x}<br>count=%{y}<extra></extra>",
           "hovertext": [
            "discrimination"
           ],
           "ids": [
            "Pankow"
           ],
           "legendgroup": "discrimination",
           "marker": {
            "color": "#ab63fa"
           },
           "name": "discrimination",
           "offsetgroup": "discrimination",
           "orientation": "v",
           "showlegend": true,
           "textposition": "auto",
           "type": "bar",
           "x": [
            "Pankow"
           ],
           "xaxis": "x",
           "y": [
            1
           ],
           "yaxis": "y"
          }
         ],
         "name": "2014"
        },
        {
         "data": [
          {
           "alignmentgroup": "True",
           "hovertemplate": "<b>%{hovertext}</b><br><br>type of incident=physical attack<br>year=2015<br>District=%{x}<br>count=%{y}<extra></extra>",
           "hovertext": [
            "physical attack",
            "physical attack",
            "physical attack",
            "physical attack",
            "physical attack",
            "physical attack",
            "physical attack",
            "physical attack",
            "physical attack",
            "physical attack",
            "physical attack"
           ],
           "ids": [
            "Charlottenburg-Wilmersdorf",
            "Friedrichshain-Kreuzberg",
            "Lichtenberg",
            "Marzahn-Hellersdorf",
            "Mitte",
            "Neukölln",
            "Pankow",
            "Reinickendorf",
            "Steglitz-Zehlendorf",
            "Tempelhof-Schöneberg",
            "Treptow-Köpenick"
           ],
           "legendgroup": "physical attack",
           "marker": {
            "color": "#636efa"
           },
           "name": "physical attack",
           "offsetgroup": "physical attack",
           "orientation": "v",
           "showlegend": true,
           "textposition": "auto",
           "type": "bar",
           "x": [
            "Charlottenburg-Wilmersdorf",
            "Friedrichshain-Kreuzberg",
            "Lichtenberg",
            "Marzahn-Hellersdorf",
            "Mitte",
            "Neukölln",
            "Pankow",
            "Reinickendorf",
            "Steglitz-Zehlendorf",
            "Tempelhof-Schöneberg",
            "Treptow-Köpenick"
           ],
           "xaxis": "x",
           "y": [
            3,
            7,
            1,
            1,
            9,
            1,
            1,
            1,
            1,
            7,
            1
           ],
           "yaxis": "y"
          },
          {
           "alignmentgroup": "True",
           "hovertemplate": "<b>%{hovertext}</b><br><br>type of incident=verbal attack<br>year=2015<br>District=%{x}<br>count=%{y}<extra></extra>",
           "hovertext": [
            "verbal attack",
            "verbal attack",
            "verbal attack",
            "verbal attack",
            "verbal attack",
            "verbal attack",
            "verbal attack"
           ],
           "ids": [
            "Friedrichshain-Kreuzberg",
            "Mitte",
            "Neukölln",
            "Pankow",
            "Reinickendorf",
            "Steglitz-Zehlendorf",
            "Tempelhof-Schöneberg"
           ],
           "legendgroup": "verbal attack",
           "marker": {
            "color": "#EF553B"
           },
           "name": "verbal attack",
           "offsetgroup": "verbal attack",
           "orientation": "v",
           "showlegend": true,
           "textposition": "auto",
           "type": "bar",
           "x": [
            "Friedrichshain-Kreuzberg",
            "Mitte",
            "Neukölln",
            "Pankow",
            "Reinickendorf",
            "Steglitz-Zehlendorf",
            "Tempelhof-Schöneberg"
           ],
           "xaxis": "x",
           "y": [
            5,
            4,
            3,
            2,
            1,
            1,
            2
           ],
           "yaxis": "y"
          },
          {
           "alignmentgroup": "True",
           "hovertemplate": "<b>%{hovertext}</b><br><br>type of incident=vandalism<br>year=2015<br>District=%{x}<br>count=%{y}<extra></extra>",
           "hovertext": [
            "vandalism"
           ],
           "ids": [
            "Mitte"
           ],
           "legendgroup": "vandalism",
           "marker": {
            "color": "#00cc96"
           },
           "name": "vandalism",
           "offsetgroup": "vandalism",
           "orientation": "v",
           "showlegend": true,
           "textposition": "auto",
           "type": "bar",
           "x": [
            "Mitte"
           ],
           "xaxis": "x",
           "y": [
            1
           ],
           "yaxis": "y"
          },
          {
           "alignmentgroup": "True",
           "hovertemplate": "<b>%{hovertext}</b><br><br>type of incident=discrimination<br>year=2015<br>District=%{x}<br>count=%{y}<extra></extra>",
           "hovertext": [
            "discrimination"
           ],
           "ids": [
            "Treptow-Köpenick"
           ],
           "legendgroup": "discrimination",
           "marker": {
            "color": "#ab63fa"
           },
           "name": "discrimination",
           "offsetgroup": "discrimination",
           "orientation": "v",
           "showlegend": true,
           "textposition": "auto",
           "type": "bar",
           "x": [
            "Treptow-Köpenick"
           ],
           "xaxis": "x",
           "y": [
            1
           ],
           "yaxis": "y"
          },
          {
           "alignmentgroup": "True",
           "hovertemplate": "<b>%{hovertext}</b><br><br>type of incident=propaganda<br>year=2015<br>District=%{x}<br>count=%{y}<extra></extra>",
           "hovertext": [
            "propaganda"
           ],
           "ids": [
            "Lichtenberg"
           ],
           "legendgroup": "propaganda",
           "marker": {
            "color": "#FFA15A"
           },
           "name": "propaganda",
           "offsetgroup": "propaganda",
           "orientation": "v",
           "showlegend": true,
           "textposition": "auto",
           "type": "bar",
           "x": [
            "Lichtenberg"
           ],
           "xaxis": "x",
           "y": [
            1
           ],
           "yaxis": "y"
          }
         ],
         "name": "2015"
        },
        {
         "data": [
          {
           "alignmentgroup": "True",
           "hovertemplate": "<b>%{hovertext}</b><br><br>type of incident=physical attack<br>year=2016<br>District=%{x}<br>count=%{y}<extra></extra>",
           "hovertext": [
            "physical attack",
            "physical attack",
            "physical attack",
            "physical attack",
            "physical attack",
            "physical attack",
            "physical attack",
            "physical attack",
            "physical attack",
            "physical attack",
            "physical attack"
           ],
           "ids": [
            "Friedrichshain-Kreuzberg",
            "Lichtenberg",
            "Marzahn-Hellersdorf",
            "Mitte",
            "Neukölln",
            "Pankow",
            "Reinickendorf",
            "Spandau",
            "Steglitz-Zehlendorf",
            "Tempelhof-Schöneberg",
            "Treptow-Köpenick"
           ],
           "legendgroup": "physical attack",
           "marker": {
            "color": "#636efa"
           },
           "name": "physical attack",
           "offsetgroup": "physical attack",
           "orientation": "v",
           "showlegend": true,
           "textposition": "auto",
           "type": "bar",
           "x": [
            "Friedrichshain-Kreuzberg",
            "Lichtenberg",
            "Marzahn-Hellersdorf",
            "Mitte",
            "Neukölln",
            "Pankow",
            "Reinickendorf",
            "Spandau",
            "Steglitz-Zehlendorf",
            "Tempelhof-Schöneberg",
            "Treptow-Köpenick"
           ],
           "xaxis": "x",
           "y": [
            12,
            1,
            2,
            17,
            11,
            3,
            1,
            2,
            1,
            5,
            2
           ],
           "yaxis": "y"
          },
          {
           "alignmentgroup": "True",
           "hovertemplate": "<b>%{hovertext}</b><br><br>type of incident=verbal attack<br>year=2016<br>District=%{x}<br>count=%{y}<extra></extra>",
           "hovertext": [
            "verbal attack",
            "verbal attack",
            "verbal attack",
            "verbal attack",
            "verbal attack",
            "verbal attack",
            "verbal attack",
            "verbal attack",
            "verbal attack",
            "verbal attack"
           ],
           "ids": [
            "Charlottenburg-Wilmersdorf",
            "Friedrichshain-Kreuzberg",
            "Marzahn-Hellersdorf",
            "Mitte",
            "Neukölln",
            "Pankow",
            "Reinickendorf",
            "Spandau",
            "Steglitz-Zehlendorf",
            "Tempelhof-Schöneberg"
           ],
           "legendgroup": "verbal attack",
           "marker": {
            "color": "#EF553B"
           },
           "name": "verbal attack",
           "offsetgroup": "verbal attack",
           "orientation": "v",
           "showlegend": true,
           "textposition": "auto",
           "type": "bar",
           "x": [
            "Charlottenburg-Wilmersdorf",
            "Friedrichshain-Kreuzberg",
            "Marzahn-Hellersdorf",
            "Mitte",
            "Neukölln",
            "Pankow",
            "Reinickendorf",
            "Spandau",
            "Steglitz-Zehlendorf",
            "Tempelhof-Schöneberg"
           ],
           "xaxis": "x",
           "y": [
            3,
            3,
            5,
            4,
            3,
            1,
            1,
            1,
            1,
            6
           ],
           "yaxis": "y"
          },
          {
           "alignmentgroup": "True",
           "hovertemplate": "<b>%{hovertext}</b><br><br>type of incident=vandalism<br>year=2016<br>District=%{x}<br>count=%{y}<extra></extra>",
           "hovertext": [
            "vandalism",
            "vandalism",
            "vandalism"
           ],
           "ids": [
            "Friedrichshain-Kreuzberg",
            "Mitte",
            "Reinickendorf"
           ],
           "legendgroup": "vandalism",
           "marker": {
            "color": "#00cc96"
           },
           "name": "vandalism",
           "offsetgroup": "vandalism",
           "orientation": "v",
           "showlegend": true,
           "textposition": "auto",
           "type": "bar",
           "x": [
            "Friedrichshain-Kreuzberg",
            "Mitte",
            "Reinickendorf"
           ],
           "xaxis": "x",
           "y": [
            1,
            1,
            2
           ],
           "yaxis": "y"
          }
         ],
         "name": "2016"
        },
        {
         "data": [
          {
           "alignmentgroup": "True",
           "hovertemplate": "<b>%{hovertext}</b><br><br>type of incident=physical attack<br>year=2017<br>District=%{x}<br>count=%{y}<extra></extra>",
           "hovertext": [
            "physical attack",
            "physical attack",
            "physical attack",
            "physical attack",
            "physical attack",
            "physical attack",
            "physical attack",
            "physical attack",
            "physical attack",
            "physical attack",
            "physical attack"
           ],
           "ids": [
            "Charlottenburg-Wilmersdorf",
            "Friedrichshain-Kreuzberg",
            "Lichtenberg",
            "Marzahn-Hellersdorf",
            "Mitte",
            "Neukölln",
            "Pankow",
            "Reinickendorf",
            "Spandau",
            "Tempelhof-Schöneberg",
            "Treptow-Köpenick"
           ],
           "legendgroup": "physical attack",
           "marker": {
            "color": "#636efa"
           },
           "name": "physical attack",
           "offsetgroup": "physical attack",
           "orientation": "v",
           "showlegend": true,
           "textposition": "auto",
           "type": "bar",
           "x": [
            "Charlottenburg-Wilmersdorf",
            "Friedrichshain-Kreuzberg",
            "Lichtenberg",
            "Marzahn-Hellersdorf",
            "Mitte",
            "Neukölln",
            "Pankow",
            "Reinickendorf",
            "Spandau",
            "Tempelhof-Schöneberg",
            "Treptow-Köpenick"
           ],
           "xaxis": "x",
           "y": [
            1,
            4,
            3,
            2,
            18,
            9,
            3,
            3,
            1,
            11,
            1
           ],
           "yaxis": "y"
          },
          {
           "alignmentgroup": "True",
           "hovertemplate": "<b>%{hovertext}</b><br><br>type of incident=verbal attack<br>year=2017<br>District=%{x}<br>count=%{y}<extra></extra>",
           "hovertext": [
            "verbal attack",
            "verbal attack",
            "verbal attack",
            "verbal attack",
            "verbal attack",
            "verbal attack",
            "verbal attack",
            "verbal attack",
            "verbal attack",
            "verbal attack",
            "verbal attack"
           ],
           "ids": [
            "Charlottenburg-Wilmersdorf",
            "Friedrichshain-Kreuzberg",
            "Lichtenberg",
            "Marzahn-Hellersdorf",
            "Mitte",
            "Neukölln",
            "Pankow",
            "Reinickendorf",
            "Spandau",
            "Tempelhof-Schöneberg",
            "Treptow-Köpenick"
           ],
           "legendgroup": "verbal attack",
           "marker": {
            "color": "#EF553B"
           },
           "name": "verbal attack",
           "offsetgroup": "verbal attack",
           "orientation": "v",
           "showlegend": true,
           "textposition": "auto",
           "type": "bar",
           "x": [
            "Charlottenburg-Wilmersdorf",
            "Friedrichshain-Kreuzberg",
            "Lichtenberg",
            "Marzahn-Hellersdorf",
            "Mitte",
            "Neukölln",
            "Pankow",
            "Reinickendorf",
            "Spandau",
            "Tempelhof-Schöneberg",
            "Treptow-Köpenick"
           ],
           "xaxis": "x",
           "y": [
            2,
            5,
            2,
            1,
            1,
            7,
            3,
            1,
            1,
            4,
            3
           ],
           "yaxis": "y"
          },
          {
           "alignmentgroup": "True",
           "hovertemplate": "<b>%{hovertext}</b><br><br>type of incident=vandalism<br>year=2017<br>District=%{x}<br>count=%{y}<extra></extra>",
           "hovertext": [
            "vandalism"
           ],
           "ids": [
            "Mitte"
           ],
           "legendgroup": "vandalism",
           "marker": {
            "color": "#00cc96"
           },
           "name": "vandalism",
           "offsetgroup": "vandalism",
           "orientation": "v",
           "showlegend": true,
           "textposition": "auto",
           "type": "bar",
           "x": [
            "Mitte"
           ],
           "xaxis": "x",
           "y": [
            1
           ],
           "yaxis": "y"
          },
          {
           "alignmentgroup": "True",
           "hovertemplate": "<b>%{hovertext}</b><br><br>type of incident=propaganda<br>year=2017<br>District=%{x}<br>count=%{y}<extra></extra>",
           "hovertext": [
            "propaganda",
            "propaganda"
           ],
           "ids": [
            "Lichtenberg",
            "Treptow-Köpenick"
           ],
           "legendgroup": "propaganda",
           "marker": {
            "color": "#FFA15A"
           },
           "name": "propaganda",
           "offsetgroup": "propaganda",
           "orientation": "v",
           "showlegend": true,
           "textposition": "auto",
           "type": "bar",
           "x": [
            "Lichtenberg",
            "Treptow-Köpenick"
           ],
           "xaxis": "x",
           "y": [
            3,
            2
           ],
           "yaxis": "y"
          }
         ],
         "name": "2017"
        },
        {
         "data": [
          {
           "alignmentgroup": "True",
           "hovertemplate": "<b>%{hovertext}</b><br><br>type of incident=physical attack<br>year=2018<br>District=%{x}<br>count=%{y}<extra></extra>",
           "hovertext": [
            "physical attack",
            "physical attack",
            "physical attack",
            "physical attack",
            "physical attack",
            "physical attack",
            "physical attack",
            "physical attack",
            "physical attack"
           ],
           "ids": [
            "Charlottenburg-Wilmersdorf",
            "Friedrichshain-Kreuzberg",
            "Lichtenberg",
            "Mitte",
            "Neukölln",
            "Pankow",
            "Reinickendorf",
            "Tempelhof-Schöneberg",
            "Treptow-Köpenick"
           ],
           "legendgroup": "physical attack",
           "marker": {
            "color": "#636efa"
           },
           "name": "physical attack",
           "offsetgroup": "physical attack",
           "orientation": "v",
           "showlegend": true,
           "textposition": "auto",
           "type": "bar",
           "x": [
            "Charlottenburg-Wilmersdorf",
            "Friedrichshain-Kreuzberg",
            "Lichtenberg",
            "Mitte",
            "Neukölln",
            "Pankow",
            "Reinickendorf",
            "Tempelhof-Schöneberg",
            "Treptow-Köpenick"
           ],
           "xaxis": "x",
           "y": [
            2,
            9,
            2,
            19,
            13,
            4,
            1,
            4,
            3
           ],
           "yaxis": "y"
          },
          {
           "alignmentgroup": "True",
           "hovertemplate": "<b>%{hovertext}</b><br><br>type of incident=verbal attack<br>year=2018<br>District=%{x}<br>count=%{y}<extra></extra>",
           "hovertext": [
            "verbal attack",
            "verbal attack",
            "verbal attack",
            "verbal attack",
            "verbal attack",
            "verbal attack",
            "verbal attack",
            "verbal attack",
            "verbal attack"
           ],
           "ids": [
            "Charlottenburg-Wilmersdorf",
            "Friedrichshain-Kreuzberg",
            "Marzahn-Hellersdorf",
            "Mitte",
            "Neukölln",
            "Reinickendorf",
            "Steglitz-Zehlendorf",
            "Tempelhof-Schöneberg",
            "Treptow-Köpenick"
           ],
           "legendgroup": "verbal attack",
           "marker": {
            "color": "#EF553B"
           },
           "name": "verbal attack",
           "offsetgroup": "verbal attack",
           "orientation": "v",
           "showlegend": true,
           "textposition": "auto",
           "type": "bar",
           "x": [
            "Charlottenburg-Wilmersdorf",
            "Friedrichshain-Kreuzberg",
            "Marzahn-Hellersdorf",
            "Mitte",
            "Neukölln",
            "Reinickendorf",
            "Steglitz-Zehlendorf",
            "Tempelhof-Schöneberg",
            "Treptow-Köpenick"
           ],
           "xaxis": "x",
           "y": [
            2,
            9,
            4,
            4,
            9,
            1,
            1,
            3,
            2
           ],
           "yaxis": "y"
          },
          {
           "alignmentgroup": "True",
           "hovertemplate": "<b>%{hovertext}</b><br><br>type of incident=vandalism<br>year=2018<br>District=%{x}<br>count=%{y}<extra></extra>",
           "hovertext": [
            "vandalism"
           ],
           "ids": [
            "Mitte"
           ],
           "legendgroup": "vandalism",
           "marker": {
            "color": "#00cc96"
           },
           "name": "vandalism",
           "offsetgroup": "vandalism",
           "orientation": "v",
           "showlegend": true,
           "textposition": "auto",
           "type": "bar",
           "x": [
            "Mitte"
           ],
           "xaxis": "x",
           "y": [
            2
           ],
           "yaxis": "y"
          },
          {
           "alignmentgroup": "True",
           "hovertemplate": "<b>%{hovertext}</b><br><br>type of incident=discrimination<br>year=2018<br>District=%{x}<br>count=%{y}<extra></extra>",
           "hovertext": [
            "discrimination"
           ],
           "ids": [
            "Steglitz-Zehlendorf"
           ],
           "legendgroup": "discrimination",
           "marker": {
            "color": "#ab63fa"
           },
           "name": "discrimination",
           "offsetgroup": "discrimination",
           "orientation": "v",
           "showlegend": true,
           "textposition": "auto",
           "type": "bar",
           "x": [
            "Steglitz-Zehlendorf"
           ],
           "xaxis": "x",
           "y": [
            1
           ],
           "yaxis": "y"
          },
          {
           "alignmentgroup": "True",
           "hovertemplate": "<b>%{hovertext}</b><br><br>type of incident=propaganda<br>year=2018<br>District=%{x}<br>count=%{y}<extra></extra>",
           "hovertext": [
            "propaganda"
           ],
           "ids": [
            "Treptow-Köpenick"
           ],
           "legendgroup": "propaganda",
           "marker": {
            "color": "#FFA15A"
           },
           "name": "propaganda",
           "offsetgroup": "propaganda",
           "orientation": "v",
           "showlegend": true,
           "textposition": "auto",
           "type": "bar",
           "x": [
            "Treptow-Köpenick"
           ],
           "xaxis": "x",
           "y": [
            2
           ],
           "yaxis": "y"
          }
         ],
         "name": "2018"
        },
        {
         "data": [
          {
           "alignmentgroup": "True",
           "hovertemplate": "<b>%{hovertext}</b><br><br>type of incident=physical attack<br>year=2019<br>District=%{x}<br>count=%{y}<extra></extra>",
           "hovertext": [
            "physical attack",
            "physical attack",
            "physical attack",
            "physical attack",
            "physical attack",
            "physical attack",
            "physical attack",
            "physical attack",
            "physical attack",
            "physical attack",
            "physical attack",
            "physical attack"
           ],
           "ids": [
            "Charlottenburg-Wilmersdorf",
            "Friedrichshain-Kreuzberg",
            "Lichtenberg",
            "Marzahn-Hellersdorf",
            "Mitte",
            "Neukölln",
            "Pankow",
            "Reinickendorf",
            "Spandau",
            "Steglitz-Zehlendorf",
            "Tempelhof-Schöneberg",
            "Treptow-Köpenick"
           ],
           "legendgroup": "physical attack",
           "marker": {
            "color": "#636efa"
           },
           "name": "physical attack",
           "offsetgroup": "physical attack",
           "orientation": "v",
           "showlegend": true,
           "textposition": "auto",
           "type": "bar",
           "x": [
            "Charlottenburg-Wilmersdorf",
            "Friedrichshain-Kreuzberg",
            "Lichtenberg",
            "Marzahn-Hellersdorf",
            "Mitte",
            "Neukölln",
            "Pankow",
            "Reinickendorf",
            "Spandau",
            "Steglitz-Zehlendorf",
            "Tempelhof-Schöneberg",
            "Treptow-Köpenick"
           ],
           "xaxis": "x",
           "y": [
            6,
            14,
            4,
            1,
            27,
            22,
            2,
            2,
            1,
            1,
            18,
            3
           ],
           "yaxis": "y"
          },
          {
           "alignmentgroup": "True",
           "hovertemplate": "<b>%{hovertext}</b><br><br>type of incident=verbal attack<br>year=2019<br>District=%{x}<br>count=%{y}<extra></extra>",
           "hovertext": [
            "verbal attack",
            "verbal attack",
            "verbal attack",
            "verbal attack",
            "verbal attack",
            "verbal attack",
            "verbal attack",
            "verbal attack",
            "verbal attack",
            "verbal attack",
            "verbal attack",
            "verbal attack"
           ],
           "ids": [
            "Charlottenburg-Wilmersdorf",
            "Friedrichshain-Kreuzberg",
            "Lichtenberg",
            "Marzahn-Hellersdorf",
            "Mitte",
            "Neukölln",
            "Pankow",
            "Reinickendorf",
            "Spandau",
            "Steglitz-Zehlendorf",
            "Tempelhof-Schöneberg",
            "Treptow-Köpenick"
           ],
           "legendgroup": "verbal attack",
           "marker": {
            "color": "#EF553B"
           },
           "name": "verbal attack",
           "offsetgroup": "verbal attack",
           "orientation": "v",
           "showlegend": true,
           "textposition": "auto",
           "type": "bar",
           "x": [
            "Charlottenburg-Wilmersdorf",
            "Friedrichshain-Kreuzberg",
            "Lichtenberg",
            "Marzahn-Hellersdorf",
            "Mitte",
            "Neukölln",
            "Pankow",
            "Reinickendorf",
            "Spandau",
            "Steglitz-Zehlendorf",
            "Tempelhof-Schöneberg",
            "Treptow-Köpenick"
           ],
           "xaxis": "x",
           "y": [
            3,
            10,
            2,
            1,
            10,
            3,
            1,
            4,
            2,
            2,
            5,
            6
           ],
           "yaxis": "y"
          },
          {
           "alignmentgroup": "True",
           "hovertemplate": "<b>%{hovertext}</b><br><br>type of incident=vandalism<br>year=2019<br>District=%{x}<br>count=%{y}<extra></extra>",
           "hovertext": [
            "vandalism"
           ],
           "ids": [
            "Mitte"
           ],
           "legendgroup": "vandalism",
           "marker": {
            "color": "#00cc96"
           },
           "name": "vandalism",
           "offsetgroup": "vandalism",
           "orientation": "v",
           "showlegend": true,
           "textposition": "auto",
           "type": "bar",
           "x": [
            "Mitte"
           ],
           "xaxis": "x",
           "y": [
            8
           ],
           "yaxis": "y"
          },
          {
           "alignmentgroup": "True",
           "hovertemplate": "<b>%{hovertext}</b><br><br>type of incident=propaganda<br>year=2019<br>District=%{x}<br>count=%{y}<extra></extra>",
           "hovertext": [
            "propaganda"
           ],
           "ids": [
            "Neukölln"
           ],
           "legendgroup": "propaganda",
           "marker": {
            "color": "#FFA15A"
           },
           "name": "propaganda",
           "offsetgroup": "propaganda",
           "orientation": "v",
           "showlegend": true,
           "textposition": "auto",
           "type": "bar",
           "x": [
            "Neukölln"
           ],
           "xaxis": "x",
           "y": [
            1
           ],
           "yaxis": "y"
          }
         ],
         "name": "2019"
        },
        {
         "data": [
          {
           "alignmentgroup": "True",
           "hovertemplate": "<b>%{hovertext}</b><br><br>type of incident=physical attack<br>year=2020<br>District=%{x}<br>count=%{y}<extra></extra>",
           "hovertext": [
            "physical attack",
            "physical attack",
            "physical attack",
            "physical attack",
            "physical attack",
            "physical attack",
            "physical attack",
            "physical attack",
            "physical attack",
            "physical attack",
            "physical attack",
            "physical attack"
           ],
           "ids": [
            "Charlottenburg-Wilmersdorf",
            "Friedrichshain-Kreuzberg",
            "Lichtenberg",
            "Marzahn-Hellersdorf",
            "Mitte",
            "Neukölln",
            "Pankow",
            "Reinickendorf",
            "Spandau",
            "Steglitz-Zehlendorf",
            "Tempelhof-Schöneberg",
            "Treptow-Köpenick"
           ],
           "legendgroup": "physical attack",
           "marker": {
            "color": "#636efa"
           },
           "name": "physical attack",
           "offsetgroup": "physical attack",
           "orientation": "v",
           "showlegend": true,
           "textposition": "auto",
           "type": "bar",
           "x": [
            "Charlottenburg-Wilmersdorf",
            "Friedrichshain-Kreuzberg",
            "Lichtenberg",
            "Marzahn-Hellersdorf",
            "Mitte",
            "Neukölln",
            "Pankow",
            "Reinickendorf",
            "Spandau",
            "Steglitz-Zehlendorf",
            "Tempelhof-Schöneberg",
            "Treptow-Köpenick"
           ],
           "xaxis": "x",
           "y": [
            6,
            17,
            3,
            2,
            18,
            17,
            6,
            2,
            6,
            2,
            8,
            4
           ],
           "yaxis": "y"
          },
          {
           "alignmentgroup": "True",
           "hovertemplate": "<b>%{hovertext}</b><br><br>type of incident=verbal attack<br>year=2020<br>District=%{x}<br>count=%{y}<extra></extra>",
           "hovertext": [
            "verbal attack",
            "verbal attack",
            "verbal attack",
            "verbal attack",
            "verbal attack",
            "verbal attack",
            "verbal attack",
            "verbal attack",
            "verbal attack",
            "verbal attack",
            "verbal attack",
            "verbal attack"
           ],
           "ids": [
            "Berlinweit",
            "Charlottenburg-Wilmersdorf",
            "Friedrichshain-Kreuzberg",
            "Lichtenberg",
            "Marzahn-Hellersdorf",
            "Mitte",
            "Neukölln",
            "Pankow",
            "Reinickendorf",
            "Steglitz-Zehlendorf",
            "Tempelhof-Schöneberg",
            "Treptow-Köpenick"
           ],
           "legendgroup": "verbal attack",
           "marker": {
            "color": "#EF553B"
           },
           "name": "verbal attack",
           "offsetgroup": "verbal attack",
           "orientation": "v",
           "showlegend": true,
           "textposition": "auto",
           "type": "bar",
           "x": [
            "Berlinweit",
            "Charlottenburg-Wilmersdorf",
            "Friedrichshain-Kreuzberg",
            "Lichtenberg",
            "Marzahn-Hellersdorf",
            "Mitte",
            "Neukölln",
            "Pankow",
            "Reinickendorf",
            "Steglitz-Zehlendorf",
            "Tempelhof-Schöneberg",
            "Treptow-Köpenick"
           ],
           "xaxis": "x",
           "y": [
            1,
            1,
            7,
            2,
            2,
            15,
            4,
            3,
            1,
            1,
            4,
            3
           ],
           "yaxis": "y"
          },
          {
           "alignmentgroup": "True",
           "hovertemplate": "<b>%{hovertext}</b><br><br>type of incident=vandalism<br>year=2020<br>District=%{x}<br>count=%{y}<extra></extra>",
           "hovertext": [
            "vandalism"
           ],
           "ids": [
            "Mitte"
           ],
           "legendgroup": "vandalism",
           "marker": {
            "color": "#00cc96"
           },
           "name": "vandalism",
           "offsetgroup": "vandalism",
           "orientation": "v",
           "showlegend": true,
           "textposition": "auto",
           "type": "bar",
           "x": [
            "Mitte"
           ],
           "xaxis": "x",
           "y": [
            1
           ],
           "yaxis": "y"
          }
         ],
         "name": "2020"
        },
        {
         "data": [
          {
           "alignmentgroup": "True",
           "hovertemplate": "<b>%{hovertext}</b><br><br>type of incident=physical attack<br>year=2021<br>District=%{x}<br>count=%{y}<extra></extra>",
           "hovertext": [
            "physical attack",
            "physical attack",
            "physical attack"
           ],
           "ids": [
            "Friedrichshain-Kreuzberg",
            "Neukölln",
            "Treptow-Köpenick"
           ],
           "legendgroup": "physical attack",
           "marker": {
            "color": "#636efa"
           },
           "name": "physical attack",
           "offsetgroup": "physical attack",
           "orientation": "v",
           "showlegend": true,
           "textposition": "auto",
           "type": "bar",
           "x": [
            "Friedrichshain-Kreuzberg",
            "Neukölln",
            "Treptow-Köpenick"
           ],
           "xaxis": "x",
           "y": [
            1,
            1,
            1
           ],
           "yaxis": "y"
          },
          {
           "alignmentgroup": "True",
           "hovertemplate": "<b>%{hovertext}</b><br><br>type of incident=verbal attack<br>year=2021<br>District=%{x}<br>count=%{y}<extra></extra>",
           "hovertext": [
            "verbal attack",
            "verbal attack",
            "verbal attack",
            "verbal attack",
            "verbal attack",
            "verbal attack",
            "verbal attack"
           ],
           "ids": [
            "Charlottenburg-Wilmersdorf",
            "Friedrichshain-Kreuzberg",
            "Mitte",
            "Pankow",
            "Reinickendorf",
            "Spandau",
            "Treptow-Köpenick"
           ],
           "legendgroup": "verbal attack",
           "marker": {
            "color": "#EF553B"
           },
           "name": "verbal attack",
           "offsetgroup": "verbal attack",
           "orientation": "v",
           "showlegend": true,
           "textposition": "auto",
           "type": "bar",
           "x": [
            "Charlottenburg-Wilmersdorf",
            "Friedrichshain-Kreuzberg",
            "Mitte",
            "Pankow",
            "Reinickendorf",
            "Spandau",
            "Treptow-Köpenick"
           ],
           "xaxis": "x",
           "y": [
            1,
            4,
            3,
            1,
            1,
            1,
            1
           ],
           "yaxis": "y"
          }
         ],
         "name": "2021"
        }
       ],
       "layout": {
        "barmode": "relative",
        "legend": {
         "title": {
          "text": "type of incident"
         },
         "tracegroupgap": 0
        },
        "sliders": [
         {
          "active": 0,
          "currentvalue": {
           "prefix": "year="
          },
          "len": 0.9,
          "pad": {
           "b": 10,
           "t": 60
          },
          "steps": [
           {
            "args": [
             [
              "2014"
             ],
             {
              "frame": {
               "duration": 0,
               "redraw": true
              },
              "fromcurrent": true,
              "mode": "immediate",
              "transition": {
               "duration": 0,
               "easing": "linear"
              }
             }
            ],
            "label": "2014",
            "method": "animate"
           },
           {
            "args": [
             [
              "2015"
             ],
             {
              "frame": {
               "duration": 0,
               "redraw": true
              },
              "fromcurrent": true,
              "mode": "immediate",
              "transition": {
               "duration": 0,
               "easing": "linear"
              }
             }
            ],
            "label": "2015",
            "method": "animate"
           },
           {
            "args": [
             [
              "2016"
             ],
             {
              "frame": {
               "duration": 0,
               "redraw": true
              },
              "fromcurrent": true,
              "mode": "immediate",
              "transition": {
               "duration": 0,
               "easing": "linear"
              }
             }
            ],
            "label": "2016",
            "method": "animate"
           },
           {
            "args": [
             [
              "2017"
             ],
             {
              "frame": {
               "duration": 0,
               "redraw": true
              },
              "fromcurrent": true,
              "mode": "immediate",
              "transition": {
               "duration": 0,
               "easing": "linear"
              }
             }
            ],
            "label": "2017",
            "method": "animate"
           },
           {
            "args": [
             [
              "2018"
             ],
             {
              "frame": {
               "duration": 0,
               "redraw": true
              },
              "fromcurrent": true,
              "mode": "immediate",
              "transition": {
               "duration": 0,
               "easing": "linear"
              }
             }
            ],
            "label": "2018",
            "method": "animate"
           },
           {
            "args": [
             [
              "2019"
             ],
             {
              "frame": {
               "duration": 0,
               "redraw": true
              },
              "fromcurrent": true,
              "mode": "immediate",
              "transition": {
               "duration": 0,
               "easing": "linear"
              }
             }
            ],
            "label": "2019",
            "method": "animate"
           },
           {
            "args": [
             [
              "2020"
             ],
             {
              "frame": {
               "duration": 0,
               "redraw": true
              },
              "fromcurrent": true,
              "mode": "immediate",
              "transition": {
               "duration": 0,
               "easing": "linear"
              }
             }
            ],
            "label": "2020",
            "method": "animate"
           },
           {
            "args": [
             [
              "2021"
             ],
             {
              "frame": {
               "duration": 0,
               "redraw": true
              },
              "fromcurrent": true,
              "mode": "immediate",
              "transition": {
               "duration": 0,
               "easing": "linear"
              }
             }
            ],
            "label": "2021",
            "method": "animate"
           }
          ],
          "x": 0.1,
          "xanchor": "left",
          "y": 0,
          "yanchor": "top"
         }
        ],
        "template": {
         "data": {
          "bar": [
           {
            "error_x": {
             "color": "#2a3f5f"
            },
            "error_y": {
             "color": "#2a3f5f"
            },
            "marker": {
             "line": {
              "color": "#E5ECF6",
              "width": 0.5
             }
            },
            "type": "bar"
           }
          ],
          "barpolar": [
           {
            "marker": {
             "line": {
              "color": "#E5ECF6",
              "width": 0.5
             }
            },
            "type": "barpolar"
           }
          ],
          "carpet": [
           {
            "aaxis": {
             "endlinecolor": "#2a3f5f",
             "gridcolor": "white",
             "linecolor": "white",
             "minorgridcolor": "white",
             "startlinecolor": "#2a3f5f"
            },
            "baxis": {
             "endlinecolor": "#2a3f5f",
             "gridcolor": "white",
             "linecolor": "white",
             "minorgridcolor": "white",
             "startlinecolor": "#2a3f5f"
            },
            "type": "carpet"
           }
          ],
          "choropleth": [
           {
            "colorbar": {
             "outlinewidth": 0,
             "ticks": ""
            },
            "type": "choropleth"
           }
          ],
          "contour": [
           {
            "colorbar": {
             "outlinewidth": 0,
             "ticks": ""
            },
            "colorscale": [
             [
              0,
              "#0d0887"
             ],
             [
              0.1111111111111111,
              "#46039f"
             ],
             [
              0.2222222222222222,
              "#7201a8"
             ],
             [
              0.3333333333333333,
              "#9c179e"
             ],
             [
              0.4444444444444444,
              "#bd3786"
             ],
             [
              0.5555555555555556,
              "#d8576b"
             ],
             [
              0.6666666666666666,
              "#ed7953"
             ],
             [
              0.7777777777777778,
              "#fb9f3a"
             ],
             [
              0.8888888888888888,
              "#fdca26"
             ],
             [
              1,
              "#f0f921"
             ]
            ],
            "type": "contour"
           }
          ],
          "contourcarpet": [
           {
            "colorbar": {
             "outlinewidth": 0,
             "ticks": ""
            },
            "type": "contourcarpet"
           }
          ],
          "heatmap": [
           {
            "colorbar": {
             "outlinewidth": 0,
             "ticks": ""
            },
            "colorscale": [
             [
              0,
              "#0d0887"
             ],
             [
              0.1111111111111111,
              "#46039f"
             ],
             [
              0.2222222222222222,
              "#7201a8"
             ],
             [
              0.3333333333333333,
              "#9c179e"
             ],
             [
              0.4444444444444444,
              "#bd3786"
             ],
             [
              0.5555555555555556,
              "#d8576b"
             ],
             [
              0.6666666666666666,
              "#ed7953"
             ],
             [
              0.7777777777777778,
              "#fb9f3a"
             ],
             [
              0.8888888888888888,
              "#fdca26"
             ],
             [
              1,
              "#f0f921"
             ]
            ],
            "type": "heatmap"
           }
          ],
          "heatmapgl": [
           {
            "colorbar": {
             "outlinewidth": 0,
             "ticks": ""
            },
            "colorscale": [
             [
              0,
              "#0d0887"
             ],
             [
              0.1111111111111111,
              "#46039f"
             ],
             [
              0.2222222222222222,
              "#7201a8"
             ],
             [
              0.3333333333333333,
              "#9c179e"
             ],
             [
              0.4444444444444444,
              "#bd3786"
             ],
             [
              0.5555555555555556,
              "#d8576b"
             ],
             [
              0.6666666666666666,
              "#ed7953"
             ],
             [
              0.7777777777777778,
              "#fb9f3a"
             ],
             [
              0.8888888888888888,
              "#fdca26"
             ],
             [
              1,
              "#f0f921"
             ]
            ],
            "type": "heatmapgl"
           }
          ],
          "histogram": [
           {
            "marker": {
             "colorbar": {
              "outlinewidth": 0,
              "ticks": ""
             }
            },
            "type": "histogram"
           }
          ],
          "histogram2d": [
           {
            "colorbar": {
             "outlinewidth": 0,
             "ticks": ""
            },
            "colorscale": [
             [
              0,
              "#0d0887"
             ],
             [
              0.1111111111111111,
              "#46039f"
             ],
             [
              0.2222222222222222,
              "#7201a8"
             ],
             [
              0.3333333333333333,
              "#9c179e"
             ],
             [
              0.4444444444444444,
              "#bd3786"
             ],
             [
              0.5555555555555556,
              "#d8576b"
             ],
             [
              0.6666666666666666,
              "#ed7953"
             ],
             [
              0.7777777777777778,
              "#fb9f3a"
             ],
             [
              0.8888888888888888,
              "#fdca26"
             ],
             [
              1,
              "#f0f921"
             ]
            ],
            "type": "histogram2d"
           }
          ],
          "histogram2dcontour": [
           {
            "colorbar": {
             "outlinewidth": 0,
             "ticks": ""
            },
            "colorscale": [
             [
              0,
              "#0d0887"
             ],
             [
              0.1111111111111111,
              "#46039f"
             ],
             [
              0.2222222222222222,
              "#7201a8"
             ],
             [
              0.3333333333333333,
              "#9c179e"
             ],
             [
              0.4444444444444444,
              "#bd3786"
             ],
             [
              0.5555555555555556,
              "#d8576b"
             ],
             [
              0.6666666666666666,
              "#ed7953"
             ],
             [
              0.7777777777777778,
              "#fb9f3a"
             ],
             [
              0.8888888888888888,
              "#fdca26"
             ],
             [
              1,
              "#f0f921"
             ]
            ],
            "type": "histogram2dcontour"
           }
          ],
          "mesh3d": [
           {
            "colorbar": {
             "outlinewidth": 0,
             "ticks": ""
            },
            "type": "mesh3d"
           }
          ],
          "parcoords": [
           {
            "line": {
             "colorbar": {
              "outlinewidth": 0,
              "ticks": ""
             }
            },
            "type": "parcoords"
           }
          ],
          "pie": [
           {
            "automargin": true,
            "type": "pie"
           }
          ],
          "scatter": [
           {
            "marker": {
             "colorbar": {
              "outlinewidth": 0,
              "ticks": ""
             }
            },
            "type": "scatter"
           }
          ],
          "scatter3d": [
           {
            "line": {
             "colorbar": {
              "outlinewidth": 0,
              "ticks": ""
             }
            },
            "marker": {
             "colorbar": {
              "outlinewidth": 0,
              "ticks": ""
             }
            },
            "type": "scatter3d"
           }
          ],
          "scattercarpet": [
           {
            "marker": {
             "colorbar": {
              "outlinewidth": 0,
              "ticks": ""
             }
            },
            "type": "scattercarpet"
           }
          ],
          "scattergeo": [
           {
            "marker": {
             "colorbar": {
              "outlinewidth": 0,
              "ticks": ""
             }
            },
            "type": "scattergeo"
           }
          ],
          "scattergl": [
           {
            "marker": {
             "colorbar": {
              "outlinewidth": 0,
              "ticks": ""
             }
            },
            "type": "scattergl"
           }
          ],
          "scattermapbox": [
           {
            "marker": {
             "colorbar": {
              "outlinewidth": 0,
              "ticks": ""
             }
            },
            "type": "scattermapbox"
           }
          ],
          "scatterpolar": [
           {
            "marker": {
             "colorbar": {
              "outlinewidth": 0,
              "ticks": ""
             }
            },
            "type": "scatterpolar"
           }
          ],
          "scatterpolargl": [
           {
            "marker": {
             "colorbar": {
              "outlinewidth": 0,
              "ticks": ""
             }
            },
            "type": "scatterpolargl"
           }
          ],
          "scatterternary": [
           {
            "marker": {
             "colorbar": {
              "outlinewidth": 0,
              "ticks": ""
             }
            },
            "type": "scatterternary"
           }
          ],
          "surface": [
           {
            "colorbar": {
             "outlinewidth": 0,
             "ticks": ""
            },
            "colorscale": [
             [
              0,
              "#0d0887"
             ],
             [
              0.1111111111111111,
              "#46039f"
             ],
             [
              0.2222222222222222,
              "#7201a8"
             ],
             [
              0.3333333333333333,
              "#9c179e"
             ],
             [
              0.4444444444444444,
              "#bd3786"
             ],
             [
              0.5555555555555556,
              "#d8576b"
             ],
             [
              0.6666666666666666,
              "#ed7953"
             ],
             [
              0.7777777777777778,
              "#fb9f3a"
             ],
             [
              0.8888888888888888,
              "#fdca26"
             ],
             [
              1,
              "#f0f921"
             ]
            ],
            "type": "surface"
           }
          ],
          "table": [
           {
            "cells": {
             "fill": {
              "color": "#EBF0F8"
             },
             "line": {
              "color": "white"
             }
            },
            "header": {
             "fill": {
              "color": "#C8D4E3"
             },
             "line": {
              "color": "white"
             }
            },
            "type": "table"
           }
          ]
         },
         "layout": {
          "annotationdefaults": {
           "arrowcolor": "#2a3f5f",
           "arrowhead": 0,
           "arrowwidth": 1
          },
          "autotypenumbers": "strict",
          "coloraxis": {
           "colorbar": {
            "outlinewidth": 0,
            "ticks": ""
           }
          },
          "colorscale": {
           "diverging": [
            [
             0,
             "#8e0152"
            ],
            [
             0.1,
             "#c51b7d"
            ],
            [
             0.2,
             "#de77ae"
            ],
            [
             0.3,
             "#f1b6da"
            ],
            [
             0.4,
             "#fde0ef"
            ],
            [
             0.5,
             "#f7f7f7"
            ],
            [
             0.6,
             "#e6f5d0"
            ],
            [
             0.7,
             "#b8e186"
            ],
            [
             0.8,
             "#7fbc41"
            ],
            [
             0.9,
             "#4d9221"
            ],
            [
             1,
             "#276419"
            ]
           ],
           "sequential": [
            [
             0,
             "#0d0887"
            ],
            [
             0.1111111111111111,
             "#46039f"
            ],
            [
             0.2222222222222222,
             "#7201a8"
            ],
            [
             0.3333333333333333,
             "#9c179e"
            ],
            [
             0.4444444444444444,
             "#bd3786"
            ],
            [
             0.5555555555555556,
             "#d8576b"
            ],
            [
             0.6666666666666666,
             "#ed7953"
            ],
            [
             0.7777777777777778,
             "#fb9f3a"
            ],
            [
             0.8888888888888888,
             "#fdca26"
            ],
            [
             1,
             "#f0f921"
            ]
           ],
           "sequentialminus": [
            [
             0,
             "#0d0887"
            ],
            [
             0.1111111111111111,
             "#46039f"
            ],
            [
             0.2222222222222222,
             "#7201a8"
            ],
            [
             0.3333333333333333,
             "#9c179e"
            ],
            [
             0.4444444444444444,
             "#bd3786"
            ],
            [
             0.5555555555555556,
             "#d8576b"
            ],
            [
             0.6666666666666666,
             "#ed7953"
            ],
            [
             0.7777777777777778,
             "#fb9f3a"
            ],
            [
             0.8888888888888888,
             "#fdca26"
            ],
            [
             1,
             "#f0f921"
            ]
           ]
          },
          "colorway": [
           "#636efa",
           "#EF553B",
           "#00cc96",
           "#ab63fa",
           "#FFA15A",
           "#19d3f3",
           "#FF6692",
           "#B6E880",
           "#FF97FF",
           "#FECB52"
          ],
          "font": {
           "color": "#2a3f5f"
          },
          "geo": {
           "bgcolor": "white",
           "lakecolor": "white",
           "landcolor": "#E5ECF6",
           "showlakes": true,
           "showland": true,
           "subunitcolor": "white"
          },
          "hoverlabel": {
           "align": "left"
          },
          "hovermode": "closest",
          "mapbox": {
           "style": "light"
          },
          "paper_bgcolor": "white",
          "plot_bgcolor": "#E5ECF6",
          "polar": {
           "angularaxis": {
            "gridcolor": "white",
            "linecolor": "white",
            "ticks": ""
           },
           "bgcolor": "#E5ECF6",
           "radialaxis": {
            "gridcolor": "white",
            "linecolor": "white",
            "ticks": ""
           }
          },
          "scene": {
           "xaxis": {
            "backgroundcolor": "#E5ECF6",
            "gridcolor": "white",
            "gridwidth": 2,
            "linecolor": "white",
            "showbackground": true,
            "ticks": "",
            "zerolinecolor": "white"
           },
           "yaxis": {
            "backgroundcolor": "#E5ECF6",
            "gridcolor": "white",
            "gridwidth": 2,
            "linecolor": "white",
            "showbackground": true,
            "ticks": "",
            "zerolinecolor": "white"
           },
           "zaxis": {
            "backgroundcolor": "#E5ECF6",
            "gridcolor": "white",
            "gridwidth": 2,
            "linecolor": "white",
            "showbackground": true,
            "ticks": "",
            "zerolinecolor": "white"
           }
          },
          "shapedefaults": {
           "line": {
            "color": "#2a3f5f"
           }
          },
          "ternary": {
           "aaxis": {
            "gridcolor": "white",
            "linecolor": "white",
            "ticks": ""
           },
           "baxis": {
            "gridcolor": "white",
            "linecolor": "white",
            "ticks": ""
           },
           "bgcolor": "#E5ECF6",
           "caxis": {
            "gridcolor": "white",
            "linecolor": "white",
            "ticks": ""
           }
          },
          "title": {
           "x": 0.05
          },
          "xaxis": {
           "automargin": true,
           "gridcolor": "white",
           "linecolor": "white",
           "ticks": "",
           "title": {
            "standoff": 15
           },
           "zerolinecolor": "white",
           "zerolinewidth": 2
          },
          "yaxis": {
           "automargin": true,
           "gridcolor": "white",
           "linecolor": "white",
           "ticks": "",
           "title": {
            "standoff": 15
           },
           "zerolinecolor": "white",
           "zerolinewidth": 2
          }
         }
        },
        "title": {
         "text": "Incidents per District"
        },
        "updatemenus": [
         {
          "buttons": [
           {
            "args": [
             null,
             {
              "frame": {
               "duration": 500,
               "redraw": true
              },
              "fromcurrent": true,
              "mode": "immediate",
              "transition": {
               "duration": 500,
               "easing": "linear"
              }
             }
            ],
            "label": "&#9654;",
            "method": "animate"
           },
           {
            "args": [
             [
              null
             ],
             {
              "frame": {
               "duration": 0,
               "redraw": true
              },
              "fromcurrent": true,
              "mode": "immediate",
              "transition": {
               "duration": 0,
               "easing": "linear"
              }
             }
            ],
            "label": "&#9724;",
            "method": "animate"
           }
          ],
          "direction": "left",
          "pad": {
           "r": 10,
           "t": 70
          },
          "showactive": false,
          "type": "buttons",
          "x": 0.1,
          "xanchor": "right",
          "y": 0,
          "yanchor": "top"
         }
        ],
        "xaxis": {
         "anchor": "y",
         "domain": [
          0,
          1
         ],
         "title": {
          "text": "District"
         }
        },
        "yaxis": {
         "anchor": "x",
         "domain": [
          0,
          1
         ],
         "range": [
          0,
          50
         ],
         "title": {
          "text": "count"
         }
        }
       }
      },
      "text/html": [
       "<div>                            <div id=\"f60b2107-2e22-40af-938e-ba3d274e62e7\" class=\"plotly-graph-div\" style=\"height:525px; width:100%;\"></div>            <script type=\"text/javascript\">                require([\"plotly\"], function(Plotly) {                    window.PLOTLYENV=window.PLOTLYENV || {};                                    if (document.getElementById(\"f60b2107-2e22-40af-938e-ba3d274e62e7\")) {                    Plotly.newPlot(                        \"f60b2107-2e22-40af-938e-ba3d274e62e7\",                        [{\"alignmentgroup\": \"True\", \"hovertemplate\": \"<b>%{hovertext}</b><br><br>type of incident=physical attack<br>year=2014<br>District=%{x}<br>count=%{y}<extra></extra>\", \"hovertext\": [\"physical attack\", \"physical attack\", \"physical attack\", \"physical attack\", \"physical attack\", \"physical attack\", \"physical attack\", \"physical attack\"], \"ids\": [\"Charlottenburg-Wilmersdorf\", \"Friedrichshain-Kreuzberg\", \"Marzahn-Hellersdorf\", \"Mitte\", \"Neuk\\u00f6lln\", \"Pankow\", \"Spandau\", \"Tempelhof-Sch\\u00f6neberg\"], \"legendgroup\": \"physical attack\", \"marker\": {\"color\": \"#636efa\"}, \"name\": \"physical attack\", \"offsetgroup\": \"physical attack\", \"orientation\": \"v\", \"showlegend\": true, \"textposition\": \"auto\", \"type\": \"bar\", \"x\": [\"Charlottenburg-Wilmersdorf\", \"Friedrichshain-Kreuzberg\", \"Marzahn-Hellersdorf\", \"Mitte\", \"Neuk\\u00f6lln\", \"Pankow\", \"Spandau\", \"Tempelhof-Sch\\u00f6neberg\"], \"xaxis\": \"x\", \"y\": [2, 1, 1, 7, 1, 2, 1, 5], \"yaxis\": \"y\"}, {\"alignmentgroup\": \"True\", \"hovertemplate\": \"<b>%{hovertext}</b><br><br>type of incident=verbal attack<br>year=2014<br>District=%{x}<br>count=%{y}<extra></extra>\", \"hovertext\": [\"verbal attack\", \"verbal attack\", \"verbal attack\", \"verbal attack\", \"verbal attack\"], \"ids\": [\"Friedrichshain-Kreuzberg\", \"Marzahn-Hellersdorf\", \"Mitte\", \"Neuk\\u00f6lln\", \"Pankow\"], \"legendgroup\": \"verbal attack\", \"marker\": {\"color\": \"#EF553B\"}, \"name\": \"verbal attack\", \"offsetgroup\": \"verbal attack\", \"orientation\": \"v\", \"showlegend\": true, \"textposition\": \"auto\", \"type\": \"bar\", \"x\": [\"Friedrichshain-Kreuzberg\", \"Marzahn-Hellersdorf\", \"Mitte\", \"Neuk\\u00f6lln\", \"Pankow\"], \"xaxis\": \"x\", \"y\": [6, 1, 1, 3, 1], \"yaxis\": \"y\"}, {\"alignmentgroup\": \"True\", \"hovertemplate\": \"<b>%{hovertext}</b><br><br>type of incident=vandalism<br>year=2014<br>District=%{x}<br>count=%{y}<extra></extra>\", \"hovertext\": [\"vandalism\"], \"ids\": [\"Mitte\"], \"legendgroup\": \"vandalism\", \"marker\": {\"color\": \"#00cc96\"}, \"name\": \"vandalism\", \"offsetgroup\": \"vandalism\", \"orientation\": \"v\", \"showlegend\": true, \"textposition\": \"auto\", \"type\": \"bar\", \"x\": [\"Mitte\"], \"xaxis\": \"x\", \"y\": [1], \"yaxis\": \"y\"}, {\"alignmentgroup\": \"True\", \"hovertemplate\": \"<b>%{hovertext}</b><br><br>type of incident=discrimination<br>year=2014<br>District=%{x}<br>count=%{y}<extra></extra>\", \"hovertext\": [\"discrimination\"], \"ids\": [\"Pankow\"], \"legendgroup\": \"discrimination\", \"marker\": {\"color\": \"#ab63fa\"}, \"name\": \"discrimination\", \"offsetgroup\": \"discrimination\", \"orientation\": \"v\", \"showlegend\": true, \"textposition\": \"auto\", \"type\": \"bar\", \"x\": [\"Pankow\"], \"xaxis\": \"x\", \"y\": [1], \"yaxis\": \"y\"}],                        {\"barmode\": \"relative\", \"legend\": {\"title\": {\"text\": \"type of incident\"}, \"tracegroupgap\": 0}, \"sliders\": [{\"active\": 0, \"currentvalue\": {\"prefix\": \"year=\"}, \"len\": 0.9, \"pad\": {\"b\": 10, \"t\": 60}, \"steps\": [{\"args\": [[\"2014\"], {\"frame\": {\"duration\": 0, \"redraw\": true}, \"fromcurrent\": true, \"mode\": \"immediate\", \"transition\": {\"duration\": 0, \"easing\": \"linear\"}}], \"label\": \"2014\", \"method\": \"animate\"}, {\"args\": [[\"2015\"], {\"frame\": {\"duration\": 0, \"redraw\": true}, \"fromcurrent\": true, \"mode\": \"immediate\", \"transition\": {\"duration\": 0, \"easing\": \"linear\"}}], \"label\": \"2015\", \"method\": \"animate\"}, {\"args\": [[\"2016\"], {\"frame\": {\"duration\": 0, \"redraw\": true}, \"fromcurrent\": true, \"mode\": \"immediate\", \"transition\": {\"duration\": 0, \"easing\": \"linear\"}}], \"label\": \"2016\", \"method\": \"animate\"}, {\"args\": [[\"2017\"], {\"frame\": {\"duration\": 0, \"redraw\": true}, \"fromcurrent\": true, \"mode\": \"immediate\", \"transition\": {\"duration\": 0, \"easing\": \"linear\"}}], \"label\": \"2017\", \"method\": \"animate\"}, {\"args\": [[\"2018\"], {\"frame\": {\"duration\": 0, \"redraw\": true}, \"fromcurrent\": true, \"mode\": \"immediate\", \"transition\": {\"duration\": 0, \"easing\": \"linear\"}}], \"label\": \"2018\", \"method\": \"animate\"}, {\"args\": [[\"2019\"], {\"frame\": {\"duration\": 0, \"redraw\": true}, \"fromcurrent\": true, \"mode\": \"immediate\", \"transition\": {\"duration\": 0, \"easing\": \"linear\"}}], \"label\": \"2019\", \"method\": \"animate\"}, {\"args\": [[\"2020\"], {\"frame\": {\"duration\": 0, \"redraw\": true}, \"fromcurrent\": true, \"mode\": \"immediate\", \"transition\": {\"duration\": 0, \"easing\": \"linear\"}}], \"label\": \"2020\", \"method\": \"animate\"}, {\"args\": [[\"2021\"], {\"frame\": {\"duration\": 0, \"redraw\": true}, \"fromcurrent\": true, \"mode\": \"immediate\", \"transition\": {\"duration\": 0, \"easing\": \"linear\"}}], \"label\": \"2021\", \"method\": \"animate\"}], \"x\": 0.1, \"xanchor\": \"left\", \"y\": 0, \"yanchor\": \"top\"}], \"template\": {\"data\": {\"bar\": [{\"error_x\": {\"color\": \"#2a3f5f\"}, \"error_y\": {\"color\": \"#2a3f5f\"}, \"marker\": {\"line\": {\"color\": \"#E5ECF6\", \"width\": 0.5}}, \"type\": \"bar\"}], \"barpolar\": [{\"marker\": {\"line\": {\"color\": \"#E5ECF6\", \"width\": 0.5}}, \"type\": \"barpolar\"}], \"carpet\": [{\"aaxis\": {\"endlinecolor\": \"#2a3f5f\", \"gridcolor\": \"white\", \"linecolor\": \"white\", \"minorgridcolor\": \"white\", \"startlinecolor\": \"#2a3f5f\"}, \"baxis\": {\"endlinecolor\": \"#2a3f5f\", \"gridcolor\": \"white\", \"linecolor\": \"white\", \"minorgridcolor\": \"white\", \"startlinecolor\": \"#2a3f5f\"}, \"type\": \"carpet\"}], \"choropleth\": [{\"colorbar\": {\"outlinewidth\": 0, \"ticks\": \"\"}, \"type\": \"choropleth\"}], \"contour\": [{\"colorbar\": {\"outlinewidth\": 0, \"ticks\": \"\"}, \"colorscale\": [[0.0, \"#0d0887\"], [0.1111111111111111, \"#46039f\"], [0.2222222222222222, \"#7201a8\"], [0.3333333333333333, \"#9c179e\"], [0.4444444444444444, \"#bd3786\"], [0.5555555555555556, \"#d8576b\"], [0.6666666666666666, \"#ed7953\"], [0.7777777777777778, \"#fb9f3a\"], [0.8888888888888888, \"#fdca26\"], [1.0, \"#f0f921\"]], \"type\": \"contour\"}], \"contourcarpet\": [{\"colorbar\": {\"outlinewidth\": 0, \"ticks\": \"\"}, \"type\": \"contourcarpet\"}], \"heatmap\": [{\"colorbar\": {\"outlinewidth\": 0, \"ticks\": \"\"}, \"colorscale\": [[0.0, \"#0d0887\"], [0.1111111111111111, \"#46039f\"], [0.2222222222222222, \"#7201a8\"], [0.3333333333333333, \"#9c179e\"], [0.4444444444444444, \"#bd3786\"], [0.5555555555555556, \"#d8576b\"], [0.6666666666666666, \"#ed7953\"], [0.7777777777777778, \"#fb9f3a\"], [0.8888888888888888, \"#fdca26\"], [1.0, \"#f0f921\"]], \"type\": \"heatmap\"}], \"heatmapgl\": [{\"colorbar\": {\"outlinewidth\": 0, \"ticks\": \"\"}, \"colorscale\": [[0.0, \"#0d0887\"], [0.1111111111111111, \"#46039f\"], [0.2222222222222222, \"#7201a8\"], [0.3333333333333333, \"#9c179e\"], [0.4444444444444444, \"#bd3786\"], [0.5555555555555556, \"#d8576b\"], [0.6666666666666666, \"#ed7953\"], [0.7777777777777778, \"#fb9f3a\"], [0.8888888888888888, \"#fdca26\"], [1.0, \"#f0f921\"]], \"type\": \"heatmapgl\"}], \"histogram\": [{\"marker\": {\"colorbar\": {\"outlinewidth\": 0, \"ticks\": \"\"}}, \"type\": \"histogram\"}], \"histogram2d\": [{\"colorbar\": {\"outlinewidth\": 0, \"ticks\": \"\"}, \"colorscale\": [[0.0, \"#0d0887\"], [0.1111111111111111, \"#46039f\"], [0.2222222222222222, \"#7201a8\"], [0.3333333333333333, \"#9c179e\"], [0.4444444444444444, \"#bd3786\"], [0.5555555555555556, \"#d8576b\"], [0.6666666666666666, \"#ed7953\"], [0.7777777777777778, \"#fb9f3a\"], [0.8888888888888888, \"#fdca26\"], [1.0, \"#f0f921\"]], \"type\": \"histogram2d\"}], \"histogram2dcontour\": [{\"colorbar\": {\"outlinewidth\": 0, \"ticks\": \"\"}, \"colorscale\": [[0.0, \"#0d0887\"], [0.1111111111111111, \"#46039f\"], [0.2222222222222222, \"#7201a8\"], [0.3333333333333333, \"#9c179e\"], [0.4444444444444444, \"#bd3786\"], [0.5555555555555556, \"#d8576b\"], [0.6666666666666666, \"#ed7953\"], [0.7777777777777778, \"#fb9f3a\"], [0.8888888888888888, \"#fdca26\"], [1.0, \"#f0f921\"]], \"type\": \"histogram2dcontour\"}], \"mesh3d\": [{\"colorbar\": {\"outlinewidth\": 0, \"ticks\": \"\"}, \"type\": \"mesh3d\"}], \"parcoords\": [{\"line\": {\"colorbar\": {\"outlinewidth\": 0, \"ticks\": \"\"}}, \"type\": \"parcoords\"}], \"pie\": [{\"automargin\": true, \"type\": \"pie\"}], \"scatter\": [{\"marker\": {\"colorbar\": {\"outlinewidth\": 0, \"ticks\": \"\"}}, \"type\": \"scatter\"}], \"scatter3d\": [{\"line\": {\"colorbar\": {\"outlinewidth\": 0, \"ticks\": \"\"}}, \"marker\": {\"colorbar\": {\"outlinewidth\": 0, \"ticks\": \"\"}}, \"type\": \"scatter3d\"}], \"scattercarpet\": [{\"marker\": {\"colorbar\": {\"outlinewidth\": 0, \"ticks\": \"\"}}, \"type\": \"scattercarpet\"}], \"scattergeo\": [{\"marker\": {\"colorbar\": {\"outlinewidth\": 0, \"ticks\": \"\"}}, \"type\": \"scattergeo\"}], \"scattergl\": [{\"marker\": {\"colorbar\": {\"outlinewidth\": 0, \"ticks\": \"\"}}, \"type\": \"scattergl\"}], \"scattermapbox\": [{\"marker\": {\"colorbar\": {\"outlinewidth\": 0, \"ticks\": \"\"}}, \"type\": \"scattermapbox\"}], \"scatterpolar\": [{\"marker\": {\"colorbar\": {\"outlinewidth\": 0, \"ticks\": \"\"}}, \"type\": \"scatterpolar\"}], \"scatterpolargl\": [{\"marker\": {\"colorbar\": {\"outlinewidth\": 0, \"ticks\": \"\"}}, \"type\": \"scatterpolargl\"}], \"scatterternary\": [{\"marker\": {\"colorbar\": {\"outlinewidth\": 0, \"ticks\": \"\"}}, \"type\": \"scatterternary\"}], \"surface\": [{\"colorbar\": {\"outlinewidth\": 0, \"ticks\": \"\"}, \"colorscale\": [[0.0, \"#0d0887\"], [0.1111111111111111, \"#46039f\"], [0.2222222222222222, \"#7201a8\"], [0.3333333333333333, \"#9c179e\"], [0.4444444444444444, \"#bd3786\"], [0.5555555555555556, \"#d8576b\"], [0.6666666666666666, \"#ed7953\"], [0.7777777777777778, \"#fb9f3a\"], [0.8888888888888888, \"#fdca26\"], [1.0, \"#f0f921\"]], \"type\": \"surface\"}], \"table\": [{\"cells\": {\"fill\": {\"color\": \"#EBF0F8\"}, \"line\": {\"color\": \"white\"}}, \"header\": {\"fill\": {\"color\": \"#C8D4E3\"}, \"line\": {\"color\": \"white\"}}, \"type\": \"table\"}]}, \"layout\": {\"annotationdefaults\": {\"arrowcolor\": \"#2a3f5f\", \"arrowhead\": 0, \"arrowwidth\": 1}, \"autotypenumbers\": \"strict\", \"coloraxis\": {\"colorbar\": {\"outlinewidth\": 0, \"ticks\": \"\"}}, \"colorscale\": {\"diverging\": [[0, \"#8e0152\"], [0.1, \"#c51b7d\"], [0.2, \"#de77ae\"], [0.3, \"#f1b6da\"], [0.4, \"#fde0ef\"], [0.5, \"#f7f7f7\"], [0.6, \"#e6f5d0\"], [0.7, \"#b8e186\"], [0.8, \"#7fbc41\"], [0.9, \"#4d9221\"], [1, \"#276419\"]], \"sequential\": [[0.0, \"#0d0887\"], [0.1111111111111111, \"#46039f\"], [0.2222222222222222, \"#7201a8\"], [0.3333333333333333, \"#9c179e\"], [0.4444444444444444, \"#bd3786\"], [0.5555555555555556, \"#d8576b\"], [0.6666666666666666, \"#ed7953\"], [0.7777777777777778, \"#fb9f3a\"], [0.8888888888888888, \"#fdca26\"], [1.0, \"#f0f921\"]], \"sequentialminus\": [[0.0, \"#0d0887\"], [0.1111111111111111, \"#46039f\"], [0.2222222222222222, \"#7201a8\"], [0.3333333333333333, \"#9c179e\"], [0.4444444444444444, \"#bd3786\"], [0.5555555555555556, \"#d8576b\"], [0.6666666666666666, \"#ed7953\"], [0.7777777777777778, \"#fb9f3a\"], [0.8888888888888888, \"#fdca26\"], [1.0, \"#f0f921\"]]}, \"colorway\": [\"#636efa\", \"#EF553B\", \"#00cc96\", \"#ab63fa\", \"#FFA15A\", \"#19d3f3\", \"#FF6692\", \"#B6E880\", \"#FF97FF\", \"#FECB52\"], \"font\": {\"color\": \"#2a3f5f\"}, \"geo\": {\"bgcolor\": \"white\", \"lakecolor\": \"white\", \"landcolor\": \"#E5ECF6\", \"showlakes\": true, \"showland\": true, \"subunitcolor\": \"white\"}, \"hoverlabel\": {\"align\": \"left\"}, \"hovermode\": \"closest\", \"mapbox\": {\"style\": \"light\"}, \"paper_bgcolor\": \"white\", \"plot_bgcolor\": \"#E5ECF6\", \"polar\": {\"angularaxis\": {\"gridcolor\": \"white\", \"linecolor\": \"white\", \"ticks\": \"\"}, \"bgcolor\": \"#E5ECF6\", \"radialaxis\": {\"gridcolor\": \"white\", \"linecolor\": \"white\", \"ticks\": \"\"}}, \"scene\": {\"xaxis\": {\"backgroundcolor\": \"#E5ECF6\", \"gridcolor\": \"white\", \"gridwidth\": 2, \"linecolor\": \"white\", \"showbackground\": true, \"ticks\": \"\", \"zerolinecolor\": \"white\"}, \"yaxis\": {\"backgroundcolor\": \"#E5ECF6\", \"gridcolor\": \"white\", \"gridwidth\": 2, \"linecolor\": \"white\", \"showbackground\": true, \"ticks\": \"\", \"zerolinecolor\": \"white\"}, \"zaxis\": {\"backgroundcolor\": \"#E5ECF6\", \"gridcolor\": \"white\", \"gridwidth\": 2, \"linecolor\": \"white\", \"showbackground\": true, \"ticks\": \"\", \"zerolinecolor\": \"white\"}}, \"shapedefaults\": {\"line\": {\"color\": \"#2a3f5f\"}}, \"ternary\": {\"aaxis\": {\"gridcolor\": \"white\", \"linecolor\": \"white\", \"ticks\": \"\"}, \"baxis\": {\"gridcolor\": \"white\", \"linecolor\": \"white\", \"ticks\": \"\"}, \"bgcolor\": \"#E5ECF6\", \"caxis\": {\"gridcolor\": \"white\", \"linecolor\": \"white\", \"ticks\": \"\"}}, \"title\": {\"x\": 0.05}, \"xaxis\": {\"automargin\": true, \"gridcolor\": \"white\", \"linecolor\": \"white\", \"ticks\": \"\", \"title\": {\"standoff\": 15}, \"zerolinecolor\": \"white\", \"zerolinewidth\": 2}, \"yaxis\": {\"automargin\": true, \"gridcolor\": \"white\", \"linecolor\": \"white\", \"ticks\": \"\", \"title\": {\"standoff\": 15}, \"zerolinecolor\": \"white\", \"zerolinewidth\": 2}}}, \"title\": {\"text\": \"Incidents per District\"}, \"updatemenus\": [{\"buttons\": [{\"args\": [null, {\"frame\": {\"duration\": 500, \"redraw\": true}, \"fromcurrent\": true, \"mode\": \"immediate\", \"transition\": {\"duration\": 500, \"easing\": \"linear\"}}], \"label\": \"&#9654;\", \"method\": \"animate\"}, {\"args\": [[null], {\"frame\": {\"duration\": 0, \"redraw\": true}, \"fromcurrent\": true, \"mode\": \"immediate\", \"transition\": {\"duration\": 0, \"easing\": \"linear\"}}], \"label\": \"&#9724;\", \"method\": \"animate\"}], \"direction\": \"left\", \"pad\": {\"r\": 10, \"t\": 70}, \"showactive\": false, \"type\": \"buttons\", \"x\": 0.1, \"xanchor\": \"right\", \"y\": 0, \"yanchor\": \"top\"}], \"xaxis\": {\"anchor\": \"y\", \"domain\": [0.0, 1.0], \"title\": {\"text\": \"District\"}}, \"yaxis\": {\"anchor\": \"x\", \"domain\": [0.0, 1.0], \"range\": [0, 50], \"title\": {\"text\": \"count\"}}},                        {\"responsive\": true}                    ).then(function(){\n",
       "                            Plotly.addFrames('f60b2107-2e22-40af-938e-ba3d274e62e7', [{\"data\": [{\"alignmentgroup\": \"True\", \"hovertemplate\": \"<b>%{hovertext}</b><br><br>type of incident=physical attack<br>year=2014<br>District=%{x}<br>count=%{y}<extra></extra>\", \"hovertext\": [\"physical attack\", \"physical attack\", \"physical attack\", \"physical attack\", \"physical attack\", \"physical attack\", \"physical attack\", \"physical attack\"], \"ids\": [\"Charlottenburg-Wilmersdorf\", \"Friedrichshain-Kreuzberg\", \"Marzahn-Hellersdorf\", \"Mitte\", \"Neuk\\u00f6lln\", \"Pankow\", \"Spandau\", \"Tempelhof-Sch\\u00f6neberg\"], \"legendgroup\": \"physical attack\", \"marker\": {\"color\": \"#636efa\"}, \"name\": \"physical attack\", \"offsetgroup\": \"physical attack\", \"orientation\": \"v\", \"showlegend\": true, \"textposition\": \"auto\", \"x\": [\"Charlottenburg-Wilmersdorf\", \"Friedrichshain-Kreuzberg\", \"Marzahn-Hellersdorf\", \"Mitte\", \"Neuk\\u00f6lln\", \"Pankow\", \"Spandau\", \"Tempelhof-Sch\\u00f6neberg\"], \"xaxis\": \"x\", \"y\": [2, 1, 1, 7, 1, 2, 1, 5], \"yaxis\": \"y\", \"type\": \"bar\"}, {\"alignmentgroup\": \"True\", \"hovertemplate\": \"<b>%{hovertext}</b><br><br>type of incident=verbal attack<br>year=2014<br>District=%{x}<br>count=%{y}<extra></extra>\", \"hovertext\": [\"verbal attack\", \"verbal attack\", \"verbal attack\", \"verbal attack\", \"verbal attack\"], \"ids\": [\"Friedrichshain-Kreuzberg\", \"Marzahn-Hellersdorf\", \"Mitte\", \"Neuk\\u00f6lln\", \"Pankow\"], \"legendgroup\": \"verbal attack\", \"marker\": {\"color\": \"#EF553B\"}, \"name\": \"verbal attack\", \"offsetgroup\": \"verbal attack\", \"orientation\": \"v\", \"showlegend\": true, \"textposition\": \"auto\", \"x\": [\"Friedrichshain-Kreuzberg\", \"Marzahn-Hellersdorf\", \"Mitte\", \"Neuk\\u00f6lln\", \"Pankow\"], \"xaxis\": \"x\", \"y\": [6, 1, 1, 3, 1], \"yaxis\": \"y\", \"type\": \"bar\"}, {\"alignmentgroup\": \"True\", \"hovertemplate\": \"<b>%{hovertext}</b><br><br>type of incident=vandalism<br>year=2014<br>District=%{x}<br>count=%{y}<extra></extra>\", \"hovertext\": [\"vandalism\"], \"ids\": [\"Mitte\"], \"legendgroup\": \"vandalism\", \"marker\": {\"color\": \"#00cc96\"}, \"name\": \"vandalism\", \"offsetgroup\": \"vandalism\", \"orientation\": \"v\", \"showlegend\": true, \"textposition\": \"auto\", \"x\": [\"Mitte\"], \"xaxis\": \"x\", \"y\": [1], \"yaxis\": \"y\", \"type\": \"bar\"}, {\"alignmentgroup\": \"True\", \"hovertemplate\": \"<b>%{hovertext}</b><br><br>type of incident=discrimination<br>year=2014<br>District=%{x}<br>count=%{y}<extra></extra>\", \"hovertext\": [\"discrimination\"], \"ids\": [\"Pankow\"], \"legendgroup\": \"discrimination\", \"marker\": {\"color\": \"#ab63fa\"}, \"name\": \"discrimination\", \"offsetgroup\": \"discrimination\", \"orientation\": \"v\", \"showlegend\": true, \"textposition\": \"auto\", \"x\": [\"Pankow\"], \"xaxis\": \"x\", \"y\": [1], \"yaxis\": \"y\", \"type\": \"bar\"}], \"name\": \"2014\"}, {\"data\": [{\"alignmentgroup\": \"True\", \"hovertemplate\": \"<b>%{hovertext}</b><br><br>type of incident=physical attack<br>year=2015<br>District=%{x}<br>count=%{y}<extra></extra>\", \"hovertext\": [\"physical attack\", \"physical attack\", \"physical attack\", \"physical attack\", \"physical attack\", \"physical attack\", \"physical attack\", \"physical attack\", \"physical attack\", \"physical attack\", \"physical attack\"], \"ids\": [\"Charlottenburg-Wilmersdorf\", \"Friedrichshain-Kreuzberg\", \"Lichtenberg\", \"Marzahn-Hellersdorf\", \"Mitte\", \"Neuk\\u00f6lln\", \"Pankow\", \"Reinickendorf\", \"Steglitz-Zehlendorf\", \"Tempelhof-Sch\\u00f6neberg\", \"Treptow-K\\u00f6penick\"], \"legendgroup\": \"physical attack\", \"marker\": {\"color\": \"#636efa\"}, \"name\": \"physical attack\", \"offsetgroup\": \"physical attack\", \"orientation\": \"v\", \"showlegend\": true, \"textposition\": \"auto\", \"x\": [\"Charlottenburg-Wilmersdorf\", \"Friedrichshain-Kreuzberg\", \"Lichtenberg\", \"Marzahn-Hellersdorf\", \"Mitte\", \"Neuk\\u00f6lln\", \"Pankow\", \"Reinickendorf\", \"Steglitz-Zehlendorf\", \"Tempelhof-Sch\\u00f6neberg\", \"Treptow-K\\u00f6penick\"], \"xaxis\": \"x\", \"y\": [3, 7, 1, 1, 9, 1, 1, 1, 1, 7, 1], \"yaxis\": \"y\", \"type\": \"bar\"}, {\"alignmentgroup\": \"True\", \"hovertemplate\": \"<b>%{hovertext}</b><br><br>type of incident=verbal attack<br>year=2015<br>District=%{x}<br>count=%{y}<extra></extra>\", \"hovertext\": [\"verbal attack\", \"verbal attack\", \"verbal attack\", \"verbal attack\", \"verbal attack\", \"verbal attack\", \"verbal attack\"], \"ids\": [\"Friedrichshain-Kreuzberg\", \"Mitte\", \"Neuk\\u00f6lln\", \"Pankow\", \"Reinickendorf\", \"Steglitz-Zehlendorf\", \"Tempelhof-Sch\\u00f6neberg\"], \"legendgroup\": \"verbal attack\", \"marker\": {\"color\": \"#EF553B\"}, \"name\": \"verbal attack\", \"offsetgroup\": \"verbal attack\", \"orientation\": \"v\", \"showlegend\": true, \"textposition\": \"auto\", \"x\": [\"Friedrichshain-Kreuzberg\", \"Mitte\", \"Neuk\\u00f6lln\", \"Pankow\", \"Reinickendorf\", \"Steglitz-Zehlendorf\", \"Tempelhof-Sch\\u00f6neberg\"], \"xaxis\": \"x\", \"y\": [5, 4, 3, 2, 1, 1, 2], \"yaxis\": \"y\", \"type\": \"bar\"}, {\"alignmentgroup\": \"True\", \"hovertemplate\": \"<b>%{hovertext}</b><br><br>type of incident=vandalism<br>year=2015<br>District=%{x}<br>count=%{y}<extra></extra>\", \"hovertext\": [\"vandalism\"], \"ids\": [\"Mitte\"], \"legendgroup\": \"vandalism\", \"marker\": {\"color\": \"#00cc96\"}, \"name\": \"vandalism\", \"offsetgroup\": \"vandalism\", \"orientation\": \"v\", \"showlegend\": true, \"textposition\": \"auto\", \"x\": [\"Mitte\"], \"xaxis\": \"x\", \"y\": [1], \"yaxis\": \"y\", \"type\": \"bar\"}, {\"alignmentgroup\": \"True\", \"hovertemplate\": \"<b>%{hovertext}</b><br><br>type of incident=discrimination<br>year=2015<br>District=%{x}<br>count=%{y}<extra></extra>\", \"hovertext\": [\"discrimination\"], \"ids\": [\"Treptow-K\\u00f6penick\"], \"legendgroup\": \"discrimination\", \"marker\": {\"color\": \"#ab63fa\"}, \"name\": \"discrimination\", \"offsetgroup\": \"discrimination\", \"orientation\": \"v\", \"showlegend\": true, \"textposition\": \"auto\", \"x\": [\"Treptow-K\\u00f6penick\"], \"xaxis\": \"x\", \"y\": [1], \"yaxis\": \"y\", \"type\": \"bar\"}, {\"alignmentgroup\": \"True\", \"hovertemplate\": \"<b>%{hovertext}</b><br><br>type of incident=propaganda<br>year=2015<br>District=%{x}<br>count=%{y}<extra></extra>\", \"hovertext\": [\"propaganda\"], \"ids\": [\"Lichtenberg\"], \"legendgroup\": \"propaganda\", \"marker\": {\"color\": \"#FFA15A\"}, \"name\": \"propaganda\", \"offsetgroup\": \"propaganda\", \"orientation\": \"v\", \"showlegend\": true, \"textposition\": \"auto\", \"x\": [\"Lichtenberg\"], \"xaxis\": \"x\", \"y\": [1], \"yaxis\": \"y\", \"type\": \"bar\"}], \"name\": \"2015\"}, {\"data\": [{\"alignmentgroup\": \"True\", \"hovertemplate\": \"<b>%{hovertext}</b><br><br>type of incident=physical attack<br>year=2016<br>District=%{x}<br>count=%{y}<extra></extra>\", \"hovertext\": [\"physical attack\", \"physical attack\", \"physical attack\", \"physical attack\", \"physical attack\", \"physical attack\", \"physical attack\", \"physical attack\", \"physical attack\", \"physical attack\", \"physical attack\"], \"ids\": [\"Friedrichshain-Kreuzberg\", \"Lichtenberg\", \"Marzahn-Hellersdorf\", \"Mitte\", \"Neuk\\u00f6lln\", \"Pankow\", \"Reinickendorf\", \"Spandau\", \"Steglitz-Zehlendorf\", \"Tempelhof-Sch\\u00f6neberg\", \"Treptow-K\\u00f6penick\"], \"legendgroup\": \"physical attack\", \"marker\": {\"color\": \"#636efa\"}, \"name\": \"physical attack\", \"offsetgroup\": \"physical attack\", \"orientation\": \"v\", \"showlegend\": true, \"textposition\": \"auto\", \"x\": [\"Friedrichshain-Kreuzberg\", \"Lichtenberg\", \"Marzahn-Hellersdorf\", \"Mitte\", \"Neuk\\u00f6lln\", \"Pankow\", \"Reinickendorf\", \"Spandau\", \"Steglitz-Zehlendorf\", \"Tempelhof-Sch\\u00f6neberg\", \"Treptow-K\\u00f6penick\"], \"xaxis\": \"x\", \"y\": [12, 1, 2, 17, 11, 3, 1, 2, 1, 5, 2], \"yaxis\": \"y\", \"type\": \"bar\"}, {\"alignmentgroup\": \"True\", \"hovertemplate\": \"<b>%{hovertext}</b><br><br>type of incident=verbal attack<br>year=2016<br>District=%{x}<br>count=%{y}<extra></extra>\", \"hovertext\": [\"verbal attack\", \"verbal attack\", \"verbal attack\", \"verbal attack\", \"verbal attack\", \"verbal attack\", \"verbal attack\", \"verbal attack\", \"verbal attack\", \"verbal attack\"], \"ids\": [\"Charlottenburg-Wilmersdorf\", \"Friedrichshain-Kreuzberg\", \"Marzahn-Hellersdorf\", \"Mitte\", \"Neuk\\u00f6lln\", \"Pankow\", \"Reinickendorf\", \"Spandau\", \"Steglitz-Zehlendorf\", \"Tempelhof-Sch\\u00f6neberg\"], \"legendgroup\": \"verbal attack\", \"marker\": {\"color\": \"#EF553B\"}, \"name\": \"verbal attack\", \"offsetgroup\": \"verbal attack\", \"orientation\": \"v\", \"showlegend\": true, \"textposition\": \"auto\", \"x\": [\"Charlottenburg-Wilmersdorf\", \"Friedrichshain-Kreuzberg\", \"Marzahn-Hellersdorf\", \"Mitte\", \"Neuk\\u00f6lln\", \"Pankow\", \"Reinickendorf\", \"Spandau\", \"Steglitz-Zehlendorf\", \"Tempelhof-Sch\\u00f6neberg\"], \"xaxis\": \"x\", \"y\": [3, 3, 5, 4, 3, 1, 1, 1, 1, 6], \"yaxis\": \"y\", \"type\": \"bar\"}, {\"alignmentgroup\": \"True\", \"hovertemplate\": \"<b>%{hovertext}</b><br><br>type of incident=vandalism<br>year=2016<br>District=%{x}<br>count=%{y}<extra></extra>\", \"hovertext\": [\"vandalism\", \"vandalism\", \"vandalism\"], \"ids\": [\"Friedrichshain-Kreuzberg\", \"Mitte\", \"Reinickendorf\"], \"legendgroup\": \"vandalism\", \"marker\": {\"color\": \"#00cc96\"}, \"name\": \"vandalism\", \"offsetgroup\": \"vandalism\", \"orientation\": \"v\", \"showlegend\": true, \"textposition\": \"auto\", \"x\": [\"Friedrichshain-Kreuzberg\", \"Mitte\", \"Reinickendorf\"], \"xaxis\": \"x\", \"y\": [1, 1, 2], \"yaxis\": \"y\", \"type\": \"bar\"}], \"name\": \"2016\"}, {\"data\": [{\"alignmentgroup\": \"True\", \"hovertemplate\": \"<b>%{hovertext}</b><br><br>type of incident=physical attack<br>year=2017<br>District=%{x}<br>count=%{y}<extra></extra>\", \"hovertext\": [\"physical attack\", \"physical attack\", \"physical attack\", \"physical attack\", \"physical attack\", \"physical attack\", \"physical attack\", \"physical attack\", \"physical attack\", \"physical attack\", \"physical attack\"], \"ids\": [\"Charlottenburg-Wilmersdorf\", \"Friedrichshain-Kreuzberg\", \"Lichtenberg\", \"Marzahn-Hellersdorf\", \"Mitte\", \"Neuk\\u00f6lln\", \"Pankow\", \"Reinickendorf\", \"Spandau\", \"Tempelhof-Sch\\u00f6neberg\", \"Treptow-K\\u00f6penick\"], \"legendgroup\": \"physical attack\", \"marker\": {\"color\": \"#636efa\"}, \"name\": \"physical attack\", \"offsetgroup\": \"physical attack\", \"orientation\": \"v\", \"showlegend\": true, \"textposition\": \"auto\", \"x\": [\"Charlottenburg-Wilmersdorf\", \"Friedrichshain-Kreuzberg\", \"Lichtenberg\", \"Marzahn-Hellersdorf\", \"Mitte\", \"Neuk\\u00f6lln\", \"Pankow\", \"Reinickendorf\", \"Spandau\", \"Tempelhof-Sch\\u00f6neberg\", \"Treptow-K\\u00f6penick\"], \"xaxis\": \"x\", \"y\": [1, 4, 3, 2, 18, 9, 3, 3, 1, 11, 1], \"yaxis\": \"y\", \"type\": \"bar\"}, {\"alignmentgroup\": \"True\", \"hovertemplate\": \"<b>%{hovertext}</b><br><br>type of incident=verbal attack<br>year=2017<br>District=%{x}<br>count=%{y}<extra></extra>\", \"hovertext\": [\"verbal attack\", \"verbal attack\", \"verbal attack\", \"verbal attack\", \"verbal attack\", \"verbal attack\", \"verbal attack\", \"verbal attack\", \"verbal attack\", \"verbal attack\", \"verbal attack\"], \"ids\": [\"Charlottenburg-Wilmersdorf\", \"Friedrichshain-Kreuzberg\", \"Lichtenberg\", \"Marzahn-Hellersdorf\", \"Mitte\", \"Neuk\\u00f6lln\", \"Pankow\", \"Reinickendorf\", \"Spandau\", \"Tempelhof-Sch\\u00f6neberg\", \"Treptow-K\\u00f6penick\"], \"legendgroup\": \"verbal attack\", \"marker\": {\"color\": \"#EF553B\"}, \"name\": \"verbal attack\", \"offsetgroup\": \"verbal attack\", \"orientation\": \"v\", \"showlegend\": true, \"textposition\": \"auto\", \"x\": [\"Charlottenburg-Wilmersdorf\", \"Friedrichshain-Kreuzberg\", \"Lichtenberg\", \"Marzahn-Hellersdorf\", \"Mitte\", \"Neuk\\u00f6lln\", \"Pankow\", \"Reinickendorf\", \"Spandau\", \"Tempelhof-Sch\\u00f6neberg\", \"Treptow-K\\u00f6penick\"], \"xaxis\": \"x\", \"y\": [2, 5, 2, 1, 1, 7, 3, 1, 1, 4, 3], \"yaxis\": \"y\", \"type\": \"bar\"}, {\"alignmentgroup\": \"True\", \"hovertemplate\": \"<b>%{hovertext}</b><br><br>type of incident=vandalism<br>year=2017<br>District=%{x}<br>count=%{y}<extra></extra>\", \"hovertext\": [\"vandalism\"], \"ids\": [\"Mitte\"], \"legendgroup\": \"vandalism\", \"marker\": {\"color\": \"#00cc96\"}, \"name\": \"vandalism\", \"offsetgroup\": \"vandalism\", \"orientation\": \"v\", \"showlegend\": true, \"textposition\": \"auto\", \"x\": [\"Mitte\"], \"xaxis\": \"x\", \"y\": [1], \"yaxis\": \"y\", \"type\": \"bar\"}, {\"alignmentgroup\": \"True\", \"hovertemplate\": \"<b>%{hovertext}</b><br><br>type of incident=propaganda<br>year=2017<br>District=%{x}<br>count=%{y}<extra></extra>\", \"hovertext\": [\"propaganda\", \"propaganda\"], \"ids\": [\"Lichtenberg\", \"Treptow-K\\u00f6penick\"], \"legendgroup\": \"propaganda\", \"marker\": {\"color\": \"#FFA15A\"}, \"name\": \"propaganda\", \"offsetgroup\": \"propaganda\", \"orientation\": \"v\", \"showlegend\": true, \"textposition\": \"auto\", \"x\": [\"Lichtenberg\", \"Treptow-K\\u00f6penick\"], \"xaxis\": \"x\", \"y\": [3, 2], \"yaxis\": \"y\", \"type\": \"bar\"}], \"name\": \"2017\"}, {\"data\": [{\"alignmentgroup\": \"True\", \"hovertemplate\": \"<b>%{hovertext}</b><br><br>type of incident=physical attack<br>year=2018<br>District=%{x}<br>count=%{y}<extra></extra>\", \"hovertext\": [\"physical attack\", \"physical attack\", \"physical attack\", \"physical attack\", \"physical attack\", \"physical attack\", \"physical attack\", \"physical attack\", \"physical attack\"], \"ids\": [\"Charlottenburg-Wilmersdorf\", \"Friedrichshain-Kreuzberg\", \"Lichtenberg\", \"Mitte\", \"Neuk\\u00f6lln\", \"Pankow\", \"Reinickendorf\", \"Tempelhof-Sch\\u00f6neberg\", \"Treptow-K\\u00f6penick\"], \"legendgroup\": \"physical attack\", \"marker\": {\"color\": \"#636efa\"}, \"name\": \"physical attack\", \"offsetgroup\": \"physical attack\", \"orientation\": \"v\", \"showlegend\": true, \"textposition\": \"auto\", \"x\": [\"Charlottenburg-Wilmersdorf\", \"Friedrichshain-Kreuzberg\", \"Lichtenberg\", \"Mitte\", \"Neuk\\u00f6lln\", \"Pankow\", \"Reinickendorf\", \"Tempelhof-Sch\\u00f6neberg\", \"Treptow-K\\u00f6penick\"], \"xaxis\": \"x\", \"y\": [2, 9, 2, 19, 13, 4, 1, 4, 3], \"yaxis\": \"y\", \"type\": \"bar\"}, {\"alignmentgroup\": \"True\", \"hovertemplate\": \"<b>%{hovertext}</b><br><br>type of incident=verbal attack<br>year=2018<br>District=%{x}<br>count=%{y}<extra></extra>\", \"hovertext\": [\"verbal attack\", \"verbal attack\", \"verbal attack\", \"verbal attack\", \"verbal attack\", \"verbal attack\", \"verbal attack\", \"verbal attack\", \"verbal attack\"], \"ids\": [\"Charlottenburg-Wilmersdorf\", \"Friedrichshain-Kreuzberg\", \"Marzahn-Hellersdorf\", \"Mitte\", \"Neuk\\u00f6lln\", \"Reinickendorf\", \"Steglitz-Zehlendorf\", \"Tempelhof-Sch\\u00f6neberg\", \"Treptow-K\\u00f6penick\"], \"legendgroup\": \"verbal attack\", \"marker\": {\"color\": \"#EF553B\"}, \"name\": \"verbal attack\", \"offsetgroup\": \"verbal attack\", \"orientation\": \"v\", \"showlegend\": true, \"textposition\": \"auto\", \"x\": [\"Charlottenburg-Wilmersdorf\", \"Friedrichshain-Kreuzberg\", \"Marzahn-Hellersdorf\", \"Mitte\", \"Neuk\\u00f6lln\", \"Reinickendorf\", \"Steglitz-Zehlendorf\", \"Tempelhof-Sch\\u00f6neberg\", \"Treptow-K\\u00f6penick\"], \"xaxis\": \"x\", \"y\": [2, 9, 4, 4, 9, 1, 1, 3, 2], \"yaxis\": \"y\", \"type\": \"bar\"}, {\"alignmentgroup\": \"True\", \"hovertemplate\": \"<b>%{hovertext}</b><br><br>type of incident=vandalism<br>year=2018<br>District=%{x}<br>count=%{y}<extra></extra>\", \"hovertext\": [\"vandalism\"], \"ids\": [\"Mitte\"], \"legendgroup\": \"vandalism\", \"marker\": {\"color\": \"#00cc96\"}, \"name\": \"vandalism\", \"offsetgroup\": \"vandalism\", \"orientation\": \"v\", \"showlegend\": true, \"textposition\": \"auto\", \"x\": [\"Mitte\"], \"xaxis\": \"x\", \"y\": [2], \"yaxis\": \"y\", \"type\": \"bar\"}, {\"alignmentgroup\": \"True\", \"hovertemplate\": \"<b>%{hovertext}</b><br><br>type of incident=discrimination<br>year=2018<br>District=%{x}<br>count=%{y}<extra></extra>\", \"hovertext\": [\"discrimination\"], \"ids\": [\"Steglitz-Zehlendorf\"], \"legendgroup\": \"discrimination\", \"marker\": {\"color\": \"#ab63fa\"}, \"name\": \"discrimination\", \"offsetgroup\": \"discrimination\", \"orientation\": \"v\", \"showlegend\": true, \"textposition\": \"auto\", \"x\": [\"Steglitz-Zehlendorf\"], \"xaxis\": \"x\", \"y\": [1], \"yaxis\": \"y\", \"type\": \"bar\"}, {\"alignmentgroup\": \"True\", \"hovertemplate\": \"<b>%{hovertext}</b><br><br>type of incident=propaganda<br>year=2018<br>District=%{x}<br>count=%{y}<extra></extra>\", \"hovertext\": [\"propaganda\"], \"ids\": [\"Treptow-K\\u00f6penick\"], \"legendgroup\": \"propaganda\", \"marker\": {\"color\": \"#FFA15A\"}, \"name\": \"propaganda\", \"offsetgroup\": \"propaganda\", \"orientation\": \"v\", \"showlegend\": true, \"textposition\": \"auto\", \"x\": [\"Treptow-K\\u00f6penick\"], \"xaxis\": \"x\", \"y\": [2], \"yaxis\": \"y\", \"type\": \"bar\"}], \"name\": \"2018\"}, {\"data\": [{\"alignmentgroup\": \"True\", \"hovertemplate\": \"<b>%{hovertext}</b><br><br>type of incident=physical attack<br>year=2019<br>District=%{x}<br>count=%{y}<extra></extra>\", \"hovertext\": [\"physical attack\", \"physical attack\", \"physical attack\", \"physical attack\", \"physical attack\", \"physical attack\", \"physical attack\", \"physical attack\", \"physical attack\", \"physical attack\", \"physical attack\", \"physical attack\"], \"ids\": [\"Charlottenburg-Wilmersdorf\", \"Friedrichshain-Kreuzberg\", \"Lichtenberg\", \"Marzahn-Hellersdorf\", \"Mitte\", \"Neuk\\u00f6lln\", \"Pankow\", \"Reinickendorf\", \"Spandau\", \"Steglitz-Zehlendorf\", \"Tempelhof-Sch\\u00f6neberg\", \"Treptow-K\\u00f6penick\"], \"legendgroup\": \"physical attack\", \"marker\": {\"color\": \"#636efa\"}, \"name\": \"physical attack\", \"offsetgroup\": \"physical attack\", \"orientation\": \"v\", \"showlegend\": true, \"textposition\": \"auto\", \"x\": [\"Charlottenburg-Wilmersdorf\", \"Friedrichshain-Kreuzberg\", \"Lichtenberg\", \"Marzahn-Hellersdorf\", \"Mitte\", \"Neuk\\u00f6lln\", \"Pankow\", \"Reinickendorf\", \"Spandau\", \"Steglitz-Zehlendorf\", \"Tempelhof-Sch\\u00f6neberg\", \"Treptow-K\\u00f6penick\"], \"xaxis\": \"x\", \"y\": [6, 14, 4, 1, 27, 22, 2, 2, 1, 1, 18, 3], \"yaxis\": \"y\", \"type\": \"bar\"}, {\"alignmentgroup\": \"True\", \"hovertemplate\": \"<b>%{hovertext}</b><br><br>type of incident=verbal attack<br>year=2019<br>District=%{x}<br>count=%{y}<extra></extra>\", \"hovertext\": [\"verbal attack\", \"verbal attack\", \"verbal attack\", \"verbal attack\", \"verbal attack\", \"verbal attack\", \"verbal attack\", \"verbal attack\", \"verbal attack\", \"verbal attack\", \"verbal attack\", \"verbal attack\"], \"ids\": [\"Charlottenburg-Wilmersdorf\", \"Friedrichshain-Kreuzberg\", \"Lichtenberg\", \"Marzahn-Hellersdorf\", \"Mitte\", \"Neuk\\u00f6lln\", \"Pankow\", \"Reinickendorf\", \"Spandau\", \"Steglitz-Zehlendorf\", \"Tempelhof-Sch\\u00f6neberg\", \"Treptow-K\\u00f6penick\"], \"legendgroup\": \"verbal attack\", \"marker\": {\"color\": \"#EF553B\"}, \"name\": \"verbal attack\", \"offsetgroup\": \"verbal attack\", \"orientation\": \"v\", \"showlegend\": true, \"textposition\": \"auto\", \"x\": [\"Charlottenburg-Wilmersdorf\", \"Friedrichshain-Kreuzberg\", \"Lichtenberg\", \"Marzahn-Hellersdorf\", \"Mitte\", \"Neuk\\u00f6lln\", \"Pankow\", \"Reinickendorf\", \"Spandau\", \"Steglitz-Zehlendorf\", \"Tempelhof-Sch\\u00f6neberg\", \"Treptow-K\\u00f6penick\"], \"xaxis\": \"x\", \"y\": [3, 10, 2, 1, 10, 3, 1, 4, 2, 2, 5, 6], \"yaxis\": \"y\", \"type\": \"bar\"}, {\"alignmentgroup\": \"True\", \"hovertemplate\": \"<b>%{hovertext}</b><br><br>type of incident=vandalism<br>year=2019<br>District=%{x}<br>count=%{y}<extra></extra>\", \"hovertext\": [\"vandalism\"], \"ids\": [\"Mitte\"], \"legendgroup\": \"vandalism\", \"marker\": {\"color\": \"#00cc96\"}, \"name\": \"vandalism\", \"offsetgroup\": \"vandalism\", \"orientation\": \"v\", \"showlegend\": true, \"textposition\": \"auto\", \"x\": [\"Mitte\"], \"xaxis\": \"x\", \"y\": [8], \"yaxis\": \"y\", \"type\": \"bar\"}, {\"alignmentgroup\": \"True\", \"hovertemplate\": \"<b>%{hovertext}</b><br><br>type of incident=propaganda<br>year=2019<br>District=%{x}<br>count=%{y}<extra></extra>\", \"hovertext\": [\"propaganda\"], \"ids\": [\"Neuk\\u00f6lln\"], \"legendgroup\": \"propaganda\", \"marker\": {\"color\": \"#FFA15A\"}, \"name\": \"propaganda\", \"offsetgroup\": \"propaganda\", \"orientation\": \"v\", \"showlegend\": true, \"textposition\": \"auto\", \"x\": [\"Neuk\\u00f6lln\"], \"xaxis\": \"x\", \"y\": [1], \"yaxis\": \"y\", \"type\": \"bar\"}], \"name\": \"2019\"}, {\"data\": [{\"alignmentgroup\": \"True\", \"hovertemplate\": \"<b>%{hovertext}</b><br><br>type of incident=physical attack<br>year=2020<br>District=%{x}<br>count=%{y}<extra></extra>\", \"hovertext\": [\"physical attack\", \"physical attack\", \"physical attack\", \"physical attack\", \"physical attack\", \"physical attack\", \"physical attack\", \"physical attack\", \"physical attack\", \"physical attack\", \"physical attack\", \"physical attack\"], \"ids\": [\"Charlottenburg-Wilmersdorf\", \"Friedrichshain-Kreuzberg\", \"Lichtenberg\", \"Marzahn-Hellersdorf\", \"Mitte\", \"Neuk\\u00f6lln\", \"Pankow\", \"Reinickendorf\", \"Spandau\", \"Steglitz-Zehlendorf\", \"Tempelhof-Sch\\u00f6neberg\", \"Treptow-K\\u00f6penick\"], \"legendgroup\": \"physical attack\", \"marker\": {\"color\": \"#636efa\"}, \"name\": \"physical attack\", \"offsetgroup\": \"physical attack\", \"orientation\": \"v\", \"showlegend\": true, \"textposition\": \"auto\", \"x\": [\"Charlottenburg-Wilmersdorf\", \"Friedrichshain-Kreuzberg\", \"Lichtenberg\", \"Marzahn-Hellersdorf\", \"Mitte\", \"Neuk\\u00f6lln\", \"Pankow\", \"Reinickendorf\", \"Spandau\", \"Steglitz-Zehlendorf\", \"Tempelhof-Sch\\u00f6neberg\", \"Treptow-K\\u00f6penick\"], \"xaxis\": \"x\", \"y\": [6, 17, 3, 2, 18, 17, 6, 2, 6, 2, 8, 4], \"yaxis\": \"y\", \"type\": \"bar\"}, {\"alignmentgroup\": \"True\", \"hovertemplate\": \"<b>%{hovertext}</b><br><br>type of incident=verbal attack<br>year=2020<br>District=%{x}<br>count=%{y}<extra></extra>\", \"hovertext\": [\"verbal attack\", \"verbal attack\", \"verbal attack\", \"verbal attack\", \"verbal attack\", \"verbal attack\", \"verbal attack\", \"verbal attack\", \"verbal attack\", \"verbal attack\", \"verbal attack\", \"verbal attack\"], \"ids\": [\"Berlinweit\", \"Charlottenburg-Wilmersdorf\", \"Friedrichshain-Kreuzberg\", \"Lichtenberg\", \"Marzahn-Hellersdorf\", \"Mitte\", \"Neuk\\u00f6lln\", \"Pankow\", \"Reinickendorf\", \"Steglitz-Zehlendorf\", \"Tempelhof-Sch\\u00f6neberg\", \"Treptow-K\\u00f6penick\"], \"legendgroup\": \"verbal attack\", \"marker\": {\"color\": \"#EF553B\"}, \"name\": \"verbal attack\", \"offsetgroup\": \"verbal attack\", \"orientation\": \"v\", \"showlegend\": true, \"textposition\": \"auto\", \"x\": [\"Berlinweit\", \"Charlottenburg-Wilmersdorf\", \"Friedrichshain-Kreuzberg\", \"Lichtenberg\", \"Marzahn-Hellersdorf\", \"Mitte\", \"Neuk\\u00f6lln\", \"Pankow\", \"Reinickendorf\", \"Steglitz-Zehlendorf\", \"Tempelhof-Sch\\u00f6neberg\", \"Treptow-K\\u00f6penick\"], \"xaxis\": \"x\", \"y\": [1, 1, 7, 2, 2, 15, 4, 3, 1, 1, 4, 3], \"yaxis\": \"y\", \"type\": \"bar\"}, {\"alignmentgroup\": \"True\", \"hovertemplate\": \"<b>%{hovertext}</b><br><br>type of incident=vandalism<br>year=2020<br>District=%{x}<br>count=%{y}<extra></extra>\", \"hovertext\": [\"vandalism\"], \"ids\": [\"Mitte\"], \"legendgroup\": \"vandalism\", \"marker\": {\"color\": \"#00cc96\"}, \"name\": \"vandalism\", \"offsetgroup\": \"vandalism\", \"orientation\": \"v\", \"showlegend\": true, \"textposition\": \"auto\", \"x\": [\"Mitte\"], \"xaxis\": \"x\", \"y\": [1], \"yaxis\": \"y\", \"type\": \"bar\"}], \"name\": \"2020\"}, {\"data\": [{\"alignmentgroup\": \"True\", \"hovertemplate\": \"<b>%{hovertext}</b><br><br>type of incident=physical attack<br>year=2021<br>District=%{x}<br>count=%{y}<extra></extra>\", \"hovertext\": [\"physical attack\", \"physical attack\", \"physical attack\"], \"ids\": [\"Friedrichshain-Kreuzberg\", \"Neuk\\u00f6lln\", \"Treptow-K\\u00f6penick\"], \"legendgroup\": \"physical attack\", \"marker\": {\"color\": \"#636efa\"}, \"name\": \"physical attack\", \"offsetgroup\": \"physical attack\", \"orientation\": \"v\", \"showlegend\": true, \"textposition\": \"auto\", \"x\": [\"Friedrichshain-Kreuzberg\", \"Neuk\\u00f6lln\", \"Treptow-K\\u00f6penick\"], \"xaxis\": \"x\", \"y\": [1, 1, 1], \"yaxis\": \"y\", \"type\": \"bar\"}, {\"alignmentgroup\": \"True\", \"hovertemplate\": \"<b>%{hovertext}</b><br><br>type of incident=verbal attack<br>year=2021<br>District=%{x}<br>count=%{y}<extra></extra>\", \"hovertext\": [\"verbal attack\", \"verbal attack\", \"verbal attack\", \"verbal attack\", \"verbal attack\", \"verbal attack\", \"verbal attack\"], \"ids\": [\"Charlottenburg-Wilmersdorf\", \"Friedrichshain-Kreuzberg\", \"Mitte\", \"Pankow\", \"Reinickendorf\", \"Spandau\", \"Treptow-K\\u00f6penick\"], \"legendgroup\": \"verbal attack\", \"marker\": {\"color\": \"#EF553B\"}, \"name\": \"verbal attack\", \"offsetgroup\": \"verbal attack\", \"orientation\": \"v\", \"showlegend\": true, \"textposition\": \"auto\", \"x\": [\"Charlottenburg-Wilmersdorf\", \"Friedrichshain-Kreuzberg\", \"Mitte\", \"Pankow\", \"Reinickendorf\", \"Spandau\", \"Treptow-K\\u00f6penick\"], \"xaxis\": \"x\", \"y\": [1, 4, 3, 1, 1, 1, 1], \"yaxis\": \"y\", \"type\": \"bar\"}], \"name\": \"2021\"}]);\n",
       "                        }).then(function(){\n",
       "                            \n",
       "var gd = document.getElementById('f60b2107-2e22-40af-938e-ba3d274e62e7');\n",
       "var x = new MutationObserver(function (mutations, observer) {{\n",
       "        var display = window.getComputedStyle(gd).display;\n",
       "        if (!display || display === 'none') {{\n",
       "            console.log([gd, 'removed!']);\n",
       "            Plotly.purge(gd);\n",
       "            observer.disconnect();\n",
       "        }}\n",
       "}});\n",
       "\n",
       "// Listen for the removal of the full notebook cells\n",
       "var notebookContainer = gd.closest('#notebook-container');\n",
       "if (notebookContainer) {{\n",
       "    x.observe(notebookContainer, {childList: true});\n",
       "}}\n",
       "\n",
       "// Listen for the clearing of the current output cell\n",
       "var outputEl = gd.closest('.output');\n",
       "if (outputEl) {{\n",
       "    x.observe(outputEl, {childList: true});\n",
       "}}\n",
       "\n",
       "                        })                };                });            </script>        </div>"
      ]
     },
     "metadata": {},
     "output_type": "display_data"
    }
   ],
   "source": [
    "fig1 = px.bar(df_barplot_count, x=\"District\", y='count', color=\"type of incident\", hover_name = 'type of incident',\n",
    "              title=\"Incidents per District\", range_y=[0,50], animation_frame=\"year\", animation_group=\"District\")\n",
    "fig1.show()\n",
    "\n",
    "#  animation_frame=\"year\", animation_group=\"type of incident\", range_y=[0,45]"
   ]
  },
  {
   "cell_type": "code",
   "execution_count": null,
   "metadata": {},
   "outputs": [],
   "source": []
  },
  {
   "cell_type": "code",
   "execution_count": null,
   "metadata": {},
   "outputs": [],
   "source": []
  },
  {
   "cell_type": "code",
   "execution_count": 120,
   "metadata": {},
   "outputs": [
    {
     "data": {
      "text/html": [
       "<div>\n",
       "<style scoped>\n",
       "    .dataframe tbody tr th:only-of-type {\n",
       "        vertical-align: middle;\n",
       "    }\n",
       "\n",
       "    .dataframe tbody tr th {\n",
       "        vertical-align: top;\n",
       "    }\n",
       "\n",
       "    .dataframe thead th {\n",
       "        text-align: right;\n",
       "    }\n",
       "</style>\n",
       "<table border=\"1\" class=\"dataframe\">\n",
       "  <thead>\n",
       "    <tr style=\"text-align: right;\">\n",
       "      <th></th>\n",
       "      <th>Date</th>\n",
       "      <th>District</th>\n",
       "      <th>Header</th>\n",
       "      <th>Story</th>\n",
       "      <th>Source</th>\n",
       "      <th>Attack</th>\n",
       "      <th>Propaganda</th>\n",
       "      <th>Structural Discrimination</th>\n",
       "      <th>Material Damage</th>\n",
       "      <th>Reported status</th>\n",
       "      <th>year</th>\n",
       "      <th>type of incident</th>\n",
       "    </tr>\n",
       "  </thead>\n",
       "  <tbody>\n",
       "    <tr>\n",
       "      <th>1707</th>\n",
       "      <td>2014-11-29</td>\n",
       "      <td>Tempelhof-Schöneberg</td>\n",
       "      <td>Angriff aus transphober Motivation</td>\n",
       "      <td>Ein 30-jähriger Mann wird gegen 05.00 Uhr in d...</td>\n",
       "      <td>ReachOut</td>\n",
       "      <td>physical</td>\n",
       "      <td>NaN</td>\n",
       "      <td>NaN</td>\n",
       "      <td>NaN</td>\n",
       "      <td>NaN</td>\n",
       "      <td>2014</td>\n",
       "      <td>physical attack</td>\n",
       "    </tr>\n",
       "    <tr>\n",
       "      <th>1836</th>\n",
       "      <td>2014-10-26</td>\n",
       "      <td>Tempelhof-Schöneberg</td>\n",
       "      <td>Angriff aus transphober Motivation</td>\n",
       "      <td>Am 26.10.14 wird ein 30-jähriger Mann gegen 07...</td>\n",
       "      <td>ReachOut</td>\n",
       "      <td>physical</td>\n",
       "      <td>NaN</td>\n",
       "      <td>NaN</td>\n",
       "      <td>NaN</td>\n",
       "      <td>NaN</td>\n",
       "      <td>2014</td>\n",
       "      <td>physical attack</td>\n",
       "    </tr>\n",
       "    <tr>\n",
       "      <th>1861</th>\n",
       "      <td>2014-10-17</td>\n",
       "      <td>Mitte</td>\n",
       "      <td>LGBQT feindliche Schmiererei entdeckt!</td>\n",
       "      <td>Am Abend gegen 20.10 Uhr stellen Polizeibeamte...</td>\n",
       "      <td>Polizei Berlin</td>\n",
       "      <td>NaN</td>\n",
       "      <td>NaN</td>\n",
       "      <td>NaN</td>\n",
       "      <td>yes</td>\n",
       "      <td>NaN</td>\n",
       "      <td>2014</td>\n",
       "      <td>vandalism</td>\n",
       "    </tr>\n",
       "    <tr>\n",
       "      <th>1874</th>\n",
       "      <td>2014-10-12</td>\n",
       "      <td>Marzahn-Hellersdorf</td>\n",
       "      <td>Menschenfeindliche Parolen beim Sport</td>\n",
       "      <td>Gegen 16:00 Uhr werden Fans des Fußballvereins...</td>\n",
       "      <td>Register Charlottenburg-Wilmersdorf; Antisemit...</td>\n",
       "      <td>verbal</td>\n",
       "      <td>NaN</td>\n",
       "      <td>NaN</td>\n",
       "      <td>NaN</td>\n",
       "      <td>NaN</td>\n",
       "      <td>2014</td>\n",
       "      <td>verbal attack</td>\n",
       "    </tr>\n",
       "    <tr>\n",
       "      <th>1913</th>\n",
       "      <td>2014-10-03</td>\n",
       "      <td>Charlottenburg-Wilmersdorf</td>\n",
       "      <td>Homosexuellenfeindliches Banner bei Stuttgarte...</td>\n",
       "      <td>Am 3. Oktober 2014 hing im Olympiastadion in W...</td>\n",
       "      <td>Fußballfans gegen Homophobie, Hertha-Inside.de</td>\n",
       "      <td>NaN</td>\n",
       "      <td>NaN</td>\n",
       "      <td>NaN</td>\n",
       "      <td>NaN</td>\n",
       "      <td>NaN</td>\n",
       "      <td>2014</td>\n",
       "      <td>NaN</td>\n",
       "    </tr>\n",
       "    <tr>\n",
       "      <th>...</th>\n",
       "      <td>...</td>\n",
       "      <td>...</td>\n",
       "      <td>...</td>\n",
       "      <td>...</td>\n",
       "      <td>...</td>\n",
       "      <td>...</td>\n",
       "      <td>...</td>\n",
       "      <td>...</td>\n",
       "      <td>...</td>\n",
       "      <td>...</td>\n",
       "      <td>...</td>\n",
       "      <td>...</td>\n",
       "    </tr>\n",
       "    <tr>\n",
       "      <th>21900</th>\n",
       "      <td>2021-01-14</td>\n",
       "      <td>Friedrichshain-Kreuzberg</td>\n",
       "      <td>Homophobe Beleidigung während Online-Unterrichts</td>\n",
       "      <td>Ein Lehrer einer Kreuzberger Schule wurde anon...</td>\n",
       "      <td>Bürger*innenmeldung</td>\n",
       "      <td>verbal</td>\n",
       "      <td>NaN</td>\n",
       "      <td>NaN</td>\n",
       "      <td>NaN</td>\n",
       "      <td>NaN</td>\n",
       "      <td>2021</td>\n",
       "      <td>verbal attack</td>\n",
       "    </tr>\n",
       "    <tr>\n",
       "      <th>21930</th>\n",
       "      <td>2021-01-10</td>\n",
       "      <td>Treptow-Köpenick</td>\n",
       "      <td>Extrem rechte Propaganda des 3. Weg in Johanni...</td>\n",
       "      <td>Im Gebiet zwischen Landschaftspark, Gerhard-Se...</td>\n",
       "      <td>Zentrum für Demokratie</td>\n",
       "      <td>NaN</td>\n",
       "      <td>NaN</td>\n",
       "      <td>NaN</td>\n",
       "      <td>NaN</td>\n",
       "      <td>NaN</td>\n",
       "      <td>2021</td>\n",
       "      <td>NaN</td>\n",
       "    </tr>\n",
       "    <tr>\n",
       "      <th>21933</th>\n",
       "      <td>2021-01-10</td>\n",
       "      <td>Lichtenberg</td>\n",
       "      <td>NS-Propaganda am Fennpfuhl</td>\n",
       "      <td>Am Anton-Saefkow-Platz, in der Bernhard-Bästle...</td>\n",
       "      <td>Berliner Register</td>\n",
       "      <td>NaN</td>\n",
       "      <td>NaN</td>\n",
       "      <td>NaN</td>\n",
       "      <td>NaN</td>\n",
       "      <td>NaN</td>\n",
       "      <td>2021</td>\n",
       "      <td>NaN</td>\n",
       "    </tr>\n",
       "    <tr>\n",
       "      <th>21948</th>\n",
       "      <td>2021-01-07</td>\n",
       "      <td>Mitte</td>\n",
       "      <td>Homophobe Beleidigung und Bedrohung im U-Bahnh...</td>\n",
       "      <td>Im U-Bahnhof Seestraße wurde gegen 8.20 Uhr ei...</td>\n",
       "      <td>Registerstelle Mitte, Twitter</td>\n",
       "      <td>verbal</td>\n",
       "      <td>NaN</td>\n",
       "      <td>NaN</td>\n",
       "      <td>NaN</td>\n",
       "      <td>NaN</td>\n",
       "      <td>2021</td>\n",
       "      <td>verbal attack</td>\n",
       "    </tr>\n",
       "    <tr>\n",
       "      <th>21974</th>\n",
       "      <td>2021-01-02</td>\n",
       "      <td>Reinickendorf</td>\n",
       "      <td>Transfeindliche Sticker am Tegeler See</td>\n",
       "      <td>An einem Uferweg, unweit der Sehenswürdigkeit ...</td>\n",
       "      <td>Register Reinickendorf</td>\n",
       "      <td>verbal</td>\n",
       "      <td>NaN</td>\n",
       "      <td>NaN</td>\n",
       "      <td>NaN</td>\n",
       "      <td>NaN</td>\n",
       "      <td>2021</td>\n",
       "      <td>verbal attack</td>\n",
       "    </tr>\n",
       "  </tbody>\n",
       "</table>\n",
       "<p>1006 rows × 12 columns</p>\n",
       "</div>"
      ],
      "text/plain": [
       "            Date                    District  \\\n",
       "1707  2014-11-29        Tempelhof-Schöneberg   \n",
       "1836  2014-10-26        Tempelhof-Schöneberg   \n",
       "1861  2014-10-17                       Mitte   \n",
       "1874  2014-10-12         Marzahn-Hellersdorf   \n",
       "1913  2014-10-03  Charlottenburg-Wilmersdorf   \n",
       "...          ...                         ...   \n",
       "21900 2021-01-14    Friedrichshain-Kreuzberg   \n",
       "21930 2021-01-10            Treptow-Köpenick   \n",
       "21933 2021-01-10                 Lichtenberg   \n",
       "21948 2021-01-07                       Mitte   \n",
       "21974 2021-01-02               Reinickendorf   \n",
       "\n",
       "                                                  Header  \\\n",
       "1707                  Angriff aus transphober Motivation   \n",
       "1836                  Angriff aus transphober Motivation   \n",
       "1861              LGBQT feindliche Schmiererei entdeckt!   \n",
       "1874               Menschenfeindliche Parolen beim Sport   \n",
       "1913   Homosexuellenfeindliches Banner bei Stuttgarte...   \n",
       "...                                                  ...   \n",
       "21900   Homophobe Beleidigung während Online-Unterrichts   \n",
       "21930  Extrem rechte Propaganda des 3. Weg in Johanni...   \n",
       "21933                         NS-Propaganda am Fennpfuhl   \n",
       "21948  Homophobe Beleidigung und Bedrohung im U-Bahnh...   \n",
       "21974             Transfeindliche Sticker am Tegeler See   \n",
       "\n",
       "                                                   Story  \\\n",
       "1707   Ein 30-jähriger Mann wird gegen 05.00 Uhr in d...   \n",
       "1836   Am 26.10.14 wird ein 30-jähriger Mann gegen 07...   \n",
       "1861   Am Abend gegen 20.10 Uhr stellen Polizeibeamte...   \n",
       "1874   Gegen 16:00 Uhr werden Fans des Fußballvereins...   \n",
       "1913   Am 3. Oktober 2014 hing im Olympiastadion in W...   \n",
       "...                                                  ...   \n",
       "21900  Ein Lehrer einer Kreuzberger Schule wurde anon...   \n",
       "21930  Im Gebiet zwischen Landschaftspark, Gerhard-Se...   \n",
       "21933  Am Anton-Saefkow-Platz, in der Bernhard-Bästle...   \n",
       "21948  Im U-Bahnhof Seestraße wurde gegen 8.20 Uhr ei...   \n",
       "21974  An einem Uferweg, unweit der Sehenswürdigkeit ...   \n",
       "\n",
       "                                                  Source    Attack Propaganda  \\\n",
       "1707                                            ReachOut  physical        NaN   \n",
       "1836                                            ReachOut  physical        NaN   \n",
       "1861                                      Polizei Berlin       NaN        NaN   \n",
       "1874   Register Charlottenburg-Wilmersdorf; Antisemit...    verbal        NaN   \n",
       "1913      Fußballfans gegen Homophobie, Hertha-Inside.de       NaN        NaN   \n",
       "...                                                  ...       ...        ...   \n",
       "21900                                Bürger*innenmeldung    verbal        NaN   \n",
       "21930                             Zentrum für Demokratie       NaN        NaN   \n",
       "21933                                  Berliner Register       NaN        NaN   \n",
       "21948                      Registerstelle Mitte, Twitter    verbal        NaN   \n",
       "21974                             Register Reinickendorf    verbal        NaN   \n",
       "\n",
       "      Structural Discrimination Material Damage  Reported status  year  \\\n",
       "1707                        NaN             NaN              NaN  2014   \n",
       "1836                        NaN             NaN              NaN  2014   \n",
       "1861                        NaN             yes              NaN  2014   \n",
       "1874                        NaN             NaN              NaN  2014   \n",
       "1913                        NaN             NaN              NaN  2014   \n",
       "...                         ...             ...              ...   ...   \n",
       "21900                       NaN             NaN              NaN  2021   \n",
       "21930                       NaN             NaN              NaN  2021   \n",
       "21933                       NaN             NaN              NaN  2021   \n",
       "21948                       NaN             NaN              NaN  2021   \n",
       "21974                       NaN             NaN              NaN  2021   \n",
       "\n",
       "      type of incident  \n",
       "1707   physical attack  \n",
       "1836   physical attack  \n",
       "1861         vandalism  \n",
       "1874     verbal attack  \n",
       "1913               NaN  \n",
       "...                ...  \n",
       "21900    verbal attack  \n",
       "21930              NaN  \n",
       "21933              NaN  \n",
       "21948    verbal attack  \n",
       "21974    verbal attack  \n",
       "\n",
       "[1006 rows x 12 columns]"
      ]
     },
     "execution_count": 120,
     "metadata": {},
     "output_type": "execute_result"
    }
   ],
   "source": [
    "df_lgbt"
   ]
  },
  {
   "cell_type": "markdown",
   "metadata": {},
   "source": [
    "____"
   ]
  },
  {
   "cell_type": "markdown",
   "metadata": {},
   "source": [
    "## Pickle df_lgbt"
   ]
  },
  {
   "cell_type": "code",
   "execution_count": 18,
   "metadata": {},
   "outputs": [],
   "source": [
    "# pickle df_map_test\n",
    "with open('pickles/df_lgbt.pickle', 'wb' ) as f:\n",
    "    pickle.dump(df_lgbt, f)"
   ]
  },
  {
   "cell_type": "markdown",
   "metadata": {},
   "source": [
    "## Pickle df_barplot"
   ]
  },
  {
   "cell_type": "code",
   "execution_count": 121,
   "metadata": {},
   "outputs": [],
   "source": [
    "# pickle df_map_test\n",
    "with open('pickles/df_barplot.pickle', 'wb' ) as f:\n",
    "    pickle.dump(df_barplot, f)"
   ]
  },
  {
   "cell_type": "code",
   "execution_count": 249,
   "metadata": {},
   "outputs": [],
   "source": [
    "with open('pickles/df_barplot_count.pickle', 'wb' ) as f:\n",
    "    pickle.dump(df_barplot_count, f)\n"
   ]
  },
  {
   "cell_type": "code",
   "execution_count": null,
   "metadata": {},
   "outputs": [],
   "source": []
  }
 ],
 "metadata": {
  "kernelspec": {
   "display_name": "Python 3",
   "language": "python",
   "name": "python3"
  },
  "language_info": {
   "codemirror_mode": {
    "name": "ipython",
    "version": 3
   },
   "file_extension": ".py",
   "mimetype": "text/x-python",
   "name": "python",
   "nbconvert_exporter": "python",
   "pygments_lexer": "ipython3",
   "version": "3.8.5"
  }
 },
 "nbformat": 4,
 "nbformat_minor": 4
}
