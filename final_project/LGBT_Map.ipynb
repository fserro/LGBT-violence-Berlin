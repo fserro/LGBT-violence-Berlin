{
 "cells": [
  {
   "cell_type": "code",
   "execution_count": 194,
   "metadata": {},
   "outputs": [],
   "source": [
    "import pandas as pd\n",
    "import numpy as np\n",
    "import pickle\n",
    "import spacy\n",
    "from spacy.lang.de import German\n",
    "from spacy.matcher import Matcher\n",
    "from spacy.tokens import Span, Token, Doc\n",
    "from geopy.geocoders import Nominatim\n",
    "import regex as re"
   ]
  },
  {
   "cell_type": "markdown",
   "metadata": {},
   "source": [
    "# Load pickled df_lgbt"
   ]
  },
  {
   "cell_type": "code",
   "execution_count": 2,
   "metadata": {},
   "outputs": [],
   "source": [
    "with open('pickles/df_lgbt.pickle', 'rb') as f:\n",
    "    df_lgbt = pickle.load(f)"
   ]
  },
  {
   "cell_type": "markdown",
   "metadata": {},
   "source": [
    "# Load pickled df_map (test)"
   ]
  },
  {
   "cell_type": "code",
   "execution_count": 241,
   "metadata": {},
   "outputs": [],
   "source": [
    "with open('pickles/df_map_test.pickle', 'rb') as f:\n",
    "    df_map = pickle.load(f)"
   ]
  },
  {
   "cell_type": "markdown",
   "metadata": {},
   "source": [
    "# Load SpaCy docs"
   ]
  },
  {
   "cell_type": "code",
   "execution_count": 7,
   "metadata": {},
   "outputs": [],
   "source": [
    "with open('pickles/spacy_docs.pickle', 'rb') as f:\n",
    "    docs = pickle.load(f)\n"
   ]
  },
  {
   "cell_type": "markdown",
   "metadata": {},
   "source": [
    "**Add custom attributes 'index' and 'district' to Doc**"
   ]
  },
  {
   "cell_type": "code",
   "execution_count": 8,
   "metadata": {},
   "outputs": [
    {
     "data": {
      "text/plain": [
       "1707"
      ]
     },
     "execution_count": 8,
     "metadata": {},
     "output_type": "execute_result"
    }
   ],
   "source": [
    "Doc.set_extension('index', default=None)\n",
    "for doc, context in docs:\n",
    "    doc._.index = context[\"index\"]\n",
    "docs[0][0]._.index"
   ]
  },
  {
   "cell_type": "code",
   "execution_count": 9,
   "metadata": {},
   "outputs": [
    {
     "data": {
      "text/plain": [
       "'Tempelhof-Schöneberg'"
      ]
     },
     "execution_count": 9,
     "metadata": {},
     "output_type": "execute_result"
    }
   ],
   "source": [
    "Doc.set_extension('district', default=None)\n",
    "for doc, context in docs:\n",
    "    doc._.district = context[\"district\"]\n",
    "docs[0][0]._.district"
   ]
  },
  {
   "cell_type": "markdown",
   "metadata": {},
   "source": [
    "____"
   ]
  },
  {
   "cell_type": "markdown",
   "metadata": {},
   "source": [
    "## Find locations"
   ]
  },
  {
   "cell_type": "code",
   "execution_count": 4,
   "metadata": {},
   "outputs": [],
   "source": [
    "# load pickled dict_no_ents:\n",
    "with open('pickles/dict_no_ents.pickle', 'rb') as f:\n",
    "    dict_no_ents = pickle.load(f)"
   ]
  },
  {
   "cell_type": "code",
   "execution_count": 49,
   "metadata": {},
   "outputs": [
    {
     "data": {
      "text/plain": [
       "{'location': 'Denkmal für die im Nationalsozialismus verfolgten Homosexuellen',\n",
       " 'attack': None,\n",
       " 'propaganda': 'anonymous',\n",
       " 'damage_of_property': 'yes',\n",
       " 'structural_discrimination': None,\n",
       " 'reported_police': 'yes'}"
      ]
     },
     "execution_count": 49,
     "metadata": {},
     "output_type": "execute_result"
    }
   ],
   "source": [
    "dict_no_ents[1861]"
   ]
  },
  {
   "cell_type": "code",
   "execution_count": 135,
   "metadata": {},
   "outputs": [
    {
     "data": {
      "text/plain": [
       "{'place_id': 77623864,\n",
       " 'licence': 'Data © OpenStreetMap contributors, ODbL 1.0. https://osm.org/copyright',\n",
       " 'osm_type': 'node',\n",
       " 'osm_id': 7133350405,\n",
       " 'boundingbox': ['52.5881058', '52.5882058', '13.2826944', '13.2827944'],\n",
       " 'lat': '52.5881558',\n",
       " 'lon': '13.2827444',\n",
       " 'display_name': 'Franz-Marc-Grundschule, 26-31, Treskowstraße, Tegel, Reinickendorf, Berlin, 13507, Deutschland',\n",
       " 'class': 'amenity',\n",
       " 'type': 'school',\n",
       " 'importance': 0.411,\n",
       " 'icon': 'https://nominatim.openstreetmap.org/ui/mapicons//education_school.p.20.png',\n",
       " 'address': {'amenity': 'Franz-Marc-Grundschule',\n",
       "  'house_number': '26-31',\n",
       "  'road': 'Treskowstraße',\n",
       "  'suburb': 'Tegel',\n",
       "  'borough': 'Reinickendorf',\n",
       "  'city': 'Berlin',\n",
       "  'state': 'Berlin',\n",
       "  'postcode': '13507',\n",
       "  'country': 'Deutschland',\n",
       "  'country_code': 'de'}}"
      ]
     },
     "execution_count": 135,
     "metadata": {},
     "output_type": "execute_result"
    }
   ],
   "source": [
    "Nominatim(user_agent=\"mymap\").geocode('Franz-Marc-Schule Berlin', addressdetails=True).raw"
   ]
  },
  {
   "cell_type": "code",
   "execution_count": 61,
   "metadata": {},
   "outputs": [],
   "source": [
    "doc = [doc for doc in docs if doc[0]._.index == 1861][0]"
   ]
  },
  {
   "cell_type": "code",
   "execution_count": 145,
   "metadata": {},
   "outputs": [],
   "source": [
    "df_map = pd.concat([df_map, df_map_new])"
   ]
  },
  {
   "cell_type": "code",
   "execution_count": 161,
   "metadata": {},
   "outputs": [
    {
     "data": {
      "text/plain": [
       "'Am 29. September 2015 ereignete sich im Ortsteil Mitte ein Angriff aufgrund von Homophobie, zu dem die Berliner Polizei aus datenschutzrechtlichen Gründen keine näheren Angaben machte.'"
      ]
     },
     "execution_count": 161,
     "metadata": {},
     "output_type": "execute_result"
    }
   ],
   "source": [
    "df_map.loc[3403, 'Story']"
   ]
  },
  {
   "cell_type": "code",
   "execution_count": 183,
   "metadata": {},
   "outputs": [],
   "source": [
    "df_map.loc[:,'Attack'].fillna('check', inplace=True)"
   ]
  },
  {
   "cell_type": "code",
   "execution_count": 224,
   "metadata": {},
   "outputs": [],
   "source": [
    "df_map.loc[geschlagen_list, 'Attack'] = 'physical'"
   ]
  },
  {
   "cell_type": "code",
   "execution_count": 233,
   "metadata": {},
   "outputs": [
    {
     "data": {
      "text/html": [
       "<div>\n",
       "<style scoped>\n",
       "    .dataframe tbody tr th:only-of-type {\n",
       "        vertical-align: middle;\n",
       "    }\n",
       "\n",
       "    .dataframe tbody tr th {\n",
       "        vertical-align: top;\n",
       "    }\n",
       "\n",
       "    .dataframe thead th {\n",
       "        text-align: right;\n",
       "    }\n",
       "</style>\n",
       "<table border=\"1\" class=\"dataframe\">\n",
       "  <thead>\n",
       "    <tr style=\"text-align: right;\">\n",
       "      <th></th>\n",
       "      <th>Date</th>\n",
       "      <th>District</th>\n",
       "      <th>Header</th>\n",
       "      <th>Story</th>\n",
       "      <th>Source</th>\n",
       "      <th>Attack</th>\n",
       "      <th>latitude</th>\n",
       "      <th>longitude</th>\n",
       "    </tr>\n",
       "  </thead>\n",
       "  <tbody>\n",
       "    <tr>\n",
       "      <th>2350</th>\n",
       "      <td>2014-05-18</td>\n",
       "      <td>Friedrichshain-Kreuzberg</td>\n",
       "      <td>Mann aus homophoben Gründen zu Boden geschlagen</td>\n",
       "      <td></td>\n",
       "      <td>ReachOut</td>\n",
       "      <td>other</td>\n",
       "      <td>52.516113</td>\n",
       "      <td>13.448219</td>\n",
       "    </tr>\n",
       "  </tbody>\n",
       "</table>\n",
       "</div>"
      ],
      "text/plain": [
       "           Date                  District  \\\n",
       "2350 2014-05-18  Friedrichshain-Kreuzberg   \n",
       "\n",
       "                                               Header Story    Source Attack  \\\n",
       "2350  Mann aus homophoben Gründen zu Boden geschlagen        ReachOut  other   \n",
       "\n",
       "       latitude  longitude  \n",
       "2350  52.516113  13.448219  "
      ]
     },
     "execution_count": 233,
     "metadata": {},
     "output_type": "execute_result"
    }
   ],
   "source": [
    "df_map[(df_map['Header'].str.contains('geschlagen') == True) & (df_map['Attack'] != 'physical')]"
   ]
  },
  {
   "cell_type": "code",
   "execution_count": 236,
   "metadata": {},
   "outputs": [],
   "source": [
    "df_lgbt.loc[2350, 'Attack'] = 'physical'"
   ]
  },
  {
   "cell_type": "code",
   "execution_count": 211,
   "metadata": {
    "scrolled": true
   },
   "outputs": [
    {
     "data": {
      "text/html": [
       "<div>\n",
       "<style scoped>\n",
       "    .dataframe tbody tr th:only-of-type {\n",
       "        vertical-align: middle;\n",
       "    }\n",
       "\n",
       "    .dataframe tbody tr th {\n",
       "        vertical-align: top;\n",
       "    }\n",
       "\n",
       "    .dataframe thead th {\n",
       "        text-align: right;\n",
       "    }\n",
       "</style>\n",
       "<table border=\"1\" class=\"dataframe\">\n",
       "  <thead>\n",
       "    <tr style=\"text-align: right;\">\n",
       "      <th></th>\n",
       "      <th>Date</th>\n",
       "      <th>District</th>\n",
       "      <th>Header</th>\n",
       "      <th>Story</th>\n",
       "      <th>Source</th>\n",
       "      <th>Attack</th>\n",
       "      <th>Propaganda</th>\n",
       "      <th>Structural Discrimination</th>\n",
       "      <th>Material Damage</th>\n",
       "      <th>Reported status</th>\n",
       "    </tr>\n",
       "  </thead>\n",
       "  <tbody>\n",
       "    <tr>\n",
       "      <th>6609</th>\n",
       "      <td>2016-04-14</td>\n",
       "      <td>Charlottenburg-Wilmersdorf</td>\n",
       "      <td>Bezirkswahlprogramm der AfD</td>\n",
       "      <td>Am 14. April 2016 verabschiedete die Partei Al...</td>\n",
       "      <td>Register CW</td>\n",
       "      <td>NaN</td>\n",
       "      <td>NaN</td>\n",
       "      <td>NaN</td>\n",
       "      <td>NaN</td>\n",
       "      <td>NaN</td>\n",
       "    </tr>\n",
       "    <tr>\n",
       "      <th>7517</th>\n",
       "      <td>2017-12-14</td>\n",
       "      <td>Lichtenberg</td>\n",
       "      <td>AfD-Anträge in der Lichtenberger BVV</td>\n",
       "      <td>Mit einem Antrag in der BVV versuchte die Lich...</td>\n",
       "      <td>Lichtenberger Register</td>\n",
       "      <td>verbal</td>\n",
       "      <td>NaN</td>\n",
       "      <td>NaN</td>\n",
       "      <td>NaN</td>\n",
       "      <td>NaN</td>\n",
       "    </tr>\n",
       "    <tr>\n",
       "      <th>7702</th>\n",
       "      <td>2017-11-16</td>\n",
       "      <td>Lichtenberg</td>\n",
       "      <td>Diskriminierende Wortmeldungen der AfD in der BVV</td>\n",
       "      <td>Während der Lichtenberger BVV meldete sich die...</td>\n",
       "      <td>Lichtenberger Register</td>\n",
       "      <td>NaN</td>\n",
       "      <td>NaN</td>\n",
       "      <td>NaN</td>\n",
       "      <td>NaN</td>\n",
       "      <td>NaN</td>\n",
       "    </tr>\n",
       "    <tr>\n",
       "      <th>7976</th>\n",
       "      <td>2017-09-30</td>\n",
       "      <td>Treptow-Köpenick</td>\n",
       "      <td>Facebook-Dokumentation September: \"AfD Treptow...</td>\n",
       "      <td>Der September war vom Wahlkampf geprägt. 15 de...</td>\n",
       "      <td>Register Treptow-Köpenick</td>\n",
       "      <td>NaN</td>\n",
       "      <td>NaN</td>\n",
       "      <td>NaN</td>\n",
       "      <td>NaN</td>\n",
       "      <td>NaN</td>\n",
       "    </tr>\n",
       "    <tr>\n",
       "      <th>8645</th>\n",
       "      <td>2017-07-31</td>\n",
       "      <td>Treptow-Köpenick</td>\n",
       "      <td>Facebook-Dokumentation Juli: \"AfD Treptow-Köpe...</td>\n",
       "      <td>Im Juli setzte sich der Wahlkampf auf der Seit...</td>\n",
       "      <td>Register Treptow-Köpenick</td>\n",
       "      <td>NaN</td>\n",
       "      <td>NaN</td>\n",
       "      <td>NaN</td>\n",
       "      <td>NaN</td>\n",
       "      <td>NaN</td>\n",
       "    </tr>\n",
       "    <tr>\n",
       "      <th>8796</th>\n",
       "      <td>2017-07-13</td>\n",
       "      <td>Lichtenberg</td>\n",
       "      <td>AfD-Anträge in der Lichtenberger BVV</td>\n",
       "      <td>Die Lichtenberger AfD stellte während der BVV ...</td>\n",
       "      <td>Lichtenberger Register</td>\n",
       "      <td>NaN</td>\n",
       "      <td>NaN</td>\n",
       "      <td>NaN</td>\n",
       "      <td>NaN</td>\n",
       "      <td>NaN</td>\n",
       "    </tr>\n",
       "    <tr>\n",
       "      <th>8895</th>\n",
       "      <td>2017-06-30</td>\n",
       "      <td>Treptow-Köpenick</td>\n",
       "      <td>Facebook-Dokumentation Juni: \"AfD Treptow-Köpe...</td>\n",
       "      <td>Im Juni startete die AfD in den Wahlkampf. In ...</td>\n",
       "      <td>Register Treptow-Köpenick</td>\n",
       "      <td>NaN</td>\n",
       "      <td>NaN</td>\n",
       "      <td>NaN</td>\n",
       "      <td>NaN</td>\n",
       "      <td>NaN</td>\n",
       "    </tr>\n",
       "    <tr>\n",
       "      <th>9443</th>\n",
       "      <td>2017-04-28</td>\n",
       "      <td>Friedrichshain-Kreuzberg</td>\n",
       "      <td>Mail mit rassistischem, fremdenfeindlichen und...</td>\n",
       "      <td>Eine AfD-Bezirksverordnete beschrieb in einen ...</td>\n",
       "      <td>Register Friedrichshain-Kreuzberg</td>\n",
       "      <td>NaN</td>\n",
       "      <td>NaN</td>\n",
       "      <td>NaN</td>\n",
       "      <td>NaN</td>\n",
       "      <td>NaN</td>\n",
       "    </tr>\n",
       "    <tr>\n",
       "      <th>10621</th>\n",
       "      <td>2018-11-14</td>\n",
       "      <td>Neukölln</td>\n",
       "      <td>BVV Neukölln: Diffamierung politischer Gegner*...</td>\n",
       "      <td>In ihren Beiträgen versuchte die AfD, die Arbe...</td>\n",
       "      <td>Register Neukölln, Mobile Beratung gegen Recht...</td>\n",
       "      <td>physical</td>\n",
       "      <td>NaN</td>\n",
       "      <td>NaN</td>\n",
       "      <td>NaN</td>\n",
       "      <td>NaN</td>\n",
       "    </tr>\n",
       "    <tr>\n",
       "      <th>12142</th>\n",
       "      <td>2018-06-14</td>\n",
       "      <td>Treptow-Köpenick</td>\n",
       "      <td>Diffamierung der Arbeit von Jugendfreizeiteinr...</td>\n",
       "      <td>Der Antrag der SPD und den Grünen „Fachtag zu ...</td>\n",
       "      <td>Register Treptow-Köpenick</td>\n",
       "      <td>NaN</td>\n",
       "      <td>NaN</td>\n",
       "      <td>NaN</td>\n",
       "      <td>NaN</td>\n",
       "      <td>NaN</td>\n",
       "    </tr>\n",
       "    <tr>\n",
       "      <th>12363</th>\n",
       "      <td>2018-05-26</td>\n",
       "      <td>Treptow-Köpenick</td>\n",
       "      <td>LGBTIQ*-diskriminierender Flyer im Allendeviertel</td>\n",
       "      <td>Im Allendeviertel wurden LGBTIQ*-diskriminiere...</td>\n",
       "      <td>Register Treptow-Köpenick</td>\n",
       "      <td>NaN</td>\n",
       "      <td>NaN</td>\n",
       "      <td>NaN</td>\n",
       "      <td>NaN</td>\n",
       "      <td>NaN</td>\n",
       "    </tr>\n",
       "    <tr>\n",
       "      <th>12710</th>\n",
       "      <td>2018-04-27</td>\n",
       "      <td>Treptow-Köpenick</td>\n",
       "      <td>Bürgerdialog der AfD mit Beatrix von Storch un...</td>\n",
       "      <td>Im Rathaus Köpenick fand ein Bürgerdialog der ...</td>\n",
       "      <td>Register Treptow-Köpenick</td>\n",
       "      <td>NaN</td>\n",
       "      <td>NaN</td>\n",
       "      <td>NaN</td>\n",
       "      <td>NaN</td>\n",
       "      <td>NaN</td>\n",
       "    </tr>\n",
       "    <tr>\n",
       "      <th>12748</th>\n",
       "      <td>2018-04-25</td>\n",
       "      <td>Neukölln</td>\n",
       "      <td>BVV Neukölln: Rassismus, LGBTIQ-Feindlichkeit,...</td>\n",
       "      <td>In einer Entschließung verurteilte die Bezirks...</td>\n",
       "      <td>Register Neukölln, Mobile Beratung gegen Recht...</td>\n",
       "      <td>NaN</td>\n",
       "      <td>NaN</td>\n",
       "      <td>NaN</td>\n",
       "      <td>NaN</td>\n",
       "      <td>NaN</td>\n",
       "    </tr>\n",
       "    <tr>\n",
       "      <th>13208</th>\n",
       "      <td>2018-03-01</td>\n",
       "      <td>Treptow-Köpenick</td>\n",
       "      <td>Rassistische Feindkonstruktion und Bedrohung i...</td>\n",
       "      <td>In der BVV stellte die AfD einen Änderungsantr...</td>\n",
       "      <td>Register Treptow-Köpenick</td>\n",
       "      <td>verbal</td>\n",
       "      <td>NaN</td>\n",
       "      <td>NaN</td>\n",
       "      <td>NaN</td>\n",
       "      <td>NaN</td>\n",
       "    </tr>\n",
       "    <tr>\n",
       "      <th>16069</th>\n",
       "      <td>2019-04-10</td>\n",
       "      <td>Neukölln</td>\n",
       "      <td>Rassistische Wortmeldungen in BVV</td>\n",
       "      <td>Während der Neuköllner BVV-Sitzung am 10. Apri...</td>\n",
       "      <td>Register Neukölln</td>\n",
       "      <td>physical</td>\n",
       "      <td>NaN</td>\n",
       "      <td>NaN</td>\n",
       "      <td>NaN</td>\n",
       "      <td>NaN</td>\n",
       "    </tr>\n",
       "    <tr>\n",
       "      <th>16281</th>\n",
       "      <td>2019-03-20</td>\n",
       "      <td>Neukölln</td>\n",
       "      <td>Antimuslimischer Rassismus in BVV</td>\n",
       "      <td>Während der Neuköllner BVV-Sitzung am 20.3. ko...</td>\n",
       "      <td>Register Neukölln</td>\n",
       "      <td>physical</td>\n",
       "      <td>NaN</td>\n",
       "      <td>NaN</td>\n",
       "      <td>NaN</td>\n",
       "      <td>NaN</td>\n",
       "    </tr>\n",
       "    <tr>\n",
       "      <th>19375</th>\n",
       "      <td>2020-05-30</td>\n",
       "      <td>Steglitz-Zehlendorf</td>\n",
       "      <td>Online-Monitoring: Mai</td>\n",
       "      <td>Auf der Facebook-Seite der AfD Steglitz-Zehlen...</td>\n",
       "      <td>Registerstelle Steglitz-Zehlendorf</td>\n",
       "      <td>NaN</td>\n",
       "      <td>NaN</td>\n",
       "      <td>NaN</td>\n",
       "      <td>NaN</td>\n",
       "      <td>NaN</td>\n",
       "    </tr>\n",
       "  </tbody>\n",
       "</table>\n",
       "</div>"
      ],
      "text/plain": [
       "            Date                    District  \\\n",
       "6609  2016-04-14  Charlottenburg-Wilmersdorf   \n",
       "7517  2017-12-14                 Lichtenberg   \n",
       "7702  2017-11-16                 Lichtenberg   \n",
       "7976  2017-09-30            Treptow-Köpenick   \n",
       "8645  2017-07-31            Treptow-Köpenick   \n",
       "8796  2017-07-13                 Lichtenberg   \n",
       "8895  2017-06-30            Treptow-Köpenick   \n",
       "9443  2017-04-28    Friedrichshain-Kreuzberg   \n",
       "10621 2018-11-14                    Neukölln   \n",
       "12142 2018-06-14            Treptow-Köpenick   \n",
       "12363 2018-05-26            Treptow-Köpenick   \n",
       "12710 2018-04-27            Treptow-Köpenick   \n",
       "12748 2018-04-25                    Neukölln   \n",
       "13208 2018-03-01            Treptow-Köpenick   \n",
       "16069 2019-04-10                    Neukölln   \n",
       "16281 2019-03-20                    Neukölln   \n",
       "19375 2020-05-30         Steglitz-Zehlendorf   \n",
       "\n",
       "                                                  Header  \\\n",
       "6609                         Bezirkswahlprogramm der AfD   \n",
       "7517                AfD-Anträge in der Lichtenberger BVV   \n",
       "7702   Diskriminierende Wortmeldungen der AfD in der BVV   \n",
       "7976   Facebook-Dokumentation September: \"AfD Treptow...   \n",
       "8645   Facebook-Dokumentation Juli: \"AfD Treptow-Köpe...   \n",
       "8796                AfD-Anträge in der Lichtenberger BVV   \n",
       "8895   Facebook-Dokumentation Juni: \"AfD Treptow-Köpe...   \n",
       "9443   Mail mit rassistischem, fremdenfeindlichen und...   \n",
       "10621  BVV Neukölln: Diffamierung politischer Gegner*...   \n",
       "12142  Diffamierung der Arbeit von Jugendfreizeiteinr...   \n",
       "12363  LGBTIQ*-diskriminierender Flyer im Allendeviertel   \n",
       "12710  Bürgerdialog der AfD mit Beatrix von Storch un...   \n",
       "12748  BVV Neukölln: Rassismus, LGBTIQ-Feindlichkeit,...   \n",
       "13208  Rassistische Feindkonstruktion und Bedrohung i...   \n",
       "16069                  Rassistische Wortmeldungen in BVV   \n",
       "16281                 Antimuslimischer Rassismus in BVV    \n",
       "19375                             Online-Monitoring: Mai   \n",
       "\n",
       "                                                   Story  \\\n",
       "6609   Am 14. April 2016 verabschiedete die Partei Al...   \n",
       "7517   Mit einem Antrag in der BVV versuchte die Lich...   \n",
       "7702   Während der Lichtenberger BVV meldete sich die...   \n",
       "7976   Der September war vom Wahlkampf geprägt. 15 de...   \n",
       "8645   Im Juli setzte sich der Wahlkampf auf der Seit...   \n",
       "8796   Die Lichtenberger AfD stellte während der BVV ...   \n",
       "8895   Im Juni startete die AfD in den Wahlkampf. In ...   \n",
       "9443   Eine AfD-Bezirksverordnete beschrieb in einen ...   \n",
       "10621  In ihren Beiträgen versuchte die AfD, die Arbe...   \n",
       "12142  Der Antrag der SPD und den Grünen „Fachtag zu ...   \n",
       "12363  Im Allendeviertel wurden LGBTIQ*-diskriminiere...   \n",
       "12710  Im Rathaus Köpenick fand ein Bürgerdialog der ...   \n",
       "12748  In einer Entschließung verurteilte die Bezirks...   \n",
       "13208  In der BVV stellte die AfD einen Änderungsantr...   \n",
       "16069  Während der Neuköllner BVV-Sitzung am 10. Apri...   \n",
       "16281  Während der Neuköllner BVV-Sitzung am 20.3. ko...   \n",
       "19375  Auf der Facebook-Seite der AfD Steglitz-Zehlen...   \n",
       "\n",
       "                                                  Source    Attack  \\\n",
       "6609                                         Register CW       NaN   \n",
       "7517                              Lichtenberger Register    verbal   \n",
       "7702                              Lichtenberger Register       NaN   \n",
       "7976                           Register Treptow-Köpenick       NaN   \n",
       "8645                           Register Treptow-Köpenick       NaN   \n",
       "8796                              Lichtenberger Register       NaN   \n",
       "8895                           Register Treptow-Köpenick       NaN   \n",
       "9443                   Register Friedrichshain-Kreuzberg       NaN   \n",
       "10621  Register Neukölln, Mobile Beratung gegen Recht...  physical   \n",
       "12142                          Register Treptow-Köpenick       NaN   \n",
       "12363                          Register Treptow-Köpenick       NaN   \n",
       "12710                          Register Treptow-Köpenick       NaN   \n",
       "12748  Register Neukölln, Mobile Beratung gegen Recht...       NaN   \n",
       "13208                          Register Treptow-Köpenick    verbal   \n",
       "16069                                  Register Neukölln  physical   \n",
       "16281                                  Register Neukölln  physical   \n",
       "19375                 Registerstelle Steglitz-Zehlendorf       NaN   \n",
       "\n",
       "       Propaganda  Structural Discrimination  Material Damage  Reported status  \n",
       "6609          NaN                        NaN              NaN              NaN  \n",
       "7517          NaN                        NaN              NaN              NaN  \n",
       "7702          NaN                        NaN              NaN              NaN  \n",
       "7976          NaN                        NaN              NaN              NaN  \n",
       "8645          NaN                        NaN              NaN              NaN  \n",
       "8796          NaN                        NaN              NaN              NaN  \n",
       "8895          NaN                        NaN              NaN              NaN  \n",
       "9443          NaN                        NaN              NaN              NaN  \n",
       "10621         NaN                        NaN              NaN              NaN  \n",
       "12142         NaN                        NaN              NaN              NaN  \n",
       "12363         NaN                        NaN              NaN              NaN  \n",
       "12710         NaN                        NaN              NaN              NaN  \n",
       "12748         NaN                        NaN              NaN              NaN  \n",
       "13208         NaN                        NaN              NaN              NaN  \n",
       "16069         NaN                        NaN              NaN              NaN  \n",
       "16281         NaN                        NaN              NaN              NaN  \n",
       "19375         NaN                        NaN              NaN              NaN  "
      ]
     },
     "execution_count": 211,
     "metadata": {},
     "output_type": "execute_result"
    }
   ],
   "source": [
    "df_lgbt[df_lgbt['Story'].str.contains('BVV') == True]"
   ]
  },
  {
   "cell_type": "code",
   "execution_count": 185,
   "metadata": {
    "scrolled": true
   },
   "outputs": [
    {
     "data": {
      "text/html": [
       "<div>\n",
       "<style scoped>\n",
       "    .dataframe tbody tr th:only-of-type {\n",
       "        vertical-align: middle;\n",
       "    }\n",
       "\n",
       "    .dataframe tbody tr th {\n",
       "        vertical-align: top;\n",
       "    }\n",
       "\n",
       "    .dataframe thead th {\n",
       "        text-align: right;\n",
       "    }\n",
       "</style>\n",
       "<table border=\"1\" class=\"dataframe\">\n",
       "  <thead>\n",
       "    <tr style=\"text-align: right;\">\n",
       "      <th></th>\n",
       "      <th>Date</th>\n",
       "      <th>District</th>\n",
       "      <th>Header</th>\n",
       "      <th>Story</th>\n",
       "      <th>Source</th>\n",
       "      <th>Attack</th>\n",
       "      <th>latitude</th>\n",
       "      <th>longitude</th>\n",
       "    </tr>\n",
       "  </thead>\n",
       "  <tbody>\n",
       "  </tbody>\n",
       "</table>\n",
       "</div>"
      ],
      "text/plain": [
       "Empty DataFrame\n",
       "Columns: [Date, District, Header, Story, Source, Attack, latitude, longitude]\n",
       "Index: []"
      ]
     },
     "execution_count": 185,
     "metadata": {},
     "output_type": "execute_result"
    }
   ],
   "source": [
    "df_map[df_map['Attack'].isna() == True]"
   ]
  },
  {
   "cell_type": "markdown",
   "metadata": {},
   "source": [
    "**BVV**"
   ]
  },
  {
   "cell_type": "code",
   "execution_count": 191,
   "metadata": {},
   "outputs": [
    {
     "data": {
      "text/plain": [
       "1707"
      ]
     },
     "execution_count": 191,
     "metadata": {},
     "output_type": "execute_result"
    }
   ],
   "source": [
    "docs[0][0]._.index"
   ]
  },
  {
   "cell_type": "code",
   "execution_count": 196,
   "metadata": {},
   "outputs": [],
   "source": [
    "BVV_indices = []\n",
    "BVV_findings = []\n",
    "for doc in docs:\n",
    "    found_list = re.findall('BVV',doc[0].text)\n",
    "    if len(BVV_findings) > 0:\n",
    "        BVV_indices.append(doc[0]._.index)\n",
    "        BVV_findings.append(found_list)"
   ]
  },
  {
   "cell_type": "code",
   "execution_count": 206,
   "metadata": {},
   "outputs": [
    {
     "data": {
      "text/plain": [
       "0"
      ]
     },
     "execution_count": 206,
     "metadata": {},
     "output_type": "execute_result"
    }
   ],
   "source": [
    "len(re.findall('BVV',docs[0][0].text))"
   ]
  },
  {
   "cell_type": "code",
   "execution_count": 207,
   "metadata": {},
   "outputs": [
    {
     "data": {
      "text/html": [
       "<div>\n",
       "<style scoped>\n",
       "    .dataframe tbody tr th:only-of-type {\n",
       "        vertical-align: middle;\n",
       "    }\n",
       "\n",
       "    .dataframe tbody tr th {\n",
       "        vertical-align: top;\n",
       "    }\n",
       "\n",
       "    .dataframe thead th {\n",
       "        text-align: right;\n",
       "    }\n",
       "</style>\n",
       "<table border=\"1\" class=\"dataframe\">\n",
       "  <thead>\n",
       "    <tr style=\"text-align: right;\">\n",
       "      <th></th>\n",
       "      <th>Date</th>\n",
       "      <th>District</th>\n",
       "      <th>Header</th>\n",
       "      <th>Story</th>\n",
       "      <th>Source</th>\n",
       "      <th>Attack</th>\n",
       "      <th>Propaganda</th>\n",
       "      <th>Structural Discrimination</th>\n",
       "      <th>Material Damage</th>\n",
       "      <th>Reported status</th>\n",
       "    </tr>\n",
       "  </thead>\n",
       "  <tbody>\n",
       "    <tr>\n",
       "      <th>1707</th>\n",
       "      <td>2014-11-29</td>\n",
       "      <td>Tempelhof-Schöneberg</td>\n",
       "      <td>Angriff aus transphober Motivation</td>\n",
       "      <td>Ein 30-jähriger Mann wird gegen 05.00 Uhr in d...</td>\n",
       "      <td>ReachOut</td>\n",
       "      <td>physical</td>\n",
       "      <td>NaN</td>\n",
       "      <td>NaN</td>\n",
       "      <td>NaN</td>\n",
       "      <td>NaN</td>\n",
       "    </tr>\n",
       "    <tr>\n",
       "      <th>1836</th>\n",
       "      <td>2014-10-26</td>\n",
       "      <td>Tempelhof-Schöneberg</td>\n",
       "      <td>Angriff aus transphober Motivation</td>\n",
       "      <td>Am 26.10.14 wird ein 30-jähriger Mann gegen 07...</td>\n",
       "      <td>ReachOut</td>\n",
       "      <td>physical</td>\n",
       "      <td>NaN</td>\n",
       "      <td>NaN</td>\n",
       "      <td>NaN</td>\n",
       "      <td>NaN</td>\n",
       "    </tr>\n",
       "    <tr>\n",
       "      <th>1861</th>\n",
       "      <td>2014-10-17</td>\n",
       "      <td>Mitte</td>\n",
       "      <td>LGBQT feindliche Schmiererei entdeckt!</td>\n",
       "      <td>Am Abend gegen 20.10 Uhr stellen Polizeibeamte...</td>\n",
       "      <td>Polizei Berlin</td>\n",
       "      <td>NaN</td>\n",
       "      <td>NaN</td>\n",
       "      <td>NaN</td>\n",
       "      <td>NaN</td>\n",
       "      <td>NaN</td>\n",
       "    </tr>\n",
       "    <tr>\n",
       "      <th>1874</th>\n",
       "      <td>2014-10-12</td>\n",
       "      <td>Marzahn-Hellersdorf</td>\n",
       "      <td>Menschenfeindliche Parolen beim Sport</td>\n",
       "      <td>Gegen 16:00 Uhr werden Fans des Fußballvereins...</td>\n",
       "      <td>Register Charlottenburg-Wilmersdorf; Antisemit...</td>\n",
       "      <td>verbal</td>\n",
       "      <td>NaN</td>\n",
       "      <td>NaN</td>\n",
       "      <td>NaN</td>\n",
       "      <td>NaN</td>\n",
       "    </tr>\n",
       "    <tr>\n",
       "      <th>1913</th>\n",
       "      <td>2014-10-03</td>\n",
       "      <td>Charlottenburg-Wilmersdorf</td>\n",
       "      <td>Homosexuellenfeindliches Banner bei Stuttgarte...</td>\n",
       "      <td>Am 3. Oktober 2014 hing im Olympiastadion in W...</td>\n",
       "      <td>Fußballfans gegen Homophobie, Hertha-Inside.de</td>\n",
       "      <td>NaN</td>\n",
       "      <td>NaN</td>\n",
       "      <td>NaN</td>\n",
       "      <td>NaN</td>\n",
       "      <td>NaN</td>\n",
       "    </tr>\n",
       "    <tr>\n",
       "      <th>...</th>\n",
       "      <td>...</td>\n",
       "      <td>...</td>\n",
       "      <td>...</td>\n",
       "      <td>...</td>\n",
       "      <td>...</td>\n",
       "      <td>...</td>\n",
       "      <td>...</td>\n",
       "      <td>...</td>\n",
       "      <td>...</td>\n",
       "      <td>...</td>\n",
       "    </tr>\n",
       "    <tr>\n",
       "      <th>21900</th>\n",
       "      <td>2021-01-14</td>\n",
       "      <td>Friedrichshain-Kreuzberg</td>\n",
       "      <td>Homophobe Beleidigung während Online-Unterrichts</td>\n",
       "      <td>Ein Lehrer einer Kreuzberger Schule wurde anon...</td>\n",
       "      <td>Bürger*innenmeldung</td>\n",
       "      <td>verbal</td>\n",
       "      <td>NaN</td>\n",
       "      <td>NaN</td>\n",
       "      <td>NaN</td>\n",
       "      <td>NaN</td>\n",
       "    </tr>\n",
       "    <tr>\n",
       "      <th>21930</th>\n",
       "      <td>2021-01-10</td>\n",
       "      <td>Treptow-Köpenick</td>\n",
       "      <td>Extrem rechte Propaganda des 3. Weg in Johanni...</td>\n",
       "      <td>Im Gebiet zwischen Landschaftspark, Gerhard-Se...</td>\n",
       "      <td>Zentrum für Demokratie</td>\n",
       "      <td>NaN</td>\n",
       "      <td>NaN</td>\n",
       "      <td>NaN</td>\n",
       "      <td>NaN</td>\n",
       "      <td>NaN</td>\n",
       "    </tr>\n",
       "    <tr>\n",
       "      <th>21933</th>\n",
       "      <td>2021-01-10</td>\n",
       "      <td>Lichtenberg</td>\n",
       "      <td>NS-Propaganda am Fennpfuhl</td>\n",
       "      <td>Am Anton-Saefkow-Platz, in der Bernhard-Bästle...</td>\n",
       "      <td>Berliner Register</td>\n",
       "      <td>NaN</td>\n",
       "      <td>NaN</td>\n",
       "      <td>NaN</td>\n",
       "      <td>NaN</td>\n",
       "      <td>NaN</td>\n",
       "    </tr>\n",
       "    <tr>\n",
       "      <th>21948</th>\n",
       "      <td>2021-01-07</td>\n",
       "      <td>Mitte</td>\n",
       "      <td>Homophobe Beleidigung und Bedrohung im U-Bahnh...</td>\n",
       "      <td>Im U-Bahnhof Seestraße wurde gegen 8.20 Uhr ei...</td>\n",
       "      <td>Registerstelle Mitte, Twitter</td>\n",
       "      <td>verbal</td>\n",
       "      <td>NaN</td>\n",
       "      <td>NaN</td>\n",
       "      <td>NaN</td>\n",
       "      <td>NaN</td>\n",
       "    </tr>\n",
       "    <tr>\n",
       "      <th>21974</th>\n",
       "      <td>2021-01-02</td>\n",
       "      <td>Reinickendorf</td>\n",
       "      <td>Transfeindliche Sticker am Tegeler See</td>\n",
       "      <td>An einem Uferweg, unweit der Sehenswürdigkeit ...</td>\n",
       "      <td>Register Reinickendorf</td>\n",
       "      <td>verbal</td>\n",
       "      <td>NaN</td>\n",
       "      <td>NaN</td>\n",
       "      <td>NaN</td>\n",
       "      <td>NaN</td>\n",
       "    </tr>\n",
       "  </tbody>\n",
       "</table>\n",
       "<p>1009 rows × 10 columns</p>\n",
       "</div>"
      ],
      "text/plain": [
       "            Date                    District  \\\n",
       "1707  2014-11-29        Tempelhof-Schöneberg   \n",
       "1836  2014-10-26        Tempelhof-Schöneberg   \n",
       "1861  2014-10-17                       Mitte   \n",
       "1874  2014-10-12         Marzahn-Hellersdorf   \n",
       "1913  2014-10-03  Charlottenburg-Wilmersdorf   \n",
       "...          ...                         ...   \n",
       "21900 2021-01-14    Friedrichshain-Kreuzberg   \n",
       "21930 2021-01-10            Treptow-Köpenick   \n",
       "21933 2021-01-10                 Lichtenberg   \n",
       "21948 2021-01-07                       Mitte   \n",
       "21974 2021-01-02               Reinickendorf   \n",
       "\n",
       "                                                  Header  \\\n",
       "1707                  Angriff aus transphober Motivation   \n",
       "1836                  Angriff aus transphober Motivation   \n",
       "1861              LGBQT feindliche Schmiererei entdeckt!   \n",
       "1874               Menschenfeindliche Parolen beim Sport   \n",
       "1913   Homosexuellenfeindliches Banner bei Stuttgarte...   \n",
       "...                                                  ...   \n",
       "21900   Homophobe Beleidigung während Online-Unterrichts   \n",
       "21930  Extrem rechte Propaganda des 3. Weg in Johanni...   \n",
       "21933                         NS-Propaganda am Fennpfuhl   \n",
       "21948  Homophobe Beleidigung und Bedrohung im U-Bahnh...   \n",
       "21974             Transfeindliche Sticker am Tegeler See   \n",
       "\n",
       "                                                   Story  \\\n",
       "1707   Ein 30-jähriger Mann wird gegen 05.00 Uhr in d...   \n",
       "1836   Am 26.10.14 wird ein 30-jähriger Mann gegen 07...   \n",
       "1861   Am Abend gegen 20.10 Uhr stellen Polizeibeamte...   \n",
       "1874   Gegen 16:00 Uhr werden Fans des Fußballvereins...   \n",
       "1913   Am 3. Oktober 2014 hing im Olympiastadion in W...   \n",
       "...                                                  ...   \n",
       "21900  Ein Lehrer einer Kreuzberger Schule wurde anon...   \n",
       "21930  Im Gebiet zwischen Landschaftspark, Gerhard-Se...   \n",
       "21933  Am Anton-Saefkow-Platz, in der Bernhard-Bästle...   \n",
       "21948  Im U-Bahnhof Seestraße wurde gegen 8.20 Uhr ei...   \n",
       "21974  An einem Uferweg, unweit der Sehenswürdigkeit ...   \n",
       "\n",
       "                                                  Source    Attack  \\\n",
       "1707                                            ReachOut  physical   \n",
       "1836                                            ReachOut  physical   \n",
       "1861                                      Polizei Berlin       NaN   \n",
       "1874   Register Charlottenburg-Wilmersdorf; Antisemit...    verbal   \n",
       "1913      Fußballfans gegen Homophobie, Hertha-Inside.de       NaN   \n",
       "...                                                  ...       ...   \n",
       "21900                                Bürger*innenmeldung    verbal   \n",
       "21930                             Zentrum für Demokratie       NaN   \n",
       "21933                                  Berliner Register       NaN   \n",
       "21948                      Registerstelle Mitte, Twitter    verbal   \n",
       "21974                             Register Reinickendorf    verbal   \n",
       "\n",
       "       Propaganda  Structural Discrimination  Material Damage  Reported status  \n",
       "1707          NaN                        NaN              NaN              NaN  \n",
       "1836          NaN                        NaN              NaN              NaN  \n",
       "1861          NaN                        NaN              NaN              NaN  \n",
       "1874          NaN                        NaN              NaN              NaN  \n",
       "1913          NaN                        NaN              NaN              NaN  \n",
       "...           ...                        ...              ...              ...  \n",
       "21900         NaN                        NaN              NaN              NaN  \n",
       "21930         NaN                        NaN              NaN              NaN  \n",
       "21933         NaN                        NaN              NaN              NaN  \n",
       "21948         NaN                        NaN              NaN              NaN  \n",
       "21974         NaN                        NaN              NaN              NaN  \n",
       "\n",
       "[1009 rows x 10 columns]"
      ]
     },
     "execution_count": 207,
     "metadata": {},
     "output_type": "execute_result"
    }
   ],
   "source": [
    "df_lgbt"
   ]
  },
  {
   "cell_type": "code",
   "execution_count": 240,
   "metadata": {},
   "outputs": [
    {
     "data": {
      "text/plain": [
       "Date                                       2014-10-17 00:00:00\n",
       "District                                                 Mitte\n",
       "Header                  LGBQT feindliche Schmiererei entdeckt!\n",
       "Story        Am Abend gegen 20.10 Uhr stellen Polizeibeamte...\n",
       "Source                                          Polizei Berlin\n",
       "Attack                                                   check\n",
       "latitude                                               52.5133\n",
       "longitude                                              13.3761\n",
       "Name: 1861, dtype: object"
      ]
     },
     "execution_count": 240,
     "metadata": {},
     "output_type": "execute_result"
    }
   ],
   "source": [
    "df_map.loc[1861]"
   ]
  },
  {
   "cell_type": "code",
   "execution_count": 136,
   "metadata": {},
   "outputs": [],
   "source": [
    "for (k,v) in dict_no_ents.items():\n",
    "    try:\n",
    "        assert type(v['location']) == str\n",
    "    except:\n",
    "        continue\n",
    "    doc = [doc for doc in docs if doc[0]._.index == k][0]\n",
    "    district = doc[0]._.district\n",
    "    loc_string = v['location']\n",
    "    loc_raw = Nominatim(user_agent=\"mymap\").geocode(loc_string + ' Berlin', addressdetails=True).raw\n",
    "    lat = float(loc_raw['lat'])\n",
    "    lon = float(loc_raw['lon'])\n",
    "    df_map_new.loc[k, 'latitude'] = lat\n",
    "    df_map_new.loc[k, 'longitude'] = lon"
   ]
  },
  {
   "cell_type": "code",
   "execution_count": 132,
   "metadata": {
    "scrolled": true
   },
   "outputs": [
    {
     "data": {
      "text/plain": [
       "(Rassistische und homophobe Schmiererei. Vor der Franz-Marc-Schule in der Treskowallee ist auf einem Papierkorb mit schwarzem Edding \"Erdogan = schwul\" angebracht. Dieser Slogan tauchte in der Gegend bereits öfter und in Verbindung mit anderen rassistischen Sprüchen auf.,\n",
       " {'index': 6214,\n",
       "  'district': 'Reinickendorf',\n",
       "  'ORG': ['Franz-Marc-Schule'],\n",
       "  'LOC': ['Treskowallee'],\n",
       "  'PER': ['Erdogan']})"
      ]
     },
     "execution_count": 132,
     "metadata": {},
     "output_type": "execute_result"
    }
   ],
   "source": [
    "doc"
   ]
  },
  {
   "cell_type": "code",
   "execution_count": 133,
   "metadata": {},
   "outputs": [
    {
     "data": {
      "text/plain": [
       "{'location': 'Franz-Marc-Schule',\n",
       " 'attack': None,\n",
       " 'propaganda': 'anonymous',\n",
       " 'damage_of_property': 'yes',\n",
       " 'structural_discrimination': None,\n",
       " 'reported_police': None}"
      ]
     },
     "execution_count": 133,
     "metadata": {},
     "output_type": "execute_result"
    }
   ],
   "source": [
    "dict_no_ents[6214]"
   ]
  },
  {
   "cell_type": "code",
   "execution_count": 130,
   "metadata": {},
   "outputs": [],
   "source": [
    "dict_no_ents[5421]['location'] = 'U Hönow'"
   ]
  },
  {
   "cell_type": "code",
   "execution_count": null,
   "metadata": {},
   "outputs": [],
   "source": []
  },
  {
   "cell_type": "code",
   "execution_count": 27,
   "metadata": {
    "scrolled": true
   },
   "outputs": [],
   "source": [
    "df_map_new = df_lgbt.loc[dict_no_ents.keys(), ['Date','District','Header','Story','Source','Attack']]"
   ]
  },
  {
   "cell_type": "code",
   "execution_count": 37,
   "metadata": {},
   "outputs": [
    {
     "data": {
      "text/html": [
       "<div>\n",
       "<style scoped>\n",
       "    .dataframe tbody tr th:only-of-type {\n",
       "        vertical-align: middle;\n",
       "    }\n",
       "\n",
       "    .dataframe tbody tr th {\n",
       "        vertical-align: top;\n",
       "    }\n",
       "\n",
       "    .dataframe thead th {\n",
       "        text-align: right;\n",
       "    }\n",
       "</style>\n",
       "<table border=\"1\" class=\"dataframe\">\n",
       "  <thead>\n",
       "    <tr style=\"text-align: right;\">\n",
       "      <th></th>\n",
       "      <th>Date</th>\n",
       "      <th>District</th>\n",
       "      <th>Header</th>\n",
       "      <th>Story</th>\n",
       "      <th>Source</th>\n",
       "      <th>Attack</th>\n",
       "    </tr>\n",
       "  </thead>\n",
       "  <tbody>\n",
       "    <tr>\n",
       "      <th>1861</th>\n",
       "      <td>2014-10-17</td>\n",
       "      <td>Mitte</td>\n",
       "      <td>LGBQT feindliche Schmiererei entdeckt!</td>\n",
       "      <td>Am Abend gegen 20.10 Uhr stellen Polizeibeamte...</td>\n",
       "      <td>Polizei Berlin</td>\n",
       "      <td>NaN</td>\n",
       "    </tr>\n",
       "    <tr>\n",
       "      <th>3206</th>\n",
       "      <td>2015-10-30</td>\n",
       "      <td>Friedrichshain-Kreuzberg</td>\n",
       "      <td>Brief mit antisemitischem und homophobem Inhalt</td>\n",
       "      <td>Im Axel-Springer-Verlag ging ein Brief mit ant...</td>\n",
       "      <td>Polizei</td>\n",
       "      <td>NaN</td>\n",
       "    </tr>\n",
       "    <tr>\n",
       "      <th>3645</th>\n",
       "      <td>2015-08-23</td>\n",
       "      <td>Mitte</td>\n",
       "      <td>Pfefferspray gegen Homosexuellen</td>\n",
       "      <td>Am 23. August griff eine Gruppe von Männern ei...</td>\n",
       "      <td>ReachOut e.V.</td>\n",
       "      <td>NaN</td>\n",
       "    </tr>\n",
       "    <tr>\n",
       "      <th>3763</th>\n",
       "      <td>2015-07-31</td>\n",
       "      <td>Lichtenberg</td>\n",
       "      <td>Hetze von \"Pro Deutschland\" auf Facebook</td>\n",
       "      <td>Die Kleinstpartei „Pro Deutschland“ veröffentl...</td>\n",
       "      <td>Lichtenberger Register</td>\n",
       "      <td>NaN</td>\n",
       "    </tr>\n",
       "    <tr>\n",
       "      <th>4032</th>\n",
       "      <td>2015-06-06</td>\n",
       "      <td>Friedrichshain-Kreuzberg</td>\n",
       "      <td>Mann aus homophober Motivation ins Gesicht ges...</td>\n",
       "      <td>Ein 31-jähriger Mann wird gegen 0.20 Uhr in de...</td>\n",
       "      <td>ReachOut</td>\n",
       "      <td>NaN</td>\n",
       "    </tr>\n",
       "    <tr>\n",
       "      <th>4405</th>\n",
       "      <td>2015-03-23</td>\n",
       "      <td>Treptow-Köpenick</td>\n",
       "      <td>Homophobe Vermietungspolitik</td>\n",
       "      <td>Zwei Frauen versuchten bei einer privaten Gart...</td>\n",
       "      <td>Zentrum für Demokratie</td>\n",
       "      <td>NaN</td>\n",
       "    </tr>\n",
       "    <tr>\n",
       "      <th>5183</th>\n",
       "      <td>2016-10-13</td>\n",
       "      <td>Friedrichshain-Kreuzberg</td>\n",
       "      <td>LGBTIQ*-feindliche Schmiererei am U-Bahnhof Mö...</td>\n",
       "      <td>Am U-Bahnhof Möckernbrücke wurde eine LGBTIQ* ...</td>\n",
       "      <td>Register Charlottenburg-Wilmersdorf</td>\n",
       "      <td>NaN</td>\n",
       "    </tr>\n",
       "    <tr>\n",
       "      <th>5830</th>\n",
       "      <td>2016-07-23</td>\n",
       "      <td>Mitte</td>\n",
       "      <td>Homophob angegriffen</td>\n",
       "      <td>Gegen 16.00 Uhr beobachtet ein 49-jähriger Man...</td>\n",
       "      <td>Polizei Berlin, 27.02.2017, ReachOut</td>\n",
       "      <td>NaN</td>\n",
       "    </tr>\n",
       "    <tr>\n",
       "      <th>6214</th>\n",
       "      <td>2016-06-03</td>\n",
       "      <td>Reinickendorf</td>\n",
       "      <td>Rassistische und homophobe Schmiererei</td>\n",
       "      <td>Vor der Franz-Marc-Schule in der Treskowallee ...</td>\n",
       "      <td>Register Spandau</td>\n",
       "      <td>NaN</td>\n",
       "    </tr>\n",
       "    <tr>\n",
       "      <th>6221</th>\n",
       "      <td>2016-06-02</td>\n",
       "      <td>Reinickendorf</td>\n",
       "      <td>Plakate beschmiert und beschädigt</td>\n",
       "      <td>In der ver.di Jugendbildungsstätte Konradshöhe...</td>\n",
       "      <td>ver.di Jugendbildungsstätte Berlin-Konradshöhe...</td>\n",
       "      <td>NaN</td>\n",
       "    </tr>\n",
       "    <tr>\n",
       "      <th>8212</th>\n",
       "      <td>2017-09-10</td>\n",
       "      <td>Treptow-Köpenick</td>\n",
       "      <td>AfD beim Altglienicker Spätsommerfest</td>\n",
       "      <td>Am 10. September fand das 16. Altglienicker Sp...</td>\n",
       "      <td>Register Treptow-Köpenick</td>\n",
       "      <td>NaN</td>\n",
       "    </tr>\n",
       "    <tr>\n",
       "      <th>8694</th>\n",
       "      <td>2017-07-24</td>\n",
       "      <td>Mitte</td>\n",
       "      <td>Plakat aus LGBTIQ*-feindlichen Gründen zerstört</td>\n",
       "      <td>Im Ortsteil Mitte an der Kreuzung Torstraße Ec...</td>\n",
       "      <td>Berliner Register</td>\n",
       "      <td>NaN</td>\n",
       "    </tr>\n",
       "    <tr>\n",
       "      <th>8857</th>\n",
       "      <td>2017-07-04</td>\n",
       "      <td>Tempelhof-Schöneberg</td>\n",
       "      <td>Paar aus homophober Motivation angespuckt</td>\n",
       "      <td>Am 04.07.17 gegen 17.00 Uhr wurden zwei Männer...</td>\n",
       "      <td>Register Tempelhof-Schöneberg</td>\n",
       "      <td>NaN</td>\n",
       "    </tr>\n",
       "    <tr>\n",
       "      <th>8891</th>\n",
       "      <td>2017-06-30</td>\n",
       "      <td>Lichtenberg</td>\n",
       "      <td>Flüchtlingsfeindliche Beiträge auf NPD-Faceboo...</td>\n",
       "      <td>Die Lichtenberger NPD veröffentlichte auf Face...</td>\n",
       "      <td>Lichtenberger Register</td>\n",
       "      <td>NaN</td>\n",
       "    </tr>\n",
       "    <tr>\n",
       "      <th>11687</th>\n",
       "      <td>2018-07-30</td>\n",
       "      <td>Neukölln</td>\n",
       "      <td>Israel-bezogener Antisemitismus auf Aufkleber</td>\n",
       "      <td>An einer Ampel auf einer Verkehrsinsel in der ...</td>\n",
       "      <td>RIAS Berlin</td>\n",
       "      <td>NaN</td>\n",
       "    </tr>\n",
       "    <tr>\n",
       "      <th>11773</th>\n",
       "      <td>2018-07-21</td>\n",
       "      <td>Tempelhof-Schöneberg</td>\n",
       "      <td>Anti-Israel Propaganda beim lesbisch-schwulen ...</td>\n",
       "      <td>Rund um das Motzstraßenfest werden am 21.07.20...</td>\n",
       "      <td>Recherche- und Informationsstelle Antisemitism...</td>\n",
       "      <td>NaN</td>\n",
       "    </tr>\n",
       "    <tr>\n",
       "      <th>15566</th>\n",
       "      <td>2019-05-21</td>\n",
       "      <td>Mitte</td>\n",
       "      <td>Homofeindliche Schmiererei in Mitte</td>\n",
       "      <td>Im Ortsteil Mitte wurde in der Alexanderstraße...</td>\n",
       "      <td>Registerstelle Berlin-Mitte</td>\n",
       "      <td>NaN</td>\n",
       "    </tr>\n",
       "    <tr>\n",
       "      <th>18842</th>\n",
       "      <td>2020-07-15</td>\n",
       "      <td>Friedrichshain-Kreuzberg</td>\n",
       "      <td>Lokalgäste in der Adalbertraße mit Küchenmesse...</td>\n",
       "      <td>Gegen 21.30 Uhr werden Gäste in einem Lokal in...</td>\n",
       "      <td>Reachout Berlin</td>\n",
       "      <td>NaN</td>\n",
       "    </tr>\n",
       "  </tbody>\n",
       "</table>\n",
       "</div>"
      ],
      "text/plain": [
       "            Date                  District  \\\n",
       "1861  2014-10-17                     Mitte   \n",
       "3206  2015-10-30  Friedrichshain-Kreuzberg   \n",
       "3645  2015-08-23                     Mitte   \n",
       "3763  2015-07-31               Lichtenberg   \n",
       "4032  2015-06-06  Friedrichshain-Kreuzberg   \n",
       "4405  2015-03-23          Treptow-Köpenick   \n",
       "5183  2016-10-13  Friedrichshain-Kreuzberg   \n",
       "5830  2016-07-23                     Mitte   \n",
       "6214  2016-06-03             Reinickendorf   \n",
       "6221  2016-06-02             Reinickendorf   \n",
       "8212  2017-09-10          Treptow-Köpenick   \n",
       "8694  2017-07-24                     Mitte   \n",
       "8857  2017-07-04      Tempelhof-Schöneberg   \n",
       "8891  2017-06-30               Lichtenberg   \n",
       "11687 2018-07-30                  Neukölln   \n",
       "11773 2018-07-21      Tempelhof-Schöneberg   \n",
       "15566 2019-05-21                     Mitte   \n",
       "18842 2020-07-15  Friedrichshain-Kreuzberg   \n",
       "\n",
       "                                                  Header  \\\n",
       "1861              LGBQT feindliche Schmiererei entdeckt!   \n",
       "3206     Brief mit antisemitischem und homophobem Inhalt   \n",
       "3645                    Pfefferspray gegen Homosexuellen   \n",
       "3763            Hetze von \"Pro Deutschland\" auf Facebook   \n",
       "4032   Mann aus homophober Motivation ins Gesicht ges...   \n",
       "4405                        Homophobe Vermietungspolitik   \n",
       "5183   LGBTIQ*-feindliche Schmiererei am U-Bahnhof Mö...   \n",
       "5830                                Homophob angegriffen   \n",
       "6214              Rassistische und homophobe Schmiererei   \n",
       "6221                   Plakate beschmiert und beschädigt   \n",
       "8212               AfD beim Altglienicker Spätsommerfest   \n",
       "8694     Plakat aus LGBTIQ*-feindlichen Gründen zerstört   \n",
       "8857           Paar aus homophober Motivation angespuckt   \n",
       "8891   Flüchtlingsfeindliche Beiträge auf NPD-Faceboo...   \n",
       "11687      Israel-bezogener Antisemitismus auf Aufkleber   \n",
       "11773  Anti-Israel Propaganda beim lesbisch-schwulen ...   \n",
       "15566                Homofeindliche Schmiererei in Mitte   \n",
       "18842  Lokalgäste in der Adalbertraße mit Küchenmesse...   \n",
       "\n",
       "                                                   Story  \\\n",
       "1861   Am Abend gegen 20.10 Uhr stellen Polizeibeamte...   \n",
       "3206   Im Axel-Springer-Verlag ging ein Brief mit ant...   \n",
       "3645   Am 23. August griff eine Gruppe von Männern ei...   \n",
       "3763   Die Kleinstpartei „Pro Deutschland“ veröffentl...   \n",
       "4032   Ein 31-jähriger Mann wird gegen 0.20 Uhr in de...   \n",
       "4405   Zwei Frauen versuchten bei einer privaten Gart...   \n",
       "5183   Am U-Bahnhof Möckernbrücke wurde eine LGBTIQ* ...   \n",
       "5830   Gegen 16.00 Uhr beobachtet ein 49-jähriger Man...   \n",
       "6214   Vor der Franz-Marc-Schule in der Treskowallee ...   \n",
       "6221   In der ver.di Jugendbildungsstätte Konradshöhe...   \n",
       "8212   Am 10. September fand das 16. Altglienicker Sp...   \n",
       "8694   Im Ortsteil Mitte an der Kreuzung Torstraße Ec...   \n",
       "8857   Am 04.07.17 gegen 17.00 Uhr wurden zwei Männer...   \n",
       "8891   Die Lichtenberger NPD veröffentlichte auf Face...   \n",
       "11687  An einer Ampel auf einer Verkehrsinsel in der ...   \n",
       "11773  Rund um das Motzstraßenfest werden am 21.07.20...   \n",
       "15566  Im Ortsteil Mitte wurde in der Alexanderstraße...   \n",
       "18842  Gegen 21.30 Uhr werden Gäste in einem Lokal in...   \n",
       "\n",
       "                                                  Source Attack  \n",
       "1861                                      Polizei Berlin    NaN  \n",
       "3206                                             Polizei    NaN  \n",
       "3645                                       ReachOut e.V.    NaN  \n",
       "3763                              Lichtenberger Register    NaN  \n",
       "4032                                            ReachOut    NaN  \n",
       "4405                              Zentrum für Demokratie    NaN  \n",
       "5183                 Register Charlottenburg-Wilmersdorf    NaN  \n",
       "5830                Polizei Berlin, 27.02.2017, ReachOut    NaN  \n",
       "6214                                    Register Spandau    NaN  \n",
       "6221   ver.di Jugendbildungsstätte Berlin-Konradshöhe...    NaN  \n",
       "8212                           Register Treptow-Köpenick    NaN  \n",
       "8694                                   Berliner Register    NaN  \n",
       "8857                       Register Tempelhof-Schöneberg    NaN  \n",
       "8891                              Lichtenberger Register    NaN  \n",
       "11687                                        RIAS Berlin    NaN  \n",
       "11773  Recherche- und Informationsstelle Antisemitism...    NaN  \n",
       "15566                        Registerstelle Berlin-Mitte    NaN  \n",
       "18842                                    Reachout Berlin    NaN  "
      ]
     },
     "execution_count": 37,
     "metadata": {},
     "output_type": "execute_result"
    }
   ],
   "source": [
    "df_map_new[df_map_new['Attack'].isna() == True]\n"
   ]
  },
  {
   "cell_type": "code",
   "execution_count": 5,
   "metadata": {},
   "outputs": [
    {
     "data": {
      "text/html": [
       "<div>\n",
       "<style scoped>\n",
       "    .dataframe tbody tr th:only-of-type {\n",
       "        vertical-align: middle;\n",
       "    }\n",
       "\n",
       "    .dataframe tbody tr th {\n",
       "        vertical-align: top;\n",
       "    }\n",
       "\n",
       "    .dataframe thead th {\n",
       "        text-align: right;\n",
       "    }\n",
       "</style>\n",
       "<table border=\"1\" class=\"dataframe\">\n",
       "  <thead>\n",
       "    <tr style=\"text-align: right;\">\n",
       "      <th></th>\n",
       "      <th>Date</th>\n",
       "      <th>District</th>\n",
       "      <th>Header</th>\n",
       "      <th>Story</th>\n",
       "      <th>Source</th>\n",
       "      <th>Attack</th>\n",
       "      <th>latitude</th>\n",
       "      <th>longitude</th>\n",
       "    </tr>\n",
       "  </thead>\n",
       "  <tbody>\n",
       "    <tr>\n",
       "      <th>1707</th>\n",
       "      <td>2014-11-29</td>\n",
       "      <td>Tempelhof-Schöneberg</td>\n",
       "      <td>Angriff aus transphober Motivation</td>\n",
       "      <td>Ein 30-jähriger Mann wird gegen 05.00 Uhr in d...</td>\n",
       "      <td>ReachOut</td>\n",
       "      <td>physical</td>\n",
       "      <td>52.499447</td>\n",
       "      <td>13.359882</td>\n",
       "    </tr>\n",
       "    <tr>\n",
       "      <th>1836</th>\n",
       "      <td>2014-10-26</td>\n",
       "      <td>Tempelhof-Schöneberg</td>\n",
       "      <td>Angriff aus transphober Motivation</td>\n",
       "      <td>Am 26.10.14 wird ein 30-jähriger Mann gegen 07...</td>\n",
       "      <td>ReachOut</td>\n",
       "      <td>physical</td>\n",
       "      <td>52.494660</td>\n",
       "      <td>13.361087</td>\n",
       "    </tr>\n",
       "    <tr>\n",
       "      <th>1915</th>\n",
       "      <td>2014-10-03</td>\n",
       "      <td>Mitte</td>\n",
       "      <td>Homophobe Aggression gegen ein schwules Pärchen</td>\n",
       "      <td>Zwei Schwule werden auf dem U-Bahnhof Pankstra...</td>\n",
       "      <td>Polizei Berlin</td>\n",
       "      <td>other</td>\n",
       "      <td>52.550920</td>\n",
       "      <td>13.384846</td>\n",
       "    </tr>\n",
       "    <tr>\n",
       "      <th>1940</th>\n",
       "      <td>2014-09-24</td>\n",
       "      <td>Tempelhof-Schöneberg</td>\n",
       "      <td>Angriff aus transphober Motivation</td>\n",
       "      <td>Auf der Potsdamer Straße ist gegen 11.20 Uhr e...</td>\n",
       "      <td>ReachOut</td>\n",
       "      <td>physical</td>\n",
       "      <td>52.494660</td>\n",
       "      <td>13.361087</td>\n",
       "    </tr>\n",
       "    <tr>\n",
       "      <th>1951</th>\n",
       "      <td>2014-09-21</td>\n",
       "      <td>Pankow</td>\n",
       "      <td>Homophober Angriff am S-Bahnhof Blankenburg</td>\n",
       "      <td>Zwei 20- und 21-jährige Männer werden gegen 00...</td>\n",
       "      <td>ReachOut</td>\n",
       "      <td>physical</td>\n",
       "      <td>52.591013</td>\n",
       "      <td>13.442641</td>\n",
       "    </tr>\n",
       "    <tr>\n",
       "      <th>...</th>\n",
       "      <td>...</td>\n",
       "      <td>...</td>\n",
       "      <td>...</td>\n",
       "      <td>...</td>\n",
       "      <td>...</td>\n",
       "      <td>...</td>\n",
       "      <td>...</td>\n",
       "      <td>...</td>\n",
       "    </tr>\n",
       "    <tr>\n",
       "      <th>21633</th>\n",
       "      <td>2021-02-15</td>\n",
       "      <td>Friedrichshain-Kreuzberg</td>\n",
       "      <td>LGBTI*-feindliche Sticker im Boxikiez</td>\n",
       "      <td>In der Kreutziger Ecke Boxhagener Straße sowie...</td>\n",
       "      <td>Register Friedrichshain-Kreuzberg</td>\n",
       "      <td>other</td>\n",
       "      <td>52.510799</td>\n",
       "      <td>13.459701</td>\n",
       "    </tr>\n",
       "    <tr>\n",
       "      <th>21649</th>\n",
       "      <td>2021-02-13</td>\n",
       "      <td>Neukölln</td>\n",
       "      <td>Extrem rechtes Plakat bei S-Hermannstr.</td>\n",
       "      <td>Eine extrem rechte Gruppierung tauschte ein We...</td>\n",
       "      <td>Register Neukölln, via twitter</td>\n",
       "      <td>other</td>\n",
       "      <td>52.467634</td>\n",
       "      <td>13.431241</td>\n",
       "    </tr>\n",
       "    <tr>\n",
       "      <th>21745</th>\n",
       "      <td>2021-02-02</td>\n",
       "      <td>Tempelhof-Schöneberg</td>\n",
       "      <td>Kondolenzkranz am U-Bhf. Nollendorfplatz zerstört</td>\n",
       "      <td>Ein Betrunkener zerstörte am Eingang des U-Bah...</td>\n",
       "      <td>Tagesspiegel, 2.2.21</td>\n",
       "      <td>other</td>\n",
       "      <td>52.499538</td>\n",
       "      <td>13.353943</td>\n",
       "    </tr>\n",
       "    <tr>\n",
       "      <th>21858</th>\n",
       "      <td>2021-01-20</td>\n",
       "      <td>Treptow-Köpenick</td>\n",
       "      <td>Hakenkreuz u.a. in Friedrichshagen</td>\n",
       "      <td>An einer Schallschutzmauer am S-Bhf. Friedrich...</td>\n",
       "      <td>Zentrum für Demokratie</td>\n",
       "      <td>other</td>\n",
       "      <td>52.449380</td>\n",
       "      <td>13.626272</td>\n",
       "    </tr>\n",
       "    <tr>\n",
       "      <th>21900</th>\n",
       "      <td>2021-01-14</td>\n",
       "      <td>Friedrichshain-Kreuzberg</td>\n",
       "      <td>Homophobe Beleidigung während Online-Unterrichts</td>\n",
       "      <td>Ein Lehrer einer Kreuzberger Schule wurde anon...</td>\n",
       "      <td>Bürger*innenmeldung</td>\n",
       "      <td>verbal</td>\n",
       "      <td>52.504318</td>\n",
       "      <td>13.427610</td>\n",
       "    </tr>\n",
       "  </tbody>\n",
       "</table>\n",
       "<p>350 rows × 8 columns</p>\n",
       "</div>"
      ],
      "text/plain": [
       "            Date                  District  \\\n",
       "1707  2014-11-29      Tempelhof-Schöneberg   \n",
       "1836  2014-10-26      Tempelhof-Schöneberg   \n",
       "1915  2014-10-03                     Mitte   \n",
       "1940  2014-09-24      Tempelhof-Schöneberg   \n",
       "1951  2014-09-21                    Pankow   \n",
       "...          ...                       ...   \n",
       "21633 2021-02-15  Friedrichshain-Kreuzberg   \n",
       "21649 2021-02-13                  Neukölln   \n",
       "21745 2021-02-02      Tempelhof-Schöneberg   \n",
       "21858 2021-01-20          Treptow-Köpenick   \n",
       "21900 2021-01-14  Friedrichshain-Kreuzberg   \n",
       "\n",
       "                                                  Header  \\\n",
       "1707                  Angriff aus transphober Motivation   \n",
       "1836                  Angriff aus transphober Motivation   \n",
       "1915     Homophobe Aggression gegen ein schwules Pärchen   \n",
       "1940                  Angriff aus transphober Motivation   \n",
       "1951         Homophober Angriff am S-Bahnhof Blankenburg   \n",
       "...                                                  ...   \n",
       "21633              LGBTI*-feindliche Sticker im Boxikiez   \n",
       "21649            Extrem rechtes Plakat bei S-Hermannstr.   \n",
       "21745  Kondolenzkranz am U-Bhf. Nollendorfplatz zerstört   \n",
       "21858                 Hakenkreuz u.a. in Friedrichshagen   \n",
       "21900   Homophobe Beleidigung während Online-Unterrichts   \n",
       "\n",
       "                                                   Story  \\\n",
       "1707   Ein 30-jähriger Mann wird gegen 05.00 Uhr in d...   \n",
       "1836   Am 26.10.14 wird ein 30-jähriger Mann gegen 07...   \n",
       "1915   Zwei Schwule werden auf dem U-Bahnhof Pankstra...   \n",
       "1940   Auf der Potsdamer Straße ist gegen 11.20 Uhr e...   \n",
       "1951   Zwei 20- und 21-jährige Männer werden gegen 00...   \n",
       "...                                                  ...   \n",
       "21633  In der Kreutziger Ecke Boxhagener Straße sowie...   \n",
       "21649  Eine extrem rechte Gruppierung tauschte ein We...   \n",
       "21745  Ein Betrunkener zerstörte am Eingang des U-Bah...   \n",
       "21858  An einer Schallschutzmauer am S-Bhf. Friedrich...   \n",
       "21900  Ein Lehrer einer Kreuzberger Schule wurde anon...   \n",
       "\n",
       "                                  Source    Attack   latitude  longitude  \n",
       "1707                            ReachOut  physical  52.499447  13.359882  \n",
       "1836                            ReachOut  physical  52.494660  13.361087  \n",
       "1915                      Polizei Berlin     other  52.550920  13.384846  \n",
       "1940                            ReachOut  physical  52.494660  13.361087  \n",
       "1951                            ReachOut  physical  52.591013  13.442641  \n",
       "...                                  ...       ...        ...        ...  \n",
       "21633  Register Friedrichshain-Kreuzberg     other  52.510799  13.459701  \n",
       "21649     Register Neukölln, via twitter     other  52.467634  13.431241  \n",
       "21745               Tagesspiegel, 2.2.21     other  52.499538  13.353943  \n",
       "21858             Zentrum für Demokratie     other  52.449380  13.626272  \n",
       "21900                Bürger*innenmeldung    verbal  52.504318  13.427610  \n",
       "\n",
       "[350 rows x 8 columns]"
      ]
     },
     "execution_count": 5,
     "metadata": {},
     "output_type": "execute_result"
    }
   ],
   "source": [
    "df_map"
   ]
  },
  {
   "cell_type": "code",
   "execution_count": null,
   "metadata": {},
   "outputs": [],
   "source": []
  },
  {
   "cell_type": "code",
   "execution_count": 165,
   "metadata": {},
   "outputs": [
    {
     "data": {
      "text/html": [
       "<div>\n",
       "<style scoped>\n",
       "    .dataframe tbody tr th:only-of-type {\n",
       "        vertical-align: middle;\n",
       "    }\n",
       "\n",
       "    .dataframe tbody tr th {\n",
       "        vertical-align: top;\n",
       "    }\n",
       "\n",
       "    .dataframe thead th {\n",
       "        text-align: right;\n",
       "    }\n",
       "</style>\n",
       "<table border=\"1\" class=\"dataframe\">\n",
       "  <thead>\n",
       "    <tr style=\"text-align: right;\">\n",
       "      <th></th>\n",
       "      <th>Date</th>\n",
       "      <th>District</th>\n",
       "      <th>Header</th>\n",
       "      <th>Story</th>\n",
       "      <th>Source</th>\n",
       "      <th>Attack</th>\n",
       "      <th>Propaganda</th>\n",
       "      <th>Structural Discrimination</th>\n",
       "      <th>Material Damage</th>\n",
       "      <th>Reported status</th>\n",
       "    </tr>\n",
       "  </thead>\n",
       "  <tbody>\n",
       "    <tr>\n",
       "      <th>1707</th>\n",
       "      <td>2014-11-29</td>\n",
       "      <td>Tempelhof-Schöneberg</td>\n",
       "      <td>Angriff aus transphober Motivation</td>\n",
       "      <td>Ein 30-jähriger Mann wird gegen 05.00 Uhr in d...</td>\n",
       "      <td>ReachOut</td>\n",
       "      <td>physical</td>\n",
       "      <td>NaN</td>\n",
       "      <td>NaN</td>\n",
       "      <td>NaN</td>\n",
       "      <td>NaN</td>\n",
       "    </tr>\n",
       "    <tr>\n",
       "      <th>1836</th>\n",
       "      <td>2014-10-26</td>\n",
       "      <td>Tempelhof-Schöneberg</td>\n",
       "      <td>Angriff aus transphober Motivation</td>\n",
       "      <td>Am 26.10.14 wird ein 30-jähriger Mann gegen 07...</td>\n",
       "      <td>ReachOut</td>\n",
       "      <td>physical</td>\n",
       "      <td>NaN</td>\n",
       "      <td>NaN</td>\n",
       "      <td>NaN</td>\n",
       "      <td>NaN</td>\n",
       "    </tr>\n",
       "    <tr>\n",
       "      <th>1861</th>\n",
       "      <td>2014-10-17</td>\n",
       "      <td>Mitte</td>\n",
       "      <td>LGBQT feindliche Schmiererei entdeckt!</td>\n",
       "      <td>Am Abend gegen 20.10 Uhr stellen Polizeibeamte...</td>\n",
       "      <td>Polizei Berlin</td>\n",
       "      <td>NaN</td>\n",
       "      <td>NaN</td>\n",
       "      <td>NaN</td>\n",
       "      <td>NaN</td>\n",
       "      <td>NaN</td>\n",
       "    </tr>\n",
       "    <tr>\n",
       "      <th>1874</th>\n",
       "      <td>2014-10-12</td>\n",
       "      <td>Marzahn-Hellersdorf</td>\n",
       "      <td>Menschenfeindliche Parolen beim Sport</td>\n",
       "      <td>Gegen 16:00 Uhr werden Fans des Fußballvereins...</td>\n",
       "      <td>Register Charlottenburg-Wilmersdorf; Antisemit...</td>\n",
       "      <td>verbal</td>\n",
       "      <td>NaN</td>\n",
       "      <td>NaN</td>\n",
       "      <td>NaN</td>\n",
       "      <td>NaN</td>\n",
       "    </tr>\n",
       "    <tr>\n",
       "      <th>1913</th>\n",
       "      <td>2014-10-03</td>\n",
       "      <td>Charlottenburg-Wilmersdorf</td>\n",
       "      <td>Homosexuellenfeindliches Banner bei Stuttgarte...</td>\n",
       "      <td>Am 3. Oktober 2014 hing im Olympiastadion in W...</td>\n",
       "      <td>Fußballfans gegen Homophobie, Hertha-Inside.de</td>\n",
       "      <td>NaN</td>\n",
       "      <td>NaN</td>\n",
       "      <td>NaN</td>\n",
       "      <td>NaN</td>\n",
       "      <td>NaN</td>\n",
       "    </tr>\n",
       "  </tbody>\n",
       "</table>\n",
       "</div>"
      ],
      "text/plain": [
       "           Date                    District  \\\n",
       "1707 2014-11-29        Tempelhof-Schöneberg   \n",
       "1836 2014-10-26        Tempelhof-Schöneberg   \n",
       "1861 2014-10-17                       Mitte   \n",
       "1874 2014-10-12         Marzahn-Hellersdorf   \n",
       "1913 2014-10-03  Charlottenburg-Wilmersdorf   \n",
       "\n",
       "                                                 Header  \\\n",
       "1707                 Angriff aus transphober Motivation   \n",
       "1836                 Angriff aus transphober Motivation   \n",
       "1861             LGBQT feindliche Schmiererei entdeckt!   \n",
       "1874              Menschenfeindliche Parolen beim Sport   \n",
       "1913  Homosexuellenfeindliches Banner bei Stuttgarte...   \n",
       "\n",
       "                                                  Story  \\\n",
       "1707  Ein 30-jähriger Mann wird gegen 05.00 Uhr in d...   \n",
       "1836  Am 26.10.14 wird ein 30-jähriger Mann gegen 07...   \n",
       "1861  Am Abend gegen 20.10 Uhr stellen Polizeibeamte...   \n",
       "1874  Gegen 16:00 Uhr werden Fans des Fußballvereins...   \n",
       "1913  Am 3. Oktober 2014 hing im Olympiastadion in W...   \n",
       "\n",
       "                                                 Source    Attack  Propaganda  \\\n",
       "1707                                           ReachOut  physical         NaN   \n",
       "1836                                           ReachOut  physical         NaN   \n",
       "1861                                     Polizei Berlin       NaN         NaN   \n",
       "1874  Register Charlottenburg-Wilmersdorf; Antisemit...    verbal         NaN   \n",
       "1913     Fußballfans gegen Homophobie, Hertha-Inside.de       NaN         NaN   \n",
       "\n",
       "      Structural Discrimination  Material Damage  Reported status  \n",
       "1707                        NaN              NaN              NaN  \n",
       "1836                        NaN              NaN              NaN  \n",
       "1861                        NaN              NaN              NaN  \n",
       "1874                        NaN              NaN              NaN  \n",
       "1913                        NaN              NaN              NaN  "
      ]
     },
     "execution_count": 165,
     "metadata": {},
     "output_type": "execute_result"
    }
   ],
   "source": [
    "df_lgbt.head()"
   ]
  },
  {
   "cell_type": "code",
   "execution_count": 117,
   "metadata": {},
   "outputs": [
    {
     "data": {
      "text/plain": [
       "(AfD-Abgeordneter hetzt gegen LGBTIQ*-Parade. Ein AfD-Abgeordneter aus Marzahn-Hellersdorf hat die Teilnehmenden einer LGBTIQ*-Parade am Viktor-Klemperer-Platz gefilmt und anschließend in einem Video im Internet diffamiert. Er behauptet in dem Video, die Teilnehmenden kämen zu großen Teilen von außerhalb und würden \"Unruhe stiften\" und \"Krawall machen\". Weiterhin behauptet er, die Russlanddeutsche Community in Berlin lebe per se nach einem wertkonservativen Weltbild, weshalb die Parade einer vermeintlichen \"Umerziehung\" dienen würde. Weiterhin behauptet er, dies sei das Ziel von \"Rot-Rot-Grün\". Bereits am Tag zuvor behauptete er in seinen Social Media Beiträgen die LGBTIQ*-Parade, die von einem russischsprachigen Verein organisiert wird, sei \"antirussischer Rassismus\". Mit seinen Aussagen spricht der AfD-Abgeordnete dem russland-deutschen Leben in Berlin die Vereinbarkeit mit diversen Lebensweisen ab und schürt gleichzeitig Feindlichkeit gegen diese, indem er behauptet, diese würden der \"Umerziehung\" anderer dienen.,\n",
       " {'index': 18805,\n",
       "  'district': 'Marzahn-Hellersdorf',\n",
       "  'MISC': ['AfD-Abgeordneter',\n",
       "   'LGBTIQ*-Parade',\n",
       "   'AfD-Abgeordneter',\n",
       "   'LGBTIQ*-Parade',\n",
       "   'Internet',\n",
       "   'LGBTIQ*-Parade'],\n",
       "  'LOC': ['Marzahn-Hellersdorf', 'Viktor-Klemperer-Platz', 'Berlin', 'Berlin'],\n",
       "  'ORG': ['Rot-Rot-Grün', 'AfD-Abgeordnete']})"
      ]
     },
     "execution_count": 117,
     "metadata": {},
     "output_type": "execute_result"
    }
   ],
   "source": [
    "docs[859]"
   ]
  },
  {
   "cell_type": "code",
   "execution_count": 150,
   "metadata": {},
   "outputs": [
    {
     "data": {
      "text/plain": [
       "[['Homophob'],\n",
       " ['Prenzlauer Berg', 'Bornholmer Straße', 'Pankow'],\n",
       " ['Polizeiliche Staatschutz']]"
      ]
     },
     "execution_count": 150,
     "metadata": {},
     "output_type": "execute_result"
    }
   ],
   "source": [
    "list(docs[55][1].values())[2:]"
   ]
  },
  {
   "cell_type": "code",
   "execution_count": null,
   "metadata": {},
   "outputs": [],
   "source": [
    "# TODO\n",
    "'''\n",
    "If it finds an unambiguos location: adds three entries to the doc_dict of a doc: \n",
    "    - location, latitude, longitude\n",
    "Saves selected raw Nominatim location object in a dictionary where the keys are the indices\n",
    "If location is ambiguous, saves the story index in a list\n",
    "\n",
    "This function should call a desambiguator when location is not a specific address\n",
    "The function iterates through the entities and select those that can be found in the given district.\n",
    "\n",
    "Returns\n",
    "    -dict of Nominatim locations\n",
    "    -list of ambiguous locations\n",
    "\n",
    "\n",
    "'''"
   ]
  },
  {
   "cell_type": "code",
   "execution_count": 166,
   "metadata": {},
   "outputs": [
    {
     "ename": "GeocoderUnavailable",
     "evalue": "HTTPSConnectionPool(host='nominatim.openstreetmap.org', port=443): Max retries exceeded with url: /search?q=ficken+berlin&format=json&limit=1&addressdetails=1 (Caused by NewConnectionError('<urllib3.connection.HTTPSConnection object at 0x143886730>: Failed to establish a new connection: [Errno 8] nodename nor servname provided, or not known'))",
     "output_type": "error",
     "traceback": [
      "\u001b[0;31m---------------------------------------------------------------------------\u001b[0m",
      "\u001b[0;31mgaierror\u001b[0m                                  Traceback (most recent call last)",
      "\u001b[0;32m/opt/anaconda3/lib/python3.8/site-packages/urllib3/connection.py\u001b[0m in \u001b[0;36m_new_conn\u001b[0;34m(self)\u001b[0m\n\u001b[1;32m    158\u001b[0m         \u001b[0;32mtry\u001b[0m\u001b[0;34m:\u001b[0m\u001b[0;34m\u001b[0m\u001b[0;34m\u001b[0m\u001b[0m\n\u001b[0;32m--> 159\u001b[0;31m             conn = connection.create_connection(\n\u001b[0m\u001b[1;32m    160\u001b[0m                 \u001b[0;34m(\u001b[0m\u001b[0mself\u001b[0m\u001b[0;34m.\u001b[0m\u001b[0m_dns_host\u001b[0m\u001b[0;34m,\u001b[0m \u001b[0mself\u001b[0m\u001b[0;34m.\u001b[0m\u001b[0mport\u001b[0m\u001b[0;34m)\u001b[0m\u001b[0;34m,\u001b[0m \u001b[0mself\u001b[0m\u001b[0;34m.\u001b[0m\u001b[0mtimeout\u001b[0m\u001b[0;34m,\u001b[0m \u001b[0;34m**\u001b[0m\u001b[0mextra_kw\u001b[0m\u001b[0;34m\u001b[0m\u001b[0;34m\u001b[0m\u001b[0m\n",
      "\u001b[0;32m/opt/anaconda3/lib/python3.8/site-packages/urllib3/util/connection.py\u001b[0m in \u001b[0;36mcreate_connection\u001b[0;34m(address, timeout, source_address, socket_options)\u001b[0m\n\u001b[1;32m     60\u001b[0m \u001b[0;34m\u001b[0m\u001b[0m\n\u001b[0;32m---> 61\u001b[0;31m     \u001b[0;32mfor\u001b[0m \u001b[0mres\u001b[0m \u001b[0;32min\u001b[0m \u001b[0msocket\u001b[0m\u001b[0;34m.\u001b[0m\u001b[0mgetaddrinfo\u001b[0m\u001b[0;34m(\u001b[0m\u001b[0mhost\u001b[0m\u001b[0;34m,\u001b[0m \u001b[0mport\u001b[0m\u001b[0;34m,\u001b[0m \u001b[0mfamily\u001b[0m\u001b[0;34m,\u001b[0m \u001b[0msocket\u001b[0m\u001b[0;34m.\u001b[0m\u001b[0mSOCK_STREAM\u001b[0m\u001b[0;34m)\u001b[0m\u001b[0;34m:\u001b[0m\u001b[0;34m\u001b[0m\u001b[0;34m\u001b[0m\u001b[0m\n\u001b[0m\u001b[1;32m     62\u001b[0m         \u001b[0maf\u001b[0m\u001b[0;34m,\u001b[0m \u001b[0msocktype\u001b[0m\u001b[0;34m,\u001b[0m \u001b[0mproto\u001b[0m\u001b[0;34m,\u001b[0m \u001b[0mcanonname\u001b[0m\u001b[0;34m,\u001b[0m \u001b[0msa\u001b[0m \u001b[0;34m=\u001b[0m \u001b[0mres\u001b[0m\u001b[0;34m\u001b[0m\u001b[0;34m\u001b[0m\u001b[0m\n",
      "\u001b[0;32m/opt/anaconda3/lib/python3.8/socket.py\u001b[0m in \u001b[0;36mgetaddrinfo\u001b[0;34m(host, port, family, type, proto, flags)\u001b[0m\n\u001b[1;32m    917\u001b[0m     \u001b[0maddrlist\u001b[0m \u001b[0;34m=\u001b[0m \u001b[0;34m[\u001b[0m\u001b[0;34m]\u001b[0m\u001b[0;34m\u001b[0m\u001b[0;34m\u001b[0m\u001b[0m\n\u001b[0;32m--> 918\u001b[0;31m     \u001b[0;32mfor\u001b[0m \u001b[0mres\u001b[0m \u001b[0;32min\u001b[0m \u001b[0m_socket\u001b[0m\u001b[0;34m.\u001b[0m\u001b[0mgetaddrinfo\u001b[0m\u001b[0;34m(\u001b[0m\u001b[0mhost\u001b[0m\u001b[0;34m,\u001b[0m \u001b[0mport\u001b[0m\u001b[0;34m,\u001b[0m \u001b[0mfamily\u001b[0m\u001b[0;34m,\u001b[0m \u001b[0mtype\u001b[0m\u001b[0;34m,\u001b[0m \u001b[0mproto\u001b[0m\u001b[0;34m,\u001b[0m \u001b[0mflags\u001b[0m\u001b[0;34m)\u001b[0m\u001b[0;34m:\u001b[0m\u001b[0;34m\u001b[0m\u001b[0;34m\u001b[0m\u001b[0m\n\u001b[0m\u001b[1;32m    919\u001b[0m         \u001b[0maf\u001b[0m\u001b[0;34m,\u001b[0m \u001b[0msocktype\u001b[0m\u001b[0;34m,\u001b[0m \u001b[0mproto\u001b[0m\u001b[0;34m,\u001b[0m \u001b[0mcanonname\u001b[0m\u001b[0;34m,\u001b[0m \u001b[0msa\u001b[0m \u001b[0;34m=\u001b[0m \u001b[0mres\u001b[0m\u001b[0;34m\u001b[0m\u001b[0;34m\u001b[0m\u001b[0m\n",
      "\u001b[0;31mgaierror\u001b[0m: [Errno 8] nodename nor servname provided, or not known",
      "\nDuring handling of the above exception, another exception occurred:\n",
      "\u001b[0;31mNewConnectionError\u001b[0m                        Traceback (most recent call last)",
      "\u001b[0;32m/opt/anaconda3/lib/python3.8/site-packages/urllib3/connectionpool.py\u001b[0m in \u001b[0;36murlopen\u001b[0;34m(self, method, url, body, headers, retries, redirect, assert_same_host, timeout, pool_timeout, release_conn, chunked, body_pos, **response_kw)\u001b[0m\n\u001b[1;32m    669\u001b[0m             \u001b[0;31m# Make the request on the httplib connection object.\u001b[0m\u001b[0;34m\u001b[0m\u001b[0;34m\u001b[0m\u001b[0;34m\u001b[0m\u001b[0m\n\u001b[0;32m--> 670\u001b[0;31m             httplib_response = self._make_request(\n\u001b[0m\u001b[1;32m    671\u001b[0m                 \u001b[0mconn\u001b[0m\u001b[0;34m,\u001b[0m\u001b[0;34m\u001b[0m\u001b[0;34m\u001b[0m\u001b[0m\n",
      "\u001b[0;32m/opt/anaconda3/lib/python3.8/site-packages/urllib3/connectionpool.py\u001b[0m in \u001b[0;36m_make_request\u001b[0;34m(self, conn, method, url, timeout, chunked, **httplib_request_kw)\u001b[0m\n\u001b[1;32m    380\u001b[0m         \u001b[0;32mtry\u001b[0m\u001b[0;34m:\u001b[0m\u001b[0;34m\u001b[0m\u001b[0;34m\u001b[0m\u001b[0m\n\u001b[0;32m--> 381\u001b[0;31m             \u001b[0mself\u001b[0m\u001b[0;34m.\u001b[0m\u001b[0m_validate_conn\u001b[0m\u001b[0;34m(\u001b[0m\u001b[0mconn\u001b[0m\u001b[0;34m)\u001b[0m\u001b[0;34m\u001b[0m\u001b[0;34m\u001b[0m\u001b[0m\n\u001b[0m\u001b[1;32m    382\u001b[0m         \u001b[0;32mexcept\u001b[0m \u001b[0;34m(\u001b[0m\u001b[0mSocketTimeout\u001b[0m\u001b[0;34m,\u001b[0m \u001b[0mBaseSSLError\u001b[0m\u001b[0;34m)\u001b[0m \u001b[0;32mas\u001b[0m \u001b[0me\u001b[0m\u001b[0;34m:\u001b[0m\u001b[0;34m\u001b[0m\u001b[0;34m\u001b[0m\u001b[0m\n",
      "\u001b[0;32m/opt/anaconda3/lib/python3.8/site-packages/urllib3/connectionpool.py\u001b[0m in \u001b[0;36m_validate_conn\u001b[0;34m(self, conn)\u001b[0m\n\u001b[1;32m    977\u001b[0m         \u001b[0;32mif\u001b[0m \u001b[0;32mnot\u001b[0m \u001b[0mgetattr\u001b[0m\u001b[0;34m(\u001b[0m\u001b[0mconn\u001b[0m\u001b[0;34m,\u001b[0m \u001b[0;34m\"sock\"\u001b[0m\u001b[0;34m,\u001b[0m \u001b[0;32mNone\u001b[0m\u001b[0;34m)\u001b[0m\u001b[0;34m:\u001b[0m  \u001b[0;31m# AppEngine might not have  `.sock`\u001b[0m\u001b[0;34m\u001b[0m\u001b[0;34m\u001b[0m\u001b[0m\n\u001b[0;32m--> 978\u001b[0;31m             \u001b[0mconn\u001b[0m\u001b[0;34m.\u001b[0m\u001b[0mconnect\u001b[0m\u001b[0;34m(\u001b[0m\u001b[0;34m)\u001b[0m\u001b[0;34m\u001b[0m\u001b[0;34m\u001b[0m\u001b[0m\n\u001b[0m\u001b[1;32m    979\u001b[0m \u001b[0;34m\u001b[0m\u001b[0m\n",
      "\u001b[0;32m/opt/anaconda3/lib/python3.8/site-packages/urllib3/connection.py\u001b[0m in \u001b[0;36mconnect\u001b[0;34m(self)\u001b[0m\n\u001b[1;32m    308\u001b[0m         \u001b[0;31m# Add certificate verification\u001b[0m\u001b[0;34m\u001b[0m\u001b[0;34m\u001b[0m\u001b[0;34m\u001b[0m\u001b[0m\n\u001b[0;32m--> 309\u001b[0;31m         \u001b[0mconn\u001b[0m \u001b[0;34m=\u001b[0m \u001b[0mself\u001b[0m\u001b[0;34m.\u001b[0m\u001b[0m_new_conn\u001b[0m\u001b[0;34m(\u001b[0m\u001b[0;34m)\u001b[0m\u001b[0;34m\u001b[0m\u001b[0;34m\u001b[0m\u001b[0m\n\u001b[0m\u001b[1;32m    310\u001b[0m         \u001b[0mhostname\u001b[0m \u001b[0;34m=\u001b[0m \u001b[0mself\u001b[0m\u001b[0;34m.\u001b[0m\u001b[0mhost\u001b[0m\u001b[0;34m\u001b[0m\u001b[0;34m\u001b[0m\u001b[0m\n",
      "\u001b[0;32m/opt/anaconda3/lib/python3.8/site-packages/urllib3/connection.py\u001b[0m in \u001b[0;36m_new_conn\u001b[0;34m(self)\u001b[0m\n\u001b[1;32m    170\u001b[0m         \u001b[0;32mexcept\u001b[0m \u001b[0mSocketError\u001b[0m \u001b[0;32mas\u001b[0m \u001b[0me\u001b[0m\u001b[0;34m:\u001b[0m\u001b[0;34m\u001b[0m\u001b[0;34m\u001b[0m\u001b[0m\n\u001b[0;32m--> 171\u001b[0;31m             raise NewConnectionError(\n\u001b[0m\u001b[1;32m    172\u001b[0m                 \u001b[0mself\u001b[0m\u001b[0;34m,\u001b[0m \u001b[0;34m\"Failed to establish a new connection: %s\"\u001b[0m \u001b[0;34m%\u001b[0m \u001b[0me\u001b[0m\u001b[0;34m\u001b[0m\u001b[0;34m\u001b[0m\u001b[0m\n",
      "\u001b[0;31mNewConnectionError\u001b[0m: <urllib3.connection.HTTPSConnection object at 0x143886730>: Failed to establish a new connection: [Errno 8] nodename nor servname provided, or not known",
      "\nDuring handling of the above exception, another exception occurred:\n",
      "\u001b[0;31mMaxRetryError\u001b[0m                             Traceback (most recent call last)",
      "\u001b[0;32m/opt/anaconda3/lib/python3.8/site-packages/requests/adapters.py\u001b[0m in \u001b[0;36msend\u001b[0;34m(self, request, stream, timeout, verify, cert, proxies)\u001b[0m\n\u001b[1;32m    438\u001b[0m             \u001b[0;32mif\u001b[0m \u001b[0;32mnot\u001b[0m \u001b[0mchunked\u001b[0m\u001b[0;34m:\u001b[0m\u001b[0;34m\u001b[0m\u001b[0;34m\u001b[0m\u001b[0m\n\u001b[0;32m--> 439\u001b[0;31m                 resp = conn.urlopen(\n\u001b[0m\u001b[1;32m    440\u001b[0m                     \u001b[0mmethod\u001b[0m\u001b[0;34m=\u001b[0m\u001b[0mrequest\u001b[0m\u001b[0;34m.\u001b[0m\u001b[0mmethod\u001b[0m\u001b[0;34m,\u001b[0m\u001b[0;34m\u001b[0m\u001b[0;34m\u001b[0m\u001b[0m\n",
      "\u001b[0;32m/opt/anaconda3/lib/python3.8/site-packages/urllib3/connectionpool.py\u001b[0m in \u001b[0;36murlopen\u001b[0;34m(self, method, url, body, headers, retries, redirect, assert_same_host, timeout, pool_timeout, release_conn, chunked, body_pos, **response_kw)\u001b[0m\n\u001b[1;32m    753\u001b[0m             )\n\u001b[0;32m--> 754\u001b[0;31m             return self.urlopen(\n\u001b[0m\u001b[1;32m    755\u001b[0m                 \u001b[0mmethod\u001b[0m\u001b[0;34m,\u001b[0m\u001b[0;34m\u001b[0m\u001b[0;34m\u001b[0m\u001b[0m\n",
      "\u001b[0;32m/opt/anaconda3/lib/python3.8/site-packages/urllib3/connectionpool.py\u001b[0m in \u001b[0;36murlopen\u001b[0;34m(self, method, url, body, headers, retries, redirect, assert_same_host, timeout, pool_timeout, release_conn, chunked, body_pos, **response_kw)\u001b[0m\n\u001b[1;32m    753\u001b[0m             )\n\u001b[0;32m--> 754\u001b[0;31m             return self.urlopen(\n\u001b[0m\u001b[1;32m    755\u001b[0m                 \u001b[0mmethod\u001b[0m\u001b[0;34m,\u001b[0m\u001b[0;34m\u001b[0m\u001b[0;34m\u001b[0m\u001b[0m\n",
      "\u001b[0;32m/opt/anaconda3/lib/python3.8/site-packages/urllib3/connectionpool.py\u001b[0m in \u001b[0;36murlopen\u001b[0;34m(self, method, url, body, headers, retries, redirect, assert_same_host, timeout, pool_timeout, release_conn, chunked, body_pos, **response_kw)\u001b[0m\n\u001b[1;32m    725\u001b[0m \u001b[0;34m\u001b[0m\u001b[0m\n\u001b[0;32m--> 726\u001b[0;31m             retries = retries.increment(\n\u001b[0m\u001b[1;32m    727\u001b[0m                 \u001b[0mmethod\u001b[0m\u001b[0;34m,\u001b[0m \u001b[0murl\u001b[0m\u001b[0;34m,\u001b[0m \u001b[0merror\u001b[0m\u001b[0;34m=\u001b[0m\u001b[0me\u001b[0m\u001b[0;34m,\u001b[0m \u001b[0m_pool\u001b[0m\u001b[0;34m=\u001b[0m\u001b[0mself\u001b[0m\u001b[0;34m,\u001b[0m \u001b[0m_stacktrace\u001b[0m\u001b[0;34m=\u001b[0m\u001b[0msys\u001b[0m\u001b[0;34m.\u001b[0m\u001b[0mexc_info\u001b[0m\u001b[0;34m(\u001b[0m\u001b[0;34m)\u001b[0m\u001b[0;34m[\u001b[0m\u001b[0;36m2\u001b[0m\u001b[0;34m]\u001b[0m\u001b[0;34m\u001b[0m\u001b[0;34m\u001b[0m\u001b[0m\n",
      "\u001b[0;32m/opt/anaconda3/lib/python3.8/site-packages/urllib3/util/retry.py\u001b[0m in \u001b[0;36mincrement\u001b[0;34m(self, method, url, response, error, _pool, _stacktrace)\u001b[0m\n\u001b[1;32m    445\u001b[0m         \u001b[0;32mif\u001b[0m \u001b[0mnew_retry\u001b[0m\u001b[0;34m.\u001b[0m\u001b[0mis_exhausted\u001b[0m\u001b[0;34m(\u001b[0m\u001b[0;34m)\u001b[0m\u001b[0;34m:\u001b[0m\u001b[0;34m\u001b[0m\u001b[0;34m\u001b[0m\u001b[0m\n\u001b[0;32m--> 446\u001b[0;31m             \u001b[0;32mraise\u001b[0m \u001b[0mMaxRetryError\u001b[0m\u001b[0;34m(\u001b[0m\u001b[0m_pool\u001b[0m\u001b[0;34m,\u001b[0m \u001b[0murl\u001b[0m\u001b[0;34m,\u001b[0m \u001b[0merror\u001b[0m \u001b[0;32mor\u001b[0m \u001b[0mResponseError\u001b[0m\u001b[0;34m(\u001b[0m\u001b[0mcause\u001b[0m\u001b[0;34m)\u001b[0m\u001b[0;34m)\u001b[0m\u001b[0;34m\u001b[0m\u001b[0;34m\u001b[0m\u001b[0m\n\u001b[0m\u001b[1;32m    447\u001b[0m \u001b[0;34m\u001b[0m\u001b[0m\n",
      "\u001b[0;31mMaxRetryError\u001b[0m: HTTPSConnectionPool(host='nominatim.openstreetmap.org', port=443): Max retries exceeded with url: /search?q=ficken+berlin&format=json&limit=1&addressdetails=1 (Caused by NewConnectionError('<urllib3.connection.HTTPSConnection object at 0x143886730>: Failed to establish a new connection: [Errno 8] nodename nor servname provided, or not known'))",
      "\nDuring handling of the above exception, another exception occurred:\n",
      "\u001b[0;31mConnectionError\u001b[0m                           Traceback (most recent call last)",
      "\u001b[0;32m/opt/anaconda3/lib/python3.8/site-packages/geopy/adapters.py\u001b[0m in \u001b[0;36m_request\u001b[0;34m(self, url, timeout, headers)\u001b[0m\n\u001b[1;32m    386\u001b[0m         \u001b[0;32mtry\u001b[0m\u001b[0;34m:\u001b[0m\u001b[0;34m\u001b[0m\u001b[0;34m\u001b[0m\u001b[0m\n\u001b[0;32m--> 387\u001b[0;31m             \u001b[0mresp\u001b[0m \u001b[0;34m=\u001b[0m \u001b[0mself\u001b[0m\u001b[0;34m.\u001b[0m\u001b[0msession\u001b[0m\u001b[0;34m.\u001b[0m\u001b[0mget\u001b[0m\u001b[0;34m(\u001b[0m\u001b[0murl\u001b[0m\u001b[0;34m,\u001b[0m \u001b[0mtimeout\u001b[0m\u001b[0;34m=\u001b[0m\u001b[0mtimeout\u001b[0m\u001b[0;34m,\u001b[0m \u001b[0mheaders\u001b[0m\u001b[0;34m=\u001b[0m\u001b[0mheaders\u001b[0m\u001b[0;34m)\u001b[0m\u001b[0;34m\u001b[0m\u001b[0;34m\u001b[0m\u001b[0m\n\u001b[0m\u001b[1;32m    388\u001b[0m         \u001b[0;32mexcept\u001b[0m \u001b[0mException\u001b[0m \u001b[0;32mas\u001b[0m \u001b[0merror\u001b[0m\u001b[0;34m:\u001b[0m\u001b[0;34m\u001b[0m\u001b[0;34m\u001b[0m\u001b[0m\n",
      "\u001b[0;32m/opt/anaconda3/lib/python3.8/site-packages/requests/sessions.py\u001b[0m in \u001b[0;36mget\u001b[0;34m(self, url, **kwargs)\u001b[0m\n\u001b[1;32m    542\u001b[0m         \u001b[0mkwargs\u001b[0m\u001b[0;34m.\u001b[0m\u001b[0msetdefault\u001b[0m\u001b[0;34m(\u001b[0m\u001b[0;34m'allow_redirects'\u001b[0m\u001b[0;34m,\u001b[0m \u001b[0;32mTrue\u001b[0m\u001b[0;34m)\u001b[0m\u001b[0;34m\u001b[0m\u001b[0;34m\u001b[0m\u001b[0m\n\u001b[0;32m--> 543\u001b[0;31m         \u001b[0;32mreturn\u001b[0m \u001b[0mself\u001b[0m\u001b[0;34m.\u001b[0m\u001b[0mrequest\u001b[0m\u001b[0;34m(\u001b[0m\u001b[0;34m'GET'\u001b[0m\u001b[0;34m,\u001b[0m \u001b[0murl\u001b[0m\u001b[0;34m,\u001b[0m \u001b[0;34m**\u001b[0m\u001b[0mkwargs\u001b[0m\u001b[0;34m)\u001b[0m\u001b[0;34m\u001b[0m\u001b[0;34m\u001b[0m\u001b[0m\n\u001b[0m\u001b[1;32m    544\u001b[0m \u001b[0;34m\u001b[0m\u001b[0m\n",
      "\u001b[0;32m/opt/anaconda3/lib/python3.8/site-packages/requests/sessions.py\u001b[0m in \u001b[0;36mrequest\u001b[0;34m(self, method, url, params, data, headers, cookies, files, auth, timeout, allow_redirects, proxies, hooks, stream, verify, cert, json)\u001b[0m\n\u001b[1;32m    529\u001b[0m         \u001b[0msend_kwargs\u001b[0m\u001b[0;34m.\u001b[0m\u001b[0mupdate\u001b[0m\u001b[0;34m(\u001b[0m\u001b[0msettings\u001b[0m\u001b[0;34m)\u001b[0m\u001b[0;34m\u001b[0m\u001b[0;34m\u001b[0m\u001b[0m\n\u001b[0;32m--> 530\u001b[0;31m         \u001b[0mresp\u001b[0m \u001b[0;34m=\u001b[0m \u001b[0mself\u001b[0m\u001b[0;34m.\u001b[0m\u001b[0msend\u001b[0m\u001b[0;34m(\u001b[0m\u001b[0mprep\u001b[0m\u001b[0;34m,\u001b[0m \u001b[0;34m**\u001b[0m\u001b[0msend_kwargs\u001b[0m\u001b[0;34m)\u001b[0m\u001b[0;34m\u001b[0m\u001b[0;34m\u001b[0m\u001b[0m\n\u001b[0m\u001b[1;32m    531\u001b[0m \u001b[0;34m\u001b[0m\u001b[0m\n",
      "\u001b[0;32m/opt/anaconda3/lib/python3.8/site-packages/requests/sessions.py\u001b[0m in \u001b[0;36msend\u001b[0;34m(self, request, **kwargs)\u001b[0m\n\u001b[1;32m    642\u001b[0m         \u001b[0;31m# Send the request\u001b[0m\u001b[0;34m\u001b[0m\u001b[0;34m\u001b[0m\u001b[0;34m\u001b[0m\u001b[0m\n\u001b[0;32m--> 643\u001b[0;31m         \u001b[0mr\u001b[0m \u001b[0;34m=\u001b[0m \u001b[0madapter\u001b[0m\u001b[0;34m.\u001b[0m\u001b[0msend\u001b[0m\u001b[0;34m(\u001b[0m\u001b[0mrequest\u001b[0m\u001b[0;34m,\u001b[0m \u001b[0;34m**\u001b[0m\u001b[0mkwargs\u001b[0m\u001b[0;34m)\u001b[0m\u001b[0;34m\u001b[0m\u001b[0;34m\u001b[0m\u001b[0m\n\u001b[0m\u001b[1;32m    644\u001b[0m \u001b[0;34m\u001b[0m\u001b[0m\n",
      "\u001b[0;32m/opt/anaconda3/lib/python3.8/site-packages/requests/adapters.py\u001b[0m in \u001b[0;36msend\u001b[0;34m(self, request, stream, timeout, verify, cert, proxies)\u001b[0m\n\u001b[1;32m    515\u001b[0m \u001b[0;34m\u001b[0m\u001b[0m\n\u001b[0;32m--> 516\u001b[0;31m             \u001b[0;32mraise\u001b[0m \u001b[0mConnectionError\u001b[0m\u001b[0;34m(\u001b[0m\u001b[0me\u001b[0m\u001b[0;34m,\u001b[0m \u001b[0mrequest\u001b[0m\u001b[0;34m=\u001b[0m\u001b[0mrequest\u001b[0m\u001b[0;34m)\u001b[0m\u001b[0;34m\u001b[0m\u001b[0;34m\u001b[0m\u001b[0m\n\u001b[0m\u001b[1;32m    517\u001b[0m \u001b[0;34m\u001b[0m\u001b[0m\n",
      "\u001b[0;31mConnectionError\u001b[0m: HTTPSConnectionPool(host='nominatim.openstreetmap.org', port=443): Max retries exceeded with url: /search?q=ficken+berlin&format=json&limit=1&addressdetails=1 (Caused by NewConnectionError('<urllib3.connection.HTTPSConnection object at 0x143886730>: Failed to establish a new connection: [Errno 8] nodename nor servname provided, or not known'))",
      "\nDuring handling of the above exception, another exception occurred:\n",
      "\u001b[0;31mGeocoderUnavailable\u001b[0m                       Traceback (most recent call last)",
      "\u001b[0;32m<ipython-input-166-798064310bcd>\u001b[0m in \u001b[0;36m<module>\u001b[0;34m\u001b[0m\n\u001b[0;32m----> 1\u001b[0;31m \u001b[0mNominatim\u001b[0m\u001b[0;34m(\u001b[0m\u001b[0muser_agent\u001b[0m\u001b[0;34m=\u001b[0m\u001b[0;34m\"mymap\"\u001b[0m\u001b[0;34m)\u001b[0m\u001b[0;34m.\u001b[0m\u001b[0mgeocode\u001b[0m\u001b[0;34m(\u001b[0m\u001b[0;34m'ficken berlin'\u001b[0m\u001b[0;34m,\u001b[0m \u001b[0maddressdetails\u001b[0m\u001b[0;34m=\u001b[0m\u001b[0;32mTrue\u001b[0m\u001b[0;34m)\u001b[0m\u001b[0;34m.\u001b[0m\u001b[0mraw\u001b[0m\u001b[0;34m\u001b[0m\u001b[0;34m\u001b[0m\u001b[0m\n\u001b[0m",
      "\u001b[0;32m/opt/anaconda3/lib/python3.8/site-packages/geopy/geocoders/nominatim.py\u001b[0m in \u001b[0;36mgeocode\u001b[0;34m(self, query, exactly_one, timeout, limit, addressdetails, language, geometry, extratags, country_codes, viewbox, bounded, featuretype, namedetails)\u001b[0m\n\u001b[1;32m    295\u001b[0m         \u001b[0mlogger\u001b[0m\u001b[0;34m.\u001b[0m\u001b[0mdebug\u001b[0m\u001b[0;34m(\u001b[0m\u001b[0;34m\"%s.geocode: %s\"\u001b[0m\u001b[0;34m,\u001b[0m \u001b[0mself\u001b[0m\u001b[0;34m.\u001b[0m\u001b[0m__class__\u001b[0m\u001b[0;34m.\u001b[0m\u001b[0m__name__\u001b[0m\u001b[0;34m,\u001b[0m \u001b[0murl\u001b[0m\u001b[0;34m)\u001b[0m\u001b[0;34m\u001b[0m\u001b[0;34m\u001b[0m\u001b[0m\n\u001b[1;32m    296\u001b[0m         \u001b[0mcallback\u001b[0m \u001b[0;34m=\u001b[0m \u001b[0mpartial\u001b[0m\u001b[0;34m(\u001b[0m\u001b[0mself\u001b[0m\u001b[0;34m.\u001b[0m\u001b[0m_parse_json\u001b[0m\u001b[0;34m,\u001b[0m \u001b[0mexactly_one\u001b[0m\u001b[0;34m=\u001b[0m\u001b[0mexactly_one\u001b[0m\u001b[0;34m)\u001b[0m\u001b[0;34m\u001b[0m\u001b[0;34m\u001b[0m\u001b[0m\n\u001b[0;32m--> 297\u001b[0;31m         \u001b[0;32mreturn\u001b[0m \u001b[0mself\u001b[0m\u001b[0;34m.\u001b[0m\u001b[0m_call_geocoder\u001b[0m\u001b[0;34m(\u001b[0m\u001b[0murl\u001b[0m\u001b[0;34m,\u001b[0m \u001b[0mcallback\u001b[0m\u001b[0;34m,\u001b[0m \u001b[0mtimeout\u001b[0m\u001b[0;34m=\u001b[0m\u001b[0mtimeout\u001b[0m\u001b[0;34m)\u001b[0m\u001b[0;34m\u001b[0m\u001b[0;34m\u001b[0m\u001b[0m\n\u001b[0m\u001b[1;32m    298\u001b[0m \u001b[0;34m\u001b[0m\u001b[0m\n\u001b[1;32m    299\u001b[0m     def reverse(\n",
      "\u001b[0;32m/opt/anaconda3/lib/python3.8/site-packages/geopy/geocoders/base.py\u001b[0m in \u001b[0;36m_call_geocoder\u001b[0;34m(self, url, callback, timeout, is_json, headers)\u001b[0m\n\u001b[1;32m    358\u001b[0m         \u001b[0;32mtry\u001b[0m\u001b[0;34m:\u001b[0m\u001b[0;34m\u001b[0m\u001b[0;34m\u001b[0m\u001b[0m\n\u001b[1;32m    359\u001b[0m             \u001b[0;32mif\u001b[0m \u001b[0mis_json\u001b[0m\u001b[0;34m:\u001b[0m\u001b[0;34m\u001b[0m\u001b[0;34m\u001b[0m\u001b[0m\n\u001b[0;32m--> 360\u001b[0;31m                 \u001b[0mresult\u001b[0m \u001b[0;34m=\u001b[0m \u001b[0mself\u001b[0m\u001b[0;34m.\u001b[0m\u001b[0madapter\u001b[0m\u001b[0;34m.\u001b[0m\u001b[0mget_json\u001b[0m\u001b[0;34m(\u001b[0m\u001b[0murl\u001b[0m\u001b[0;34m,\u001b[0m \u001b[0mtimeout\u001b[0m\u001b[0;34m=\u001b[0m\u001b[0mtimeout\u001b[0m\u001b[0;34m,\u001b[0m \u001b[0mheaders\u001b[0m\u001b[0;34m=\u001b[0m\u001b[0mreq_headers\u001b[0m\u001b[0;34m)\u001b[0m\u001b[0;34m\u001b[0m\u001b[0;34m\u001b[0m\u001b[0m\n\u001b[0m\u001b[1;32m    361\u001b[0m             \u001b[0;32melse\u001b[0m\u001b[0;34m:\u001b[0m\u001b[0;34m\u001b[0m\u001b[0;34m\u001b[0m\u001b[0m\n\u001b[1;32m    362\u001b[0m                 \u001b[0mresult\u001b[0m \u001b[0;34m=\u001b[0m \u001b[0mself\u001b[0m\u001b[0;34m.\u001b[0m\u001b[0madapter\u001b[0m\u001b[0;34m.\u001b[0m\u001b[0mget_text\u001b[0m\u001b[0;34m(\u001b[0m\u001b[0murl\u001b[0m\u001b[0;34m,\u001b[0m \u001b[0mtimeout\u001b[0m\u001b[0;34m=\u001b[0m\u001b[0mtimeout\u001b[0m\u001b[0;34m,\u001b[0m \u001b[0mheaders\u001b[0m\u001b[0;34m=\u001b[0m\u001b[0mreq_headers\u001b[0m\u001b[0;34m)\u001b[0m\u001b[0;34m\u001b[0m\u001b[0;34m\u001b[0m\u001b[0m\n",
      "\u001b[0;32m/opt/anaconda3/lib/python3.8/site-packages/geopy/adapters.py\u001b[0m in \u001b[0;36mget_json\u001b[0;34m(self, url, timeout, headers)\u001b[0m\n\u001b[1;32m    375\u001b[0m \u001b[0;34m\u001b[0m\u001b[0m\n\u001b[1;32m    376\u001b[0m     \u001b[0;32mdef\u001b[0m \u001b[0mget_json\u001b[0m\u001b[0;34m(\u001b[0m\u001b[0mself\u001b[0m\u001b[0;34m,\u001b[0m \u001b[0murl\u001b[0m\u001b[0;34m,\u001b[0m \u001b[0;34m*\u001b[0m\u001b[0;34m,\u001b[0m \u001b[0mtimeout\u001b[0m\u001b[0;34m,\u001b[0m \u001b[0mheaders\u001b[0m\u001b[0;34m)\u001b[0m\u001b[0;34m:\u001b[0m\u001b[0;34m\u001b[0m\u001b[0;34m\u001b[0m\u001b[0m\n\u001b[0;32m--> 377\u001b[0;31m         \u001b[0mresp\u001b[0m \u001b[0;34m=\u001b[0m \u001b[0mself\u001b[0m\u001b[0;34m.\u001b[0m\u001b[0m_request\u001b[0m\u001b[0;34m(\u001b[0m\u001b[0murl\u001b[0m\u001b[0;34m,\u001b[0m \u001b[0mtimeout\u001b[0m\u001b[0;34m=\u001b[0m\u001b[0mtimeout\u001b[0m\u001b[0;34m,\u001b[0m \u001b[0mheaders\u001b[0m\u001b[0;34m=\u001b[0m\u001b[0mheaders\u001b[0m\u001b[0;34m)\u001b[0m\u001b[0;34m\u001b[0m\u001b[0;34m\u001b[0m\u001b[0m\n\u001b[0m\u001b[1;32m    378\u001b[0m         \u001b[0;32mtry\u001b[0m\u001b[0;34m:\u001b[0m\u001b[0;34m\u001b[0m\u001b[0;34m\u001b[0m\u001b[0m\n\u001b[1;32m    379\u001b[0m             \u001b[0;32mreturn\u001b[0m \u001b[0mresp\u001b[0m\u001b[0;34m.\u001b[0m\u001b[0mjson\u001b[0m\u001b[0;34m(\u001b[0m\u001b[0;34m)\u001b[0m\u001b[0;34m\u001b[0m\u001b[0;34m\u001b[0m\u001b[0m\n",
      "\u001b[0;32m/opt/anaconda3/lib/python3.8/site-packages/geopy/adapters.py\u001b[0m in \u001b[0;36m_request\u001b[0;34m(self, url, timeout, headers)\u001b[0m\n\u001b[1;32m    397\u001b[0m                     \u001b[0;32mraise\u001b[0m \u001b[0mGeocoderServiceError\u001b[0m\u001b[0;34m(\u001b[0m\u001b[0mmessage\u001b[0m\u001b[0;34m)\u001b[0m\u001b[0;34m\u001b[0m\u001b[0;34m\u001b[0m\u001b[0m\n\u001b[1;32m    398\u001b[0m                 \u001b[0;32melse\u001b[0m\u001b[0;34m:\u001b[0m\u001b[0;34m\u001b[0m\u001b[0;34m\u001b[0m\u001b[0m\n\u001b[0;32m--> 399\u001b[0;31m                     \u001b[0;32mraise\u001b[0m \u001b[0mGeocoderUnavailable\u001b[0m\u001b[0;34m(\u001b[0m\u001b[0mmessage\u001b[0m\u001b[0;34m)\u001b[0m\u001b[0;34m\u001b[0m\u001b[0;34m\u001b[0m\u001b[0m\n\u001b[0m\u001b[1;32m    400\u001b[0m             \u001b[0;32melif\u001b[0m \u001b[0misinstance\u001b[0m\u001b[0;34m(\u001b[0m\u001b[0merror\u001b[0m\u001b[0;34m,\u001b[0m \u001b[0mrequests\u001b[0m\u001b[0;34m.\u001b[0m\u001b[0mTimeout\u001b[0m\u001b[0;34m)\u001b[0m\u001b[0;34m:\u001b[0m\u001b[0;34m\u001b[0m\u001b[0;34m\u001b[0m\u001b[0m\n\u001b[1;32m    401\u001b[0m                 \u001b[0;32mraise\u001b[0m \u001b[0mGeocoderTimedOut\u001b[0m\u001b[0;34m(\u001b[0m\u001b[0;34m\"Service timed out\"\u001b[0m\u001b[0;34m)\u001b[0m\u001b[0;34m\u001b[0m\u001b[0;34m\u001b[0m\u001b[0m\n",
      "\u001b[0;31mGeocoderUnavailable\u001b[0m: HTTPSConnectionPool(host='nominatim.openstreetmap.org', port=443): Max retries exceeded with url: /search?q=ficken+berlin&format=json&limit=1&addressdetails=1 (Caused by NewConnectionError('<urllib3.connection.HTTPSConnection object at 0x143886730>: Failed to establish a new connection: [Errno 8] nodename nor servname provided, or not known'))"
     ]
    }
   ],
   "source": [
    "Nominatim(user_agent=\"mymap\").geocode('ficken berlin', addressdetails=True).raw"
   ]
  },
  {
   "cell_type": "code",
   "execution_count": null,
   "metadata": {},
   "outputs": [],
   "source": [
    "def location_getter(doc):\n",
    "    '''\n",
    "    Adds key to doc_dict with list of Nominatim locations found in the district of the incident\n",
    "    '''\n",
    "    try: # maybe try is redundant\n",
    "        for ent_list in list(doc[1].values())[2:]:\n",
    "            for ent in ent_list:    \n",
    "                query = ent + ' ' + district + ' Berlin'\n",
    "                loc = Nominatim(user_agent=\"mymap\").geocode(query, addressdetails=True).raw\n",
    "                if loc['address']['borough'] == district:\n",
    "                    if len(doc[1]['location']) == 0:\n",
    "                        doc[1]['locations'] = [loc]\n",
    "                    else:\n",
    "                        doc[1]['locations'].append(loc)\n",
    "                    \n",
    "        try:\n",
    "            loc = Nominatim(user_agent=\"mymap\").geocode(query, addressdetails=True).raw\n",
    "            if loc['address']['borough'] == district:\n",
    "                good_loc_list.append(loc)\n",
    "            # query found location but not the in the expected district\n",
    "            elif loc['address']['borough'] != district:\n",
    "                bad_loc_list.append(loc)\n",
    "        # query didn't find any location\n",
    "        except:\n",
    "            bad_ents.append(ent)\n",
    "            \n",
    "    return good_loc_list, bad_loc_list, bad_ents_list"
   ]
  },
  {
   "cell_type": "code",
   "execution_count": 116,
   "metadata": {
    "scrolled": false
   },
   "outputs": [
    {
     "data": {
      "text/plain": [
       "(Aus LGBTIQ-feindlicher Motivation getreten in Nordneukölln. Gegen 21.15 Uhr war ein 28-Jähriger in Begleitung seines gleichaltrigen Ehemanns unterwegs. In der Richardstraße, Ecke Kirchgasse wurde der 28-Jährige von einem 16-jährigen Jugendlichen aus LGBTIQ-feindlicher Motivation beleidigt, bedroht, getreten und verletzt. Ein unbekannter Begleiter des 16-Jährigen Angreifers schritt ein und verhinderte weitere Attacken.\n",
       " Die Polizei wurde verständigt und nahm den Tatverdächtigen fest.,\n",
       " {'index': 12434,\n",
       "  'district': 'Neukölln',\n",
       "  'ORG': ['Nordneukölln'],\n",
       "  'LOC': ['Richardstraße'],\n",
       "  'MISC': ['LGBTIQ-feindlicher']})"
      ]
     },
     "execution_count": 116,
     "metadata": {},
     "output_type": "execute_result"
    }
   ],
   "source": [
    "docs[476]"
   ]
  },
  {
   "cell_type": "code",
   "execution_count": 376,
   "metadata": {
    "scrolled": true
   },
   "outputs": [
    {
     "data": {
      "text/plain": [
       "{'place_id': 57919389,\n",
       " 'licence': 'Data © OpenStreetMap contributors, ODbL 1.0. https://osm.org/copyright',\n",
       " 'osm_type': 'node',\n",
       " 'osm_id': 4944467707,\n",
       " 'boundingbox': ['52.5184532', '52.5185532', '13.3599952', '13.3600952'],\n",
       " 'lat': '52.5185032',\n",
       " 'lon': '13.3600452',\n",
       " 'display_name': 'Denkmal für die erste homosexuelle Emanzipationsbewegung, Magnus-Hirschfeld-Ufer, Moabit, Mitte, Berlin, 10557, Deutschland',\n",
       " 'class': 'historic',\n",
       " 'type': 'memorial',\n",
       " 'importance': 0.7010000000000001,\n",
       " 'icon': 'https://nominatim.openstreetmap.org/ui/mapicons//tourist_monument.p.20.png',\n",
       " 'address': {'historic': 'Denkmal für die erste homosexuelle Emanzipationsbewegung',\n",
       "  'road': 'Magnus-Hirschfeld-Ufer',\n",
       "  'suburb': 'Moabit',\n",
       "  'borough': 'Mitte',\n",
       "  'city': 'Berlin',\n",
       "  'state': 'Berlin',\n",
       "  'postcode': '10557',\n",
       "  'country': 'Deutschland',\n",
       "  'country_code': 'de'}}"
      ]
     },
     "execution_count": 376,
     "metadata": {},
     "output_type": "execute_result"
    }
   ],
   "source": [
    "Nominatim(user_agent=\"mymap\").geocode(\"Denkmal für die erste homosexuelle Emanzipationsbewegung berlin\", addressdetails=True).raw"
   ]
  },
  {
   "cell_type": "code",
   "execution_count": 39,
   "metadata": {
    "scrolled": false
   },
   "outputs": [
    {
     "data": {
      "text/plain": [
       "14"
      ]
     },
     "execution_count": 39,
     "metadata": {},
     "output_type": "execute_result"
    }
   ],
   "source": [
    "np.random.randint(1, 50)"
   ]
  },
  {
   "cell_type": "code",
   "execution_count": 44,
   "metadata": {},
   "outputs": [
    {
     "ename": "TypeError",
     "evalue": "geocode() takes 2 positional arguments but 5 positional arguments (and 1 keyword-only argument) were given",
     "output_type": "error",
     "traceback": [
      "\u001b[0;31m---------------------------------------------------------------------------\u001b[0m",
      "\u001b[0;31mTypeError\u001b[0m                                 Traceback (most recent call last)",
      "\u001b[0;32m<ipython-input-44-cb7a98a1f985>\u001b[0m in \u001b[0;36m<module>\u001b[0;34m\u001b[0m\n\u001b[0;32m----> 1\u001b[0;31m Nominatim(user_agent=\"mymap\").geocode(\n\u001b[0m\u001b[1;32m      2\u001b[0m     \u001b[0;34m\"Frobenstraße\"\u001b[0m\u001b[0;34m,\u001b[0m\u001b[0;34m\u001b[0m\u001b[0;34m\u001b[0m\u001b[0m\n\u001b[1;32m      3\u001b[0m     \u001b[0;34m\"Tempelhof-Schöneberg\"\u001b[0m\u001b[0;34m,\u001b[0m\u001b[0;34m\u001b[0m\u001b[0;34m\u001b[0m\u001b[0m\n\u001b[1;32m      4\u001b[0m     \u001b[0mstr\u001b[0m\u001b[0;34m(\u001b[0m\u001b[0mnp\u001b[0m\u001b[0;34m.\u001b[0m\u001b[0mrandom\u001b[0m\u001b[0;34m.\u001b[0m\u001b[0mrandint\u001b[0m\u001b[0;34m(\u001b[0m\u001b[0;36m1\u001b[0m\u001b[0;34m,\u001b[0m \u001b[0;36m50\u001b[0m\u001b[0;34m)\u001b[0m\u001b[0;34m)\u001b[0m\u001b[0;34m,\u001b[0m\u001b[0;34m\u001b[0m\u001b[0;34m\u001b[0m\u001b[0m\n\u001b[1;32m      5\u001b[0m     \u001b[0;34m\"Berlin\"\u001b[0m\u001b[0;34m,\u001b[0m\u001b[0;34m\u001b[0m\u001b[0;34m\u001b[0m\u001b[0m\n",
      "\u001b[0;31mTypeError\u001b[0m: geocode() takes 2 positional arguments but 5 positional arguments (and 1 keyword-only argument) were given"
     ]
    }
   ],
   "source": [
    "def desambiguate_str(doc):\n",
    "    '''\n",
    "    takes spacy doc\n",
    "    returns tuple (lat, lon)\n",
    "    '''\n",
    "    district = doc[0]._.district\n",
    "    address_str = \"Frobenstraße\" + \" \" + str(np.random.randint(1, 500)) + \" \" + district + \" Berlin\"\n",
    "Nominatim(user_agent=\"mymap\").geocode(\"Frobenstraße\",\"Tempelhof-Schöneberg\",\n",
    "    str(np.random.randint(1, 50)),\n",
    "    \"Berlin\",\n",
    "    addressdetails=True\n",
    ").raw"
   ]
  },
  {
   "cell_type": "markdown",
   "metadata": {},
   "source": [
    "**Find coordinates**"
   ]
  },
  {
   "cell_type": "code",
   "execution_count": null,
   "metadata": {},
   "outputs": [],
   "source": [
    "# other location finders\n",
    "# geopandas geojsaon"
   ]
  },
  {
   "cell_type": "code",
   "execution_count": 6,
   "metadata": {},
   "outputs": [],
   "source": [
    "def location_finder(ents, district):\n",
    "    '''\n",
    "    Returns a list of raw Nominatim location objects, which include methods to retrieve coordinates.\n",
    "    The function iterates through the entities and select those that can be found in the given district.\n",
    "    \n",
    "    ents:\n",
    "        tuple of SpaCy entities in list_of_entities = [doc[0].ents for doc in docs]\n",
    "    distric:\n",
    "        string with the district name\n",
    "        \n",
    "    '''\n",
    "    good_loc_list = []\n",
    "    bad_loc_list = []\n",
    "    bad_ents_list = []\n",
    "    for ent in ents:\n",
    "        query = ent.text, district,'Berlin'\n",
    "        try:\n",
    "            loc = Nominatim(user_agent=\"mymap\").geocode(query, addressdetails=True).raw\n",
    "            if loc['address']['borough'] == district:\n",
    "                good_loc_list.append(loc)\n",
    "            # query found location but not the in the expected district\n",
    "            elif loc['address']['borough'] != district:\n",
    "                bad_loc_list.append(loc)\n",
    "        # query didn't find any location\n",
    "        except:\n",
    "            bad_ents.append(ent)\n",
    "            \n",
    "    return good_loc_list, bad_loc_list, bad_ents_list"
   ]
  },
  {
   "cell_type": "code",
   "execution_count": 134,
   "metadata": {},
   "outputs": [],
   "source": [
    "list_of_entities = [doc[0].ents for doc in docs]\n",
    "list_of_districts = list(df_lgbt['District'])"
   ]
  },
  {
   "cell_type": "code",
   "execution_count": 15,
   "metadata": {},
   "outputs": [
    {
     "data": {
      "text/plain": [
       "latitude   longitude\n",
       "52.464647  13.473014    13\n",
       "52.463850  13.443969     9\n",
       "52.530102  13.342542     8\n",
       "52.515747  13.309683     7\n",
       "52.497644  13.411914     6\n",
       "                        ..\n",
       "52.514708  13.398153     1\n",
       "52.514334  13.460864     1\n",
       "52.513739  13.337984     1\n",
       "52.513633  13.440270     1\n",
       "52.408821  13.267382     1\n",
       "Length: 224, dtype: int64"
      ]
     },
     "execution_count": 15,
     "metadata": {},
     "output_type": "execute_result"
    }
   ],
   "source": [
    "df_map[['latitude','longitude']].value_counts()"
   ]
  },
  {
   "cell_type": "code",
   "execution_count": null,
   "metadata": {},
   "outputs": [],
   "source": [
    "# desambiguate repeated coordinates\n",
    "#[(lat,lon) for lat, lon in zip(df_map_test['latitude'], df_map_test['longitude'])]\n",
    "# Nominatim(user_agent=\"mymap\").geocode('hermannstr berlin ', addressdetails=True)\n",
    "# Nominatim(user_agent=\"mymap\").geocode('berghain berlin ', addressdetails=True)\n",
    "\n",
    "def street_desambiguator(list_of_docs):\n",
    "    '''\n",
    "    Takes a list of SpaCy docs in the same street location and randomly assigns a house number\n",
    "    so they have different addresses\n",
    "    Returns \n",
    "    '''\n",
    "    for doc in list_of_docs:\n",
    "        doc."
   ]
  },
  {
   "cell_type": "markdown",
   "metadata": {},
   "source": [
    "# Solve missing values df_map"
   ]
  },
  {
   "cell_type": "code",
   "execution_count": 385,
   "metadata": {},
   "outputs": [
    {
     "data": {
      "text/plain": [
       "Int64Index([ 1707,  1836,  1915,  1940,  1951,  1974,  1985,  2126,  2151,\n",
       "             2215,\n",
       "            ...\n",
       "            18842, 19048, 19152, 19203, 19354, 19591, 19700, 20279, 20746,\n",
       "            21948],\n",
       "           dtype='int64', length=429)"
      ]
     },
     "execution_count": 385,
     "metadata": {},
     "output_type": "execute_result"
    }
   ],
   "source": [
    "df_map.index"
   ]
  },
  {
   "cell_type": "code",
   "execution_count": 348,
   "metadata": {},
   "outputs": [],
   "source": [
    "denkmal_indices = np.array(df_lgbt[df_lgbt['Story'].str.contains('Denkmal') == True].index)"
   ]
  },
  {
   "cell_type": "code",
   "execution_count": 388,
   "metadata": {},
   "outputs": [],
   "source": [
    "\n",
    "denkmal_indices_mitte = [ 10437, 10926, 14025, 14548, 14745, 14858, 15174, 15355, 16735, 19214]\n",
    "denkmal_indices_moabit = [4133, 14383] "
   ]
  },
  {
   "cell_type": "code",
   "execution_count": 390,
   "metadata": {},
   "outputs": [
    {
     "data": {
      "text/plain": [
       "[]"
      ]
     },
     "execution_count": 390,
     "metadata": {},
     "output_type": "execute_result"
    }
   ],
   "source": [
    "[i for i in list(df_map.index) if i in denkmal_indices_mitte]"
   ]
  },
  {
   "cell_type": "code",
   "execution_count": 409,
   "metadata": {},
   "outputs": [
    {
     "data": {
      "text/html": [
       "<div>\n",
       "<style scoped>\n",
       "    .dataframe tbody tr th:only-of-type {\n",
       "        vertical-align: middle;\n",
       "    }\n",
       "\n",
       "    .dataframe tbody tr th {\n",
       "        vertical-align: top;\n",
       "    }\n",
       "\n",
       "    .dataframe thead th {\n",
       "        text-align: right;\n",
       "    }\n",
       "</style>\n",
       "<table border=\"1\" class=\"dataframe\">\n",
       "  <thead>\n",
       "    <tr style=\"text-align: right;\">\n",
       "      <th></th>\n",
       "      <th>Date</th>\n",
       "      <th>District</th>\n",
       "      <th>Header</th>\n",
       "      <th>Story</th>\n",
       "      <th>Source</th>\n",
       "      <th>Attack</th>\n",
       "      <th>latitude</th>\n",
       "      <th>longitude</th>\n",
       "      <th>Propaganda</th>\n",
       "      <th>Structural Discrimination</th>\n",
       "      <th>Material Damage</th>\n",
       "      <th>Reported status</th>\n",
       "    </tr>\n",
       "  </thead>\n",
       "  <tbody>\n",
       "    <tr>\n",
       "      <th>1707</th>\n",
       "      <td>2014-11-29</td>\n",
       "      <td>Tempelhof-Schöneberg</td>\n",
       "      <td>Angriff aus transphober Motivation</td>\n",
       "      <td>Ein 30-jähriger Mann wird gegen 05.00 Uhr in d...</td>\n",
       "      <td>ReachOut</td>\n",
       "      <td>physical</td>\n",
       "      <td>52.4994</td>\n",
       "      <td>13.3599</td>\n",
       "      <td>Unknown</td>\n",
       "      <td>Unknown</td>\n",
       "      <td>Unknown</td>\n",
       "      <td>Unknown</td>\n",
       "    </tr>\n",
       "    <tr>\n",
       "      <th>1836</th>\n",
       "      <td>2014-10-26</td>\n",
       "      <td>Tempelhof-Schöneberg</td>\n",
       "      <td>Angriff aus transphober Motivation</td>\n",
       "      <td>Am 26.10.14 wird ein 30-jähriger Mann gegen 07...</td>\n",
       "      <td>ReachOut</td>\n",
       "      <td>physical</td>\n",
       "      <td>52.4947</td>\n",
       "      <td>13.3611</td>\n",
       "      <td>Unknown</td>\n",
       "      <td>Unknown</td>\n",
       "      <td>Unknown</td>\n",
       "      <td>Unknown</td>\n",
       "    </tr>\n",
       "    <tr>\n",
       "      <th>1915</th>\n",
       "      <td>2014-10-03</td>\n",
       "      <td>Mitte</td>\n",
       "      <td>Homophobe Aggression gegen ein schwules Pärchen</td>\n",
       "      <td>Zwei Schwule werden auf dem U-Bahnhof Pankstra...</td>\n",
       "      <td>Polizei Berlin</td>\n",
       "      <td>physical</td>\n",
       "      <td>52.5509</td>\n",
       "      <td>13.3848</td>\n",
       "      <td>Unknown</td>\n",
       "      <td>Unknown</td>\n",
       "      <td>Unknown</td>\n",
       "      <td>Unknown</td>\n",
       "    </tr>\n",
       "    <tr>\n",
       "      <th>1940</th>\n",
       "      <td>2014-09-24</td>\n",
       "      <td>Tempelhof-Schöneberg</td>\n",
       "      <td>Angriff aus transphober Motivation</td>\n",
       "      <td>Auf der Potsdamer Straße ist gegen 11.20 Uhr e...</td>\n",
       "      <td>ReachOut</td>\n",
       "      <td>physical</td>\n",
       "      <td>52.4947</td>\n",
       "      <td>13.3611</td>\n",
       "      <td>Unknown</td>\n",
       "      <td>Unknown</td>\n",
       "      <td>Unknown</td>\n",
       "      <td>Unknown</td>\n",
       "    </tr>\n",
       "    <tr>\n",
       "      <th>1951</th>\n",
       "      <td>2014-09-21</td>\n",
       "      <td>Pankow</td>\n",
       "      <td>Homophober Angriff am S-Bahnhof Blankenburg</td>\n",
       "      <td>Zwei 20- und 21-jährige Männer werden gegen 00...</td>\n",
       "      <td>ReachOut</td>\n",
       "      <td>physical</td>\n",
       "      <td>52.591</td>\n",
       "      <td>13.4426</td>\n",
       "      <td>Unknown</td>\n",
       "      <td>Unknown</td>\n",
       "      <td>Unknown</td>\n",
       "      <td>Unknown</td>\n",
       "    </tr>\n",
       "  </tbody>\n",
       "</table>\n",
       "</div>"
      ],
      "text/plain": [
       "           Date              District  \\\n",
       "1707 2014-11-29  Tempelhof-Schöneberg   \n",
       "1836 2014-10-26  Tempelhof-Schöneberg   \n",
       "1915 2014-10-03                 Mitte   \n",
       "1940 2014-09-24  Tempelhof-Schöneberg   \n",
       "1951 2014-09-21                Pankow   \n",
       "\n",
       "                                               Header  \\\n",
       "1707               Angriff aus transphober Motivation   \n",
       "1836               Angriff aus transphober Motivation   \n",
       "1915  Homophobe Aggression gegen ein schwules Pärchen   \n",
       "1940               Angriff aus transphober Motivation   \n",
       "1951      Homophober Angriff am S-Bahnhof Blankenburg   \n",
       "\n",
       "                                                  Story          Source  \\\n",
       "1707  Ein 30-jähriger Mann wird gegen 05.00 Uhr in d...        ReachOut   \n",
       "1836  Am 26.10.14 wird ein 30-jähriger Mann gegen 07...        ReachOut   \n",
       "1915  Zwei Schwule werden auf dem U-Bahnhof Pankstra...  Polizei Berlin   \n",
       "1940  Auf der Potsdamer Straße ist gegen 11.20 Uhr e...        ReachOut   \n",
       "1951  Zwei 20- und 21-jährige Männer werden gegen 00...        ReachOut   \n",
       "\n",
       "        Attack latitude longitude Propaganda Structural Discrimination  \\\n",
       "1707  physical  52.4994   13.3599    Unknown                   Unknown   \n",
       "1836  physical  52.4947   13.3611    Unknown                   Unknown   \n",
       "1915  physical  52.5509   13.3848    Unknown                   Unknown   \n",
       "1940  physical  52.4947   13.3611    Unknown                   Unknown   \n",
       "1951  physical   52.591   13.4426    Unknown                   Unknown   \n",
       "\n",
       "     Material Damage Reported status  \n",
       "1707         Unknown         Unknown  \n",
       "1836         Unknown         Unknown  \n",
       "1915         Unknown         Unknown  \n",
       "1940         Unknown         Unknown  \n",
       "1951         Unknown         Unknown  "
      ]
     },
     "execution_count": 409,
     "metadata": {},
     "output_type": "execute_result"
    }
   ],
   "source": [
    "df_map.head()"
   ]
  },
  {
   "cell_type": "code",
   "execution_count": 420,
   "metadata": {},
   "outputs": [],
   "source": [
    "df_denkmal_new.loc[denkmal_indices_moabit, 'latitude'] = 52.5185032"
   ]
  },
  {
   "cell_type": "code",
   "execution_count": 422,
   "metadata": {},
   "outputs": [
    {
     "data": {
      "text/plain": [
       "429"
      ]
     },
     "execution_count": 422,
     "metadata": {},
     "output_type": "execute_result"
    }
   ],
   "source": [
    "len(df_map)"
   ]
  },
  {
   "cell_type": "code",
   "execution_count": 425,
   "metadata": {
    "scrolled": false
   },
   "outputs": [],
   "source": [
    "df_map = pd.concat([df_map, df_denkmal_new])"
   ]
  },
  {
   "cell_type": "code",
   "execution_count": 396,
   "metadata": {},
   "outputs": [],
   "source": [
    "df_denkmal_new = df_lgbt.loc[denkmal_indices_mitte + denkmal_indices_moabit ]\n"
   ]
  },
  {
   "cell_type": "code",
   "execution_count": 415,
   "metadata": {
    "scrolled": true
   },
   "outputs": [
    {
     "data": {
      "text/plain": [
       "1861    13.3761\n",
       "Name: longitude, dtype: object"
      ]
     },
     "execution_count": 415,
     "metadata": {},
     "output_type": "execute_result"
    }
   ],
   "source": [
    "df_map[df_map['Story'].str.contains('Denkmal') == True]['longitude']"
   ]
  },
  {
   "cell_type": "code",
   "execution_count": 374,
   "metadata": {
    "scrolled": false
   },
   "outputs": [
    {
     "data": {
      "text/plain": [
       "[LGBQT feindliche Schmiererei entdeckt!. Am Abend gegen 20.10 Uhr stellen Polizeibeamte eine Farbschmiererei an dem Denkmal für die im Nationalsozialismus verfolgten Homosexuellen fest.,\n",
       " Schmierereien an den Gedenktafeln am Magnus-Hirschfeld-Ufer. Am Magnus-Hirschfeld-Ufer gegenüber dem Bundeskanzleramt wurden erneut die beiden Gedenktafeln, mit denen an die weltweit erste homosexuelle Emanzipationsbewegung erinnert wird, beschädigt. Die Tafeln wurden auf der Vorder- und Rückseite mit Schriftzeichen und Symbolen beschmiert – darunter auch ein Penis. Der Lesben- und Schwulenverband Berlin-Brandenburg (LSVD) hat Anzeige gegen Unbekannt gestellt und den Berliner Senat um schnellstmögliche Schadensbehebung gebeten.\n",
       " Bereits im vergangenen Jahr haben sich in Berlin die Sachbeschädigungen an Erinnerungsorten der homosexuellen Verfolgungsgeschichte sowie der homosexuellen Emanzipationsbewegung gehäuft. Hierzu zählen unter anderem die Beschädigung der Gedenktafel für die homosexuellen Opfer des Nationalsozialismus am U-Bahnhof Nollendorfplatz und mehrfache Beschädigungen der Ausstellung zu Karl Heinrich Ulrichs im Rathaus Schöneberg. Die Sichtscheibe des Denkmals für die im Nationalsozialismus verfolgten Homosexuellen im Tiergarten musste nach grober Gewaltanwendung vollständig ausgetauscht werden.,\n",
       " Erneut Sachbeschädigung am Denkmal für die im NS verfolgten Homosexuellen. Erneut haben Unbekannte am frühen Morgen das Denkmal für die im Nationalsozialismus verfolgten Homosexuellen im Tiergarten beschädigt, indem sie das Sichtfenster zur Video-Installation mit schwarzer Farbe beschmiert haben.\n",
       " Der Polizeiliche Staatsschutz beim Landeskriminalamt übernahm die Ermittlungen.\n",
       " Im Laufe der letzten Jahre war das Mahnmal mehrfach beschädigt worden, zuletzt am 6.10. 2018 und erst am 18.10. waren die beiden Gedenktafeln am Magnus-Hirschfeld-Ufer, ebenfalls in Tiergarten, die an die erste homosexuelle Emanzipationsbewegung erinnern, erneut beschädigt worden.,\n",
       " Denkmal für die im NS verfolgten Homosexuellen beschädigt. Das Denkmal für die im Nationalsozialismus verfolgten Homosexuellen im Tiergarten wurde von Unbekannten beschädigt. In die Steinplatte vor dem Sichtfenster des Denkmals wurde „HIV“ eingebrannt.\n",
       " Der Geschäftsführer des Lesben- und Schwulenverbandes Berlin-Brandenburg hat Anzeige gegen Unbekannt bei der Polizei erstattet.,\n",
       " Erneute Sachbeschädigung am Denkmal für die im NS verfolgten Homosexuellen. Das Denkmal für die im Nationalsozialismus verfolgten Homosexuellen in der Ebertstraße Ecke Großer Tiergarten schräg gegenüber dem Holocaust-Mahnmal wurde erneut beschädigt, indem Unbekannte das Sichtfenster des Monuments mit einem Schriftzug beschmierten. \n",
       " Dies ist schon die siebte homofeindliche Beschädigung an diesem Denkmal in diesem Jahr. Zuletzt war es erst am 08.09. beschädigt worden, davor schon am 19.08., am 04.08., am 30.06.2019, am 09.06.2019, am 27.01.2019 und im letzten Jahr am 6.10. und am 1.12. 2018.,\n",
       " Erneute homofeindliche Beschädigung der Gedenktafeln am Magnus-Hirschfeld-Ufer. Unbekannte beschädigten erneut das Denkmal für die erste homosexuelle Emanzipationsbewegung am Magnus-Hirschfeld-Ufer in Moabit. Auf den Gedenktafeln für die Aktivist*innen Anita Augspurg (1857-1943), Karl Heinrich Ulrichs (1825-1895) und Dr. Magnus Hirschfeld (1868-1935) wurden die Gesichter zerkratzt und zudem auch noch ausgebrannt. Der Polizeiliche Staatschutz beim Landeskriminalamt hat die weiteren Ermittlungen zu der gemeinschädlichen Sachbeschädigung übernommen.\n",
       " Die Gedenktafeln sind bereits mehrfach beschädigt worden, zuletzt am 20.08. 2019.,\n",
       " Erneute Sachbeschädigung am Denkmal für die im NS verfolgten Homosexuellen. Das Denkmal für die im Nationalsozialismus verfolgten Homosexuellen in der Ebertstraße Ecke Großer Tiergarten schräg gegenüber dem Holocaust-Mahnmal wurde erneut beschädigt, indem Unbekannte das Denkmahl mit schwarzer Farbe beschmierten. Gegen 22.30 Uhr bemerkte ein Mitarbeiter eines Sicherheitsdienstes die Sachbeschädigung und rief die Polizei.\n",
       " Dies ist schon die sechste Beschädigung an diesem Denkmal in diesem Jahr. Zuletzt war es erst am 19.08. beschädigt worden, davor schon am 04.08., am 30.06.2019, am 09.06.2019, am 27.01.2019 und im letzten Jahr am 6.10. und am 1.12. 2018.,\n",
       " Erneute Sachbeschädigung am Denkmal für die im NS verfolgten Homosexuellen. Das Denkmal für die im Nationalsozialismus verfolgten Homosexuellen in der Ebertstraße Ecke Großer Tiergarten schräg gegenüber dem Holocaust-Mahnmal wurde erneut beschädigt, indem Unbekannte das Sichtfenster zur Video-Installation mit Farbe beschmiert und das Sichtfeld zerkratzt haben. Gegen 7 Uhr bemerkte ein Mitarbeiter eines Sicherheitsdienstes die Farbschmiererei auf dem Sichtfenster und rief die Polizei.\n",
       " Dies ist schon die fünfte Beschädigung dieser Art an diesem Denkmal in diesem Jahr. Zuletzt war es erst am 04.08. beschädigt worden, davor schon am 30.06.2019, am 09.06.2019, am 27.01.2019 und im letzten Jahr am 6.10. und am 1.12. 2018.,\n",
       " Erneute Sachbeschädigung am Denkmal für die im NS verfolgten Homosexuellen. Das Denkmal für die im Nationalsozialismus verfolgten Homosexuellen in der Ebertstraße Ecke Großer Tiergarten schräg gegenüber dem Holocaust-Mahnmal wurde erneut beschädigt, indem Unbekannte das Sichtfenster zur Video-Installation intensiv mit weißer Farbe beschmiert haben. Der Lesben- und Schwulenverband Berlin-Brandenburg erstattete bei der Polizei Anzeige gegen Unbekannt.\n",
       " Im Laufe der letzten Jahre war das Mahnmal immer wieder beschädigt worden, in diesem Jahr schon drei mal, zuletzt erst am 30.06.2019, davor am 09.06.2019, am 27.01.2019 und im letzten Jahr am 6.10. und am 1.12. 2018.,\n",
       " Erneute Sachbeschädigung am Denkmal für die im NS verfolgten Homosexuellen. Das Denkmal für die im Nationalsozialismus verfolgten Homosexuellen in der Ebertstraße Ecke Großer Tiergarten schräg gegenüber dem Holocaust-Mahnmal wurde erneut beschädigt, indem Unbekannte das Sichtfenster zur Video-Installation mit schwarzer Farbe beschmiert haben. Gegen 21.45 Uhr bemerkten Sicherheitsmitarbeiter die Sachbeschädigung. Der für Hasskriminalität zuständige Polizeiliche Staatsschutz beim Landeskriminalamt Berlin übernahm die weiteren Ermittlungen.\n",
       " Im Laufe der letzten Jahre war das Mahnmal immer wieder beschädigt worden, zuletzt am 09.06. 2019, 27.01.2019 und am 6.10. und am 1.12. 2018. Auch die Infotafeln und eine Kunstinstallation, die am Magnus-Hirschfeld-Ufer in der Nähe des Bundeskanzleramts an die weltweit erste homosexuelle Emanzipationsbewegung und ihren Vorkämpfer erinnern sollen, wurden mehrfach willentlich beschädigt – zuletzt am 18.10. 2018,\n",
       " Erneute Sachbeschädigung am Denkmal für die im NS verfolgten Homosexuellen. Das Denkmal für die im Nationalsozialismus verfolgten Homosexuellen in der Ebertstraße Ecke Großer Tiergarten schräg gegenüber dem Holocaust-Mahnmal wurde erneut beschädigt, indem Unbekannte das Sichtfenster zur Video-Installation mit schwarzer Farbe beschmiert haben. Gegen 23.00 Uhr bemerkte ein Sicherheitsmitarbeiter die Sachbeschädigung. Der für Hasskriminalität zuständige Polizeiliche Staatsschutz beim Landeskriminalamt Berlin übernahm die weiteren Ermittlungen.\n",
       " Im Laufe der letzten Jahre war das Mahnmal immer wieder beschädigt worden, zuletzt am 27.01.2019 und am 6.10. und am 1.12. 2018. Auch die Infotafeln und eine Kunstinstallation, die am Magnus-Hirschfeld-Ufer in der Nähe des Bundeskanzleramts an die weltweit erste homosexuelle Emanzipationsbewegung und ihren Vorkämpfer erinnern sollen, wurden mehrfach willentlich beschädigt – zuletzt am 18.10. 2018.,\n",
       " Erneute Sachbeschädigung am Denkmal für die im NS verfolgten Homosexuellen. Erneut haben Unbekannte das Denkmal für die im Nationalsozialismus verfolgten Homosexuellen im Tiergarten beschädigt, indem sie das Sichtfenster zur Video-Installation mit schwarzer Farbe beschmiert haben. Noch am Mittag hatte an dem Mahnmal anlässlich des 74. Jahrestags der Befreiung des Konzentrationslagers Auschwitz eine Gedenkveranstaltung für die homosexuellen Opfer des NS-Regimes stattgefunden. Gegen 20.40 Uhr entdeckte dann ein Sicherheitsmitarbeiter die erneute Sachbeschädigung.\n",
       " Der Polizeiliche Staatsschutz beim Landeskriminalamt übernahm die Ermittlungen.\n",
       " Im Laufe der letzten Jahre war das Mahnmal immer wieder beschädigt worden, zuletzt am 6.10. und am 1.12. 2018.,\n",
       " Sachbeschädigung am Denkmal für die im NS verfolgten Homosexuellen. Das Denkmal für die im Nationalsozialismus verfolgten Homosexuellen im Tiergarten wurde erneut beschädigt. Ein bislang unbekannter Fahrradfahrer hatte sich kurz vor 8 Uhr zwei Glasflaschen aus einem Mülleimer genommen, diese gegen das Denkmal geworfen und damit die Fensterscheibe des Denkmals, hinter der ein Film zu sehen ist, zerstört. 2019 war das Denkmal bereits sieben mal beschädigt worden.]"
      ]
     },
     "execution_count": 374,
     "metadata": {},
     "output_type": "execute_result"
    }
   ],
   "source": [
    "# 1, 5 [4133, 14383] go to '52.5185032', lon': '13.3600452'\n",
    "\n",
    "[doc[0] for doc in docs if doc[0]._.index in denkmal_indices]"
   ]
  },
  {
   "cell_type": "code",
   "execution_count": 336,
   "metadata": {},
   "outputs": [],
   "source": [
    "df_map.loc[[7517, 13208, 16069],'Attack'] = 'No'"
   ]
  },
  {
   "cell_type": "code",
   "execution_count": 339,
   "metadata": {
    "scrolled": false
   },
   "outputs": [
    {
     "data": {
      "text/html": [
       "<div>\n",
       "<style scoped>\n",
       "    .dataframe tbody tr th:only-of-type {\n",
       "        vertical-align: middle;\n",
       "    }\n",
       "\n",
       "    .dataframe tbody tr th {\n",
       "        vertical-align: top;\n",
       "    }\n",
       "\n",
       "    .dataframe thead th {\n",
       "        text-align: right;\n",
       "    }\n",
       "</style>\n",
       "<table border=\"1\" class=\"dataframe\">\n",
       "  <thead>\n",
       "    <tr style=\"text-align: right;\">\n",
       "      <th></th>\n",
       "      <th>Date</th>\n",
       "      <th>District</th>\n",
       "      <th>Header</th>\n",
       "      <th>Story</th>\n",
       "      <th>Source</th>\n",
       "      <th>Attack</th>\n",
       "      <th>latitude</th>\n",
       "      <th>longitude</th>\n",
       "      <th>Propaganda</th>\n",
       "      <th>Structural Discrimination</th>\n",
       "      <th>Material Damage</th>\n",
       "      <th>Reported status</th>\n",
       "    </tr>\n",
       "  </thead>\n",
       "  <tbody>\n",
       "    <tr>\n",
       "      <th>7517</th>\n",
       "      <td>2017-12-14</td>\n",
       "      <td>Lichtenberg</td>\n",
       "      <td>AfD-Anträge in der Lichtenberger BVV</td>\n",
       "      <td>Mit einem Antrag in der BVV versuchte die Lich...</td>\n",
       "      <td>Lichtenberger Register</td>\n",
       "      <td>No</td>\n",
       "      <td>52.5097</td>\n",
       "      <td>13.5036</td>\n",
       "      <td>yes</td>\n",
       "      <td>Unknown</td>\n",
       "      <td>Unknown</td>\n",
       "      <td>Unknown</td>\n",
       "    </tr>\n",
       "    <tr>\n",
       "      <th>7702</th>\n",
       "      <td>2017-11-16</td>\n",
       "      <td>Lichtenberg</td>\n",
       "      <td>Diskriminierende Wortmeldungen der AfD in der BVV</td>\n",
       "      <td>Während der Lichtenberger BVV meldete sich die...</td>\n",
       "      <td>Lichtenberger Register</td>\n",
       "      <td>other</td>\n",
       "      <td>52.5097</td>\n",
       "      <td>13.5036</td>\n",
       "      <td>yes</td>\n",
       "      <td>Unknown</td>\n",
       "      <td>Unknown</td>\n",
       "      <td>Unknown</td>\n",
       "    </tr>\n",
       "    <tr>\n",
       "      <th>7976</th>\n",
       "      <td>2017-09-30</td>\n",
       "      <td>Treptow-Köpenick</td>\n",
       "      <td>Facebook-Dokumentation September: \"AfD Treptow...</td>\n",
       "      <td>Der September war vom Wahlkampf geprägt. 15 de...</td>\n",
       "      <td>Register Treptow-Köpenick</td>\n",
       "      <td>other</td>\n",
       "      <td>52.4437</td>\n",
       "      <td>13.5641</td>\n",
       "      <td>yes</td>\n",
       "      <td>Unknown</td>\n",
       "      <td>Unknown</td>\n",
       "      <td>Unknown</td>\n",
       "    </tr>\n",
       "    <tr>\n",
       "      <th>12142</th>\n",
       "      <td>2018-06-14</td>\n",
       "      <td>Treptow-Köpenick</td>\n",
       "      <td>Diffamierung der Arbeit von Jugendfreizeiteinr...</td>\n",
       "      <td>Der Antrag der SPD und den Grünen „Fachtag zu ...</td>\n",
       "      <td>Register Treptow-Köpenick</td>\n",
       "      <td>other</td>\n",
       "      <td>52.4499</td>\n",
       "      <td>13.5124</td>\n",
       "      <td>yes</td>\n",
       "      <td>Unknown</td>\n",
       "      <td>Unknown</td>\n",
       "      <td>Unknown</td>\n",
       "    </tr>\n",
       "    <tr>\n",
       "      <th>13208</th>\n",
       "      <td>2018-03-01</td>\n",
       "      <td>Treptow-Köpenick</td>\n",
       "      <td>Rassistische Feindkonstruktion und Bedrohung i...</td>\n",
       "      <td>In der BVV stellte die AfD einen Änderungsantr...</td>\n",
       "      <td>Register Treptow-Köpenick</td>\n",
       "      <td>No</td>\n",
       "      <td>52.4499</td>\n",
       "      <td>13.5124</td>\n",
       "      <td>yes</td>\n",
       "      <td>Unknown</td>\n",
       "      <td>Unknown</td>\n",
       "      <td>Unknown</td>\n",
       "    </tr>\n",
       "    <tr>\n",
       "      <th>16069</th>\n",
       "      <td>2019-04-10</td>\n",
       "      <td>Neukölln</td>\n",
       "      <td>Rassistische Wortmeldungen in BVV</td>\n",
       "      <td>Während der Neuköllner BVV-Sitzung am 10. Apri...</td>\n",
       "      <td>Register Neukölln</td>\n",
       "      <td>No</td>\n",
       "      <td>52.4811</td>\n",
       "      <td>13.4354</td>\n",
       "      <td>yes</td>\n",
       "      <td>Unknown</td>\n",
       "      <td>Unknown</td>\n",
       "      <td>Unknown</td>\n",
       "    </tr>\n",
       "  </tbody>\n",
       "</table>\n",
       "</div>"
      ],
      "text/plain": [
       "            Date          District  \\\n",
       "7517  2017-12-14       Lichtenberg   \n",
       "7702  2017-11-16       Lichtenberg   \n",
       "7976  2017-09-30  Treptow-Köpenick   \n",
       "12142 2018-06-14  Treptow-Köpenick   \n",
       "13208 2018-03-01  Treptow-Köpenick   \n",
       "16069 2019-04-10          Neukölln   \n",
       "\n",
       "                                                  Header  \\\n",
       "7517                AfD-Anträge in der Lichtenberger BVV   \n",
       "7702   Diskriminierende Wortmeldungen der AfD in der BVV   \n",
       "7976   Facebook-Dokumentation September: \"AfD Treptow...   \n",
       "12142  Diffamierung der Arbeit von Jugendfreizeiteinr...   \n",
       "13208  Rassistische Feindkonstruktion und Bedrohung i...   \n",
       "16069                  Rassistische Wortmeldungen in BVV   \n",
       "\n",
       "                                                   Story  \\\n",
       "7517   Mit einem Antrag in der BVV versuchte die Lich...   \n",
       "7702   Während der Lichtenberger BVV meldete sich die...   \n",
       "7976   Der September war vom Wahlkampf geprägt. 15 de...   \n",
       "12142  Der Antrag der SPD und den Grünen „Fachtag zu ...   \n",
       "13208  In der BVV stellte die AfD einen Änderungsantr...   \n",
       "16069  Während der Neuköllner BVV-Sitzung am 10. Apri...   \n",
       "\n",
       "                          Source Attack latitude longitude Propaganda  \\\n",
       "7517      Lichtenberger Register     No  52.5097   13.5036        yes   \n",
       "7702      Lichtenberger Register  other  52.5097   13.5036        yes   \n",
       "7976   Register Treptow-Köpenick  other  52.4437   13.5641        yes   \n",
       "12142  Register Treptow-Köpenick  other  52.4499   13.5124        yes   \n",
       "13208  Register Treptow-Köpenick     No  52.4499   13.5124        yes   \n",
       "16069          Register Neukölln     No  52.4811   13.4354        yes   \n",
       "\n",
       "      Structural Discrimination Material Damage Reported status  \n",
       "7517                    Unknown         Unknown         Unknown  \n",
       "7702                    Unknown         Unknown         Unknown  \n",
       "7976                    Unknown         Unknown         Unknown  \n",
       "12142                   Unknown         Unknown         Unknown  \n",
       "13208                   Unknown         Unknown         Unknown  \n",
       "16069                   Unknown         Unknown         Unknown  "
      ]
     },
     "execution_count": 339,
     "metadata": {},
     "output_type": "execute_result"
    }
   ],
   "source": [
    "df_map.loc[[7517, 7702, 7976, 12142, 13208, 16069]]#,'Propaganda'] = 'yes'"
   ]
  },
  {
   "cell_type": "code",
   "execution_count": 306,
   "metadata": {
    "scrolled": true
   },
   "outputs": [
    {
     "data": {
      "text/plain": [
       "Attack  \n",
       "physical    241\n",
       "other        93\n",
       "verbal       87\n",
       "No            9\n",
       "dtype: int64"
      ]
     },
     "execution_count": 306,
     "metadata": {},
     "output_type": "execute_result"
    }
   ],
   "source": [
    "df_map[['Attack']].value_counts()"
   ]
  },
  {
   "cell_type": "code",
   "execution_count": 303,
   "metadata": {},
   "outputs": [],
   "source": [
    "df_map.loc[[3763, 8212, 8891], 'Propaganda'] = 'yes'"
   ]
  },
  {
   "cell_type": "code",
   "execution_count": 304,
   "metadata": {},
   "outputs": [
    {
     "data": {
      "text/html": [
       "<div>\n",
       "<style scoped>\n",
       "    .dataframe tbody tr th:only-of-type {\n",
       "        vertical-align: middle;\n",
       "    }\n",
       "\n",
       "    .dataframe tbody tr th {\n",
       "        vertical-align: top;\n",
       "    }\n",
       "\n",
       "    .dataframe thead th {\n",
       "        text-align: right;\n",
       "    }\n",
       "</style>\n",
       "<table border=\"1\" class=\"dataframe\">\n",
       "  <thead>\n",
       "    <tr style=\"text-align: right;\">\n",
       "      <th></th>\n",
       "      <th>Date</th>\n",
       "      <th>District</th>\n",
       "      <th>Header</th>\n",
       "      <th>Story</th>\n",
       "      <th>Source</th>\n",
       "      <th>Attack</th>\n",
       "      <th>latitude</th>\n",
       "      <th>longitude</th>\n",
       "      <th>Propaganda</th>\n",
       "      <th>Structural Discrimination</th>\n",
       "      <th>Material Damage</th>\n",
       "      <th>Reported status</th>\n",
       "    </tr>\n",
       "  </thead>\n",
       "  <tbody>\n",
       "    <tr>\n",
       "      <th>3763</th>\n",
       "      <td>2015-07-31</td>\n",
       "      <td>Lichtenberg</td>\n",
       "      <td>Hetze von \"Pro Deutschland\" auf Facebook</td>\n",
       "      <td>Die Kleinstpartei „Pro Deutschland“ veröffentl...</td>\n",
       "      <td>Lichtenberger Register</td>\n",
       "      <td>No</td>\n",
       "      <td>None</td>\n",
       "      <td>None</td>\n",
       "      <td>yes</td>\n",
       "      <td>Unknown</td>\n",
       "      <td>Unknown</td>\n",
       "      <td>Unknown</td>\n",
       "    </tr>\n",
       "    <tr>\n",
       "      <th>8212</th>\n",
       "      <td>2017-09-10</td>\n",
       "      <td>Treptow-Köpenick</td>\n",
       "      <td>AfD beim Altglienicker Spätsommerfest</td>\n",
       "      <td>Am 10. September fand das 16. Altglienicker Sp...</td>\n",
       "      <td>Register Treptow-Köpenick</td>\n",
       "      <td>No</td>\n",
       "      <td>52.4211</td>\n",
       "      <td>13.5411</td>\n",
       "      <td>yes</td>\n",
       "      <td>Unknown</td>\n",
       "      <td>Unknown</td>\n",
       "      <td>Unknown</td>\n",
       "    </tr>\n",
       "    <tr>\n",
       "      <th>8891</th>\n",
       "      <td>2017-06-30</td>\n",
       "      <td>Lichtenberg</td>\n",
       "      <td>Flüchtlingsfeindliche Beiträge auf NPD-Faceboo...</td>\n",
       "      <td>Die Lichtenberger NPD veröffentlichte auf Face...</td>\n",
       "      <td>Lichtenberger Register</td>\n",
       "      <td>No</td>\n",
       "      <td>None</td>\n",
       "      <td>None</td>\n",
       "      <td>yes</td>\n",
       "      <td>Unknown</td>\n",
       "      <td>Unknown</td>\n",
       "      <td>Unknown</td>\n",
       "    </tr>\n",
       "  </tbody>\n",
       "</table>\n",
       "</div>"
      ],
      "text/plain": [
       "           Date          District  \\\n",
       "3763 2015-07-31       Lichtenberg   \n",
       "8212 2017-09-10  Treptow-Köpenick   \n",
       "8891 2017-06-30       Lichtenberg   \n",
       "\n",
       "                                                 Header  \\\n",
       "3763           Hetze von \"Pro Deutschland\" auf Facebook   \n",
       "8212              AfD beim Altglienicker Spätsommerfest   \n",
       "8891  Flüchtlingsfeindliche Beiträge auf NPD-Faceboo...   \n",
       "\n",
       "                                                  Story  \\\n",
       "3763  Die Kleinstpartei „Pro Deutschland“ veröffentl...   \n",
       "8212  Am 10. September fand das 16. Altglienicker Sp...   \n",
       "8891  Die Lichtenberger NPD veröffentlichte auf Face...   \n",
       "\n",
       "                         Source Attack latitude longitude Propaganda  \\\n",
       "3763     Lichtenberger Register     No     None      None        yes   \n",
       "8212  Register Treptow-Köpenick     No  52.4211   13.5411        yes   \n",
       "8891     Lichtenberger Register     No     None      None        yes   \n",
       "\n",
       "     Structural Discrimination Material Damage Reported status  \n",
       "3763                   Unknown         Unknown         Unknown  \n",
       "8212                   Unknown         Unknown         Unknown  \n",
       "8891                   Unknown         Unknown         Unknown  "
      ]
     },
     "execution_count": 304,
     "metadata": {},
     "output_type": "execute_result"
    }
   ],
   "source": [
    "df_map[df_map['Propaganda'] != 'Unknown']"
   ]
  },
  {
   "cell_type": "code",
   "execution_count": 284,
   "metadata": {},
   "outputs": [
    {
     "data": {
      "text/html": [
       "<div>\n",
       "<style scoped>\n",
       "    .dataframe tbody tr th:only-of-type {\n",
       "        vertical-align: middle;\n",
       "    }\n",
       "\n",
       "    .dataframe tbody tr th {\n",
       "        vertical-align: top;\n",
       "    }\n",
       "\n",
       "    .dataframe thead th {\n",
       "        text-align: right;\n",
       "    }\n",
       "</style>\n",
       "<table border=\"1\" class=\"dataframe\">\n",
       "  <thead>\n",
       "    <tr style=\"text-align: right;\">\n",
       "      <th></th>\n",
       "      <th>Date</th>\n",
       "      <th>District</th>\n",
       "      <th>Header</th>\n",
       "      <th>Story</th>\n",
       "      <th>Source</th>\n",
       "      <th>Attack</th>\n",
       "      <th>latitude</th>\n",
       "      <th>longitude</th>\n",
       "      <th>Propaganda</th>\n",
       "      <th>Structural Discrimination</th>\n",
       "      <th>Material Damage</th>\n",
       "      <th>Reported status</th>\n",
       "    </tr>\n",
       "  </thead>\n",
       "  <tbody>\n",
       "    <tr>\n",
       "      <th>1861</th>\n",
       "      <td>2014-10-17</td>\n",
       "      <td>Mitte</td>\n",
       "      <td>LGBQT feindliche Schmiererei entdeckt!</td>\n",
       "      <td>Am Abend gegen 20.10 Uhr stellen Polizeibeamte...</td>\n",
       "      <td>Polizei Berlin</td>\n",
       "      <td>No</td>\n",
       "      <td>52.5133</td>\n",
       "      <td>13.3761</td>\n",
       "      <td>anonymous</td>\n",
       "      <td>Unknown</td>\n",
       "      <td>yes</td>\n",
       "      <td>yes</td>\n",
       "    </tr>\n",
       "    <tr>\n",
       "      <th>3763</th>\n",
       "      <td>2015-07-31</td>\n",
       "      <td>Lichtenberg</td>\n",
       "      <td>Hetze von \"Pro Deutschland\" auf Facebook</td>\n",
       "      <td>Die Kleinstpartei „Pro Deutschland“ veröffentl...</td>\n",
       "      <td>Lichtenberger Register</td>\n",
       "      <td>No</td>\n",
       "      <td>None</td>\n",
       "      <td>None</td>\n",
       "      <td>identified</td>\n",
       "      <td>Unknown</td>\n",
       "      <td>Unknown</td>\n",
       "      <td>Unknown</td>\n",
       "    </tr>\n",
       "    <tr>\n",
       "      <th>4405</th>\n",
       "      <td>2015-03-23</td>\n",
       "      <td>Treptow-Köpenick</td>\n",
       "      <td>Homophobe Vermietungspolitik</td>\n",
       "      <td>Zwei Frauen versuchten bei einer privaten Gart...</td>\n",
       "      <td>Zentrum für Demokratie</td>\n",
       "      <td>No</td>\n",
       "      <td>None</td>\n",
       "      <td>None</td>\n",
       "      <td>Unknown</td>\n",
       "      <td>yes</td>\n",
       "      <td>Unknown</td>\n",
       "      <td>Unknown</td>\n",
       "    </tr>\n",
       "    <tr>\n",
       "      <th>5183</th>\n",
       "      <td>2016-10-13</td>\n",
       "      <td>Friedrichshain-Kreuzberg</td>\n",
       "      <td>LGBTIQ*-feindliche Schmiererei am U-Bahnhof Mö...</td>\n",
       "      <td>Am U-Bahnhof Möckernbrücke wurde eine LGBTIQ* ...</td>\n",
       "      <td>Register Charlottenburg-Wilmersdorf</td>\n",
       "      <td>No</td>\n",
       "      <td>52.4991</td>\n",
       "      <td>13.3827</td>\n",
       "      <td>anonymous</td>\n",
       "      <td>Unknown</td>\n",
       "      <td>yes</td>\n",
       "      <td>Unknown</td>\n",
       "    </tr>\n",
       "    <tr>\n",
       "      <th>6214</th>\n",
       "      <td>2016-06-03</td>\n",
       "      <td>Reinickendorf</td>\n",
       "      <td>Rassistische und homophobe Schmiererei</td>\n",
       "      <td>Vor der Franz-Marc-Schule in der Treskowallee ...</td>\n",
       "      <td>Register Spandau</td>\n",
       "      <td>No</td>\n",
       "      <td>52.5882</td>\n",
       "      <td>13.2827</td>\n",
       "      <td>anonymous</td>\n",
       "      <td>Unknown</td>\n",
       "      <td>yes</td>\n",
       "      <td>Unknown</td>\n",
       "    </tr>\n",
       "    <tr>\n",
       "      <th>6221</th>\n",
       "      <td>2016-06-02</td>\n",
       "      <td>Reinickendorf</td>\n",
       "      <td>Plakate beschmiert und beschädigt</td>\n",
       "      <td>In der ver.di Jugendbildungsstätte Konradshöhe...</td>\n",
       "      <td>ver.di Jugendbildungsstätte Berlin-Konradshöhe...</td>\n",
       "      <td>No</td>\n",
       "      <td>52.586</td>\n",
       "      <td>13.2207</td>\n",
       "      <td>anonymous</td>\n",
       "      <td>Unknown</td>\n",
       "      <td>yes</td>\n",
       "      <td>Unknown</td>\n",
       "    </tr>\n",
       "    <tr>\n",
       "      <th>8212</th>\n",
       "      <td>2017-09-10</td>\n",
       "      <td>Treptow-Köpenick</td>\n",
       "      <td>AfD beim Altglienicker Spätsommerfest</td>\n",
       "      <td>Am 10. September fand das 16. Altglienicker Sp...</td>\n",
       "      <td>Register Treptow-Köpenick</td>\n",
       "      <td>No</td>\n",
       "      <td>52.4211</td>\n",
       "      <td>13.5411</td>\n",
       "      <td>identified</td>\n",
       "      <td>Unknown</td>\n",
       "      <td>Unknown</td>\n",
       "      <td>Unknown</td>\n",
       "    </tr>\n",
       "    <tr>\n",
       "      <th>8694</th>\n",
       "      <td>2017-07-24</td>\n",
       "      <td>Mitte</td>\n",
       "      <td>Plakat aus LGBTIQ*-feindlichen Gründen zerstört</td>\n",
       "      <td>Im Ortsteil Mitte an der Kreuzung Torstraße Ec...</td>\n",
       "      <td>Berliner Register</td>\n",
       "      <td>No</td>\n",
       "      <td>52.5297</td>\n",
       "      <td>13.401</td>\n",
       "      <td>anonymous</td>\n",
       "      <td>Unknown</td>\n",
       "      <td>yes</td>\n",
       "      <td>Unknown</td>\n",
       "    </tr>\n",
       "    <tr>\n",
       "      <th>8891</th>\n",
       "      <td>2017-06-30</td>\n",
       "      <td>Lichtenberg</td>\n",
       "      <td>Flüchtlingsfeindliche Beiträge auf NPD-Faceboo...</td>\n",
       "      <td>Die Lichtenberger NPD veröffentlichte auf Face...</td>\n",
       "      <td>Lichtenberger Register</td>\n",
       "      <td>No</td>\n",
       "      <td>None</td>\n",
       "      <td>None</td>\n",
       "      <td>identified</td>\n",
       "      <td>Unknown</td>\n",
       "      <td>Unknown</td>\n",
       "      <td>Unknown</td>\n",
       "    </tr>\n",
       "  </tbody>\n",
       "</table>\n",
       "</div>"
      ],
      "text/plain": [
       "           Date                  District  \\\n",
       "1861 2014-10-17                     Mitte   \n",
       "3763 2015-07-31               Lichtenberg   \n",
       "4405 2015-03-23          Treptow-Köpenick   \n",
       "5183 2016-10-13  Friedrichshain-Kreuzberg   \n",
       "6214 2016-06-03             Reinickendorf   \n",
       "6221 2016-06-02             Reinickendorf   \n",
       "8212 2017-09-10          Treptow-Köpenick   \n",
       "8694 2017-07-24                     Mitte   \n",
       "8891 2017-06-30               Lichtenberg   \n",
       "\n",
       "                                                 Header  \\\n",
       "1861             LGBQT feindliche Schmiererei entdeckt!   \n",
       "3763           Hetze von \"Pro Deutschland\" auf Facebook   \n",
       "4405                       Homophobe Vermietungspolitik   \n",
       "5183  LGBTIQ*-feindliche Schmiererei am U-Bahnhof Mö...   \n",
       "6214             Rassistische und homophobe Schmiererei   \n",
       "6221                  Plakate beschmiert und beschädigt   \n",
       "8212              AfD beim Altglienicker Spätsommerfest   \n",
       "8694    Plakat aus LGBTIQ*-feindlichen Gründen zerstört   \n",
       "8891  Flüchtlingsfeindliche Beiträge auf NPD-Faceboo...   \n",
       "\n",
       "                                                  Story  \\\n",
       "1861  Am Abend gegen 20.10 Uhr stellen Polizeibeamte...   \n",
       "3763  Die Kleinstpartei „Pro Deutschland“ veröffentl...   \n",
       "4405  Zwei Frauen versuchten bei einer privaten Gart...   \n",
       "5183  Am U-Bahnhof Möckernbrücke wurde eine LGBTIQ* ...   \n",
       "6214  Vor der Franz-Marc-Schule in der Treskowallee ...   \n",
       "6221  In der ver.di Jugendbildungsstätte Konradshöhe...   \n",
       "8212  Am 10. September fand das 16. Altglienicker Sp...   \n",
       "8694  Im Ortsteil Mitte an der Kreuzung Torstraße Ec...   \n",
       "8891  Die Lichtenberger NPD veröffentlichte auf Face...   \n",
       "\n",
       "                                                 Source Attack latitude  \\\n",
       "1861                                     Polizei Berlin     No  52.5133   \n",
       "3763                             Lichtenberger Register     No     None   \n",
       "4405                             Zentrum für Demokratie     No     None   \n",
       "5183                Register Charlottenburg-Wilmersdorf     No  52.4991   \n",
       "6214                                   Register Spandau     No  52.5882   \n",
       "6221  ver.di Jugendbildungsstätte Berlin-Konradshöhe...     No   52.586   \n",
       "8212                          Register Treptow-Köpenick     No  52.4211   \n",
       "8694                                  Berliner Register     No  52.5297   \n",
       "8891                             Lichtenberger Register     No     None   \n",
       "\n",
       "     longitude  Propaganda Structural Discrimination Material Damage  \\\n",
       "1861   13.3761   anonymous                   Unknown             yes   \n",
       "3763      None  identified                   Unknown         Unknown   \n",
       "4405      None     Unknown                       yes         Unknown   \n",
       "5183   13.3827   anonymous                   Unknown             yes   \n",
       "6214   13.2827   anonymous                   Unknown             yes   \n",
       "6221   13.2207   anonymous                   Unknown             yes   \n",
       "8212   13.5411  identified                   Unknown         Unknown   \n",
       "8694    13.401   anonymous                   Unknown             yes   \n",
       "8891      None  identified                   Unknown         Unknown   \n",
       "\n",
       "     Reported status  \n",
       "1861             yes  \n",
       "3763         Unknown  \n",
       "4405         Unknown  \n",
       "5183         Unknown  \n",
       "6214         Unknown  \n",
       "6221         Unknown  \n",
       "8212         Unknown  \n",
       "8694         Unknown  \n",
       "8891         Unknown  "
      ]
     },
     "execution_count": 284,
     "metadata": {},
     "output_type": "execute_result"
    }
   ],
   "source": [
    "df_map[df_map['Attack'] == 'No']"
   ]
  },
  {
   "cell_type": "code",
   "execution_count": 248,
   "metadata": {},
   "outputs": [],
   "source": [
    "df_map.loc[df_map['Attack'].isna()==True, 'Attack'] = 'No'"
   ]
  },
  {
   "cell_type": "code",
   "execution_count": 253,
   "metadata": {},
   "outputs": [],
   "source": [
    "df_map.loc[df_map['Propaganda'].isna()==True, 'Propaganda'] = 'Unknown'"
   ]
  },
  {
   "cell_type": "code",
   "execution_count": 257,
   "metadata": {},
   "outputs": [],
   "source": [
    "df_map.loc[df_map['Structural Discrimination'].isna()==True, 'Structural Discrimination'] = 'Unknown'"
   ]
  },
  {
   "cell_type": "code",
   "execution_count": 259,
   "metadata": {},
   "outputs": [],
   "source": [
    "df_map.loc[df_map['Material Damage'].isna()==True, 'Material Damage'] = 'Unknown'"
   ]
  },
  {
   "cell_type": "code",
   "execution_count": 261,
   "metadata": {},
   "outputs": [],
   "source": [
    "df_map.loc[df_map['Reported status'].isna()==True, 'Reported status'] = 'Unknown'"
   ]
  },
  {
   "cell_type": "code",
   "execution_count": 280,
   "metadata": {},
   "outputs": [],
   "source": [
    "df_map.loc[df_map['latitude'] == 'Unknown', 'latitude'] = None\n",
    "df_map.loc[df_map['longitude'] == 'Unknown', 'longitude'] = None"
   ]
  },
  {
   "cell_type": "code",
   "execution_count": null,
   "metadata": {},
   "outputs": [],
   "source": []
  },
  {
   "cell_type": "code",
   "execution_count": null,
   "metadata": {},
   "outputs": [],
   "source": []
  },
  {
   "cell_type": "code",
   "execution_count": 563,
   "metadata": {},
   "outputs": [],
   "source": [
    "lgbt_index_test = df_lgbt[df_lgbt['Reported status'] == 'yes'].index"
   ]
  },
  {
   "cell_type": "code",
   "execution_count": 564,
   "metadata": {},
   "outputs": [],
   "source": [
    "map_index_test = df_map[df_map['Reported status'] == 'yes'].index"
   ]
  },
  {
   "cell_type": "code",
   "execution_count": 565,
   "metadata": {},
   "outputs": [],
   "source": [
    "lgbt_index = df_lgbt.index\n",
    "map_index = df_map.index"
   ]
  },
  {
   "cell_type": "code",
   "execution_count": null,
   "metadata": {},
   "outputs": [],
   "source": []
  },
  {
   "cell_type": "code",
   "execution_count": 566,
   "metadata": {
    "scrolled": true
   },
   "outputs": [
    {
     "data": {
      "text/plain": [
       "0"
      ]
     },
     "execution_count": 566,
     "metadata": {},
     "output_type": "execute_result"
    }
   ],
   "source": [
    "missing_indices = [x for x in list(lgbt_index_test) if x not in map_index_test]\n",
    "len(missing_indices)"
   ]
  },
  {
   "cell_type": "code",
   "execution_count": 567,
   "metadata": {},
   "outputs": [
    {
     "data": {
      "text/plain": [
       "0"
      ]
     },
     "execution_count": 567,
     "metadata": {},
     "output_type": "execute_result"
    }
   ],
   "source": [
    "really_missing = [x for x in missing_indices if x not in list(map_index)]\n",
    "len(really_missing)"
   ]
  },
  {
   "cell_type": "code",
   "execution_count": 568,
   "metadata": {},
   "outputs": [
    {
     "data": {
      "text/plain": [
       "[]"
      ]
     },
     "execution_count": 568,
     "metadata": {},
     "output_type": "execute_result"
    }
   ],
   "source": [
    "[x for x in missing_indices if x not in really_missing]"
   ]
  },
  {
   "cell_type": "code",
   "execution_count": 554,
   "metadata": {},
   "outputs": [
    {
     "data": {
      "text/plain": [
       "'Ein 27-jähriger Mann wurde gegen 22.40 Uhr vor dem S-Bahnhof Herrmannstraße von einem 44-jährigen Mann homophob und rassistisch beleidigt. Der 27-Jährige wollte sich daraufhin entfernen, wurde aber durch den Täter verfolgt. Als er seinen Verfolger offen zu filmen begann, griff der 44-Jährige Täter ihn an und würgte ihn. Zeug_innen intervenierten und die alarmierte Polizei nahm den Täter fest.'"
      ]
     },
     "execution_count": 554,
     "metadata": {},
     "output_type": "execute_result"
    }
   ],
   "source": [
    "df_map.loc[6213,'Story']"
   ]
  },
  {
   "cell_type": "code",
   "execution_count": 555,
   "metadata": {},
   "outputs": [],
   "source": [
    "df_lgbt.loc[6213, 'Material Damage'] = np.nan"
   ]
  },
  {
   "cell_type": "code",
   "execution_count": 524,
   "metadata": {},
   "outputs": [],
   "source": [
    "df_lgbt.loc[3403, 'Material Damage'] = 'yes'"
   ]
  },
  {
   "cell_type": "code",
   "execution_count": 522,
   "metadata": {},
   "outputs": [
    {
     "data": {
      "text/plain": [
       "7517     NaN\n",
       "13208    NaN\n",
       "Name: Attack, dtype: object"
      ]
     },
     "execution_count": 522,
     "metadata": {},
     "output_type": "execute_result"
    }
   ],
   "source": [
    "df_lgbt.loc[[7517, 13208], 'Attack']"
   ]
  },
  {
   "cell_type": "code",
   "execution_count": 469,
   "metadata": {},
   "outputs": [
    {
     "data": {
      "text/html": [
       "<div>\n",
       "<style scoped>\n",
       "    .dataframe tbody tr th:only-of-type {\n",
       "        vertical-align: middle;\n",
       "    }\n",
       "\n",
       "    .dataframe tbody tr th {\n",
       "        vertical-align: top;\n",
       "    }\n",
       "\n",
       "    .dataframe thead th {\n",
       "        text-align: right;\n",
       "    }\n",
       "</style>\n",
       "<table border=\"1\" class=\"dataframe\">\n",
       "  <thead>\n",
       "    <tr style=\"text-align: right;\">\n",
       "      <th></th>\n",
       "      <th>Date</th>\n",
       "      <th>District</th>\n",
       "      <th>Header</th>\n",
       "      <th>Story</th>\n",
       "      <th>Source</th>\n",
       "      <th>Attack</th>\n",
       "      <th>Propaganda</th>\n",
       "      <th>Structural Discrimination</th>\n",
       "      <th>Material Damage</th>\n",
       "      <th>Reported status</th>\n",
       "    </tr>\n",
       "  </thead>\n",
       "  <tbody>\n",
       "    <tr>\n",
       "      <th>1861</th>\n",
       "      <td>2014-10-17</td>\n",
       "      <td>Mitte</td>\n",
       "      <td>LGBQT feindliche Schmiererei entdeckt!</td>\n",
       "      <td>Am Abend gegen 20.10 Uhr stellen Polizeibeamte...</td>\n",
       "      <td>Polizei Berlin</td>\n",
       "      <td>NaN</td>\n",
       "      <td>NaN</td>\n",
       "      <td>NaN</td>\n",
       "      <td>yes</td>\n",
       "      <td>NaN</td>\n",
       "    </tr>\n",
       "    <tr>\n",
       "      <th>3403</th>\n",
       "      <td>2015-09-29</td>\n",
       "      <td>Mitte</td>\n",
       "      <td>Homophobie</td>\n",
       "      <td>Am 29. September 2015 ereignete sich im Ortste...</td>\n",
       "      <td>ReachOut</td>\n",
       "      <td>physical</td>\n",
       "      <td>NaN</td>\n",
       "      <td>NaN</td>\n",
       "      <td>NaN</td>\n",
       "      <td>NaN</td>\n",
       "    </tr>\n",
       "    <tr>\n",
       "      <th>5821</th>\n",
       "      <td>2016-07-23</td>\n",
       "      <td>Mitte</td>\n",
       "      <td>Angriff auf schwulen Fahrgast</td>\n",
       "      <td>Ein Fahrgast, der sich zwischen 17:00 und 18:0...</td>\n",
       "      <td>Polizeimeldung</td>\n",
       "      <td>physical</td>\n",
       "      <td>NaN</td>\n",
       "      <td>NaN</td>\n",
       "      <td>NaN</td>\n",
       "      <td>NaN</td>\n",
       "    </tr>\n",
       "    <tr>\n",
       "      <th>6213</th>\n",
       "      <td>2016-06-03</td>\n",
       "      <td>Neukölln</td>\n",
       "      <td>Angegriffen und gewürgt</td>\n",
       "      <td>Ein 27-jähriger Mann wurde gegen 22.40 Uhr vor...</td>\n",
       "      <td>ReachOut</td>\n",
       "      <td>physical</td>\n",
       "      <td>NaN</td>\n",
       "      <td>NaN</td>\n",
       "      <td>NaN</td>\n",
       "      <td>NaN</td>\n",
       "    </tr>\n",
       "  </tbody>\n",
       "</table>\n",
       "</div>"
      ],
      "text/plain": [
       "           Date  District                                  Header  \\\n",
       "1861 2014-10-17     Mitte  LGBQT feindliche Schmiererei entdeckt!   \n",
       "3403 2015-09-29     Mitte                              Homophobie   \n",
       "5821 2016-07-23     Mitte           Angriff auf schwulen Fahrgast   \n",
       "6213 2016-06-03  Neukölln                 Angegriffen und gewürgt   \n",
       "\n",
       "                                                  Story          Source  \\\n",
       "1861  Am Abend gegen 20.10 Uhr stellen Polizeibeamte...  Polizei Berlin   \n",
       "3403  Am 29. September 2015 ereignete sich im Ortste...        ReachOut   \n",
       "5821  Ein Fahrgast, der sich zwischen 17:00 und 18:0...  Polizeimeldung   \n",
       "6213  Ein 27-jähriger Mann wurde gegen 22.40 Uhr vor...        ReachOut   \n",
       "\n",
       "        Attack Propaganda Structural Discrimination Material Damage  \\\n",
       "1861       NaN        NaN                       NaN             yes   \n",
       "3403  physical        NaN                       NaN             NaN   \n",
       "5821  physical        NaN                       NaN             NaN   \n",
       "6213  physical        NaN                       NaN             NaN   \n",
       "\n",
       "      Reported status  \n",
       "1861              NaN  \n",
       "3403              NaN  \n",
       "5821              NaN  \n",
       "6213              NaN  "
      ]
     },
     "execution_count": 469,
     "metadata": {},
     "output_type": "execute_result"
    }
   ],
   "source": [
    "df_lgbt.loc[missing_indices]"
   ]
  },
  {
   "cell_type": "code",
   "execution_count": 470,
   "metadata": {},
   "outputs": [],
   "source": [
    "df_lgbt.loc[missing_indices, 'Material Damage'] = 'yes'"
   ]
  },
  {
   "cell_type": "markdown",
   "metadata": {},
   "source": [
    "____"
   ]
  },
  {
   "cell_type": "markdown",
   "metadata": {},
   "source": [
    "## Pickle df_map"
   ]
  },
  {
   "cell_type": "code",
   "execution_count": 571,
   "metadata": {},
   "outputs": [],
   "source": [
    "# pickle df_map_test\n",
    "with open('pickles/df_map_test.pickle', 'wb' ) as f:\n",
    "    pickle.dump(df_map, f)"
   ]
  },
  {
   "cell_type": "markdown",
   "metadata": {},
   "source": [
    "## Pickle df_lgbt"
   ]
  },
  {
   "cell_type": "code",
   "execution_count": 572,
   "metadata": {},
   "outputs": [],
   "source": [
    "# pickle df_map_test\n",
    "with open('pickles/df_lgbt.pickle', 'wb' ) as f:\n",
    "    pickle.dump(df_lgbt, f)"
   ]
  },
  {
   "cell_type": "code",
   "execution_count": null,
   "metadata": {},
   "outputs": [],
   "source": []
  },
  {
   "cell_type": "code",
   "execution_count": null,
   "metadata": {},
   "outputs": [],
   "source": []
  }
 ],
 "metadata": {
  "kernelspec": {
   "display_name": "Python 3",
   "language": "python",
   "name": "python3"
  },
  "language_info": {
   "codemirror_mode": {
    "name": "ipython",
    "version": 3
   },
   "file_extension": ".py",
   "mimetype": "text/x-python",
   "name": "python",
   "nbconvert_exporter": "python",
   "pygments_lexer": "ipython3",
   "version": "3.8.5"
  }
 },
 "nbformat": 4,
 "nbformat_minor": 4
}
