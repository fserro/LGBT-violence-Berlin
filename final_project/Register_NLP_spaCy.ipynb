{
 "cells": [
  {
   "cell_type": "code",
   "execution_count": 2,
   "metadata": {},
   "outputs": [],
   "source": [
    "import pandas as pd\n",
    "import numpy as np\n",
    "import pickle\n",
    "import spacy\n",
    "import regex as re\n",
    "from spacy.lang.de import German\n",
    "from spacy.matcher import Matcher\n",
    "from spacy.tokens import Span, Token, Doc\n",
    "from langdetect import detect, detect_langs\n",
    "from geopy.geocoders import Nominatim"
   ]
  },
  {
   "cell_type": "markdown",
   "metadata": {},
   "source": [
    "# Load pickled df_lgbt"
   ]
  },
  {
   "cell_type": "code",
   "execution_count": 3,
   "metadata": {},
   "outputs": [],
   "source": [
    "with open('pickles/df_lgbt.pickle', 'rb') as f:\n",
    "    df_lgbt = pickle.load(f)"
   ]
  },
  {
   "cell_type": "code",
   "execution_count": 3,
   "metadata": {},
   "outputs": [],
   "source": [
    "stories = list(df_lgbt['Story'])\n",
    "titles = list(df_lgbt['Header'])\n",
    "districts = list(df_lgbt['District'])\n",
    "sources = list(df_lgbt['Source'])\n",
    "dates = list(df_lgbt['Date'])\n",
    "indices = list(df_lgbt.index) # indices of incidents in df_complete"
   ]
  },
  {
   "cell_type": "markdown",
   "metadata": {},
   "source": [
    "# Load pickled df_map"
   ]
  },
  {
   "cell_type": "code",
   "execution_count": 3,
   "metadata": {},
   "outputs": [],
   "source": [
    "with open('pickles/df_map_test.pickle', 'rb') as f:\n",
    "    df_map = pickle.load(f)"
   ]
  },
  {
   "cell_type": "markdown",
   "metadata": {},
   "source": [
    "# Load pickled docs"
   ]
  },
  {
   "cell_type": "code",
   "execution_count": 5,
   "metadata": {},
   "outputs": [],
   "source": [
    "with open('pickles/spacy_docs.pickle', 'rb') as f:\n",
    "    docs = pickle.load(f)"
   ]
  },
  {
   "cell_type": "markdown",
   "metadata": {},
   "source": [
    "### Detect languages"
   ]
  },
  {
   "cell_type": "markdown",
   "metadata": {},
   "source": [
    "All stories are in German. But this led me to find that there are 5 missing stories."
   ]
  },
  {
   "cell_type": "code",
   "execution_count": 226,
   "metadata": {},
   "outputs": [],
   "source": [
    "languages_stories = []\n",
    "missing_stories = [] # index of missing stories in LIST stories\n",
    "for i, story in enumerate(stories):\n",
    "    try:\n",
    "        lan = detect(story)\n",
    "    except:\n",
    "        lan = np.nan\n",
    "        missing_stories.append(i)\n",
    "    languages_stories.append(lan)"
   ]
  },
  {
   "cell_type": "code",
   "execution_count": 243,
   "metadata": {},
   "outputs": [
    {
     "data": {
      "text/plain": [
       "{'de', nan}"
      ]
     },
     "execution_count": 243,
     "metadata": {},
     "output_type": "execute_result"
    }
   ],
   "source": [
    "# only German. Some missing\n",
    "set(languages_stories)"
   ]
  },
  {
   "cell_type": "markdown",
   "metadata": {},
   "source": [
    "### Find missing stories"
   ]
  },
  {
   "cell_type": "code",
   "execution_count": 241,
   "metadata": {},
   "outputs": [
    {
     "data": {
      "text/plain": [
       "[11, 20, 25, 98, 109]"
      ]
     },
     "execution_count": 241,
     "metadata": {},
     "output_type": "execute_result"
    }
   ],
   "source": [
    "story_nan_indices = []\n",
    "for i, lan in enumerate(languages_stories):\n",
    "    if type(lan) != str:\n",
    "        story_nan_indices.append(i)\n",
    "story_nan_indices"
   ]
  },
  {
   "cell_type": "code",
   "execution_count": 244,
   "metadata": {
    "scrolled": true
   },
   "outputs": [
    {
     "data": {
      "text/plain": [
       "[(11,\n",
       "  '2014-08-11',\n",
       "  'Friedrichshain-Kreuzberg',\n",
       "  'Transphobe Beleidigung',\n",
       "  'Register Friedrichshain-Kreuzberg'),\n",
       " (20,\n",
       "  '2014-06-14',\n",
       "  'Friedrichshain-Kreuzberg',\n",
       "  'Transphobe Beleidigung',\n",
       "  'Register Friedrichshain-Kreuzberg'),\n",
       " (25,\n",
       "  '2014-05-18',\n",
       "  'Friedrichshain-Kreuzberg',\n",
       "  'Mann aus homophoben Gründen zu Boden geschlagen',\n",
       "  'ReachOut'),\n",
       " (98,\n",
       "  '2015-04-14',\n",
       "  'Lichtenberg',\n",
       "  'Transphober Angriff in der Tram',\n",
       "  'Lichtenberger Register'),\n",
       " (109,\n",
       "  '2015-03-05',\n",
       "  'Friedrichshain-Kreuzberg',\n",
       "  'Homophobe Beleidigung',\n",
       "  'Register Friedrichshain-Kreuzberg')]"
      ]
     },
     "execution_count": 244,
     "metadata": {},
     "output_type": "execute_result"
    }
   ],
   "source": [
    "# info on incidents without story\n",
    "no_story_info = [(i, str(dates[i].date()), districts[i], titles[i], sources[i]) for i in story_nan_indices]\n",
    "no_story_info"
   ]
  },
  {
   "cell_type": "code",
   "execution_count": 240,
   "metadata": {},
   "outputs": [
    {
     "data": {
      "text/plain": [
       "[2063, 2261, 2350, 4310, 4469]"
      ]
     },
     "execution_count": 240,
     "metadata": {},
     "output_type": "execute_result"
    }
   ],
   "source": [
    "# indices in df_lgbt['Stories']\n",
    "missing_stories_indices = [df_lgbt.iloc[i].name for i in missing_stories]\n",
    "missing_stories_indices"
   ]
  },
  {
   "cell_type": "code",
   "execution_count": 71,
   "metadata": {},
   "outputs": [],
   "source": [
    "languages_titles = []\n",
    "for title in titles:\n",
    "    try:\n",
    "        lan = detect(title)\n",
    "    except:\n",
    "        lan = np.nan\n",
    "    languages_titles.append(lan)"
   ]
  },
  {
   "cell_type": "code",
   "execution_count": 75,
   "metadata": {},
   "outputs": [],
   "source": [
    "title_f_lan_indices = []\n",
    "title_f_lan_lan = []\n",
    "for i, lan in enumerate(languages_titles):\n",
    "    if lan != 'de':\n",
    "        title_f_lan_indices.append(i)\n",
    "        title_f_lan_lan.append(lan)"
   ]
  },
  {
   "cell_type": "code",
   "execution_count": 81,
   "metadata": {},
   "outputs": [],
   "source": [
    "foreign_titles = [titles[i] for i in title_f_lan_indices]"
   ]
  },
  {
   "cell_type": "code",
   "execution_count": 82,
   "metadata": {
    "scrolled": true
   },
   "outputs": [
    {
     "data": {
      "text/plain": [
       "['Angriff aus transphober Motivation',\n",
       " 'Angriff aus transphober Motivation',\n",
       " 'Angriff aus transphober Motivation',\n",
       " 'Facebook-Seite der NPD Pankow',\n",
       " 'Angriff aus homophober Motivation',\n",
       " 'Angriff aus homophober Motivation',\n",
       " 'Homepage der NPD KV8 Pankow',\n",
       " 'Homophobie',\n",
       " 'Angriff aus homophober Motivation in der Motzstr. ',\n",
       " 'Angriff aus homophober Motivation',\n",
       " 'Homophob motivierter Angriff',\n",
       " 'Homophob motivierter Angriff',\n",
       " 'Homophobie',\n",
       " 'Angriff aus homophober Motivation',\n",
       " 'Homophobie',\n",
       " 'Angriff aus homophober Motivation',\n",
       " 'Homophober Angriff am S-Bahnhof Tempelhof',\n",
       " 'Homophober Angriff in Rudow',\n",
       " 'Transhass in Charlottenburg',\n",
       " 'Homophobe Propaganda',\n",
       " 'Transsexuelle(n) attackiert',\n",
       " 'Homophob motivierter Angriff',\n",
       " 'Homophob angegriffen',\n",
       " 'Transhass in Charlottenburg',\n",
       " 'Homophob motivierter Angriff',\n",
       " 'Mann aus homophober Motivation getreten',\n",
       " 'Facebook-Dokumentation Oktober: \"AfD Treptow-Köpenick\" und „AfD-Fraktion Treptow-Köpenick“',\n",
       " 'Facebook-Dokumentation Oktober: \"NPD Treptow-Köpenick\"',\n",
       " 'Facebook-Dokumentation September: \"AfD Treptow-Köpenick\" und „AfD-Fraktion Treptow-Köpenick“',\n",
       " 'Angriff aus homophober Motivation in Tempelhof',\n",
       " '7. \"Merkel muss weg!\" Demo',\n",
       " 'Facebook-Dokumentation Juli: \"AfD Treptow-Köpenick\" und „AfD-Fraktion Treptow-Köpenick“',\n",
       " 'Facebook-Dokumentation Juli: \"NPD Treptow-Köpenick\"',\n",
       " 'Paar aus homophober Motivation angespuckt',\n",
       " '6. \"Merkel muss weg!\" Demonstration ',\n",
       " 'Facebook-Dokumentation Juni: \"AfD Treptow-Köpenick\" und „AfD-Fraktion Treptow-Köpenick“',\n",
       " 'Aus homophober Motivation getreten in Alt-Treptow',\n",
       " 'Homophobes Plakat im Olympiastadion in Westend',\n",
       " 'Homophober Angriff in Moabit',\n",
       " 'Transfrau in Nordneukölln attackiert',\n",
       " 'Homophob beleidigt',\n",
       " 'Facebook-Dokumentation Juli: \"NPD Treptow-Köpenick\"',\n",
       " 'Homophobe Propaganda am Ckeckpoint Charlie',\n",
       " 'Homophobe Propaganda am S-Bahnhof Wedding',\n",
       " 'Homophobes Graffiti in Mitte',\n",
       " 'Online-Monitoring: April  ',\n",
       " 'Facebook-Dokumentation März: \"NPD Treptow-Köpenick\"',\n",
       " 'Homophober Angriff am S-Bahnhof Humboldthain',\n",
       " 'Online-Monitoring: Mai',\n",
       " 'Homophober Brief an antirassistische LGBTIQ*-Organisation',\n",
       " 'NS-Propaganda am Fennpfuhl']"
      ]
     },
     "execution_count": 82,
     "metadata": {},
     "output_type": "execute_result"
    }
   ],
   "source": [
    "foreign_titles"
   ]
  },
  {
   "cell_type": "code",
   "execution_count": null,
   "metadata": {},
   "outputs": [],
   "source": [
    "# This seems redundant now...\n",
    "\"\"\"\n",
    "locations = []\n",
    "organizations = []\n",
    "for ent in doc.ents:\n",
    "    if ent.label_ == 'LOC':\n",
    "        locations.append(ent.text)\n",
    "    elif ent.label_ == 'ORG':\n",
    "        organizations.append(ent.text)\n",
    "locations, organizations\n",
    "\"\"\""
   ]
  },
  {
   "cell_type": "markdown",
   "metadata": {},
   "source": [
    "## Find locations"
   ]
  },
  {
   "cell_type": "markdown",
   "metadata": {},
   "source": [
    "**Find coordinates**"
   ]
  },
  {
   "cell_type": "code",
   "execution_count": 284,
   "metadata": {},
   "outputs": [
    {
     "data": {
      "text/plain": [
       "(LGBTIQ*feindliche Beleidigung und Angriff vor der Volksbühne. Mehrere Männer und Frauen saßen auf den Stufen vor der Volksbühne am Rosa-Luxemburg-Platz, als gegen 0.15 Uhr ein Mann mit einem Fahrrad vorbeikam, die Gruppe bepöbelte und dabei einen 20 Jahre alten Mann homophob beleidigte. Der Unbekannte entfernte sich zunächst kurz, kam dann aber etwa eine viertel Stunde später zurück und versprühte Reizstoff auf die Gruppe. Zwei Männer, 21 und 33 Jahre alt, erlitten dabei Augen- und Atemwegsreizungen. Der Angreifer flüchtete.,\n",
       " {'index': 18525,\n",
       "  'district': 'Mitte',\n",
       "  'MISC': ['Angriff vor der Volksbühne'],\n",
       "  'LOC': ['Volksbühne am Rosa-Luxemburg-Platz']})"
      ]
     },
     "execution_count": 284,
     "metadata": {},
     "output_type": "execute_result"
    }
   ],
   "source": [
    "docs[83]"
   ]
  },
  {
   "cell_type": "code",
   "execution_count": 33,
   "metadata": {},
   "outputs": [],
   "source": [
    "list_of_entities = [doc[0].ents for doc in docs]\n",
    "list_of_districts = list(df_lgbt['District'])"
   ]
  },
  {
   "cell_type": "code",
   "execution_count": 34,
   "metadata": {
    "scrolled": true
   },
   "outputs": [
    {
     "data": {
      "text/plain": [
       "[{'place_id': 256795914,\n",
       "  'licence': 'Data © OpenStreetMap contributors, ODbL 1.0. https://osm.org/copyright',\n",
       "  'osm_type': 'relation',\n",
       "  'osm_id': 408306,\n",
       "  'boundingbox': ['52.6196447', '52.6755087', '13.4200259', '13.523022'],\n",
       "  'lat': '52.6366724',\n",
       "  'lon': '13.4999292',\n",
       "  'display_name': 'Buch, Pankow, Berlin, Deutschland',\n",
       "  'class': 'boundary',\n",
       "  'type': 'administrative',\n",
       "  'importance': 0.7639251505982987,\n",
       "  'icon': 'https://nominatim.openstreetmap.org/ui/mapicons//poi_boundary_administrative.p.20.png',\n",
       "  'address': {'suburb': 'Buch',\n",
       "   'borough': 'Pankow',\n",
       "   'state': 'Berlin',\n",
       "   'country': 'Deutschland',\n",
       "   'country_code': 'de'}},\n",
       " {'place_id': 96502140,\n",
       "  'licence': 'Data © OpenStreetMap contributors, ODbL 1.0. https://osm.org/copyright',\n",
       "  'osm_type': 'way',\n",
       "  'osm_id': 29319916,\n",
       "  'boundingbox': ['52.5286422', '52.5289603', '13.4372366', '13.4380423'],\n",
       "  'lat': '52.5287836',\n",
       "  'lon': '13.43764116835994',\n",
       "  'display_name': 'Denkmal des polnischen Soldaten und deutschen Antifaschisten, Virchowstraße, Bötzowviertel, Prenzlauer Berg, Pankow, Berlin, 10249, Deutschland',\n",
       "  'class': 'historic',\n",
       "  'type': 'memorial',\n",
       "  'importance': 0.5354981504372134,\n",
       "  'icon': 'https://nominatim.openstreetmap.org/ui/mapicons//tourist_monument.p.20.png',\n",
       "  'address': {'historic': 'Denkmal des polnischen Soldaten und deutschen Antifaschisten',\n",
       "   'road': 'Virchowstraße',\n",
       "   'neighbourhood': 'Bötzowviertel',\n",
       "   'suburb': 'Prenzlauer Berg',\n",
       "   'borough': 'Pankow',\n",
       "   'city': 'Berlin',\n",
       "   'state': 'Berlin',\n",
       "   'postcode': '10249',\n",
       "   'country': 'Deutschland',\n",
       "   'country_code': 'de'}},\n",
       " {'place_id': 256795914,\n",
       "  'licence': 'Data © OpenStreetMap contributors, ODbL 1.0. https://osm.org/copyright',\n",
       "  'osm_type': 'relation',\n",
       "  'osm_id': 408306,\n",
       "  'boundingbox': ['52.6196447', '52.6755087', '13.4200259', '13.523022'],\n",
       "  'lat': '52.6366724',\n",
       "  'lon': '13.4999292',\n",
       "  'display_name': 'Buch, Pankow, Berlin, Deutschland',\n",
       "  'class': 'boundary',\n",
       "  'type': 'administrative',\n",
       "  'importance': 0.7639251505982987,\n",
       "  'icon': 'https://nominatim.openstreetmap.org/ui/mapicons//poi_boundary_administrative.p.20.png',\n",
       "  'address': {'suburb': 'Buch',\n",
       "   'borough': 'Pankow',\n",
       "   'state': 'Berlin',\n",
       "   'country': 'Deutschland',\n",
       "   'country_code': 'de'}},\n",
       " {'place_id': 105414776,\n",
       "  'licence': 'Data © OpenStreetMap contributors, ODbL 1.0. https://osm.org/copyright',\n",
       "  'osm_type': 'way',\n",
       "  'osm_id': 54436327,\n",
       "  'boundingbox': ['52.6137123', '52.6170279', '13.4516691', '13.4566341'],\n",
       "  'lat': '52.61536905',\n",
       "  'lon': '13.453607638211068',\n",
       "  'display_name': 'Wagendorf Pankgräfin, Französisch Buchholz, Pankow, Berlin, 13125, Deutschland',\n",
       "  'class': 'landuse',\n",
       "  'type': 'residential',\n",
       "  'importance': 0.42,\n",
       "  'address': {'residential': 'Wagendorf Pankgräfin',\n",
       "   'suburb': 'Französisch Buchholz',\n",
       "   'borough': 'Pankow',\n",
       "   'city': 'Berlin',\n",
       "   'state': 'Berlin',\n",
       "   'postcode': '13125',\n",
       "   'country': 'Deutschland',\n",
       "   'country_code': 'de'}},\n",
       " {'place_id': 257886843,\n",
       "  'licence': 'Data © OpenStreetMap contributors, ODbL 1.0. https://osm.org/copyright',\n",
       "  'osm_type': 'relation',\n",
       "  'osm_id': 404664,\n",
       "  'boundingbox': ['52.5984866', '52.6258656', '13.4529475', '13.5047247'],\n",
       "  'lat': '52.6150868',\n",
       "  'lon': '13.4862758',\n",
       "  'display_name': 'Karow, Pankow, Berlin, 13125, Deutschland',\n",
       "  'class': 'boundary',\n",
       "  'type': 'administrative',\n",
       "  'importance': 0.743810439554345,\n",
       "  'icon': 'https://nominatim.openstreetmap.org/ui/mapicons//poi_boundary_administrative.p.20.png',\n",
       "  'address': {'suburb': 'Karow',\n",
       "   'borough': 'Pankow',\n",
       "   'state': 'Berlin',\n",
       "   'postcode': '13125',\n",
       "   'country': 'Deutschland',\n",
       "   'country_code': 'de'}},\n",
       " {'place_id': 96502140,\n",
       "  'licence': 'Data © OpenStreetMap contributors, ODbL 1.0. https://osm.org/copyright',\n",
       "  'osm_type': 'way',\n",
       "  'osm_id': 29319916,\n",
       "  'boundingbox': ['52.5286422', '52.5289603', '13.4372366', '13.4380423'],\n",
       "  'lat': '52.5287836',\n",
       "  'lon': '13.43764116835994',\n",
       "  'display_name': 'Denkmal des polnischen Soldaten und deutschen Antifaschisten, Virchowstraße, Bötzowviertel, Prenzlauer Berg, Pankow, Berlin, 10249, Deutschland',\n",
       "  'class': 'historic',\n",
       "  'type': 'memorial',\n",
       "  'importance': 0.5354981504372134,\n",
       "  'icon': 'https://nominatim.openstreetmap.org/ui/mapicons//tourist_monument.p.20.png',\n",
       "  'address': {'historic': 'Denkmal des polnischen Soldaten und deutschen Antifaschisten',\n",
       "   'road': 'Virchowstraße',\n",
       "   'neighbourhood': 'Bötzowviertel',\n",
       "   'suburb': 'Prenzlauer Berg',\n",
       "   'borough': 'Pankow',\n",
       "   'city': 'Berlin',\n",
       "   'state': 'Berlin',\n",
       "   'postcode': '10249',\n",
       "   'country': 'Deutschland',\n",
       "   'country_code': 'de'}}]"
      ]
     },
     "execution_count": 34,
     "metadata": {},
     "output_type": "execute_result"
    }
   ],
   "source": [
    "# test number of locations found\n",
    "i=10\n",
    "#len(location_finder(list_of_entities[i], list_of_districts[i])[0])\n",
    "location_finder(list_of_entities[i], list_of_districts[i])[0]"
   ]
  },
  {
   "cell_type": "code",
   "execution_count": 36,
   "metadata": {},
   "outputs": [
    {
     "data": {
      "text/plain": [
       "(NPD Pankow,\n",
       " NPD,\n",
       " Buch,\n",
       " deutschen,\n",
       " Buch,\n",
       " NPD,\n",
       " Wagenburg,\n",
       " Karow,\n",
       " Punker_innen und Linke,\n",
       " NPD,\n",
       " Deutschen)"
      ]
     },
     "execution_count": 36,
     "metadata": {},
     "output_type": "execute_result"
    }
   ],
   "source": [
    "docs[10][0].ents"
   ]
  },
  {
   "cell_type": "code",
   "execution_count": 40,
   "metadata": {},
   "outputs": [],
   "source": [
    "# find how well spacy detects locations\n",
    "# This took +1 hour to run. I think it's because bad_ents_lol. They're Span obejcts\n",
    "good_loc_lol = []\n",
    "bad_loc_lol = []\n",
    "bad_ents_lol = []\n",
    "\n",
    "for doc in docs:\n",
    "    ents = doc[0].ents\n",
    "    district = doc[1]['district']\n",
    "    good_loc_list, bad_loc_list, bad_ents = location_finder(ents, district)\n",
    "    good_loc_lol.append(good_loc_list)\n",
    "    bad_loc_lol.append(bad_loc_list)\n",
    "    bad_ents_lol.append(bad_ents)"
   ]
  },
  {
   "cell_type": "markdown",
   "metadata": {},
   "source": [
    "**Pickle initial locations found by location_finder()**"
   ]
  },
  {
   "cell_type": "code",
   "execution_count": 63,
   "metadata": {},
   "outputs": [],
   "source": [
    "# pickle\n",
    "with open('pickles/location_finder_good_bad_tuple.pickle', 'wb') as f:\n",
    "    pickle.dump((good_loc_lol, bad_loc_lol), f)"
   ]
  },
  {
   "cell_type": "code",
   "execution_count": 13,
   "metadata": {},
   "outputs": [],
   "source": [
    "# load\n",
    "with open('pickles/location_finder_good_bad_tuple.pickle', 'rb') as f:\n",
    "    good, bad = pickle.load(f)"
   ]
  },
  {
   "cell_type": "code",
   "execution_count": 14,
   "metadata": {},
   "outputs": [
    {
     "data": {
      "text/plain": [
       "141"
      ]
     },
     "execution_count": 14,
     "metadata": {},
     "output_type": "execute_result"
    }
   ],
   "source": [
    "len([i for i, loc_list in enumerate(good) if len(loc_list) == 0])"
   ]
  },
  {
   "cell_type": "markdown",
   "metadata": {},
   "source": [
    "## Find labels"
   ]
  },
  {
   "cell_type": "code",
   "execution_count": 273,
   "metadata": {},
   "outputs": [
    {
     "data": {
      "text/html": [
       "<div>\n",
       "<style scoped>\n",
       "    .dataframe tbody tr th:only-of-type {\n",
       "        vertical-align: middle;\n",
       "    }\n",
       "\n",
       "    .dataframe tbody tr th {\n",
       "        vertical-align: top;\n",
       "    }\n",
       "\n",
       "    .dataframe thead th {\n",
       "        text-align: right;\n",
       "    }\n",
       "</style>\n",
       "<table border=\"1\" class=\"dataframe\">\n",
       "  <thead>\n",
       "    <tr style=\"text-align: right;\">\n",
       "      <th></th>\n",
       "      <th>Date</th>\n",
       "      <th>District</th>\n",
       "      <th>Header</th>\n",
       "      <th>Story</th>\n",
       "      <th>Source</th>\n",
       "      <th>Attack</th>\n",
       "      <th>latitude</th>\n",
       "      <th>longitude</th>\n",
       "      <th>Propaganda</th>\n",
       "      <th>Structural Discrimination</th>\n",
       "      <th>Material Damage</th>\n",
       "      <th>Reported status</th>\n",
       "    </tr>\n",
       "  </thead>\n",
       "  <tbody>\n",
       "    <tr>\n",
       "      <th>4405</th>\n",
       "      <td>2015-03-23</td>\n",
       "      <td>Treptow-Köpenick</td>\n",
       "      <td>Homophobe Vermietungspolitik</td>\n",
       "      <td>Zwei Frauen versuchten bei einer privaten Gart...</td>\n",
       "      <td>Zentrum für Demokratie</td>\n",
       "      <td>None</td>\n",
       "      <td>NaN</td>\n",
       "      <td>NaN</td>\n",
       "      <td>None</td>\n",
       "      <td>yes</td>\n",
       "      <td>None</td>\n",
       "      <td>None</td>\n",
       "    </tr>\n",
       "  </tbody>\n",
       "</table>\n",
       "</div>"
      ],
      "text/plain": [
       "           Date          District                        Header  \\\n",
       "4405 2015-03-23  Treptow-Köpenick  Homophobe Vermietungspolitik   \n",
       "\n",
       "                                                  Story  \\\n",
       "4405  Zwei Frauen versuchten bei einer privaten Gart...   \n",
       "\n",
       "                      Source Attack  latitude  longitude Propaganda  \\\n",
       "4405  Zentrum für Demokratie   None       NaN        NaN       None   \n",
       "\n",
       "     Structural Discrimination Material Damage Reported status  \n",
       "4405                       yes            None            None  "
      ]
     },
     "execution_count": 273,
     "metadata": {},
     "output_type": "execute_result"
    }
   ],
   "source": [
    "df_map[df_map['Structural Discrimination'].isna() == False]"
   ]
  },
  {
   "cell_type": "code",
   "execution_count": 267,
   "metadata": {},
   "outputs": [
    {
     "data": {
      "text/html": [
       "<div>\n",
       "<style scoped>\n",
       "    .dataframe tbody tr th:only-of-type {\n",
       "        vertical-align: middle;\n",
       "    }\n",
       "\n",
       "    .dataframe tbody tr th {\n",
       "        vertical-align: top;\n",
       "    }\n",
       "\n",
       "    .dataframe thead th {\n",
       "        text-align: right;\n",
       "    }\n",
       "</style>\n",
       "<table border=\"1\" class=\"dataframe\">\n",
       "  <thead>\n",
       "    <tr style=\"text-align: right;\">\n",
       "      <th></th>\n",
       "      <th>Date</th>\n",
       "      <th>District</th>\n",
       "      <th>Header</th>\n",
       "      <th>Story</th>\n",
       "      <th>Source</th>\n",
       "      <th>Attack</th>\n",
       "      <th>latitude</th>\n",
       "      <th>longitude</th>\n",
       "      <th>Propaganda</th>\n",
       "      <th>Structural Discrimination</th>\n",
       "      <th>Material Damage</th>\n",
       "      <th>Reported status</th>\n",
       "      <th>date_form</th>\n",
       "      <th>icon_data</th>\n",
       "    </tr>\n",
       "  </thead>\n",
       "  <tbody>\n",
       "    <tr>\n",
       "      <th>1707</th>\n",
       "      <td>2014-11-29</td>\n",
       "      <td>Tempelhof-Schöneberg</td>\n",
       "      <td>Angriff aus transphober Motivation</td>\n",
       "      <td>Ein 30-jähriger Mann wird gegen 05.00 Uhr in d...</td>\n",
       "      <td>ReachOut</td>\n",
       "      <td>physical</td>\n",
       "      <td>52.499447</td>\n",
       "      <td>13.359882</td>\n",
       "      <td>NaN</td>\n",
       "      <td>NaN</td>\n",
       "      <td>NaN</td>\n",
       "      <td>NaN</td>\n",
       "      <td>29 Nov 2014</td>\n",
       "      <td>test</td>\n",
       "    </tr>\n",
       "    <tr>\n",
       "      <th>1836</th>\n",
       "      <td>2014-10-26</td>\n",
       "      <td>Tempelhof-Schöneberg</td>\n",
       "      <td>Angriff aus transphober Motivation</td>\n",
       "      <td>Am 26.10.14 wird ein 30-jähriger Mann gegen 07...</td>\n",
       "      <td>ReachOut</td>\n",
       "      <td>physical</td>\n",
       "      <td>52.494660</td>\n",
       "      <td>13.361087</td>\n",
       "      <td>NaN</td>\n",
       "      <td>NaN</td>\n",
       "      <td>NaN</td>\n",
       "      <td>NaN</td>\n",
       "      <td>26 Oct 2014</td>\n",
       "      <td>test</td>\n",
       "    </tr>\n",
       "    <tr>\n",
       "      <th>1915</th>\n",
       "      <td>2014-10-03</td>\n",
       "      <td>Mitte</td>\n",
       "      <td>Homophobe Aggression gegen ein schwules Pärchen</td>\n",
       "      <td>Zwei Schwule werden auf dem U-Bahnhof Pankstra...</td>\n",
       "      <td>Polizei Berlin</td>\n",
       "      <td>physical</td>\n",
       "      <td>52.550920</td>\n",
       "      <td>13.384846</td>\n",
       "      <td>NaN</td>\n",
       "      <td>NaN</td>\n",
       "      <td>NaN</td>\n",
       "      <td>NaN</td>\n",
       "      <td>03 Oct 2014</td>\n",
       "      <td>test</td>\n",
       "    </tr>\n",
       "    <tr>\n",
       "      <th>1940</th>\n",
       "      <td>2014-09-24</td>\n",
       "      <td>Tempelhof-Schöneberg</td>\n",
       "      <td>Angriff aus transphober Motivation</td>\n",
       "      <td>Auf der Potsdamer Straße ist gegen 11.20 Uhr e...</td>\n",
       "      <td>ReachOut</td>\n",
       "      <td>physical</td>\n",
       "      <td>52.494660</td>\n",
       "      <td>13.361087</td>\n",
       "      <td>NaN</td>\n",
       "      <td>NaN</td>\n",
       "      <td>NaN</td>\n",
       "      <td>NaN</td>\n",
       "      <td>24 Sep 2014</td>\n",
       "      <td>test</td>\n",
       "    </tr>\n",
       "    <tr>\n",
       "      <th>1951</th>\n",
       "      <td>2014-09-21</td>\n",
       "      <td>Pankow</td>\n",
       "      <td>Homophober Angriff am S-Bahnhof Blankenburg</td>\n",
       "      <td>Zwei 20- und 21-jährige Männer werden gegen 00...</td>\n",
       "      <td>ReachOut</td>\n",
       "      <td>physical</td>\n",
       "      <td>52.591013</td>\n",
       "      <td>13.442641</td>\n",
       "      <td>NaN</td>\n",
       "      <td>NaN</td>\n",
       "      <td>NaN</td>\n",
       "      <td>NaN</td>\n",
       "      <td>21 Sep 2014</td>\n",
       "      <td>test</td>\n",
       "    </tr>\n",
       "    <tr>\n",
       "      <th>...</th>\n",
       "      <td>...</td>\n",
       "      <td>...</td>\n",
       "      <td>...</td>\n",
       "      <td>...</td>\n",
       "      <td>...</td>\n",
       "      <td>...</td>\n",
       "      <td>...</td>\n",
       "      <td>...</td>\n",
       "      <td>...</td>\n",
       "      <td>...</td>\n",
       "      <td>...</td>\n",
       "      <td>...</td>\n",
       "      <td>...</td>\n",
       "      <td>...</td>\n",
       "    </tr>\n",
       "    <tr>\n",
       "      <th>19354</th>\n",
       "      <td>2020-05-31</td>\n",
       "      <td>Neukölln</td>\n",
       "      <td>LGBTIQ*-feindlicher Angriff in Nordneukölln</td>\n",
       "      <td>Am Sonntagabend wurden zwei Personen in der Fl...</td>\n",
       "      <td>Register Neukölln, rbb24</td>\n",
       "      <td>physical</td>\n",
       "      <td>52.480463</td>\n",
       "      <td>13.422389</td>\n",
       "      <td>NaN</td>\n",
       "      <td>NaN</td>\n",
       "      <td>NaN</td>\n",
       "      <td>NaN</td>\n",
       "      <td>31 May 2020</td>\n",
       "      <td>test</td>\n",
       "    </tr>\n",
       "    <tr>\n",
       "      <th>19591</th>\n",
       "      <td>2020-05-11</td>\n",
       "      <td>Tempelhof-Schöneberg</td>\n",
       "      <td>LGBTIQ*feindliche Angriff</td>\n",
       "      <td>Gegen 0.30 Uhr fährt eine 25-jährige Frau mit ...</td>\n",
       "      <td>ReachOut Berlin</td>\n",
       "      <td>physical</td>\n",
       "      <td>52.500700</td>\n",
       "      <td>13.347684</td>\n",
       "      <td>NaN</td>\n",
       "      <td>NaN</td>\n",
       "      <td>NaN</td>\n",
       "      <td>NaN</td>\n",
       "      <td>11 May 2020</td>\n",
       "      <td>test</td>\n",
       "    </tr>\n",
       "    <tr>\n",
       "      <th>19700</th>\n",
       "      <td>2020-05-01</td>\n",
       "      <td>Neukölln</td>\n",
       "      <td>LGBTIQ*-feindlicher Angriff in Nordneukölln</td>\n",
       "      <td>Ein 33-jähriger Mann wird gegen 15.45 Uhr in d...</td>\n",
       "      <td>ReachOut Berlin</td>\n",
       "      <td>physical</td>\n",
       "      <td>52.463716</td>\n",
       "      <td>13.433574</td>\n",
       "      <td>NaN</td>\n",
       "      <td>NaN</td>\n",
       "      <td>NaN</td>\n",
       "      <td>NaN</td>\n",
       "      <td>01 May 2020</td>\n",
       "      <td>test</td>\n",
       "    </tr>\n",
       "    <tr>\n",
       "      <th>20279</th>\n",
       "      <td>2020-02-22</td>\n",
       "      <td>Friedrichshain-Kreuzberg</td>\n",
       "      <td>Frau am Mehringplatz aus LGBTIQ*-Feindlichkeit...</td>\n",
       "      <td>Um 21 Uhr soll eine 28-jährige Transfrau am Me...</td>\n",
       "      <td>ReachOut Berlin; https://www.berlin.de/polizei...</td>\n",
       "      <td>physical</td>\n",
       "      <td>52.498905</td>\n",
       "      <td>13.391777</td>\n",
       "      <td>NaN</td>\n",
       "      <td>NaN</td>\n",
       "      <td>NaN</td>\n",
       "      <td>NaN</td>\n",
       "      <td>22 Feb 2020</td>\n",
       "      <td>test</td>\n",
       "    </tr>\n",
       "    <tr>\n",
       "      <th>20746</th>\n",
       "      <td>2021-05-29</td>\n",
       "      <td>Neukölln</td>\n",
       "      <td>LGBTIQ*-feindlicher Angriff auf der Sonnenallee</td>\n",
       "      <td>Zwei Männer wurden von einer Gruppe Jugendlich...</td>\n",
       "      <td>Register Neukölln, Polizeimeldung Nr. 1173</td>\n",
       "      <td>physical</td>\n",
       "      <td>52.468523</td>\n",
       "      <td>13.467421</td>\n",
       "      <td>NaN</td>\n",
       "      <td>NaN</td>\n",
       "      <td>NaN</td>\n",
       "      <td>NaN</td>\n",
       "      <td>29 May 2021</td>\n",
       "      <td>test</td>\n",
       "    </tr>\n",
       "  </tbody>\n",
       "</table>\n",
       "<p>241 rows × 14 columns</p>\n",
       "</div>"
      ],
      "text/plain": [
       "            Date                  District  \\\n",
       "1707  2014-11-29      Tempelhof-Schöneberg   \n",
       "1836  2014-10-26      Tempelhof-Schöneberg   \n",
       "1915  2014-10-03                     Mitte   \n",
       "1940  2014-09-24      Tempelhof-Schöneberg   \n",
       "1951  2014-09-21                    Pankow   \n",
       "...          ...                       ...   \n",
       "19354 2020-05-31                  Neukölln   \n",
       "19591 2020-05-11      Tempelhof-Schöneberg   \n",
       "19700 2020-05-01                  Neukölln   \n",
       "20279 2020-02-22  Friedrichshain-Kreuzberg   \n",
       "20746 2021-05-29                  Neukölln   \n",
       "\n",
       "                                                  Header  \\\n",
       "1707                  Angriff aus transphober Motivation   \n",
       "1836                  Angriff aus transphober Motivation   \n",
       "1915     Homophobe Aggression gegen ein schwules Pärchen   \n",
       "1940                  Angriff aus transphober Motivation   \n",
       "1951         Homophober Angriff am S-Bahnhof Blankenburg   \n",
       "...                                                  ...   \n",
       "19354        LGBTIQ*-feindlicher Angriff in Nordneukölln   \n",
       "19591                          LGBTIQ*feindliche Angriff   \n",
       "19700        LGBTIQ*-feindlicher Angriff in Nordneukölln   \n",
       "20279  Frau am Mehringplatz aus LGBTIQ*-Feindlichkeit...   \n",
       "20746    LGBTIQ*-feindlicher Angriff auf der Sonnenallee   \n",
       "\n",
       "                                                   Story  \\\n",
       "1707   Ein 30-jähriger Mann wird gegen 05.00 Uhr in d...   \n",
       "1836   Am 26.10.14 wird ein 30-jähriger Mann gegen 07...   \n",
       "1915   Zwei Schwule werden auf dem U-Bahnhof Pankstra...   \n",
       "1940   Auf der Potsdamer Straße ist gegen 11.20 Uhr e...   \n",
       "1951   Zwei 20- und 21-jährige Männer werden gegen 00...   \n",
       "...                                                  ...   \n",
       "19354  Am Sonntagabend wurden zwei Personen in der Fl...   \n",
       "19591  Gegen 0.30 Uhr fährt eine 25-jährige Frau mit ...   \n",
       "19700  Ein 33-jähriger Mann wird gegen 15.45 Uhr in d...   \n",
       "20279  Um 21 Uhr soll eine 28-jährige Transfrau am Me...   \n",
       "20746  Zwei Männer wurden von einer Gruppe Jugendlich...   \n",
       "\n",
       "                                                  Source    Attack   latitude  \\\n",
       "1707                                            ReachOut  physical  52.499447   \n",
       "1836                                            ReachOut  physical  52.494660   \n",
       "1915                                      Polizei Berlin  physical  52.550920   \n",
       "1940                                            ReachOut  physical  52.494660   \n",
       "1951                                            ReachOut  physical  52.591013   \n",
       "...                                                  ...       ...        ...   \n",
       "19354                           Register Neukölln, rbb24  physical  52.480463   \n",
       "19591                                    ReachOut Berlin  physical  52.500700   \n",
       "19700                                    ReachOut Berlin  physical  52.463716   \n",
       "20279  ReachOut Berlin; https://www.berlin.de/polizei...  physical  52.498905   \n",
       "20746         Register Neukölln, Polizeimeldung Nr. 1173  physical  52.468523   \n",
       "\n",
       "       longitude Propaganda Structural Discrimination Material Damage  \\\n",
       "1707   13.359882        NaN                       NaN             NaN   \n",
       "1836   13.361087        NaN                       NaN             NaN   \n",
       "1915   13.384846        NaN                       NaN             NaN   \n",
       "1940   13.361087        NaN                       NaN             NaN   \n",
       "1951   13.442641        NaN                       NaN             NaN   \n",
       "...          ...        ...                       ...             ...   \n",
       "19354  13.422389        NaN                       NaN             NaN   \n",
       "19591  13.347684        NaN                       NaN             NaN   \n",
       "19700  13.433574        NaN                       NaN             NaN   \n",
       "20279  13.391777        NaN                       NaN             NaN   \n",
       "20746  13.467421        NaN                       NaN             NaN   \n",
       "\n",
       "      Reported status    date_form icon_data  \n",
       "1707              NaN  29 Nov 2014      test  \n",
       "1836              NaN  26 Oct 2014      test  \n",
       "1915              NaN  03 Oct 2014      test  \n",
       "1940              NaN  24 Sep 2014      test  \n",
       "1951              NaN  21 Sep 2014      test  \n",
       "...               ...          ...       ...  \n",
       "19354             NaN  31 May 2020      test  \n",
       "19591             NaN  11 May 2020      test  \n",
       "19700             NaN  01 May 2020      test  \n",
       "20279             NaN  22 Feb 2020      test  \n",
       "20746             NaN  29 May 2021      test  \n",
       "\n",
       "[241 rows x 14 columns]"
      ]
     },
     "execution_count": 267,
     "metadata": {},
     "output_type": "execute_result"
    }
   ],
   "source": [
    "df_map"
   ]
  },
  {
   "cell_type": "code",
   "execution_count": 11,
   "metadata": {},
   "outputs": [
    {
     "data": {
      "text/plain": [
       "1006"
      ]
     },
     "execution_count": 11,
     "metadata": {},
     "output_type": "execute_result"
    }
   ],
   "source": [
    "len(df_lgbt)"
   ]
  },
  {
   "cell_type": "code",
   "execution_count": 239,
   "metadata": {},
   "outputs": [
    {
     "data": {
      "text/plain": [
       "[(Israel-bezogener Antisemitismus auf Aufkleber. An einer Ampel auf einer Verkehrsinsel in der Neuköllner Flughafenstraße wird ein Aufkleber mit der Aufschrift \"israel is an apartheid state\", inklusive  hebräischer Übersetzung und \"#Queers against Occupation\" entdeckt.,\n",
       "  {'index': 11687,\n",
       "   'district': 'Neukölln',\n",
       "   'PER': ['Israel-bezogener'],\n",
       "   'LOC': ['Neuköllner Flughafenstraße']}),\n",
       " (Anti-Israel Propaganda beim lesbisch-schwulen \"Motzstraßenfest\". Rund um das Motzstraßenfest werden am 21.07.2018 Sticker gefunden, auf denen \"No Pride in Israeli Apartheid\" zu lesen ist. Außerdem \"Free Palestine.Tear down this wall! End Israeli Occuptaion\".,\n",
       "  {'index': 11773,\n",
       "   'district': 'Tempelhof-Schöneberg',\n",
       "   'PER': ['Anti-Israel Propaganda',\n",
       "    'Motzstraßenfest',\n",
       "    'End Israeli Occuptaion'],\n",
       "   'LOC': ['Motzstraßenfest'],\n",
       "   'MISC': ['No Pride', 'Free Palestine', 'Tear down this']}),\n",
       " (Homofeindliche Schmiererei in Mitte. Im Ortsteil Mitte wurde in der Alexanderstraße (Höhe Hausnummer 19) erneut eine homofeindliche Schmiererei mit dem Slogan „Schwule sterben aus“ entdeckt.,\n",
       "  {'index': 15566, 'district': 'Mitte', 'MISC': ['Homofeindliche']}),\n",
       " (Lokalgäste in der Adalbertraße mit Küchenmesser beworfen. Gegen 21.30 Uhr werden Gäste in einem Lokal in der Adalbertstraße aus LGBTIQ*feindlicher Motivation mit einem Küchenmesser beworfen.,\n",
       "  {'index': 18842,\n",
       "   'district': 'Friedrichshain-Kreuzberg',\n",
       "   'LOC': ['Lokalgäste', 'Adalbertraße']})]"
      ]
     },
     "execution_count": 239,
     "metadata": {},
     "output_type": "execute_result"
    }
   ],
   "source": [
    "[doc for doc in docs if doc[0]._.index in [11687, 11773, 15566, 18842]]"
   ]
  },
  {
   "cell_type": "code",
   "execution_count": 249,
   "metadata": {},
   "outputs": [],
   "source": [
    "df_lgbt.loc[18842, 'Attack'] = 'physical'"
   ]
  },
  {
   "cell_type": "code",
   "execution_count": 251,
   "metadata": {},
   "outputs": [
    {
     "data": {
      "text/html": [
       "<div>\n",
       "<style scoped>\n",
       "    .dataframe tbody tr th:only-of-type {\n",
       "        vertical-align: middle;\n",
       "    }\n",
       "\n",
       "    .dataframe tbody tr th {\n",
       "        vertical-align: top;\n",
       "    }\n",
       "\n",
       "    .dataframe thead th {\n",
       "        text-align: right;\n",
       "    }\n",
       "</style>\n",
       "<table border=\"1\" class=\"dataframe\">\n",
       "  <thead>\n",
       "    <tr style=\"text-align: right;\">\n",
       "      <th></th>\n",
       "      <th>Date</th>\n",
       "      <th>District</th>\n",
       "      <th>Header</th>\n",
       "      <th>Story</th>\n",
       "      <th>Source</th>\n",
       "      <th>Attack</th>\n",
       "      <th>latitude</th>\n",
       "      <th>longitude</th>\n",
       "      <th>Propaganda</th>\n",
       "      <th>Structural Discrimination</th>\n",
       "      <th>Material Damage</th>\n",
       "      <th>Reported status</th>\n",
       "    </tr>\n",
       "  </thead>\n",
       "  <tbody>\n",
       "  </tbody>\n",
       "</table>\n",
       "</div>"
      ],
      "text/plain": [
       "Empty DataFrame\n",
       "Columns: [Date, District, Header, Story, Source, Attack, latitude, longitude, Propaganda, Structural Discrimination, Material Damage, Reported status]\n",
       "Index: []"
      ]
     },
     "execution_count": 251,
     "metadata": {},
     "output_type": "execute_result"
    }
   ],
   "source": [
    "df_map[df_map['Attack'] == 'check']"
   ]
  },
  {
   "cell_type": "code",
   "execution_count": 250,
   "metadata": {
    "scrolled": true
   },
   "outputs": [
    {
     "data": {
      "text/plain": [
       "physical    390\n",
       "verbal      251\n",
       "Name: Attack, dtype: int64"
      ]
     },
     "execution_count": 250,
     "metadata": {},
     "output_type": "execute_result"
    }
   ],
   "source": [
    "df_map['Attack'].value_counts()"
   ]
  },
  {
   "cell_type": "code",
   "execution_count": 214,
   "metadata": {
    "scrolled": true
   },
   "outputs": [
    {
     "data": {
      "text/html": [
       "<div>\n",
       "<style scoped>\n",
       "    .dataframe tbody tr th:only-of-type {\n",
       "        vertical-align: middle;\n",
       "    }\n",
       "\n",
       "    .dataframe tbody tr th {\n",
       "        vertical-align: top;\n",
       "    }\n",
       "\n",
       "    .dataframe thead th {\n",
       "        text-align: right;\n",
       "    }\n",
       "</style>\n",
       "<table border=\"1\" class=\"dataframe\">\n",
       "  <thead>\n",
       "    <tr style=\"text-align: right;\">\n",
       "      <th></th>\n",
       "      <th>Date</th>\n",
       "      <th>District</th>\n",
       "      <th>Header</th>\n",
       "      <th>Story</th>\n",
       "      <th>Source</th>\n",
       "      <th>Attack</th>\n",
       "      <th>Propaganda</th>\n",
       "      <th>Structural Discrimination</th>\n",
       "      <th>Material Damage</th>\n",
       "      <th>Reported status</th>\n",
       "    </tr>\n",
       "  </thead>\n",
       "  <tbody>\n",
       "    <tr>\n",
       "      <th>1861</th>\n",
       "      <td>2014-10-17</td>\n",
       "      <td>Mitte</td>\n",
       "      <td>LGBQT feindliche Schmiererei entdeckt!</td>\n",
       "      <td>Am Abend gegen 20.10 Uhr stellen Polizeibeamte...</td>\n",
       "      <td>Polizei Berlin</td>\n",
       "      <td>None</td>\n",
       "      <td>anonymous</td>\n",
       "      <td>None</td>\n",
       "      <td>yes</td>\n",
       "      <td>yes</td>\n",
       "    </tr>\n",
       "    <tr>\n",
       "      <th>2063</th>\n",
       "      <td>2014-08-11</td>\n",
       "      <td>Friedrichshain-Kreuzberg</td>\n",
       "      <td>Transphobe Beleidigung</td>\n",
       "      <td></td>\n",
       "      <td>Register Friedrichshain-Kreuzberg</td>\n",
       "      <td>verbal</td>\n",
       "      <td>None</td>\n",
       "      <td>None</td>\n",
       "      <td>None</td>\n",
       "      <td>None</td>\n",
       "    </tr>\n",
       "    <tr>\n",
       "      <th>2194</th>\n",
       "      <td>2014-07-04</td>\n",
       "      <td>Mitte</td>\n",
       "      <td>Homophober Angriff U-Bahnhof Französische Strasse</td>\n",
       "      <td>Gegen 21.00 Uhr werden ein 21-jähriger und ein...</td>\n",
       "      <td>ReachOut</td>\n",
       "      <td>physical</td>\n",
       "      <td>None</td>\n",
       "      <td>None</td>\n",
       "      <td>None</td>\n",
       "      <td>None</td>\n",
       "    </tr>\n",
       "    <tr>\n",
       "      <th>4405</th>\n",
       "      <td>2015-03-23</td>\n",
       "      <td>Treptow-Köpenick</td>\n",
       "      <td>Homophobe Vermietungspolitik</td>\n",
       "      <td>Zwei Frauen versuchten bei einer privaten Gart...</td>\n",
       "      <td>Zentrum für Demokratie</td>\n",
       "      <td>None</td>\n",
       "      <td>None</td>\n",
       "      <td>yes</td>\n",
       "      <td>None</td>\n",
       "      <td>None</td>\n",
       "    </tr>\n",
       "  </tbody>\n",
       "</table>\n",
       "</div>"
      ],
      "text/plain": [
       "           Date                  District  \\\n",
       "1861 2014-10-17                     Mitte   \n",
       "2063 2014-08-11  Friedrichshain-Kreuzberg   \n",
       "2194 2014-07-04                     Mitte   \n",
       "4405 2015-03-23          Treptow-Köpenick   \n",
       "\n",
       "                                                 Header  \\\n",
       "1861             LGBQT feindliche Schmiererei entdeckt!   \n",
       "2063                             Transphobe Beleidigung   \n",
       "2194  Homophober Angriff U-Bahnhof Französische Strasse   \n",
       "4405                       Homophobe Vermietungspolitik   \n",
       "\n",
       "                                                  Story  \\\n",
       "1861  Am Abend gegen 20.10 Uhr stellen Polizeibeamte...   \n",
       "2063                                                      \n",
       "2194  Gegen 21.00 Uhr werden ein 21-jähriger und ein...   \n",
       "4405  Zwei Frauen versuchten bei einer privaten Gart...   \n",
       "\n",
       "                                 Source    Attack Propaganda  \\\n",
       "1861                     Polizei Berlin      None  anonymous   \n",
       "2063  Register Friedrichshain-Kreuzberg    verbal       None   \n",
       "2194                           ReachOut  physical       None   \n",
       "4405             Zentrum für Demokratie      None       None   \n",
       "\n",
       "     Structural Discrimination Material Damage Reported status  \n",
       "1861                      None             yes             yes  \n",
       "2063                      None            None            None  \n",
       "2194                      None            None            None  \n",
       "4405                       yes            None            None  "
      ]
     },
     "execution_count": 214,
     "metadata": {},
     "output_type": "execute_result"
    }
   ],
   "source": [
    "df_lgbt.loc[[1861,2063,2194,4405]]"
   ]
  },
  {
   "cell_type": "code",
   "execution_count": 222,
   "metadata": {
    "scrolled": true
   },
   "outputs": [
    {
     "data": {
      "text/html": [
       "<div>\n",
       "<style scoped>\n",
       "    .dataframe tbody tr th:only-of-type {\n",
       "        vertical-align: middle;\n",
       "    }\n",
       "\n",
       "    .dataframe tbody tr th {\n",
       "        vertical-align: top;\n",
       "    }\n",
       "\n",
       "    .dataframe thead th {\n",
       "        text-align: right;\n",
       "    }\n",
       "</style>\n",
       "<table border=\"1\" class=\"dataframe\">\n",
       "  <thead>\n",
       "    <tr style=\"text-align: right;\">\n",
       "      <th></th>\n",
       "      <th>Date</th>\n",
       "      <th>District</th>\n",
       "      <th>Header</th>\n",
       "      <th>Story</th>\n",
       "      <th>Source</th>\n",
       "      <th>Attack</th>\n",
       "      <th>latitude</th>\n",
       "      <th>longitude</th>\n",
       "      <th>Propaganda</th>\n",
       "      <th>Structural Discrimination</th>\n",
       "      <th>Material Damage</th>\n",
       "      <th>Reported status</th>\n",
       "    </tr>\n",
       "  </thead>\n",
       "  <tbody>\n",
       "    <tr>\n",
       "      <th>1861</th>\n",
       "      <td>2014-10-17</td>\n",
       "      <td>Mitte</td>\n",
       "      <td>LGBQT feindliche Schmiererei entdeckt!</td>\n",
       "      <td>Am Abend gegen 20.10 Uhr stellen Polizeibeamte...</td>\n",
       "      <td>Polizei Berlin</td>\n",
       "      <td>None</td>\n",
       "      <td>52.513258</td>\n",
       "      <td>13.376137</td>\n",
       "      <td>anonymous</td>\n",
       "      <td>None</td>\n",
       "      <td>yes</td>\n",
       "      <td>yes</td>\n",
       "    </tr>\n",
       "    <tr>\n",
       "      <th>2063</th>\n",
       "      <td>2014-08-11</td>\n",
       "      <td>Friedrichshain-Kreuzberg</td>\n",
       "      <td>Transphobe Beleidigung</td>\n",
       "      <td></td>\n",
       "      <td>Register Friedrichshain-Kreuzberg</td>\n",
       "      <td>verbal</td>\n",
       "      <td>NaN</td>\n",
       "      <td>NaN</td>\n",
       "      <td>None</td>\n",
       "      <td>None</td>\n",
       "      <td>None</td>\n",
       "      <td>None</td>\n",
       "    </tr>\n",
       "    <tr>\n",
       "      <th>2194</th>\n",
       "      <td>2014-07-04</td>\n",
       "      <td>Mitte</td>\n",
       "      <td>Homophober Angriff U-Bahnhof Französische Strasse</td>\n",
       "      <td>Gegen 21.00 Uhr werden ein 21-jähriger und ein...</td>\n",
       "      <td>ReachOut</td>\n",
       "      <td>physical</td>\n",
       "      <td>52.514400</td>\n",
       "      <td>13.389158</td>\n",
       "      <td>None</td>\n",
       "      <td>None</td>\n",
       "      <td>None</td>\n",
       "      <td>None</td>\n",
       "    </tr>\n",
       "    <tr>\n",
       "      <th>4405</th>\n",
       "      <td>2015-03-23</td>\n",
       "      <td>Treptow-Köpenick</td>\n",
       "      <td>Homophobe Vermietungspolitik</td>\n",
       "      <td>Zwei Frauen versuchten bei einer privaten Gart...</td>\n",
       "      <td>Zentrum für Demokratie</td>\n",
       "      <td>None</td>\n",
       "      <td>NaN</td>\n",
       "      <td>NaN</td>\n",
       "      <td>None</td>\n",
       "      <td>yes</td>\n",
       "      <td>None</td>\n",
       "      <td>None</td>\n",
       "    </tr>\n",
       "  </tbody>\n",
       "</table>\n",
       "</div>"
      ],
      "text/plain": [
       "           Date                  District  \\\n",
       "1861 2014-10-17                     Mitte   \n",
       "2063 2014-08-11  Friedrichshain-Kreuzberg   \n",
       "2194 2014-07-04                     Mitte   \n",
       "4405 2015-03-23          Treptow-Köpenick   \n",
       "\n",
       "                                                 Header  \\\n",
       "1861             LGBQT feindliche Schmiererei entdeckt!   \n",
       "2063                             Transphobe Beleidigung   \n",
       "2194  Homophober Angriff U-Bahnhof Französische Strasse   \n",
       "4405                       Homophobe Vermietungspolitik   \n",
       "\n",
       "                                                  Story  \\\n",
       "1861  Am Abend gegen 20.10 Uhr stellen Polizeibeamte...   \n",
       "2063                                                      \n",
       "2194  Gegen 21.00 Uhr werden ein 21-jähriger und ein...   \n",
       "4405  Zwei Frauen versuchten bei einer privaten Gart...   \n",
       "\n",
       "                                 Source    Attack   latitude  longitude  \\\n",
       "1861                     Polizei Berlin      None  52.513258  13.376137   \n",
       "2063  Register Friedrichshain-Kreuzberg    verbal        NaN        NaN   \n",
       "2194                           ReachOut  physical  52.514400  13.389158   \n",
       "4405             Zentrum für Demokratie      None        NaN        NaN   \n",
       "\n",
       "     Propaganda Structural Discrimination Material Damage Reported status  \n",
       "1861  anonymous                      None             yes             yes  \n",
       "2063       None                      None            None            None  \n",
       "2194       None                      None            None            None  \n",
       "4405       None                       yes            None            None  "
      ]
     },
     "execution_count": 222,
     "metadata": {},
     "output_type": "execute_result"
    }
   ],
   "source": [
    "df_map.loc[[1861,2063,2194,4405]]"
   ]
  },
  {
   "cell_type": "code",
   "execution_count": 221,
   "metadata": {},
   "outputs": [],
   "source": [
    "for k,v in dict_no_ents.items():\n",
    "    try:\n",
    "        df_map.loc[k, 'Reported status'] = v['reported_police']\n",
    "    except:\n",
    "        continue"
   ]
  },
  {
   "cell_type": "code",
   "execution_count": null,
   "metadata": {},
   "outputs": [],
   "source": [
    "dict_no_ents[1861]"
   ]
  },
  {
   "cell_type": "code",
   "execution_count": 180,
   "metadata": {},
   "outputs": [
    {
     "data": {
      "text/plain": [
       "{1861: {'location': 'Denkmal für die im Nationalsozialismus verfolgten Homosexuellen',\n",
       "  'attack': None,\n",
       "  'propaganda': 'anonymous',\n",
       "  'damage_of_property': 'yes',\n",
       "  'structural_discrimination': None,\n",
       "  'reported_police': 'yes'},\n",
       " 2063: {'location': None,\n",
       "  'attack': 'verbal',\n",
       "  'propaganda': None,\n",
       "  'damage_of_property': None,\n",
       "  'structural_discrimination': None,\n",
       "  'reported_police': None},\n",
       " 2194: {'location': 'metro Französische Straße',\n",
       "  'attack': 'physical',\n",
       "  'propaganda': None,\n",
       "  'damage_of_property': None,\n",
       "  'structural_discrimination': None,\n",
       "  'reported_police': None},\n",
       " 2261: {'location': None,\n",
       "  'attack': 'verbal',\n",
       "  'propaganda': None,\n",
       "  'damage_of_property': None,\n",
       "  'structural_discrimination': None,\n",
       "  'reported_police': None},\n",
       " 2275: {'location': 'metro Französische Straße',\n",
       "  'attack': 'physical',\n",
       "  'propaganda': None,\n",
       "  'damage_of_property': None,\n",
       "  'structural_discrimination': None,\n",
       "  'reported_police': None},\n",
       " 2511: {'location': 'metro Französische Straße',\n",
       "  'attack': 'physical',\n",
       "  'propaganda': None,\n",
       "  'damage_of_property': None,\n",
       "  'structural_discrimination': None,\n",
       "  'reported_police': None},\n",
       " 2583: {'location': None,\n",
       "  'attack': 'physical',\n",
       "  'propaganda': None,\n",
       "  'damage_of_property': None,\n",
       "  'structural_discrimination': None,\n",
       "  'reported_police': None},\n",
       " 2587: {'location': 'Mauerpark',\n",
       "  'attack': 'verbal',\n",
       "  'propaganda': None,\n",
       "  'damage_of_property': None,\n",
       "  'structural_discrimination': None,\n",
       "  'reported_police': None},\n",
       " 3070: {'location': 'Nordneukölln',\n",
       "  'attack': 'verbal',\n",
       "  'propaganda': None,\n",
       "  'damage_of_property': None,\n",
       "  'structural_discrimination': None,\n",
       "  'reported_police': None},\n",
       " 3206: {'location': 'Axel-Springer',\n",
       "  'attack': 'verbal',\n",
       "  'propaganda': None,\n",
       "  'damage_of_property': None,\n",
       "  'structural_discrimination': None,\n",
       "  'reported_police': None},\n",
       " 3403: {'location': None,\n",
       "  'attack': 'physical',\n",
       "  'propaganda': None,\n",
       "  'damage_of_property': None,\n",
       "  'structural_discrimination': None,\n",
       "  'reported_police': 'yes'},\n",
       " 3424: {'location': 'Geflüchtetenlager Olympiazentrum',\n",
       "  'attack': 'physical',\n",
       "  'propaganda': None,\n",
       "  'damage_of_property': None,\n",
       "  'structural_discrimination': None,\n",
       "  'reported_police': None},\n",
       " 3645: {'location': None,\n",
       "  'attack': 'physical',\n",
       "  'propaganda': None,\n",
       "  'damage_of_property': None,\n",
       "  'structural_discrimination': None,\n",
       "  'reported_police': None},\n",
       " 3763: {'location': None,\n",
       "  'attack': None,\n",
       "  'propaganda': 'identified',\n",
       "  'damage_of_property': None,\n",
       "  'structural_discrimination': None,\n",
       "  'reported_police': None},\n",
       " 3868: {'location': 'Kottbusser Tor',\n",
       "  'attack': 'physical',\n",
       "  'propaganda': None,\n",
       "  'damage_of_property': None,\n",
       "  'structural_discrimination': None,\n",
       "  'reported_police': None},\n",
       " 4032: {'location': 'Adalbertstraße',\n",
       "  'attack': 'physical',\n",
       "  'propaganda': None,\n",
       "  'damage_of_property': None,\n",
       "  'structural_discrimination': None,\n",
       "  'reported_police': None},\n",
       " 4100: {'location': 'metro Alexanderplatz',\n",
       "  'attack': 'physical',\n",
       "  'propaganda': None,\n",
       "  'damage_of_property': None,\n",
       "  'structural_discrimination': None,\n",
       "  'reported_police': None},\n",
       " 4233: {'location': 'metro Eberswalder Straße',\n",
       "  'attack': 'verbal',\n",
       "  'propaganda': None,\n",
       "  'damage_of_property': None,\n",
       "  'structural_discrimination': None,\n",
       "  'reported_police': None},\n",
       " 4310: {'location': None,\n",
       "  'attack': 'physical',\n",
       "  'propaganda': None,\n",
       "  'damage_of_property': None,\n",
       "  'structural_discrimination': None,\n",
       "  'reported_police': None},\n",
       " 4321: {'location': None,\n",
       "  'attack': 'physical',\n",
       "  'propaganda': None,\n",
       "  'damage_of_property': None,\n",
       "  'structural_discrimination': None,\n",
       "  'reported_police': None},\n",
       " 4398: {'location': 'S Wilhelmsruh',\n",
       "  'attack': 'physical',\n",
       "  'propaganda': None,\n",
       "  'damage_of_property': None,\n",
       "  'structural_discrimination': None,\n",
       "  'reported_police': None},\n",
       " 4405: {'location': None,\n",
       "  'attack': None,\n",
       "  'propaganda': None,\n",
       "  'damage_of_property': None,\n",
       "  'structural_discrimination': 'yes',\n",
       "  'reported_police': None},\n",
       " 4469: {'location': None,\n",
       "  'attack': 'verbal',\n",
       "  'propaganda': None,\n",
       "  'damage_of_property': None,\n",
       "  'structural_discrimination': None,\n",
       "  'reported_police': None},\n",
       " 4520: {'location': 'metro Samariterstraße',\n",
       "  'attack': 'verbal',\n",
       "  'propaganda': None,\n",
       "  'damage_of_property': None,\n",
       "  'structural_discrimination': None,\n",
       "  'reported_police': None},\n",
       " 4884: {'location': 'metro Samariterstraße',\n",
       "  'attack': 'physical',\n",
       "  'propaganda': None,\n",
       "  'damage_of_property': None,\n",
       "  'structural_discrimination': None,\n",
       "  'reported_police': None},\n",
       " 4887: {'location': 'metro Kottbusser Tor',\n",
       "  'attack': 'physical',\n",
       "  'propaganda': None,\n",
       "  'damage_of_property': None,\n",
       "  'structural_discrimination': None,\n",
       "  'reported_police': None},\n",
       " 4892: {'location': None,\n",
       "  'attack': 'verbal',\n",
       "  'propaganda': None,\n",
       "  'damage_of_property': None,\n",
       "  'structural_discrimination': None,\n",
       "  'reported_police': None},\n",
       " 4927: {'location': 'Nordneukölln',\n",
       "  'attack': 'physical',\n",
       "  'propaganda': None,\n",
       "  'damage_of_property': None,\n",
       "  'structural_discrimination': None,\n",
       "  'reported_police': None},\n",
       " 5183: {'location': 'metro Möckernbrücke',\n",
       "  'attack': None,\n",
       "  'propaganda': 'anonymous',\n",
       "  'damage_of_property': 'yes',\n",
       "  'structural_discrimination': None,\n",
       "  'reported_police': None},\n",
       " 5364: {'location': 'Straße des 17. Juni',\n",
       "  'attack': 'physical',\n",
       "  'propaganda': None,\n",
       "  'damage_of_property': None,\n",
       "  'structural_discrimination': None,\n",
       "  'reported_police': None},\n",
       " 5421: {'location': 'metro Hönow',\n",
       "  'attack': 'verbal',\n",
       "  'propaganda': None,\n",
       "  'damage_of_property': None,\n",
       "  'structural_discrimination': None,\n",
       "  'reported_police': None},\n",
       " 5570: {'location': 'Großer Tiergarten',\n",
       "  'attack': 'physical',\n",
       "  'propaganda': None,\n",
       "  'damage_of_property': None,\n",
       "  'structural_discrimination': None,\n",
       "  'reported_police': None},\n",
       " 5821: {'location': 'S Hackescher Markt',\n",
       "  'attack': 'physical',\n",
       "  'propaganda': None,\n",
       "  'damage_of_property': None,\n",
       "  'structural_discrimination': None,\n",
       "  'reported_police': 'yes'},\n",
       " 5829: {'location': 'Straße des 17. Juni',\n",
       "  'attack': 'physical',\n",
       "  'propaganda': None,\n",
       "  'damage_of_property': None,\n",
       "  'structural_discrimination': None,\n",
       "  'reported_police': None},\n",
       " 5830: {'location': 'Straße des 17. Juni',\n",
       "  'attack': 'physical',\n",
       "  'propaganda': None,\n",
       "  'damage_of_property': 'yes',\n",
       "  'structural_discrimination': None,\n",
       "  'reported_police': None},\n",
       " 5919: {'location': 'metro Karl-Marx-Straße',\n",
       "  'attack': 'physical',\n",
       "  'propaganda': None,\n",
       "  'damage_of_property': None,\n",
       "  'structural_discrimination': None,\n",
       "  'reported_police': None},\n",
       " 6213: {'location': 'S Hermannstraße',\n",
       "  'attack': 'physical',\n",
       "  'propaganda': None,\n",
       "  'damage_of_property': None,\n",
       "  'structural_discrimination': None,\n",
       "  'reported_police': 'yes'},\n",
       " 6214: {'location': 'Franz-Marc-Schule',\n",
       "  'attack': None,\n",
       "  'propaganda': 'anonymous',\n",
       "  'damage_of_property': 'yes',\n",
       "  'structural_discrimination': None,\n",
       "  'reported_police': None},\n",
       " 6221: {'location': 'Stößerstraße 18',\n",
       "  'attack': None,\n",
       "  'propaganda': 'anonymous',\n",
       "  'damage_of_property': 'yes',\n",
       "  'structural_discrimination': None,\n",
       "  'reported_police': None},\n",
       " 7186: {'location': 'Adalbertstraße',\n",
       "  'attack': 'physical',\n",
       "  'propaganda': None,\n",
       "  'damage_of_property': None,\n",
       "  'structural_discrimination': None,\n",
       "  'reported_police': None},\n",
       " 7428: {'location': 'U Alt-Tempelhof',\n",
       "  'attack': 'verbal',\n",
       "  'propaganda': None,\n",
       "  'damage_of_property': None,\n",
       "  'structural_discrimination': None,\n",
       "  'reported_police': None},\n",
       " 7429: {'location': 'U Kottbusser Tor',\n",
       "  'attack': 'physical',\n",
       "  'propaganda': None,\n",
       "  'damage_of_property': None,\n",
       "  'structural_discrimination': None,\n",
       "  'reported_police': None},\n",
       " 7867: {'location': 'Lückstraße',\n",
       "  'attack': 'physical',\n",
       "  'propaganda': None,\n",
       "  'damage_of_property': None,\n",
       "  'structural_discrimination': None,\n",
       "  'reported_police': None},\n",
       " 7905: {'location': 'Scheffelstraße',\n",
       "  'attack': 'physical',\n",
       "  'propaganda': None,\n",
       "  'damage_of_property': None,\n",
       "  'structural_discrimination': None,\n",
       "  'reported_police': None},\n",
       " 8154: {'location': None,\n",
       "  'attack': 'verbal',\n",
       "  'propaganda': None,\n",
       "  'damage_of_property': None,\n",
       "  'structural_discrimination': None,\n",
       "  'reported_police': None},\n",
       " 8212: {'location': 'Besenbinderstrasse',\n",
       "  'attack': None,\n",
       "  'propaganda': 'identified',\n",
       "  'damage_of_property': None,\n",
       "  'structural_discrimination': None,\n",
       "  'reported_police': None},\n",
       " 8694: {'location': 'Torstraße',\n",
       "  'attack': None,\n",
       "  'propaganda': 'anonymous',\n",
       "  'damage_of_property': 'yes',\n",
       "  'structural_discrimination': None,\n",
       "  'reported_police': None},\n",
       " 8706: {'location': 'U Frankfurter Tor',\n",
       "  'attack': 'physical',\n",
       "  'propaganda': None,\n",
       "  'damage_of_property': None,\n",
       "  'structural_discrimination': None,\n",
       "  'reported_police': None},\n",
       " 8857: {'location': 'Rheinstraße',\n",
       "  'attack': 'physical',\n",
       "  'propaganda': None,\n",
       "  'damage_of_property': None,\n",
       "  'structural_discrimination': None,\n",
       "  'reported_police': None},\n",
       " 8887: {'location': 'Michaelkirchplatz',\n",
       "  'attack': 'physical',\n",
       "  'propaganda': None,\n",
       "  'damage_of_property': None,\n",
       "  'structural_discrimination': None,\n",
       "  'reported_police': None},\n",
       " 8891: {'location': None,\n",
       "  'attack': None,\n",
       "  'propaganda': 'identified',\n",
       "  'damage_of_property': None,\n",
       "  'structural_discrimination': None,\n",
       "  'reported_police': None},\n",
       " 9091: {'location': 'Mehringdamm '},\n",
       " 10294: {'location': 'Weserstraße'},\n",
       " 10410: {'location': 'Müllerstraße'},\n",
       " 10939: {'location': 'Festplatz '},\n",
       " 11303: {'location': 'Hamburger Straße'},\n",
       " 11471: {'location': 'Unter den Linden'},\n",
       " 11687: {'location': 'Flughafenstraße'},\n",
       " 11773: {'location': 'Motzstraße'},\n",
       " 11882: {'location': 'Prinzenstraße'},\n",
       " 12365: {'location': 'Müllerstraße'},\n",
       " 13425: {'location': 'Hermannplatz. '},\n",
       " 13844: {'location': 'Urbanstraße'},\n",
       " 14214: {'location': 'Narkauer Weg '},\n",
       " 14563: {'location': 'Gneisenaustraße'},\n",
       " 15242: {'location': 'Fischerhüttenstraße'},\n",
       " 15333: {'location': 'Baumschulenweg. '},\n",
       " 15566: {'location': 'Alexanderstraße'},\n",
       " 16035: {'location': 'Nollendorfplatz '},\n",
       " 16083: {'location': 'Lahnstraße'},\n",
       " 16145: {'location': 'Boddinstraße'},\n",
       " 17749: {'location': 'Frobenstraße'},\n",
       " 18842: {'location': 'Adalbertstraße'},\n",
       " 19048: {'location': 'Unter den Linden'},\n",
       " 19152: {'location': 'Weserstraße'},\n",
       " 19203: {'location': 'Bülowstraße'},\n",
       " 19354: {'location': 'Flughafenstr.'},\n",
       " 19591: {'location': 'Straße An der Urania'},\n",
       " 19700: {'location': 'Hermannstraße'},\n",
       " 20279: {'location': 'Mehringplatz '},\n",
       " 20746: {'location': 'Sonnenallee'},\n",
       " 21948: {'location': 'Seestraße'}}"
      ]
     },
     "execution_count": 180,
     "metadata": {},
     "output_type": "execute_result"
    }
   ],
   "source": [
    "dict_no_ents"
   ]
  },
  {
   "cell_type": "markdown",
   "metadata": {},
   "source": [
    "## Label stories without entities"
   ]
  },
  {
   "cell_type": "code",
   "execution_count": 23,
   "metadata": {},
   "outputs": [
    {
     "data": {
      "text/plain": [
       "{1861: {'location': 'Denkmal für die im Nationalsozialismus verfolgten Homosexuellen',\n",
       "  'attack': None,\n",
       "  'propaganda': 'anonymous',\n",
       "  'damage_of_property': 'yes',\n",
       "  'structural_discrimination': None,\n",
       "  'reported_police': 'yes'},\n",
       " 2063: {'location': None,\n",
       "  'attack': 'verbal',\n",
       "  'propaganda': None,\n",
       "  'damage_of_property': None,\n",
       "  'structural_discrimination': None,\n",
       "  'reported_police': None},\n",
       " 2194: {'location': 'metro Französische Straße',\n",
       "  'attack': 'physical',\n",
       "  'propaganda': None,\n",
       "  'damage_of_property': None,\n",
       "  'structural_discrimination': None,\n",
       "  'reported_police': None},\n",
       " 2261: {'location': None,\n",
       "  'attack': 'verbal',\n",
       "  'propaganda': None,\n",
       "  'damage_of_property': None,\n",
       "  'structural_discrimination': None,\n",
       "  'reported_police': None},\n",
       " 2275: {'location': 'metro Französische Straße',\n",
       "  'attack': 'physical',\n",
       "  'propaganda': None,\n",
       "  'damage_of_property': None,\n",
       "  'structural_discrimination': None,\n",
       "  'reported_police': None},\n",
       " 2511: {'location': 'metro Französische Straße',\n",
       "  'attack': 'physical',\n",
       "  'propaganda': None,\n",
       "  'damage_of_property': None,\n",
       "  'structural_discrimination': None,\n",
       "  'reported_police': None},\n",
       " 2583: {'location': None,\n",
       "  'attack': 'physical',\n",
       "  'propaganda': None,\n",
       "  'damage_of_property': None,\n",
       "  'structural_discrimination': None,\n",
       "  'reported_police': None},\n",
       " 2587: {'location': 'Mauerpark',\n",
       "  'attack': 'verbal',\n",
       "  'propaganda': None,\n",
       "  'damage_of_property': None,\n",
       "  'structural_discrimination': None,\n",
       "  'reported_police': None},\n",
       " 3070: {'location': 'Nordneukölln',\n",
       "  'attack': 'verbal',\n",
       "  'propaganda': None,\n",
       "  'damage_of_property': None,\n",
       "  'structural_discrimination': None,\n",
       "  'reported_police': None},\n",
       " 3206: {'location': 'Axel-Springer',\n",
       "  'attack': 'verbal',\n",
       "  'propaganda': None,\n",
       "  'damage_of_property': None,\n",
       "  'structural_discrimination': None,\n",
       "  'reported_police': None},\n",
       " 3403: {'location': None,\n",
       "  'attack': 'physical',\n",
       "  'propaganda': None,\n",
       "  'damage_of_property': None,\n",
       "  'structural_discrimination': None,\n",
       "  'reported_police': 'yes'},\n",
       " 3424: {'location': 'Geflüchtetenlager Olympiazentrum',\n",
       "  'attack': 'physical',\n",
       "  'propaganda': None,\n",
       "  'damage_of_property': None,\n",
       "  'structural_discrimination': None,\n",
       "  'reported_police': None},\n",
       " 3645: {'location': None,\n",
       "  'attack': 'physical',\n",
       "  'propaganda': None,\n",
       "  'damage_of_property': None,\n",
       "  'structural_discrimination': None,\n",
       "  'reported_police': None},\n",
       " 3763: {'location': None,\n",
       "  'attack': None,\n",
       "  'propaganda': 'identified',\n",
       "  'damage_of_property': None,\n",
       "  'structural_discrimination': None,\n",
       "  'reported_police': None},\n",
       " 3868: {'location': 'Kottbusser Tor',\n",
       "  'attack': 'physical',\n",
       "  'propaganda': None,\n",
       "  'damage_of_property': None,\n",
       "  'structural_discrimination': None,\n",
       "  'reported_police': None},\n",
       " 4032: {'location': 'Adalbertstraße',\n",
       "  'attack': 'physical',\n",
       "  'propaganda': None,\n",
       "  'damage_of_property': None,\n",
       "  'structural_discrimination': None,\n",
       "  'reported_police': None},\n",
       " 4100: {'location': 'metro Alexanderplatz',\n",
       "  'attack': 'physical',\n",
       "  'propaganda': None,\n",
       "  'damage_of_property': None,\n",
       "  'structural_discrimination': None,\n",
       "  'reported_police': None},\n",
       " 4233: {'location': 'metro Eberswalder Straße',\n",
       "  'attack': 'verbal',\n",
       "  'propaganda': None,\n",
       "  'damage_of_property': None,\n",
       "  'structural_discrimination': None,\n",
       "  'reported_police': None},\n",
       " 4310: {'location': None,\n",
       "  'attack': 'physical',\n",
       "  'propaganda': None,\n",
       "  'damage_of_property': None,\n",
       "  'structural_discrimination': None,\n",
       "  'reported_police': None},\n",
       " 4321: {'location': None,\n",
       "  'attack': 'physical',\n",
       "  'propaganda': None,\n",
       "  'damage_of_property': None,\n",
       "  'structural_discrimination': None,\n",
       "  'reported_police': None},\n",
       " 4398: {'location': 'S Wilhelmsruh',\n",
       "  'attack': 'physical',\n",
       "  'propaganda': None,\n",
       "  'damage_of_property': None,\n",
       "  'structural_discrimination': None,\n",
       "  'reported_police': None},\n",
       " 4405: {'location': None,\n",
       "  'attack': None,\n",
       "  'propaganda': None,\n",
       "  'damage_of_property': None,\n",
       "  'structural_discrimination': 'yes',\n",
       "  'reported_police': None},\n",
       " 4469: {'location': None,\n",
       "  'attack': 'verbal',\n",
       "  'propaganda': None,\n",
       "  'damage_of_property': None,\n",
       "  'structural_discrimination': None,\n",
       "  'reported_police': None},\n",
       " 4520: {'location': 'metro Samariterstraße',\n",
       "  'attack': 'verbal',\n",
       "  'propaganda': None,\n",
       "  'damage_of_property': None,\n",
       "  'structural_discrimination': None,\n",
       "  'reported_police': None},\n",
       " 4884: {'location': 'metro Samariterstraße',\n",
       "  'attack': 'physical',\n",
       "  'propaganda': None,\n",
       "  'damage_of_property': None,\n",
       "  'structural_discrimination': None,\n",
       "  'reported_police': None},\n",
       " 4887: {'location': 'metro Kottbusser Tor',\n",
       "  'attack': 'physical',\n",
       "  'propaganda': None,\n",
       "  'damage_of_property': None,\n",
       "  'structural_discrimination': None,\n",
       "  'reported_police': None},\n",
       " 4892: {'location': None,\n",
       "  'attack': 'verbal',\n",
       "  'propaganda': None,\n",
       "  'damage_of_property': None,\n",
       "  'structural_discrimination': None,\n",
       "  'reported_police': None},\n",
       " 4927: {'location': 'Nordneukölln',\n",
       "  'attack': 'physical',\n",
       "  'propaganda': None,\n",
       "  'damage_of_property': None,\n",
       "  'structural_discrimination': None,\n",
       "  'reported_police': None},\n",
       " 5183: {'location': 'metro Möckernbrücke',\n",
       "  'attack': None,\n",
       "  'propaganda': 'anonymous',\n",
       "  'damage_of_property': 'yes',\n",
       "  'structural_discrimination': None,\n",
       "  'reported_police': None},\n",
       " 5364: {'location': 'Straße des 17. Juni',\n",
       "  'attack': 'physical',\n",
       "  'propaganda': None,\n",
       "  'damage_of_property': None,\n",
       "  'structural_discrimination': None,\n",
       "  'reported_police': None},\n",
       " 5421: {'location': 'metro Hönow',\n",
       "  'attack': 'verbal',\n",
       "  'propaganda': None,\n",
       "  'damage_of_property': None,\n",
       "  'structural_discrimination': None,\n",
       "  'reported_police': None},\n",
       " 5570: {'location': 'Großer Tiergarten',\n",
       "  'attack': 'physical',\n",
       "  'propaganda': None,\n",
       "  'damage_of_property': None,\n",
       "  'structural_discrimination': None,\n",
       "  'reported_police': None},\n",
       " 5821: {'location': 'S Hackescher Markt',\n",
       "  'attack': 'physical',\n",
       "  'propaganda': None,\n",
       "  'damage_of_property': None,\n",
       "  'structural_discrimination': None,\n",
       "  'reported_police': 'yes'},\n",
       " 5829: {'location': 'Straße des 17. Juni',\n",
       "  'attack': 'physical',\n",
       "  'propaganda': None,\n",
       "  'damage_of_property': None,\n",
       "  'structural_discrimination': None,\n",
       "  'reported_police': None},\n",
       " 5830: {'location': 'Straße des 17. Juni',\n",
       "  'attack': 'physical',\n",
       "  'propaganda': None,\n",
       "  'damage_of_property': 'yes',\n",
       "  'structural_discrimination': None,\n",
       "  'reported_police': None},\n",
       " 5919: {'location': 'metro Karl-Marx-Straße',\n",
       "  'attack': 'physical',\n",
       "  'propaganda': None,\n",
       "  'damage_of_property': None,\n",
       "  'structural_discrimination': None,\n",
       "  'reported_police': None},\n",
       " 6213: {'location': 'S Hermannstraße',\n",
       "  'attack': 'physical',\n",
       "  'propaganda': None,\n",
       "  'damage_of_property': None,\n",
       "  'structural_discrimination': None,\n",
       "  'reported_police': 'yes'},\n",
       " 6214: {'location': 'Franz-Marc-Schule',\n",
       "  'attack': None,\n",
       "  'propaganda': 'anonymous',\n",
       "  'damage_of_property': 'yes',\n",
       "  'structural_discrimination': None,\n",
       "  'reported_police': None},\n",
       " 6221: {'location': 'Stößerstraße 18',\n",
       "  'attack': None,\n",
       "  'propaganda': 'anonymous',\n",
       "  'damage_of_property': 'yes',\n",
       "  'structural_discrimination': None,\n",
       "  'reported_police': None},\n",
       " 7186: {'location': 'Adalbertstraße',\n",
       "  'attack': 'physical',\n",
       "  'propaganda': None,\n",
       "  'damage_of_property': None,\n",
       "  'structural_discrimination': None,\n",
       "  'reported_police': None},\n",
       " 7428: {'location': 'U Alt-Tempelhof',\n",
       "  'attack': 'verbal',\n",
       "  'propaganda': None,\n",
       "  'damage_of_property': None,\n",
       "  'structural_discrimination': None,\n",
       "  'reported_police': None},\n",
       " 7429: {'location': 'U Kottbusser Tor',\n",
       "  'attack': 'physical',\n",
       "  'propaganda': None,\n",
       "  'damage_of_property': None,\n",
       "  'structural_discrimination': None,\n",
       "  'reported_police': None},\n",
       " 7867: {'location': 'Lückstraße',\n",
       "  'attack': 'physical',\n",
       "  'propaganda': None,\n",
       "  'damage_of_property': None,\n",
       "  'structural_discrimination': None,\n",
       "  'reported_police': None},\n",
       " 7905: {'location': 'Scheffelstraße',\n",
       "  'attack': 'physical',\n",
       "  'propaganda': None,\n",
       "  'damage_of_property': None,\n",
       "  'structural_discrimination': None,\n",
       "  'reported_police': None},\n",
       " 8154: {'location': None,\n",
       "  'attack': 'verbal',\n",
       "  'propaganda': None,\n",
       "  'damage_of_property': None,\n",
       "  'structural_discrimination': None,\n",
       "  'reported_police': None},\n",
       " 8212: {'location': 'Besenbinderstrasse',\n",
       "  'attack': None,\n",
       "  'propaganda': 'identified',\n",
       "  'damage_of_property': None,\n",
       "  'structural_discrimination': None,\n",
       "  'reported_police': None},\n",
       " 8694: {'location': 'Torstraße',\n",
       "  'attack': None,\n",
       "  'propaganda': 'anonymous',\n",
       "  'damage_of_property': 'yes',\n",
       "  'structural_discrimination': None,\n",
       "  'reported_police': None},\n",
       " 8706: {'location': 'U Frankfurter Tor',\n",
       "  'attack': 'physical',\n",
       "  'propaganda': None,\n",
       "  'damage_of_property': None,\n",
       "  'structural_discrimination': None,\n",
       "  'reported_police': None},\n",
       " 8857: {'location': 'Rheinstraße',\n",
       "  'attack': 'physical',\n",
       "  'propaganda': None,\n",
       "  'damage_of_property': None,\n",
       "  'structural_discrimination': None,\n",
       "  'reported_police': None},\n",
       " 8887: {'location': 'Michaelkirchplatz',\n",
       "  'attack': 'physical',\n",
       "  'propaganda': None,\n",
       "  'damage_of_property': None,\n",
       "  'structural_discrimination': None,\n",
       "  'reported_police': None},\n",
       " 8891: {'location': None,\n",
       "  'attack': None,\n",
       "  'propaganda': 'identified',\n",
       "  'damage_of_property': None,\n",
       "  'structural_discrimination': None,\n",
       "  'reported_police': None},\n",
       " 9091: {'location': 'Mehringdamm '},\n",
       " 10294: {'location': 'Weserstraße'},\n",
       " 10410: {'location': 'Müllerstraße'},\n",
       " 10939: {'location': 'Festplatz '},\n",
       " 11303: {'location': 'Hamburger Straße'},\n",
       " 11471: {'location': 'Unter den Linden'},\n",
       " 11687: {'location': 'Flughafenstraße'},\n",
       " 11773: {'location': 'Motzstraße'},\n",
       " 11882: {'location': 'Prinzenstraße'},\n",
       " 12365: {'location': 'Müllerstraße'},\n",
       " 13425: {'location': 'Hermannplatz. '},\n",
       " 13844: {'location': 'Urbanstraße'},\n",
       " 14214: {'location': 'Narkauer Weg '},\n",
       " 14563: {'location': 'Gneisenaustraße'},\n",
       " 15242: {'location': 'Fischerhüttenstraße'},\n",
       " 15333: {'location': 'Baumschulenweg. '},\n",
       " 15566: {'location': 'Alexanderstraße'},\n",
       " 16035: {'location': 'Nollendorfplatz '},\n",
       " 16083: {'location': 'Lahnstraße'},\n",
       " 16145: {'location': 'Boddinstraße'},\n",
       " 17749: {'location': 'Frobenstraße'},\n",
       " 18842: {'location': 'Adalbertstraße'},\n",
       " 19048: {'location': 'Unter den Linden'},\n",
       " 19152: {'location': 'Weserstraße'},\n",
       " 19203: {'location': 'Bülowstraße'},\n",
       " 19354: {'location': 'Flughafenstr.'},\n",
       " 19591: {'location': 'Straße An der Urania'},\n",
       " 19700: {'location': 'Hermannstraße'},\n",
       " 20279: {'location': 'Mehringplatz '},\n",
       " 20746: {'location': 'Sonnenallee'},\n",
       " 21948: {'location': 'Seestraße'}}"
      ]
     },
     "execution_count": 23,
     "metadata": {},
     "output_type": "execute_result"
    }
   ],
   "source": [
    "dict_no_ents"
   ]
  },
  {
   "cell_type": "code",
   "execution_count": 6,
   "metadata": {},
   "outputs": [],
   "source": [
    "# load pickled dict_no_ents:\n",
    "with open('pickles/dict_no_ents.pickle', 'rb') as f:\n",
    "    dict_no_ents = pickle.load(f)"
   ]
  },
  {
   "cell_type": "code",
   "execution_count": 37,
   "metadata": {},
   "outputs": [],
   "source": [
    "# local indices of 1009 stories\n",
    "local_indices = [i for i, loc_list in enumerate(good) if len(loc_list) == 0]"
   ]
  },
  {
   "cell_type": "code",
   "execution_count": 38,
   "metadata": {},
   "outputs": [],
   "source": [
    "# docs without entities\n",
    "docs_no_ents = [docs[i] for i in local_indices]"
   ]
  },
  {
   "cell_type": "code",
   "execution_count": 342,
   "metadata": {},
   "outputs": [],
   "source": [
    "physical = 'physical'\n",
    "verbal = 'verbal'\n",
    "anonymous = 'anonymous'\n",
    "identified = 'identified'\n",
    "yes = 'yes'"
   ]
  },
  {
   "cell_type": "code",
   "execution_count": 42,
   "metadata": {
    "scrolled": true
   },
   "outputs": [
    {
     "data": {
      "text/plain": [
       "[(LGBQT feindliche Schmiererei entdeckt!. Am Abend gegen 20.10 Uhr stellen Polizeibeamte eine Farbschmiererei an dem Denkmal für die im Nationalsozialismus verfolgten Homosexuellen fest.,\n",
       "  {'index': 1861, 'district': 'Mitte', 'MISC': ['LGBQT']}),\n",
       " (Transphobe Beleidigung. ,\n",
       "  {'index': 2063,\n",
       "   'district': 'Friedrichshain-Kreuzberg',\n",
       "   'PER': ['Transphobe']}),\n",
       " (Homophober Angriff U-Bahnhof Französische Strasse. Gegen 21.00 Uhr werden ein 21-jähriger und ein 32-jähriger Mann auf demBahnsteig des U-Bahnhofs Französische Straße von drei Männern im Altervon 17 bis 19 Jahren homophob beleidigt, geschlagen und verletzt.,\n",
       "  {'index': 2194,\n",
       "   'district': 'Mitte',\n",
       "   'LOC': ['U-Bahnhofs', 'Französische Straße von drei Männern']}),\n",
       " (Transphobe Beleidigung. ,\n",
       "  {'index': 2261,\n",
       "   'district': 'Friedrichshain-Kreuzberg',\n",
       "   'PER': ['Transphobe']}),\n",
       " (Homophobe Aggression und Beleidigung auf U-Bahnhof Französische Straße. Gegen 1.00 Uhr wird ein 44-jähriger Mann auf dem U-Bahnhof Französische Straße von zwei Unbekannten homophob beleidigt und getreten.,\n",
       "  {'index': 2275,\n",
       "   'district': 'Mitte',\n",
       "   'PER': ['Homophobe'],\n",
       "   'LOC': ['U-Bahnhof Französische Straße', 'U-Bahnhof Französische Straße']}),\n",
       " (Homophobe Beleidigung und Agression auf dem U-Bahnhof Französiche Straße. Gegen 21.00 Uhr werden ein 21-jähriger und ein 31-jähriger Mann von dreiJugendliche im Alter von 16, 17 und 19 Jahren auf dem U-Bahnhof FranzösischeStraße homophob beleidigt und geschlagen.,\n",
       "  {'index': 2511,\n",
       "   'district': 'Mitte',\n",
       "   'PER': ['Homophobe'],\n",
       "   'LOC': ['Französiche Straße', 'U-Bahnhof FranzösischeStraße']}),\n",
       " (Homophobe Aggression und Beleidigung gegen einen 38-jähriger Mann. Gegen 20.45 Uhr wird ein 38-jähriger Mann von einem 34-Jährigen homophob beleidigt und verletzt.,\n",
       "  {'index': 2583, 'district': 'Mitte', 'PER': ['Homophobe']}),\n",
       " (Homophobe Beleidigung. Eine Person, ca. 50 Jahre alt, wird aufgrund ihrer sexuellen Orientierung im Mauerpark von einer anderen Person homophobe beleidigt.,\n",
       "  {'index': 2587,\n",
       "   'district': 'Pankow',\n",
       "   'PER': ['Homophobe'],\n",
       "   'LOC': ['Mauerpark']}),\n",
       " (Fiktive Kampfsportgeste und Beleidigung. Ein Mann Anfang 20 zeigt zuerst eine fiktive Kampfsportgeste und beleidigt dann ein Person als \"Schwuchtel\" in Nordneukölln.,\n",
       "  {'index': 3070,\n",
       "   'district': 'Neukölln',\n",
       "   'PER': ['Fiktive Kampfsportgeste'],\n",
       "   'LOC': ['Nordneukölln']}),\n",
       " (Brief mit antisemitischem und homophobem Inhalt. Im Axel-Springer-Verlag ging ein Brief mit antisemitischem und homophobem Inhalt ein.,\n",
       "  {'index': 3206,\n",
       "   'district': 'Friedrichshain-Kreuzberg',\n",
       "   'PER': ['Brief'],\n",
       "   'ORG': ['Axel-Springer-Verlag']}),\n",
       " (Homophobie. Am 29. September 2015 ereignete sich im Ortsteil Mitte ein Angriff aufgrund von Homophobie, zu dem die Berliner Polizei aus datenschutzrechtlichen Gründen keine näheren Angaben machte.,\n",
       "  {'index': 3403, 'district': 'Mitte', 'ORG': ['Berliner Polizei']}),\n",
       " (Transfeindlicher Angriff in Geflüchtetenlager. Eine 19-jährige Frau wird Ende Oktober 2015 von anderen Bewohnern im Geflüchtetenlager Olympiazentrum transfeindlich beleidigt, mit Vergewaltigung und anderem bedroht. Einer der Männer schubst sie, sodass sie sich sich beim Sturz einen Arm bricht.,\n",
       "  {'index': 3424,\n",
       "   'district': 'Charlottenburg-Wilmersdorf',\n",
       "   'PER': ['Transfeindlicher'],\n",
       "   'LOC': ['Geflüchtetenlager Olympiazentrum']}),\n",
       " (Pfefferspray gegen Homosexuellen. Am 23. August griff eine Gruppe von Männern einen 50-jährigen Mann aus homophoben Gründen mit Pfefferspray an.,\n",
       "  {'index': 3645,\n",
       "   'district': 'Mitte',\n",
       "   'MISC': ['Pfefferspray gegen Homosexuellen'],\n",
       "   'ORG': ['Männern']}),\n",
       " (Hetze von \"Pro Deutschland\" auf Facebook. Die Kleinstpartei „Pro Deutschland“ veröffentlicht im Juli etliche Beiträge auf ihrer Facebook-Seite, die sich gegen Flüchtlinge, die lokale Politik und „Gender-Wahn“ richten. Sie schreiben unter anderem von „Lügenpresse“ und „Linksterroristen“. Einen Artikel über den „Lesben- und Schwulenverband Deutschland“ kommentieren sie mit „Gebt Pädos keine Chance!“,\n",
       "  {'index': 3763,\n",
       "   'district': 'Lichtenberg',\n",
       "   'ORG': ['Pro Deutschland',\n",
       "    'Kleinstpartei',\n",
       "    'Pro Deutschland',\n",
       "    'Gender-Wahn'],\n",
       "   'MISC': ['Facebook',\n",
       "    'Lügenpresse',\n",
       "    'Lesben- und Schwulenverband Deutschland']}),\n",
       " (Homohob motivierter Angriff. Ein 31-jähriger Mann und sein Freund werden auf dem U-Bahnhof Kottbusser Tor von zwei unbekannten Männern homophob beleidigt und er wird geschlagen.,\n",
       "  {'index': 3868,\n",
       "   'district': 'Friedrichshain-Kreuzberg',\n",
       "   'PER': ['Homohob'],\n",
       "   'LOC': ['U-Bahnhof Kottbusser Tor']}),\n",
       " (Mann aus homophober Motivation ins Gesicht geschlagen. Ein 31-jähriger Mann wird gegen 0.20 Uhr in der Adalbertstraße aus homophober Motivation ins Gesicht geschlagen.,\n",
       "  {'index': 4032,\n",
       "   'district': 'Friedrichshain-Kreuzberg',\n",
       "   'MISC': ['Mann aus homophober Motivation']}),\n",
       " (Angriff auf dem U-Bahnhof Alexanderplatz. Am 25. Mai wurde ein Mann gegen 1.45 Uhr von einem anderen Mann, der in einer Gruppe unterwegs war, homophob beleidigt und geschlagen.,\n",
       "  {'index': 4100,\n",
       "   'district': 'Mitte',\n",
       "   'MISC': ['Angriff auf dem U-Bahnhof Alexanderplatz']}),\n",
       " (homophobe Beleidigung. Am Abend gegen 22:45 Uhr wurde am U-Bahnhof Eberswalder Straße ein Sicherheitsmann als \"Schwuchtel\" bezeichnet, nachdem dieser einen alkoholisierten Mann davon abhalten wollte sich in eine überfüllte U-Bahn zu quetschen.,\n",
       "  {'index': 4233,\n",
       "   'district': 'Pankow',\n",
       "   'LOC': ['U-Bahnhof Eberswalder Straße']}),\n",
       " (Transphober Angriff in der Tram. ,\n",
       "  {'index': 4310,\n",
       "   'district': 'Lichtenberg',\n",
       "   'PER': ['Transphober'],\n",
       "   'MISC': ['Angriff in der Tram']}),\n",
       " (Beschimpfungen und Böller gegen Demonstration. Passant*innen und Anwohner*innen beschimpfen Teilnehmende einer Demonstration, die sich gegen Homophobie richtet. Außerdem wird der Demonstrationszug mit einem Böller beworfen. Ein Teilnehmerin klagt im Anschluss über Schwindel.,\n",
       "  {'index': 4321,\n",
       "   'district': 'Neukölln',\n",
       "   'MISC': ['Böller gegen Demonstration', 'Passant*innen', 'Anschluss']}),\n",
       " (Homophober Angriff am S-Bahnhof Wilhelmsruh. Ein 27-jähriger Mann wird gegen 19.35 Uhr auf dem S-Bahnhof Wilhelmsruh von einem 33-jährigen Mann homophob beleidigt und ins Gesicht geschlagen.,\n",
       "  {'index': 4398,\n",
       "   'district': 'Reinickendorf',\n",
       "   'MISC': ['Homophober Angriff'],\n",
       "   'LOC': ['S-Bahnhof Wilhelmsruh', 'S-Bahnhof Wilhelmsruh']}),\n",
       " (Homophobe Vermietungspolitik. Zwei Frauen versuchten bei einer privaten Gartenhaus-Vermietung einer Bootshausanlage ein Haus zu pachten. Die Vermieterin fragte die potenzielle Mieterin ob sie die Nachbarinnen kenne, bezugnehmend darauf, dass dort ein lesbisches Paar das Gartenhaus pachtet. Die Vermieterin wollte dann auch von der potenziellen Mieterin wissen, ob sie lesbisch seien. Als diese sagte, dass sie nicht ausschließen würde, auch mal eine Frau einzuladen, wurde ihr gesagt, dass kein Mietverhältnis zustande kommen könnte. Die Vermieterin begründete die homophobe Reaktion damit, dass die Nachbar_innen davon gestört werden würden und das Mietverhältnis aufkündigen könnten.,\n",
       "  {'index': 4405,\n",
       "   'district': 'Treptow-Köpenick',\n",
       "   'PER': ['Homophobe Vermietungspolitik']}),\n",
       " (Homophobe Beleidigung. ,\n",
       "  {'index': 4469,\n",
       "   'district': 'Friedrichshain-Kreuzberg',\n",
       "   'PER': ['Homophobe']}),\n",
       " (Homophobe Beleidigung. Gegen 4.25 Uhr beleidigt ein Mann Ende 20 eine andere Person am U-Bahnhof Samariterstraße als \"Faggot\" (Englisch für Schwuchtel). Weiterhin beleidigt er eine Frau rassistisch.,\n",
       "  {'index': 4520,\n",
       "   'district': 'Friedrichshain-Kreuzberg',\n",
       "   'PER': ['Homophobe'],\n",
       "   'LOC': ['U-Bahnhof Samariterstraße', 'Faggot'],\n",
       "   'MISC': ['Englisch']}),\n",
       " (Homophob beschimpft und verletzt. Gegen 1 Uhr wurden ein 28-jähriger und ein 31-jähriger Mann auf dem U-Bahnhof Boddinstraße aus einer Männergruppe heraus homophob beleidigt. Der 28-Jährige wurde anschließend getreten und verletzt.,\n",
       "  {'index': 4884,\n",
       "   'district': 'Neukölln',\n",
       "   'MISC': ['Homophob'],\n",
       "   'LOC': ['U-Bahnhof Boddinstraße']}),\n",
       " (Transphober Angriff am Kottbusser Tor. Ein 19-jährige Person, die in Begleitung einer Frau ist, wird gegen 1.40 Uhr auf dem U-Bahnhof Kottbusser Tor aus einer Gruppe heraus durch einen 20-jährigen Mann aus transphober Motivation bespuckt.,\n",
       "  {'index': 4887,\n",
       "   'district': 'Friedrichshain-Kreuzberg',\n",
       "   'PER': ['Transphober'],\n",
       "   'LOC': ['U-Bahnhof Kottbusser Tor']}),\n",
       " (Homophobe Hassanrufe gegen ein Stadtteilzentrum. Ein*e Mitarbeiter*in eines Stadtteilzentrums wird von einer Frau am Telefon homophob beleidigt. Die anrufende Person behauptet, dass „ein Schwuler die Interessen der Frauen und der Familien des Bezirkes nicht vertreten darf.“,\n",
       "  {'index': 4892, 'district': 'Marzahn-Hellersdorf', 'MISC': ['Ein*e']}),\n",
       " (In Nordneukölln mit Pflasterstein bedroht und geschlagen. Gegen 10 Uhr wurde ein 49-Jähriger durch eine 51-jährige Nachbarin homophob beleidigt, mit einem Pflasterstein bedroht und geschlagen.,\n",
       "  {'index': 4927, 'district': 'Neukölln', 'ORG': ['Nordneukölln']}),\n",
       " (LGBTIQ*-feindliche Schmiererei am U-Bahnhof Möckernbrücke. Am U-Bahnhof Möckernbrücke wurde eine LGBTIQ* feindliche Schmiererei an einer Wand angebracht. Zunächst hatte eine Person dort auf die Wand „Being Biploar, its awsome“ geschrieben. Eine weitere Person änderte den Spruch in „I hate being Bipolar“ ab. Eine weitere Person ersetze das Wort „Biploar“ durch das Wort „Faggot“.,\n",
       "  {'index': 5183,\n",
       "   'district': 'Friedrichshain-Kreuzberg',\n",
       "   'LOC': ['LGBTIQ*-feindliche', 'U-Bahnhof Möckernbrücke'],\n",
       "   'ORG': ['LGBTIQ'],\n",
       "   'PER': ['Faggot']}),\n",
       " (Homophober Angriff . Gegen 23.00 Uhr wird ein 56-jähriger Mann in der Straße des 17. Juni von einem unbekannten Mann aus homophober Motivation mit einem Messer an der Schulter verletzt.,\n",
       "  {'index': 5364, 'district': 'Mitte', 'PER': ['Homophober']}),\n",
       " (Homophobe Beleidigungen. Gegen 17:00 Uhr kam es auf einem Parkplatz in der Nähe des U-Bahnhofs Hönow zu homophoben Beleidigungen.,\n",
       "  {'index': 5421,\n",
       "   'district': 'Marzahn-Hellersdorf',\n",
       "   'PER': ['Homophobe'],\n",
       "   'LOC': ['U-Bahnhofs Hönow']}),\n",
       " (Homophober Angriff im Großen Tiergarten. Gegen 20.45 Uhr wird ein 58-jähriger Mann im „Großen Tiergarten“ aus homophober Motivation von einem unbekannten Mann ins Gesicht geschlagen.,\n",
       "  {'index': 5570,\n",
       "   'district': 'Mitte',\n",
       "   'MISC': ['Homophober Angriff im Großen Tiergarten'],\n",
       "   'LOC': ['Großen Tiergarten']}),\n",
       " (Angriff auf schwulen Fahrgast. Ein Fahrgast, der sich zwischen 17:00 und 18:00 Uhr auf dem Heimweg vom CSD befand, wurde in der S-Bahnlinie 75 auf der Höhe des Hackischen Marktes von zwei anderen Männern attackiert. Die Männer schlugen ihn weil er dem Erscheinen nach als homosexuell zu erkennen war. Das Opfer erlitt einen Nasenbeinbruch und eine Verletzung am Auge und wurde durch Rettungskräfte ambulant behandelt. Die Polizei ermittelt wegen Hasskriminalität.,\n",
       "  {'index': 5821,\n",
       "   'district': 'Mitte',\n",
       "   'MISC': ['Angriff auf schwulen Fahrgast', 'Rettungskräfte'],\n",
       "   'ORG': ['CSD'],\n",
       "   'LOC': ['S-Bahnlinie', 'Hackischen Marktes']}),\n",
       " (Homophober Angriff auf CSD. Gegen 19.20 Uhr wird ein 44-jähriger Mann auf der Straße des 17. Juni während des CSDs von einem unbekannten Mann mit Pfefferspray angegriffen und geschlagen.,\n",
       "  {'index': 5829,\n",
       "   'district': 'Mitte',\n",
       "   'PER': ['Homophober'],\n",
       "   'MISC': ['CSD']}),\n",
       " (Homophob angegriffen. Gegen 16.00 Uhr beobachtet ein 49-jähriger Mann beim Christopher Street Day auf der Straße des 17. Juni wie ein Unbekannter einem Teilnehmer ein Plakat entreißen will. Der 49-Jährige greift ein und wird aus homophober Motivation mit Pfefferspray angegriffen.,\n",
       "  {'index': 5830,\n",
       "   'district': 'Mitte',\n",
       "   'MISC': ['Homophob', 'Pfefferspray'],\n",
       "   'ORG': ['Christopher Street Day']}),\n",
       " (Am U-Bahnhof Karl-Marx-Straße homophob beleidigt und geschlagen. Ein 40-jähriger Mann wurde gegen 17.45 Uhr auf dem U-Bahnhof Karl-Marx-Straße von einem unbekannten Mann homophob beleidigt und geschlagen.,\n",
       "  {'index': 5919,\n",
       "   'district': 'Neukölln',\n",
       "   'LOC': ['U-Bahnhof Karl-Marx-Straße', 'U-Bahnhof Karl-Marx-Straße']}),\n",
       " (Angegriffen und gewürgt. Ein 27-jähriger Mann wurde gegen 22.40 Uhr vor dem S-Bahnhof Herrmannstraße von einem 44-jährigen Mann homophob und rassistisch beleidigt. Der 27-Jährige wollte sich daraufhin entfernen, wurde aber durch den Täter verfolgt. Als er seinen Verfolger offen zu filmen begann, griff der 44-Jährige Täter ihn an und würgte ihn. Zeug_innen intervenierten und die alarmierte Polizei nahm den Täter fest.,\n",
       "  {'index': 6213,\n",
       "   'district': 'Neukölln',\n",
       "   'LOC': ['Herrmannstraße'],\n",
       "   'PER': ['Zeug_innen']}),\n",
       " (Rassistische und homophobe Schmiererei. Vor der Franz-Marc-Schule in der Treskowallee ist auf einem Papierkorb mit schwarzem Edding \"Erdogan = schwul\" angebracht. Dieser Slogan tauchte in der Gegend bereits öfter und in Verbindung mit anderen rassistischen Sprüchen auf.,\n",
       "  {'index': 6214,\n",
       "   'district': 'Reinickendorf',\n",
       "   'ORG': ['Franz-Marc-Schule'],\n",
       "   'LOC': ['Treskowallee'],\n",
       "   'PER': ['Erdogan']}),\n",
       " (Plakate beschmiert und beschädigt. In der ver.di Jugendbildungsstätte Konradshöhe wurden Plakate, die für die Akzeptanz verschiedener sexueller Orientierungen werben, beschmiert und beschädigt. Auf einem Plakat wurden die Gesichter durchgestrichen, auf einem anderen mit einem scharfen Gegenstand die Hälse der abgebildeten Personen aufgeritzt.,\n",
       "  {'index': 6221,\n",
       "   'district': 'Reinickendorf',\n",
       "   'ORG': ['ver.di Jugendbildungsstätte Konradshöhe']}),\n",
       " (Gruppe greift Männer aus homophober Motivation an. Gegen 2 Uhr liefen zwei Männer Hand in Hand die Adalbertstraße entlang als sie aus einer vier- bis fünfköpfigen Personengruppe heraus aus homophober Motivation heraus beleidigt wurden. Darauffolgend schlug ein Mann aus der Gruppe dem 23-Jährigen Betroffenen mehrfach mit der Faust gegen den Kopf.,\n",
       "  {'index': 7186,\n",
       "   'district': 'Friedrichshain-Kreuzberg',\n",
       "   'PER': ['Darauffolgend'],\n",
       "   'MISC': ['Faust']}),\n",
       " (Homophobe Beleidigung auf dem U-Bahnhof Alt-Tempelhof. Ein 48-jähriger Mann wird kurz nach Mitternacht auf dem U-Bahnhof Alt-Tempelhof von einem 18-jährigen Jugendlichen homophob beleidigt und bedrängt.,\n",
       "  {'index': 7428,\n",
       "   'district': 'Tempelhof-Schöneberg',\n",
       "   'PER': ['Homophobe'],\n",
       "   'LOC': ['U-Bahnhof Alt-Tempelhof', 'U-Bahnhof Alt-Tempelhof']}),\n",
       " (Mann mit Glasflasche am Kopf verletzt. Gegen 1.00 Uhr wird ein 28-jähriger Mann und sein Begleiter in der U-Bahn in der Nähe des U-Bahnhofs Kottbusser Tor aus einer Gruppe von drei Männern heraus aus homophober Motivation beleidigt und mit einer Glasflasche auf den Kopf geschlagen.,\n",
       "  {'index': 7429,\n",
       "   'district': 'Friedrichshain-Kreuzberg',\n",
       "   'MISC': ['Mann mit Glasflasche'],\n",
       "   'LOC': ['U-Bahnhofs Kottbusser Tor']}),\n",
       " (Homophober Angriff in der Lückstraße . Ein Mann wurde um 17:30 Uhr in der Lückstraße Ecke Fischerstraße von einem anderen Mann homophob beleidigt und getreten. Der Betroffene wurde dabei leicht verletzt.,\n",
       "  {'index': 7867,\n",
       "   'district': 'Lichtenberg',\n",
       "   'PER': ['Homophober'],\n",
       "   'MISC': ['Angriff in der Lückstraße'],\n",
       "   'LOC': ['Lückstraße Ecke Fischerstraße']}),\n",
       " (LGBTIQ*-feindlicher Angriff in der Scheffelstraße. Ein 30-jähriger Mann, der gegen 9.15 Uhr mit seinem Partner in den Keller des Wohnhauses in der Scheffelstraße gehen will, wird fast von einer herunter geworfenen Keramiksäule getroffen. Der 30-Jährige hat seit längerer Zeit Probleme mit einer 34-jährigen Nachbarin und einem 39-jährigen Nachbarn, die ihn aus LGBTIQ-feindlicher Motivation beleidigen.,\n",
       "  {'index': 7905,\n",
       "   'district': 'Lichtenberg',\n",
       "   'MISC': ['LGBTIQ*-feindlicher Angriff in der', 'LGBTIQ-feindlicher'],\n",
       "   'LOC': ['Scheffelstraße', 'Scheffelstraße']}),\n",
       " (Homophobe Beleidigungen auf Instagram. Ein Schüler einer Spandauer Oberschule wurde, nachdem er sich in der Schule zu seiner Homosexualität bekannt hat, auf Instagram über einen längeren Zeitraum homophob beleidigt und bedroht.,\n",
       "  {'index': 8154,\n",
       "   'district': 'Spandau',\n",
       "   'PER': ['Homophobe', 'Instagram', 'Instagram'],\n",
       "   'LOC': ['Spandauer Oberschule']}),\n",
       " (AfD beim Altglienicker Spätsommerfest. Am 10. September fand das 16. Altglienicker Spätsommerfest statt. Unter anderem war auch die AfD Treptow-Köpenick mit einem Stand vertreten. Dort konnten sie ihr zum Teil rassistisches und homophobes Material ausgeben.\n",
       "  Die AfD ist ein Sammelbecken unterschiedlicher Kräfte und Personen, die in Teilen rechtspopulistische oder rechtsextreme Positionen vertreten.,\n",
       "  {'index': 8212,\n",
       "   'district': 'Treptow-Köpenick',\n",
       "   'PER': ['AfD', 'Spätsommerfest'],\n",
       "   'MISC': ['16. Altglienicker Spätsommerfest'],\n",
       "   'ORG': ['AfD Treptow-Köpenick', 'AfD']}),\n",
       " (Plakat aus LGBTIQ*-feindlichen Gründen zerstört. Im Ortsteil Mitte an der Kreuzung Torstraße Ecke Karl-Liebknecht-Straße wurde ein Werbeplakat zerstört, auf dem ein Mann mit Dessous abgebildet war.,\n",
       "  {'index': 8694,\n",
       "   'district': 'Mitte',\n",
       "   'LOC': ['Torstraße Ecke Karl-Liebknecht-Straße']}),\n",
       " (LGBTIQ-feindlicher Angriff in der Tram M10. Gegen 2.40 Uhr wird ein 20-jähriger Mann, der mit zwei Freundinnen in der Tram M10 sitzt und eine Regenbogenfahne als Umhang um den Hals geknotet trägt, von einem unbekannten Mann aus LGBTIQ-feindlicher Motivation beleidigt. Der 20-Jährige wird von dem Unbekannten, der in Begleitung von Freunden ist, gewürgt als dieser ihn an der Fahne aus der Tram auf den Gehweg am U-Bahnhof Frankfurter Tor zieht.,\n",
       "  {'index': 8706,\n",
       "   'district': 'Friedrichshain-Kreuzberg',\n",
       "   'MISC': ['Tram M10.', 'Tram M10', 'LGBTIQ-feindlicher'],\n",
       "   'PER': ['Freunden'],\n",
       "   'LOC': ['U-Bahnhof Frankfurter Tor']}),\n",
       " (Paar aus homophober Motivation angespuckt. Am 04.07.17 gegen 17.00 Uhr wurden zwei Männer, die Hand in Hand auf der Rheinstraße liefen, aus einer Gruppe heraus angespuckt.,\n",
       "  {'index': 8857, 'district': 'Tempelhof-Schöneberg'}),\n",
       " (Gewalttätiger LGBTIQ*-feindlicher Angriff . Ein 33-jähriger Mann wird gegen 00.35 Uhr auf dem Michaelkirchplatz aus\n",
       "  LGBTIQ-feindlicher Motivation von einem unbekannten Mann beleidigt,\n",
       "  bespuckt, geschlagen und getreten.,\n",
       "  {'index': 8887,\n",
       "   'district': 'Mitte',\n",
       "   'PER': ['Gewalttätiger LGBTIQ*-feindlicher']}),\n",
       " (Flüchtlingsfeindliche Beiträge auf NPD-Facebookseite. Die Lichtenberger NPD veröffentlichte auf Facebook hauptsächlich Beiträge, die sich gegen Flüchtlinge richteten. So wurden im Umfeld von Unterkünften NPD-Aufkleber fotografiert und gepostet. Verfolgten homosexuellen Flüchtlingen aus Tschetschenien wurde unterstellt, dass sie betrügen würden, um später ihre Familien nachholen zu können.,\n",
       "  {'index': 8891,\n",
       "   'district': 'Lichtenberg',\n",
       "   'LOC': ['NPD-Facebookseite', 'Tschetschenien'],\n",
       "   'ORG': ['Lichtenberger NPD'],\n",
       "   'MISC': ['Facebook'],\n",
       "   'PER': ['Unterkünften NPD-Aufkleber']}),\n",
       " (Homophob beleidigt und bespuckt. Vergangene Nacht wurde die Polizei wegen eines homophoben Übergriffs zum U-Bahnhof Mehringdamm gerufen. Dort gab der 20-jährige Geschädigte an, aus einer Gruppe heraus von einem 18-Jährigen aufgrund seiner Frauenkleider beleidigt und bespuckt worden zu sein. Bei der anschließenden Personalienfeststellung des Tatverdächtigen ließ dieser ein Tütchen mit Drogen fallen, die von den Beamten gesichert wurden.\n",
       "  Nr. 1299,\n",
       "  {'index': 9091,\n",
       "   'district': 'Friedrichshain-Kreuzberg',\n",
       "   'MISC': ['Homophob'],\n",
       "   'LOC': ['U-Bahnhof Mehringdamm']}),\n",
       " (LGBTIQ*-feindlicher Angriff. In der Nacht wird ein 45-jähriger Mann, der auf einer Parkbank im Großen Tiergarten sitzt, aus einer Gruppe von acht Personen heraus, aus homophober Motivation, mehrfach mit der Faust ins Gesicht geschlagen.,\n",
       "  {'index': 9212,\n",
       "   'district': 'Mitte',\n",
       "   'MISC': ['LGBTIQ*-feindlicher Angriff', 'Faust'],\n",
       "   'LOC': ['Großen Tiergarten']}),\n",
       " (Brutaler homofeindlicher Angriff im Tiergarten . Am Nachmittag des 20.05.2017 wurde ein Mann im Großen Tiergarten  von einem unbekannten Mann aus einer vierköpfigen Männergruppe heraus homophob beleidigt. Anschließend hat ihn derselbe Mann zu Boden gestoßen und ihm mehrmals mit der Faust ins Gesicht geschlagen. Der Mann hat sich dann das Funktelefon und die Geldbörse des Angegriffenen genommen. Anschließend flüchtete er zusammen mit den drei anderen Männern, die sich an dem Angriff nicht beteiligt haben sollen. Der Angegriffene erlitt leichte Kopfverletzungen. Er sprach nach dem Angriff ein Paar an, das im Park joggen war, und erzählte ihnen was ihm passiert war. Das Paar rief daraufhin die Polizei.,\n",
       "  {'index': 9272,\n",
       "   'district': 'Mitte',\n",
       "   'MISC': ['Brutaler homofeindlicher Angriff im Tiergarten',\n",
       "    'Faust',\n",
       "    'Angriff'],\n",
       "   'LOC': ['Großen Tiergarten']}),\n",
       " (LGBTIQ-feindlicher Angriff im Prenzlauer Berg. Eine 30-jährige Frau wird gegen 16.05 Uhr im Mauerpark von fünf unbekannten Jugendlichen aus LGBTIQ-feindlicher Motivation beleidigt und mit einer Flasche geworfen.,\n",
       "  {'index': 9440,\n",
       "   'district': 'Pankow',\n",
       "   'MISC': ['LGBTIQ-feindlicher Angriff im Prenzlauer Berg'],\n",
       "   'LOC': ['Mauerpark']}),\n",
       " (Eltern diskriminieren schwulen Kindergärtner. Eine Reinickendorfer Kita wollte einen neuen Mitarbeiter einstellen. Bei einem Elternabend erwähnt die Kita-Leiterin, dass der Neue schwul ist. Ein Teil der Eltern drohte daraufhin damit, Unterschriften gegen die Einstellung des schwulen Erziehers zu sammeln. Auf Druck der Geschäftsleiterin verließen die homosexuellenfeindlichen Eltern samt Kindern die Kita.,\n",
       "  {'index': 9706,\n",
       "   'district': 'Reinickendorf',\n",
       "   'MISC': ['Reinickendorfer Kita']}),\n",
       " (LGBTIQ-feindlicher Angriff am Kottbusser Tor. Ein 44-jähriger Mann wird gegen 21.25 Uhr auf dem U-Bahnhof Kottbusser Tor von einem gleichaltrigen Mann aus LGBTIQ-feindlicher Motivation beleidigt, verfolgt und getreten.,\n",
       "  {'index': 9959,\n",
       "   'district': 'Friedrichshain-Kreuzberg',\n",
       "   'MISC': ['LGBTIQ-feindlicher Angriff am Kottbusser Tor'],\n",
       "   'LOC': ['U-Bahnhof Kottbusser Tor']}),\n",
       " (LGBTIQ-feindlicher Angriff in Nordneukölln. Ein 25-Jähriger war gegen 15 Uhr in Begleitung seines Freundes in der Weserstraße unterwegs, als er von drei Unbekannten LGBTIQ-feindlich beschimpft wurde. Außerdem versuchte ein Mann aus der Dreiergruppe, den 25-Jährigen zu schlagen. Die Attacke wurde jedoch von den anderen beiden Unbekannten des Trios verhindert.,\n",
       "  {'index': 10294, 'district': 'Neukölln', 'ORG': ['Nordneukölln']}),\n",
       " (LGBTIQ-feindliche Bedrohung in Nordneukölln. Gegen 16.30 Uhr bedrohten vier junge Männer eine Frau auf transfeindliche Weise und verfolgten sie drei Straßenecken mit schnellen Schritten.,\n",
       "  {'index': 10305, 'district': 'Neukölln', 'LOC': ['Nordneukölln']}),\n",
       " (Homophober Vorfall in Gastronomie. Eine Frau und ihre Partnerin wurden in einem Gastronomiegewerbe aus homophioben Gründen nicht bedient.,\n",
       "  {'index': 10338,\n",
       "   'district': 'Friedrichshain-Kreuzberg',\n",
       "   'PER': ['Homophober']}),\n",
       " (LGBTIQ*-Feindlichkeit in der Schule. In einer Oberschule im Gesundbrunnen äußerte sich ein Schüler LGBTIQ-feindlich, indem er sagte, er habe etwas gegen Homosexuelle.,\n",
       "  {'index': 10352, 'district': 'Mitte', 'MISC': ['LGBTIQ*-Feindlichkeit']}),\n",
       " (LGBTIQ-feindlicher Angriff im Wedding. Gegen 18.00 Uhr werden ein 49-jähriger und ein 52-jähriger Mann in einem Supermarkt in der Müllerstraße von drei Frauen im Alter von 24, 25 und 30 Jahren aus LGBTIQ-feindlicher Motivation beleidigt und geschlagen.,\n",
       "  {'index': 10410,\n",
       "   'district': 'Mitte',\n",
       "   'MISC': ['LGBTIQ-feindlicher Angriff', 'LGBTIQ-feindlicher']}),\n",
       " (LGBTIQ*-feindlicher Angriff im Tiergarten. Ein 26-jähriger Mann wird im Großen Tiergarten von einem unbekannten Mann aus LGBTIQ-feindlicher Motivation mit der Faust ins Gesicht geschlagen.,\n",
       "  {'index': 10822,\n",
       "   'district': 'Mitte',\n",
       "   'MISC': ['LGBTIQ*-feindlicher Angriff im Tiergarten', 'Faust'],\n",
       "   'LOC': ['Großen Tiergarten']}),\n",
       " (LGBTIQ*feindlicher Angriff auf dem Weddinger Oktoberfest. Gegen 23.20 Uhr wird ein 28-jähriger Mann bei dem Oktoberfest auf dem Festplatz am Kurt-Schuhmacher-Damm von einem anderen 28-jährigen Mann aus LGBTIQ*feindlicher Motivation beleidigt. Der Täter versucht, den 28-Jährigen von der Sitzbank zu stoßen.,\n",
       "  {'index': 10939,\n",
       "   'district': 'Mitte',\n",
       "   'MISC': ['Angriff auf dem Weddinger Oktoberfest'],\n",
       "   'LOC': ['Oktoberfest', 'Kurt-Schuhmacher-Damm']}),\n",
       " (Faschistische Parole an Hauswand. An einer Hauswand in der Gerichtsstraße 14 wurde morgens die Parole “CCC Ülkücü CCC Türk Intikam Tugayi\" in einer Größe von ungefähr 5 - 8 Metern entdeckt. Die drei Halbmonde “CCC” sind das Zeichen der türkischen faschistischen Gruppierung “Graue Wölfe\", die sich auch als \"Idealisten\" (\"Ülkücü\")-Bewegung bezeichnen. \"Türk Intikam Tugayi\" bedeutet \"Nationale Türkische Rachebrigade”.,\n",
       "  {'index': 11041,\n",
       "   'district': 'Mitte',\n",
       "   'LOC': ['Gerichtsstraße 14'],\n",
       "   'PER': ['Intikam Tugayi', 'Intikam Tugayi'],\n",
       "   'ORG': ['CCC', 'Graue Wölfe', 'Nationale Türkische Rachebrigade'],\n",
       "   'MISC': ['türkischen']}),\n",
       " (LGBTIQ*feindliche Beleidigung und Bespuckung in Mitte. Gegen 12.00 Uhr wird ein 63-jähriger Mann in der Großen Hamburger Straße von einem unbekannten Täter aus LGBTIQ*feindlicher Motivation beleidigt und bespuckt.,\n",
       "  {'index': 11303, 'district': 'Mitte', 'LOC': ['Großen Hamburger Straße']}),\n",
       " (Rassistisch-flüchtlingsfeindlich motivierte Bedrohung . Unter den Linden wird in Propaganda um 19.39 Uhr ein/e Amts/Mandatsträger*in rassistisch-flüchtlingsfeindlich und antisemitisch motiviert und wegen ihrer sexuellen Orientierung bedroht. Es wird nach § 126 \"Störung des öffentlichen Friedens durch Androhung von Straftaten\" ermittelt.,\n",
       "  {'index': 11471,\n",
       "   'district': 'Mitte',\n",
       "   'PER': ['Rassistisch-flüchtlingsfeindlich'],\n",
       "   'LOC': ['Propaganda', 'Mandatsträger*in']}),\n",
       " (Frauen aus LGBTIQ*-Feindlicher Motivation beleidigt und geschlagen. Zwei Frauen im Alter vom 35 und 36 Jahren werden gegen 18.10 Uhr im U-Bahnhof Möckernbrücke aus LGBTIQ-feindlicher Motivation von einem unbekannten Mann beleidigt und geschlagen. Eine der Frauen wird gestoßen und am Hals gepackt.,\n",
       "  {'index': 11646,\n",
       "   'district': 'Friedrichshain-Kreuzberg',\n",
       "   'LOC': ['U-Bahnhof Möckernbrücke']}),\n",
       " (Israel-bezogener Antisemitismus auf Aufkleber. An einer Ampel auf einer Verkehrsinsel in der Neuköllner Flughafenstraße wird ein Aufkleber mit der Aufschrift \"israel is an apartheid state\", inklusive  hebräischer Übersetzung und \"#Queers against Occupation\" entdeckt.,\n",
       "  {'index': 11687,\n",
       "   'district': 'Neukölln',\n",
       "   'PER': ['Israel-bezogener'],\n",
       "   'LOC': ['Neuköllner Flughafenstraße']}),\n",
       " (Anti-Israel Propaganda beim lesbisch-schwulen \"Motzstraßenfest\". Rund um das Motzstraßenfest werden am 21.07.2018 Sticker gefunden, auf denen \"No Pride in Israeli Apartheid\" zu lesen ist. Außerdem \"Free Palestine.Tear down this wall! End Israeli Occuptaion\".,\n",
       "  {'index': 11773,\n",
       "   'district': 'Tempelhof-Schöneberg',\n",
       "   'PER': ['Anti-Israel Propaganda',\n",
       "    'Motzstraßenfest',\n",
       "    'End Israeli Occuptaion'],\n",
       "   'LOC': ['Motzstraßenfest'],\n",
       "   'MISC': ['No Pride', 'Free Palestine', 'Tear down this']}),\n",
       " (LGBTIQ*feindlicher Angriff im U-Bahnhof Naturkundemuseum. Gegen 12.45 Uhr wird eine 28-jährige Transfrau im U-Bahnhof Naturkundemuseum von einem unbekannten Mann aus LGBTIQ*feindlicher Motivation beleidigt, geschlagen und ins Gesicht gespuckt.,\n",
       "  {'index': 11789,\n",
       "   'district': 'Mitte',\n",
       "   'LOC': ['U-Bahnhof Naturkundemuseum', 'U-Bahnhof Naturkundemuseum']}),\n",
       " (Mann LGBTIQ*-Feindlich angegriffen. Gegen 14.00 Uhr wird ein 25-jähriger Mann in der Prinzenstraße von einem unbekannten Mann aus LGBTIQ-feindlicher Motivation beleidigt, geschlagen und getreten.,\n",
       "  {'index': 11882,\n",
       "   'district': 'Friedrichshain-Kreuzberg',\n",
       "   'MISC': ['Mann LGBTIQ*-Feindlich', 'LGBTIQ-feindlicher']}),\n",
       " (Massive LGBTIQ*-feindliche Bedrohung und Beleidigung im Treptower Park. Am Abend wurde ein homosexuelles Pärchen im Treptower Park von einer Gruppe Jugendlicher angesprochen und von einem Jugendlichen homosexuellen-feindlich beleidigt. Nachdem die Betroffen baten in Ruhe gelassen zu werden, wurde einer der Männer geschubst und bedroht. Danach flüchteten die Angreifer und einer der Betroffenen folgte einem der Jugendlichen, als dieser dies bemerkte zog er ein Messer und bedrohte den Verfolger.,\n",
       "  {'index': 12330,\n",
       "   'district': 'Treptow-Köpenick',\n",
       "   'LOC': ['Treptower Park', 'Treptower Park']}),\n",
       " (LGBTIQ-feindlicher Angriff im Wedding. Ein 18-jähriger Mann und zwei Freunde im Alter von 16 und 24 Jahren werden gegen 23.00 Uhr vor einem Café in der Müllerstraße von 18-20 Gästen aus LGBTIQ-feindlicher Motivation geschlagen und getreten.,\n",
       "  {'index': 12365,\n",
       "   'district': 'Mitte',\n",
       "   'MISC': ['LGBTIQ-feindlicher Angriff', 'LGBTIQ-feindlicher']}),\n",
       " (In Nordneukölln aus LGBTIQ-feindlicher Motivation mit Messer attackiert. Ein 24-Jähriger und ein 27-Jähriger wurden gegen 23.40 Uhr aus LGBTIQ-feindlicher Motivation angegriffen. Zwei unbekannte Jugendliche folgten den beiden Männern und versetzten dem 24-Jährigen einen Schlag gegen den Kopf und anschließend einen Messerstich in den Oberschenkel. Die beiden angegriffenen Männer retteten sich in eine nahegelegene Bar.\n",
       "  Es wurde Anzeige erstattet.,\n",
       "  {'index': 13143, 'district': 'Neukölln', 'LOC': ['Nordneukölln']}),\n",
       " (LGBTIQ*-Feindlichkeit in der BVV. In der Debatte über eine Dringlichkeitsanfrage der AfD-Fraktion (es gab auch einen Antrag der FDP-Fraktion), bezogen auf die Broschüre des Paritätischen Wohlfahrtsverbandes für Kita-Erzieher_innen (\"Murat spielt Prinzessin...\"), erweckten sowohl der Antragstext der FDP als auch der Redebeitrag des Fraktionsvorsitzenden der AfD den Eindruck, die Handreichung solle für die frühkindliche Sexualerziehung in der Kita eingesetzt werden. Tatsächlich soll sie zu einem diskriminierungsfreien Umgang mit Regenbogenfamilien und mit sexueller Vielfalt beitragen.\n",
       "  Im Verlauf seiner Rede benutzte der Fraktionsvorsitzende der AfD den Ausdruck \"das kranke LGBTIQ*\". Damit wurden sowohl der Versuch abgewertet, mit dieser Bezeichnung die Vielfalt sexueller Orientierungen und Identitäten sprachlich und damit gesellschaftlich sichtbar zu machen als auch die Menschen, für die diese Bezeichnung steht.,\n",
       "  {'index': 13235,\n",
       "   'district': 'Spandau',\n",
       "   'MISC': ['LGBTIQ*-Feindlichkeit'],\n",
       "   'ORG': ['BVV',\n",
       "    'AfD-Fraktion',\n",
       "    'FDP-Fraktion',\n",
       "    'Paritätischen Wohlfahrtsverbandes für Kita-Erzieher_innen',\n",
       "    'FDP',\n",
       "    'AfD',\n",
       "    'AfD',\n",
       "    'LGBTIQ'],\n",
       "   'PER': ['Murat', 'Prinzessin']}),\n",
       " (Homophober Angriff am Hermannplatz. Gegen 0.30 Uhr wurde ein 28-Jähriger aus einer Männergruppe heraus angegriffen. Aus LGBTIQ-feindlicher Motivation wurde der Betroffene gegen den Kopf geschlagen, bedrängt und geschubst. Als dem Angegriffenen die Flucht gelang, verfolgte ihn einer der Männer.\n",
       "  Zivilpolizisten bemerkten die Situation und nahmen den Angreifer fest.,\n",
       "  {'index': 13425,\n",
       "   'district': 'Neukölln',\n",
       "   'MISC': ['Homophober Angriff am Hermannplatz']}),\n",
       " ( LGBTIQ*-feindliche Bemerkungen unter Jugendlichen. Ein Jugendlicher äußerte über einen anderen Jugendlichen mit gefärbten Haaren: \"Bist du schwul, oder was?\" und fuhr fort, mit seinen Freunden über ihn zu lästern: \"He, guck mal, wie der aussieht, er ist schwul!\",\n",
       "  {'index': 13788, 'district': 'Spandau', 'PER': ['He']}),\n",
       " (LGBTIQ*-Feindlicher Angriff in der Urbanstraße. Ein 18-Jähriger wird gegen 21.00 Uhr in der Urbanstraße von vier Familienmitgliedern, darunter zwei Frauen im Alter von 28 und 54 Jahren und zwei Männer 30 und 51 Jahre alt, aus LGBTIQ*-feindlicher Motivation der Kontakt zu seinem Freund verboten und er wird in der Wohnung eingeschlossen.,\n",
       "  {'index': 13844,\n",
       "   'district': 'Friedrichshain-Kreuzberg',\n",
       "   'MISC': ['LGBTIQ*-Feindlicher']}),\n",
       " (Homophobe Pöbelei am Kottbusser Tor. Gegen 20 Uhr im U-Bahnhof Kottbusser Tor  wurde beobachtet, wie eine Frau zu einer Passantin: \"Transe\" artikulierte. Als diese sie zurechtweist, ruft der Begleiter der Frau: \"Du Hurensohn\".,\n",
       "  {'index': 13892,\n",
       "   'district': 'Friedrichshain-Kreuzberg',\n",
       "   'PER': ['Homophobe Pöbelei'],\n",
       "   'LOC': ['U-Bahnhof Kottbusser']}),\n",
       " (LGBTIQ*-Feindlichkeit unter Jugendlichen. Aus einer Schüler_innengruppe wurde einem vorbeigehenden Jugendlichen \"Du Schwuler!\" zugerufen. Dann lachten alle.,\n",
       "  {'index': 13900,\n",
       "   'district': 'Spandau',\n",
       "   'MISC': ['LGBTIQ*-Feindlichkeit', 'Du Schwuler!'],\n",
       "   'ORG': ['Schüler_innengruppe']}),\n",
       " (LGBTIQ-feindlicher Angriff auf dem U-Bahnhof Westhafen. Gegen 18.35 Uhr werden drei Männer im Alter von 23, 51 und von 57 Jahren in der U-Bahn von einem unbekannten Mann aus LGBTIQ-feindlicher Motivation beleidigt. Auf dem U-Bahnhof Westhafen wird einer der Männer von dem Unbekannten ins Gesicht geschlagen.,\n",
       "  {'index': 13917,\n",
       "   'district': 'Mitte',\n",
       "   'MISC': ['LGBTIQ-feindlicher Angriff', 'LGBTIQ-feindlicher'],\n",
       "   'LOC': ['U-Bahnhof Westhafen', 'U-Bahnhof Westhafen']}),\n",
       " (LGBTIQ*-feindliche Bemerkungen auf dem Schulhof. In einer Gruppe mehrerer Schüler_innen äußerte sich eine Schülerin positiv über eine Mitschülerin. Daraufhin meinte eine zweite Schülerin: \"Iiih, bist du lesbisch oder was?\" und machte im Tonfall deutlich, dass lesbisch sein etwas Schlimmes und Lächerliches ist. Alle anwesenden Schüler_innen lachten die erste Schülerin aus.,\n",
       "  {'index': 13948,\n",
       "   'district': 'Spandau',\n",
       "   'LOC': ['LGBTIQ*-feindliche'],\n",
       "   'PER': ['Iiih']}),\n",
       " (Homophobe Beleidigung in Mitte. Ein Mann wurde in Mitte von einer Nachbarin homophob beleidigt.,\n",
       "  {'index': 13969, 'district': 'Mitte', 'PER': ['Homophobe']}),\n",
       " (LGBTIQ*-Feindliche Parole am U-Bahnhof Jannowitzbrücke. Am U-Bahnhof Jannowitzbrücke wurde der LGBTIQ*-feindliche Schriftzug \"Schwule sterben aus\" entdeckt.,\n",
       "  {'index': 14128,\n",
       "   'district': 'Mitte',\n",
       "   'MISC': ['LGBTIQ*-Feindliche'],\n",
       "   'LOC': ['U-Bahnhof Jannowitzbrücke',\n",
       "    'U-Bahnhof Jannowitzbrücke',\n",
       "    'LGBTIQ*-feindliche Schriftzug \"Schwule']}),\n",
       " (LGBTIQ*-feindlicher Angriff in Rudow. Ein 43 jähriger Mann wird gegen 14.30 Uhr im Narkauer Weg von einem 20-jährigen Mann aus LGBTIQ-feindlicher Motivation beleidigt. Der 20-jährige Täter hetzt seinen Hund auf den 43-Jährigen.,\n",
       "  {'index': 14214,\n",
       "   'district': 'Neukölln',\n",
       "   'MISC': ['LGBTIQ*-feindlicher Angriff in Rudow']}),\n",
       " (Diffamierender Beitrag der AfD-Charlottenburg-Wilmersdorf. Die AfD CW veröffentlicht im Oktober ihren Beitrag in dem Bezirksmagazin „Gazette“ zu dem Thema \"Gendersprech- vergewaltigt das Bezirksamt unsere Sprache?\". In diesem Artikel wird unter anderem behauptet, dass „fanatische Minderheiten“ versuchen würden, ein „politisch-korrektes Gesinnungsdiktat“ durchzusetzen und gefordert, dass das Bezirksamt bei der „sektiererischen Vergewaltigung der Sprache nicht zum Mittäter werden“ dürfe. Dabei werden gezielt Ausdrücke aus dem Bereich der sexualisierten Gewalt genutzt. Dies folgt einer antifeministischen Argumentation, die eine Bedrohung durch die Sprach „Ideologie“ beschwört und sich jeglichen emanzipatorischen Errungenschaften verwehrt.,\n",
       "  {'index': 14278,\n",
       "   'district': 'Charlottenburg-Wilmersdorf',\n",
       "   'PER': ['Diffamierender'],\n",
       "   'MISC': ['AfD-Charlottenburg-Wilmersdorf', 'fanatische'],\n",
       "   'ORG': ['AfD CW']}),\n",
       " (LGBTIQ*-feindlicher Angriff am U-Bhf. Gneisenaustraße. In der Nacht vom 06.09.2019 zum 07.09.2019 wurden eine Frau und ihre Begleitung in einem Zug der U-Bahnlinie U7 in Höhe des U-Bhf. Gneisenaustraße aus einer Gruppe von drei Männern heraus transfeindlich beleidigt und mit einer Plastikflasche beworfen, die die beiden nur knapp verfehlte.,\n",
       "  {'index': 14563,\n",
       "   'district': 'Friedrichshain-Kreuzberg',\n",
       "   'MISC': ['LGBTIQ*-feindlicher Angriff am U-Bhf'],\n",
       "   'LOC': ['U-Bahnlinie U7']}),\n",
       " (LGBTIQ*-Feindlicher Angriff. Gegen 20.50 Uhr wird ein 28-jähriger Transmann aus einer Gruppe von unbekannten Jugendlichen heraus aus LGBTIQ-feindlicher Motivation beleidigt und mit einem Stein beworfen.,\n",
       "  {'index': 14650,\n",
       "   'district': 'Friedrichshain-Kreuzberg',\n",
       "   'MISC': ['LGBTIQ*-Feindlicher']}),\n",
       " (LSBTIQ*-Feindlichkeit eines AfD-Abgeordneten im Berliner Abgeordnetenhaus. Im Berliner Abgeordnetenhaus bezeichnete der AfD-Abgeordnete Stefan Franz Kerker LSBTIQ* als \"sexuelle Abnormitäten\".,\n",
       "  {'index': 14788,\n",
       "   'district': 'Berlinweit',\n",
       "   'ORG': ['AfD-Abgeordneten', 'AfD-Abgeordnete', 'LSBTIQ'],\n",
       "   'LOC': ['Berliner Abgeordnetenhaus', 'Berliner Abgeordnetenhaus'],\n",
       "   'PER': ['Stefan Franz Kerker']}),\n",
       " (Übergriffe beim Radical Queer March. Laut Organisationsteam des Radical Queer March gab es „verschiedene Versuche von Mitgliedern des Orga-Teams mit Personen eine Übereinkunft über das Abnehmen von Nationalflaggen, Symboliken und Inhalten, die in Teilen antisemitisch waren, zu erwirken.“ In der Folge sei es zu „gewalttätigen Übergriffen gekommen - diese umfassten gezieltes Abfilmen von Personen, sexistische verbale Angriffe, wie auch körperlichen Angriffe“.,\n",
       "  {'index': 14948,\n",
       "   'district': 'Friedrichshain-Kreuzberg',\n",
       "   'MISC': ['Radical Queer March'],\n",
       "   'ORG': ['Radical Queer March']}),\n",
       " (Antisemitische Beleidigung in Park in Nordneukölln. Zwei Frauen werden in einem Park antisemitisch und transphob beschimpft und bedroht.,\n",
       "  {'index': 14999, 'district': 'Neukölln', 'LOC': ['Nordneukölln']}),\n",
       " (Homofeindliches Graffiti an S-Bahn Zug. Das bereits an vielen Orten in Berlin angebrachte Graffiti \"Schwule sterben aus\" wurde gegen 13 Uhr in Form eines Stencil in blauer Schrift an einer Waggontür der Linie S3 entdeckt.,\n",
       "  {'index': 15066,\n",
       "   'district': 'Berlinweit',\n",
       "   'MISC': ['Homofeindliches Graffiti'],\n",
       "   'LOC': ['S-Bahn Zug', 'Berlin', 'S3']}),\n",
       " (LGBTIQ*-feindlicher Angriff in Nordneukölln. Am Abend des 23. Juni wurde eine Person von einer Gruppe von vier oder fünf Jugendlichen am Kottbusser Damm angegriffen. Zuerst wird sie mit Wasser bespritzt. Als sie die Jugendlichen daraufhin ansprach, wurde sie zu Boden geschubst und mehrmals getreten.\n",
       "  Als Zeugen zu Hilfe kamen, flüchtete die Gruppe. Die Person vermutete, dass sie aufgrund ihres äußeren Erscheinungsbildes und sexueller Orientierung angegriffen wurde.,\n",
       "  {'index': 15240,\n",
       "   'district': 'Neukölln',\n",
       "   'MISC': ['LGBTIQ*-feindlicher Angriff'],\n",
       "   'LOC': ['Nordneukölln', 'Kottbusser Damm']}),\n",
       " (LGBTIQ-feindlicher Angriff. Gegen 22.10 Uhr sehen Zeug_innen, wie ein unbekannter Mann in der Fischerhüttenstraße von einem Mitarbeiter eines Lokals aus LGBTIQ-feindlicher Motivation beleidigt und am Hals gepackt wird.,\n",
       "  {'index': 15242,\n",
       "   'district': 'Steglitz-Zehlendorf',\n",
       "   'MISC': ['LGBTIQ-feindlicher']}),\n",
       " (Homosexuellenfeinde Propaganda gegen politische Gegner*innen in Baumschulenweg. An eine Tür wurde der Spruch \"Antifa = Homo\" geschmiert. In dieser Kombination wurde das Wort \"homo\" offensichtlich als Beschimpfung verwendet.,\n",
       "  {'index': 15333,\n",
       "   'district': 'Treptow-Köpenick',\n",
       "   'PER': ['Homosexuellenfeinde'],\n",
       "   'LOC': ['Antifa']}),\n",
       " (Transfeindliche Beschimpfung in Nordneukölln. Gegen 18.25 Uhr wurde eine Passagierin der Buslinie 104 transfeindlich beleidigt. Ein Junge im Alter von ca. 15 Jahren sagte zu seinen Freund*innen über eine Mitfahrende: \"I, eine Transe.\" Das Schmähwort wertet Transsexuelle und Transgender ab.,\n",
       "  {'index': 15411,\n",
       "   'district': 'Neukölln',\n",
       "   'PER': ['Transfeindliche'],\n",
       "   'LOC': ['Nordneukölln']}),\n",
       " (Rassistische und homofeindliche Beiträge auf der NPD-Facebookseite. Die Lichtenberger NPD war im Mai vor allem mit dem Europawahlkampf ihrer Partei beschäftigt, sie postete auf Facebook mehrere Beiträge, die sich in rassistischer Weise mit ihrer Wahlparole „Migration tötet“ auseinandersetzten. Ein geteilter Beitrag eines „Nationalen Liedermachers“ beinhaltete neben rassistischen auch LGBTIQ*-feindliche Aussagen. Er begründete die Unwählbarkeit der AfD u.A. damit, dass „eine Lesbin“ an deren Spitze stände. In einem weiteren Beitrag wurden Transparente gezeigt, auf dene NS-Parolen wie „Nationaler Sozialismus jetzt“ und „Volkstod stoppen“ zu lesen waren.,\n",
       "  {'index': 15437,\n",
       "   'district': 'Lichtenberg',\n",
       "   'MISC': ['NPD-Facebookseite', 'Facebook', 'LGBTIQ*-feindliche'],\n",
       "   'ORG': ['Lichtenberger NPD',\n",
       "    'Partei',\n",
       "    'Nationalen Liedermachers',\n",
       "    'AfD u.A.'],\n",
       "   'PER': ['Transparente'],\n",
       "   'LOC': ['NS-Parolen']}),\n",
       " (Homofeindliche Schmiererei in Mitte. Im Ortsteil Mitte wurde in der Alexanderstraße (Höhe Hausnummer 19) erneut eine homofeindliche Schmiererei mit dem Slogan „Schwule sterben aus“ entdeckt.,\n",
       "  {'index': 15566, 'district': 'Mitte', 'MISC': ['Homofeindliche']}),\n",
       " (Homophober Aufkleber an der Singer-Plantsche. Ein Aufkleber \"Für Erhalt Deutscher Familien- gegen Genderwahnsinn\" wurde an der Singer-Plantsche entdeckt.,\n",
       "  {'index': 15648,\n",
       "   'district': 'Friedrichshain-Kreuzberg',\n",
       "   'PER': ['Homophober Aufkleber', 'Genderwahnsinn'],\n",
       "   'MISC': ['Singer-Plantsche', 'Singer-Plantsche']}),\n",
       " (LGBTIQ*-feindlicher Angriff in Nordneuköllner U-Bahnstation. Gegen 4.00 Uhr wird ein 23-jähriger Mann auf der Treppe des U-Bahnhofs Neukölln von vier Männern im Alter von 23, 22,17 und 16 Jahren aus LGBTIQ*-feindlicher Motivation geschlagen und getreten.,\n",
       "  {'index': 16034,\n",
       "   'district': 'Neukölln',\n",
       "   'MISC': ['LGBTIQ*-feindlicher Angriff'],\n",
       "   'LOC': ['U-Bahnhofs Neukölln', 'LGBTIQ*-feindlicher']}),\n",
       " (LGBTIQ*-feindlicher Angriff in U-Bahn. Eine 42-jährige Frau wird gegen 2.20 Uhr in einer U-Bahn nahe des U-Bahnhofs Nollendorfplatz von drei unbekannten Männern aus LGBTIQ*-feindlicher Motivation aufgefordert, das Abteil zu verlassen und mit einer PET-Flasche beworfen.,\n",
       "  {'index': 16035,\n",
       "   'district': 'Tempelhof-Schöneberg',\n",
       "   'MISC': ['LGBTIQ*-feindlicher Angriff'],\n",
       "   'LOC': ['U-Bahnhofs Nollendorfplatz']}),\n",
       " (LGBTIQ*-feindlicher Angriff in Nordneukölln. Gegen 13.30 Uhr wird ein Mann in der Lahnstraße von einem Unbekannten aus LGBTIQ*-feindlicher Motivation beleidigt und mit der Faust ins Gesicht geschlagen.,\n",
       "  {'index': 16083,\n",
       "   'district': 'Neukölln',\n",
       "   'MISC': ['LGBTIQ*-feindlicher Angriff', 'Faust'],\n",
       "   'ORG': ['Nordneukölln']}),\n",
       " (LGBTIQ*-feindlicher Angriff in Nordneuköllner U-Bahnstation. Gegen 22.00 Uhr wird ein 20-jähriger Mann, der auf einer Bank im U-Bahnhof Boddinstraße sitzt, von einem unbekannten Mann aus LGBTIQ*-feindlicher Motivation beleidigt, getreten, ins Gesicht gegriffen und sein Kopf wird gegen die Bank gedrückt. Ein unbekannter Zeuge greift ein.,\n",
       "  {'index': 16145,\n",
       "   'district': 'Neukölln',\n",
       "   'MISC': ['LGBTIQ*-feindlicher Angriff'],\n",
       "   'LOC': ['U-Bahnhof Boddinstraße']}),\n",
       " (Antimuslimischer Rassismus in BVV . Während der Neuköllner BVV-Sitzung am 20.3. kommt es bei mehreren Punkten zu antimuslimisch-rassistischen Äußerungen seitens einer fraktionslosen Bezirksverordneten.\n",
       "  In einem Entschließungsantrag äußert sich die Verordnete, dass insbesondere der Norden Neuköllns in einem starken Maße durch einen fundamentalistischen Islam geprägt sei. Dabei setzt sie das Tragen von Kopftüchern, die Zahl an Sozialhilfeempfänger*innen und an Straftaten, die sich \"insbesondere gegen Nichtmuslime\" richten würden, miteinander in Verbindung. \n",
       "  An einer anderen Stelle meldet sich die Verordnete ebenfalls in antimuslimisch-rassistischer Manier und behauptet einen Zusammenhang zwischen der hohen Zahl an LGBTIQ*-feindlichen Angriffen und offenen Grenzen bzw. sieht Menschen mit Migrationsgeschichte als Täter für diese Angriffe verantwortlich.\n",
       "  Eine Verordnete der Grünen widerspricht und führt aus, dass zu den Tätergruppen alle Bevölkerungsgruppen zählen.,\n",
       "  {'index': 16281,\n",
       "   'district': 'Neukölln',\n",
       "   'ORG': ['BVV', 'Neuköllner BVV-Sitzung', 'Nichtmuslime'],\n",
       "   'MISC': ['Verordnete'],\n",
       "   'LOC': ['Neuköllns']}),\n",
       " (LGBTIQ*feindlicher Angriff am U-Bahnhof Märkisches Museum. In der U-Bahn am U-Bahnhof Märkisches Museum wurden drei Männer im Alter von 23, 26 und 30 Jahren gegen 0.15 Uhr aus einer Gruppe von drei Männern heraus, von einem 22-jährigen Mann aus LGBTIQ-feindlicher Motivation beleidigt, geschlagen und getreten.,\n",
       "  {'index': 16374,\n",
       "   'district': 'Mitte',\n",
       "   'LOC': ['U-Bahnhof Märkisches Museum', 'U-Bahnhof Märkisches Museum'],\n",
       "   'MISC': ['LGBTIQ-feindlicher']}),\n",
       " (Antisemitischer Kommentar. Auf der Facebookseite einer zivilgesellschaflichen Einrichtung kommentierte eine Person: \"Kleine Zionisten gehören beseitigt sie gehören nicht zu diesem Planeten sie stiften Unruhe sie hetzen und sie verwischen die Gesellschaft sie verseuchen Gesellschaft mit ihrem Genderwahnsinn und all diesem anderen Quatsch\".,\n",
       "  {'index': 16386, 'district': 'Berlinweit', 'PER': ['Antisemitischer']}),\n",
       " (Rassistisches Mobbing und Kündigung. Eine Schwarze queere Person wurde auf der Arbeit im Rahmen einer Antidiskriminierungsfortbildung gemobbt und danach gekündigt.,\n",
       "  {'index': 16598, 'district': 'Berlinweit'}),\n",
       " (Aufkleber der Jungen Nationalisten. An einer Trambahnhaltestelle in der Nähe des Freizeitforums Marzahn wurde ein Aufkleber der NPD-Jugendorganisation „Junge Nationalisten“ gefunden. Auf dem Aufkleber wurde gegen angeblichen \"Genderwahnsinn“ gehetzt.,\n",
       "  {'index': 16714,\n",
       "   'district': 'Marzahn-Hellersdorf',\n",
       "   'MISC': ['Aufkleber der Jungen Nationalisten'],\n",
       "   'LOC': ['Freizeitforums Marzahn'],\n",
       "   'PER': ['Genderwahnsinn']}),\n",
       " (Rassistisches Facebook Posting der AfD Neukölln. Die AfD Neukölln veröffentlicht im Januar ein rassistisches Posting auf Facebook, das sich gegen Geflüchtete richtet, die als die „gut aussortierten Neubürger“ bezeichnet werden und denen gleichzeitig unterstellt wird, dass sie homophobe und antisemitische Einstellungen vertreten.,\n",
       "  {'index': 16728,\n",
       "   'district': 'Neukölln',\n",
       "   'MISC': ['Rassistisches Facebook Posting', 'Facebook'],\n",
       "   'ORG': ['AfD Neukölln', 'AfD Neukölln']}),\n",
       " (LGBTIQ-feindliche Aussage beim Stammtisch der AFD-Reinickendorf. Beim Stammtisch der AFD-Reinickendorf äußerte sich der geladene Europaparlamentarier Nicolaus Fest lgbtiq*-feindlich, indem er die Themen Gender(equality) als \"Schwachsinnsthema\" und \"überflüssige Bereiche\" bezeichnete.,\n",
       "  {'index': 17059,\n",
       "   'district': 'Reinickendorf',\n",
       "   'ORG': ['AFD-Reinickendorf', 'AFD-Reinickendorf'],\n",
       "   'PER': ['Nicolaus Fest lgbtiq*-feindlich'],\n",
       "   'MISC': ['Schwachsinnsthema']}),\n",
       " (Rassistische Postings auf Neuköllner AfD-Facebook-Seiten. Auf zwei Facebook-Seiten veröffentlichte die Neuköllner AfD im November mehrere rassistische Postings. Darunter befinden sich Postings mit flüchtlingsfeindlichem Inhalt aber auch Artikel die geteilt wurden und den den Anstieg der LGBTIQ*feindlichen Angriffe im Bezirk auf eine bestimmte Gruppe bzw. deren Religion zurückführen. Außerdem wurde in Postings über schulischen Erfolg als Bedingung für Bleiberechtsperspektiven fantasiert.,\n",
       "  {'index': 17218,\n",
       "   'district': 'Neukölln',\n",
       "   'MISC': ['Rassistische Postings auf Neuköllner AfD-Facebook-Seiten'],\n",
       "   'ORG': ['Neuköllner AfD'],\n",
       "   'LOC': ['LGBTIQ*feindlichen Angriffe'],\n",
       "   'PER': ['Bleiberechtsperspektiven']}),\n",
       " (LGBTIQ-feindliche Äußerungen in einer Bildungsmaßnahme. Im Rahmen einer Bildungsmaßnahme eines staatlich anerkannten Bildungsträgers kam es zu einem LGBTIQ-feindlichen Vorfall. Der Dozent verkündete im Rahmen des Unterrichts zur Anatomie des menschlichen Körpers, „dass Homosexualität ein Gendefekt“ sei. Eine teilnehmende Person der Bildungsmaßnahme suchte im Anschluss sowohl das Gespräch mit dem Träger als auch mit dem Dozenten. Die Leiterin des Trägers wies darauf hin, dass die gemachte Äußerung „im Kontext zu betrachten sei“ und wies auf den Wissensschatz des Dozenten bezüglich der Lehrinhalte hin. Im Gespräch mit dem Dozenten berief sich dieser auf die „Meinungsfreiheit“, legitimierte seine Haltung durch Evolutionstheorien und zeigte sich hinsichtlich der Diskriminierungsvorwürfe nicht einsichtig. In der Folge entschloss sich die teilnehmende Person, die Bildungsmaßnahme nicht weiter zu besuchen und zu kündigen. Kurz darauf erreichte die Person ein Ausschlussschreiben vom Bildungsträger, mit dem Hinweis, dass sie aufgrund von \"Störungen\" von der Maßnahme ausgeschlossen werde.,\n",
       "  {'index': 17362,\n",
       "   'district': 'Reinickendorf',\n",
       "   'MISC': ['LGBTIQ-feindlichen', 'Anschluss']}),\n",
       " (LGTBIQ*-feindlicher Angriff auf Kottbusser Damm. Gegen 20.15 Uhr wurde eine Person von einem unbekannten Mann aus LGBTIQ*feindlicher Motivation auf den Kopf geschlagen.,\n",
       "  {'index': 17579,\n",
       "   'district': 'Neukölln',\n",
       "   'MISC': ['LGTBIQ*-feindlicher', 'Angriff auf Kottbusser Damm']}),\n",
       " (LGBTIQ*feindliche Angriff in der Froberstr. . Gegen 0.30 Uhr wird eine 41-jährige Transperson in der Bülow- Ecke Frobenstraße aus einem Auto heraus, das mit vier Personen besetzt ist, mit einem Abschlepphaken beworfen. Die Transperson wird außerdem mit einem Pflasterstein beworfen und am Rücken getroffen.,\n",
       "  {'index': 17749,\n",
       "   'district': 'Tempelhof-Schöneberg',\n",
       "   'PER': ['Transperson'],\n",
       "   'LOC': ['Bülow- Ecke Frobenstraße', 'Transperson']}),\n",
       " (LGBTIQ-feindliches Thema beim Stammtisch der AfD-Reinickendorf. Im September fand der Stammtisch der AfD-Reinickendorf  mit dem Thema „Frühsexualisierung an Kitas und Schulen. Die Macht pädophiler Netzwerke“ statt. Der Begriff „Frühsexualisierung“ ist eine extrem rechte Falscherzählung, die darauf abzielt, Sexualpädagogik und eine Pädagogik der Vielfalt zu delegitimieren. Er richtet sich gegen jegliche Formen des Gendermainstreaming. Der angstschürende  Begriff \"Frühsexualisierung“ stellt Sexualität als eine äußere Bedrohung da. Es wird behauptet, eine Auseinandersetzung mit sexueller und geschlechtlicher Vielfalt ziele darauf ab, Kindern und Jugendlichen eine kollektiv unterstellte Cis- und Heterogeschlechtlichkeit auszureden und abzuerziehen. Häufig wird dafür der Begriff „Umerziehung“ verwendet. Er suggeriert, sexuelle sowie geschlechtliche Identität seien frei wähl- und entsprechend änderbar. Damit geht die Verwendung der extrem rechten Falscherzählung einher, es gebe eine sogenannte „Homolobby“, die zum Ziel habe, traditionelle Familienmodelle  abzuschaffen. Oft ist die Falscherzählung in einen verallgemeinernden Pädophilievorwurf eingebettet.,\n",
       "  {'index': 18113,\n",
       "   'district': 'Reinickendorf',\n",
       "   'MISC': ['AfD-Reinickendorf'],\n",
       "   'ORG': ['AfD-Reinickendorf  ']}),\n",
       " (Antisemitische und LGBTIQ*feindliche Hass-Mail an die Registerstelle Mitte. Die Registerstelle Mitte erhielt eine antisemitische und LGBTIQ*feindliche Hass-Mail.,\n",
       "  {'index': 18162,\n",
       "   'district': 'Mitte',\n",
       "   'MISC': ['Antisemitische und LGBTIQ*feindliche Hass-Mail'],\n",
       "   'LOC': ['Registerstelle Mitte', 'Registerstelle Mitte']}),\n",
       " (Antisemitische E-Mail. Am 9. September erhielt eine zivilgesellschaftliche Organisation eine antisemitische und LGBTIQ*feindliche Hass-Mail.,\n",
       "  {'index': 18176, 'district': 'Berlinweit', 'MISC': ['Antisemitische']}),\n",
       " (LGBTIQ*feindliches Mobbing am Arbeitsplatz. Am Arbeitsplatz wurde ein trans Mensch gemobbt. Das Datum entspricht nicht dem Datum des Vorfalls, sondern dem Datum der Meldung.,\n",
       "  {'index': 18204, 'district': 'Berlinweit'}),\n",
       " (Transfeindliche Äußerungen einer Therapeutin. Am 20.08. kam es gegenüber einer Schwarzen Person zu transfeindlichen Äußerungen von der eigenen Therapeutin.,\n",
       "  {'index': 18446, 'district': 'Berlinweit', 'PER': ['Transfeindliche']}),\n",
       " (Lokalgäste in der Adalbertraße mit Küchenmesser beworfen. Gegen 21.30 Uhr werden Gäste in einem Lokal in der Adalbertstraße aus LGBTIQ*feindlicher Motivation mit einem Küchenmesser beworfen.,\n",
       "  {'index': 18842,\n",
       "   'district': 'Friedrichshain-Kreuzberg',\n",
       "   'LOC': ['Lokalgäste', 'Adalbertraße']}),\n",
       " (Twitteraccount der AFD Reinickendorf verbreitet LGBTIQ-feindliche Petition. Auf dem Twitteraccount der AFD Reinickendorf wird für eine lgbtiq-feindliche Petition geworben, die sich gegen geschlechtergerechte Sprache richtet. Initiiert wurde die Petition von der ‚Jungen Freiheit‘. Die Zeitung gilt als eines der Sprachrohre der sogenannten ‚neuen Rechten‘, deren Akteur:innen teilweise vom Verfassungsschutz beobachtet werden.,\n",
       "  {'index': 18929,\n",
       "   'district': 'Reinickendorf',\n",
       "   'ORG': ['AFD Reinickendorf', 'AFD Reinickendorf']}),\n",
       " (LGBTIQ*feindlicher Angriff am Christopher Street Day in Mitte. Im Verlauf der alternativen Christopher Street Day Parade wird ein 25-jähriger Mann auf der Straße Unter den Linden von einer Frau aus LGBTIQ*feindlicher Motivation beleidigt und mit einer Gehhilfe geschlagen.,\n",
       "  {'index': 19048, 'district': 'Mitte', 'LOC': ['Christopher Street Day']}),\n",
       " (LGBTIQ*-feindlicher Angriff in Nordneukölln. Zwei Männer im Alter von 28 und 34 Jahren wurden gegen 22.00 Uhr in der Weserstraße von vier unbekannten Männern aus LGBTIQ*-feindlicher Motivation beleidigt und von zwei Männern ins Gesicht geschlagen.,\n",
       "  {'index': 19152,\n",
       "   'district': 'Neukölln',\n",
       "   'MISC': ['LGBTIQ*-feindlicher Angriff'],\n",
       "   'LOC': ['Nordneukölln']}),\n",
       " (LGBTIQ*feindliche Diskriminierung im Bildungsbereich. In einem Seminar wurde ein Arbeitsblatt ausgeteilt. Darauf stand, dass Transsexualität eine Störung sei. Das widerspricht europäischen und internationalen Standards und ist bereits an und für sich eine diskriminierende Aussage. Das Datum entspricht nicht dem Datum des Vorfalls, sondern dem Datum der Meldung.,\n",
       "  {'index': 19189, 'district': 'Berlinweit', 'MISC': ['europäischen']}),\n",
       " (LGBTIQ*feindliche Angriff. Eine unbekannte Transperson wird gegen 0.15 Uhr in der Bülowstraße von einem 17-jährigen Jugendlichen aus LGBTIQ*feindlicher Motivation mit einem Gegenstand beworfen.\n",
       "  Polizei Berlin, 29.07.2020,\n",
       "  {'index': 19203,\n",
       "   'district': 'Tempelhof-Schöneberg',\n",
       "   'MISC': ['LGBTIQ*feindliche Angriff'],\n",
       "   'PER': ['Transperson']}),\n",
       " (LGBTIQ*-feindlicher Angriff in Nordneukölln. Am Sonntagabend wurden zwei Personen in der Flughafenstr. zuerst LGBTIQ*-feindlich beleidigt und anschließend geschlagen. Die beiden erstatteten Anzeige.,\n",
       "  {'index': 19354,\n",
       "   'district': 'Neukölln',\n",
       "   'MISC': ['LGBTIQ*-feindlicher Angriff'],\n",
       "   'LOC': ['Nordneukölln'],\n",
       "   'PER': ['LGBTIQ*-feindlich']}),\n",
       " (Online-Monitoring: Mai. Auf der Facebook-Seite der AfD Steglitz-Zehlendorf sowie der BVV Fraktion  wurden Inhalte verbreitet, die die rassistische Verschwörung eines großen Austausches bedienen wie der geteilte Buchtitel \"Der Selbstmord Europas\". Ebenso wurde sich transfeindlich geäußert in dem man Transsexualität lächerlich machte.,\n",
       "  {'index': 19375,\n",
       "   'district': 'Steglitz-Zehlendorf',\n",
       "   'LOC': ['Online-Monitoring'],\n",
       "   'ORG': ['AfD Steglitz-Zehlendorf', 'BVV'],\n",
       "   'MISC': ['Der Selbstmord Europas']}),\n",
       " (LGBTIQ*feindliche Angriff. Gegen 0.30 Uhr fährt eine 25-jährige Frau mit dem Fahrrad auf der Straße An der Urania an einer Gruppe von Männern vorbei. Die 25-Jährige wird von einem Mann aus der Gruppe aus LGBTIQ*feindlicher Motivation vom Fahrrad gezogen und bespuckt.\n",
       "  Polizei Berlin, 29.07.2020,\n",
       "  {'index': 19591,\n",
       "   'district': 'Tempelhof-Schöneberg',\n",
       "   'MISC': ['LGBTIQ*feindliche Angriff'],\n",
       "   'ORG': ['Männern']}),\n",
       " (LGBTIQ*-feindlicher Angriff in Nordneukölln. Ein 33-jähriger Mann wird gegen 15.45 Uhr in der Hermannstraße von einem unbekannten Mann aus LGBTIQ*feindlicher Motivation beleidigt und auf die Straße gestoßen. Der Unbekannte versucht das Handy des 33-Jährigen zu rauben.,\n",
       "  {'index': 19700,\n",
       "   'district': 'Neukölln',\n",
       "   'MISC': ['LGBTIQ*-feindlicher Angriff'],\n",
       "   'ORG': ['Nordneukölln']}),\n",
       " (E-Mail mit rassistischen und LGBTIQ*-feindlichem Inhalt. An das Bündnis #unteilbar wird eine beleidigende E-Mail mit rassistischen und LGBTIQ*-feindlichem Inhalt gesendet.,\n",
       "  {'index': 19927, 'district': 'Berlinweit'}),\n",
       " (Antisemitisches Zoombombing. Am 03. April wurde eine online-Veranstaltung am Shabbat durch ein Zoombombing gestört. Unbekannte Nutzer_innen schalteten sich dazu und posteten zuerst rassistische und homofeindliche Inhalte, teilten dann ihre Bildschirme, sodass pornografische Inhalte zu sehen waren. Als die unbekannten Nutzer_innen verstanden, dass es sich um eine jüdische Gruppe handelte, schrieben sie zudem antisemitische Nachrichten in den Chat. Nach ungefähr zehn Minuten Störung wurde die Veranstaltung beendet.,\n",
       "  {'index': 19957,\n",
       "   'district': 'Berlinweit',\n",
       "   'PER': ['Antisemitisches Zoombombing'],\n",
       "   'LOC': ['Shabbat', 'Chat'],\n",
       "   'MISC': ['Nutzer_innen', 'Nutzer_innen', 'jüdische']}),\n",
       " (LGBTIQ*-Feindlicher Angriff am Kottbusser Tor. Gegen 5.25 Uhr wird ein 22-jähriger Mann aus LGBTIQ*-Feindlicher Motivation von einem unbekannten Mann beleidigt. Der 22-Jährige kann den Schlägen des Unbekannten ausweichen.,\n",
       "  {'index': 20160,\n",
       "   'district': 'Friedrichshain-Kreuzberg',\n",
       "   'MISC': ['LGBTIQ*-Feindlicher']}),\n",
       " (Diskriminierung am Arbeitsplatz im Nollendorfkiez . Im Nollendorfkiez wurde eine Person über längeren Zeitraum am Arbeitsplatz diskriminiert: rassistische, ablelistische und homophobe Kommentaren wurden von Vorgesetzten getätigt.,\n",
       "  {'index': 20214,\n",
       "   'district': 'Tempelhof-Schöneberg',\n",
       "   'MISC': ['Diskriminierung am Arbeitsplatz'],\n",
       "   'LOC': ['Nollendorfkiez', 'Nollendorfkiez']}),\n",
       " (Frau am Mehringplatz aus LGBTIQ*-Feindlichkeit beleidigt und geschlagen. Um 21 Uhr soll eine 28-jährige Transfrau am Mehringplatz von einem bisher unbekannten Tatverdächtigen beleidigt und bespuckt worden sein. Im weiten Verlauf soll der Angreifer der Frau gegen den Kopf geschlagen haben. Ein Zeuge, der die Auseinandersetzung mitbekam, konnte den Übergriff beenden. Der Angreifer flüchtete daraufhin und konnte unerkannt entkommen. Die Transfrau wurde nicht verletzt.,\n",
       "  {'index': 20279, 'district': 'Friedrichshain-Kreuzberg'}),\n",
       " (LGTBIQ*-feindliches Mobbing an Schule. Ein Mitarbeiter eines Projekts an einer Gemeinschaftsschule meldete, dass er sich aufgrund seiner Homosexualität von den Schüler*innen gemobbt und stigmatisiert fühlt.,\n",
       "  {'index': 20313, 'district': 'Neukölln', 'MISC': ['LGTBIQ*-feindliches']}),\n",
       " (Aus transfeindlicher Motivation Balkon mit Eiern beworfen. Eine Person, die bereits in Tagen davor transfeindlich beleidigt wurde, erstattete Anzeige, dass ihr Balkon gezielt mit Eiern beworfen wurde.\n",
       "  Wenige Tage davor hatte sie wegen anderen transfeindlichen Vorfällen bereits Anzeige erstattet. Weitere Ermittlungen hat der Polizeiliche Staatsschutz beim Landeskriminalamt übernommen.,\n",
       "  {'index': 20356,\n",
       "   'district': 'Neukölln',\n",
       "   'ORG': ['Polizeiliche Staatsschutz']}),\n",
       " (LGBTIQ*-feindlicher Angriff auf der Sonnenallee. Zwei Männer wurden von einer Gruppe Jugendlicher nach einem Streitgespräch LGTBIQ*-feindlich beledigt.\n",
       "  Nachdem die beiden beleidigt worden waren, entblößte einer aus der Gruppe Jugendlicher seinen Genitalbereich. Anschließend wurden beide Männer mit Schlägen gegen den Kopf attackiert und dabei verletzt.,\n",
       "  {'index': 20746,\n",
       "   'district': 'Neukölln',\n",
       "   'MISC': ['LGBTIQ*-feindlicher Angriff auf der Sonnenallee',\n",
       "    'LGTBIQ*-feindlich beledigt']}),\n",
       " (LGBTIQ*-feindliche Beleidigungen in Spandauer Facebook-Gruppe. In einer Spandauer Facebook-Gruppe kam es zu einem Austausch zur Frage „Was war das Schmerzhafteste, was man euch je an den Kopf geschmissen hat?“ Ein Gruppenmitglied schilderte, ihn habe sehr getroffen, als ihm persönlich gegen jemand überäußerte, Schwule müssten allesamt sterben. Daraufhin antwortete ein Gruppenmitglied im Chat, dass er dieser Aussage zustimme und beleidigte den Betroffenen LGBTIQ*-feindlich. Das betroffene Gruppenmitglied meldete diesen Vorfall an die Gruppenadministrator*innen, woraufhin der Verantwortliche aus der Facebook-Gruppe entfernt wurde. Danach machte das Gruppenmitglied die LGBTIQ*-feindlichen Beleidigungen in einem öffentlichen Post publik und erhielt Solidaritätsbekundungen anderer Nutzer*innen.,\n",
       "  {'index': 21416,\n",
       "   'district': 'Spandau',\n",
       "   'ORG': ['Spandauer Facebook-Gruppe', 'Spandauer Facebook-Gruppe'],\n",
       "   'LOC': ['Schmerzhafteste', 'Chat', 'LGBTIQ*-feindlich']}),\n",
       " (LGBTIQ*feindliche Ausgrenzung an einer Hochschule. Ein Dozent an einer Hochschule im Ortsteil Mitte beschwerte sich über das Gendern und meinte, dass das generische Maskulinum auch Frauen und nicht-binäre Menschen mit meine. Damit verteidigte er jedoch die sprachliche Ausgrenzung von Frauen und nicht-binären Menschen.,\n",
       "  {'index': 21822, 'district': 'Mitte'}),\n",
       " (Homophobe Beleidigung und Bedrohung im U-Bahnhof Seestraße. Im U-Bahnhof Seestraße wurde gegen 8.20 Uhr ein Mann von einem alkoholisierten Mann mehrfach homophob beleidigt und bedroht. Der Betrunkene lief dem Betroffenen, während er ihn beleidigte, hinterher, drohte ihm Schläge an und schrie minutenlang, dass sei seine U-Bahn-Station, \"Schwuchteln\" hätten hier nichts zu suchen. Von zahlreichen anwesenden Passant*innen griff niemand ein, kam auch verbal niemand dem Betroffenen zu Hilfe.,\n",
       "  {'index': 21948,\n",
       "   'district': 'Mitte',\n",
       "   'PER': ['Homophobe'],\n",
       "   'LOC': ['U-Bahnhof Seestraße', 'U-Bahnhof Seestraße'],\n",
       "   'MISC': ['Betrunkene']})]"
      ]
     },
     "execution_count": 42,
     "metadata": {},
     "output_type": "execute_result"
    }
   ],
   "source": [
    "docs_no_ents"
   ]
  },
  {
   "cell_type": "markdown",
   "metadata": {},
   "source": [
    "TODO:\n",
    "* Think what to do with Nordneukölln\n",
    "* update reported_police info after seing source\n",
    "* check google for cases where corners are given str. ecke str"
   ]
  },
  {
   "cell_type": "code",
   "execution_count": 40,
   "metadata": {
    "scrolled": true
   },
   "outputs": [
    {
     "data": {
      "text/plain": [
       "'Spandau'"
      ]
     },
     "execution_count": 40,
     "metadata": {},
     "output_type": "execute_result"
    }
   ],
   "source": [
    "docs_no_ents[44][0]._.district"
   ]
  },
  {
   "cell_type": "code",
   "execution_count": 578,
   "metadata": {
    "scrolled": true
   },
   "outputs": [
    {
     "data": {
      "text/plain": [
       "(50,\n",
       " 'Lichtenberg',\n",
       " Flüchtlingsfeindliche Beiträge auf NPD-Facebookseite. Die Lichtenberger NPD veröffentlichte auf Facebook hauptsächlich Beiträge, die sich gegen Flüchtlinge richteten. So wurden im Umfeld von Unterkünften NPD-Aufkleber fotografiert und gepostet. Verfolgten homosexuellen Flüchtlingen aus Tschetschenien wurde unterstellt, dass sie betrügen würden, um später ihre Familien nachholen zu können.)"
      ]
     },
     "execution_count": 578,
     "metadata": {},
     "output_type": "execute_result"
    }
   ],
   "source": [
    "i += 1 # change\n",
    "i, docs_no_ents[i][0]._.district, docs_no_ents[i][0]"
   ]
  },
  {
   "cell_type": "code",
   "execution_count": 579,
   "metadata": {},
   "outputs": [
    {
     "data": {
      "text/plain": [
       "51"
      ]
     },
     "execution_count": 579,
     "metadata": {},
     "output_type": "execute_result"
    }
   ],
   "source": [
    "dict_no_ents[docs_no_ents[i][0]._.index] = {\n",
    "    'location': None, \n",
    "    'attack': None,                    # 'physical' | 'verbal' | None\n",
    "    'propaganda': identified,                # 'anonymous' | 'identified' | None\n",
    "    'damage_of_property': None,        # 'yes' | None\n",
    "    'structural_discrimination': None, # 'yes' | None\n",
    "    'reported_police': None                  # 'yes' | None\n",
    "}\n",
    "\n",
    "#pickle\n",
    "with open('pickles/dict_no_ents.pickle', 'wb') as f:\n",
    "    pickle.dump(dict_no_ents, f)\n",
    "\n",
    "len(dict_no_ents)"
   ]
  },
  {
   "cell_type": "code",
   "execution_count": 576,
   "metadata": {},
   "outputs": [
    {
     "data": {
      "text/plain": [
       "{'place_id': 223100945,\n",
       " 'licence': 'Data © OpenStreetMap contributors, ODbL 1.0. https://osm.org/copyright',\n",
       " 'osm_type': 'way',\n",
       " 'osm_id': 659300598,\n",
       " 'boundingbox': ['52.5062536', '52.5079856', '13.4180292', '13.4204636'],\n",
       " 'lat': '52.5071228',\n",
       " 'lon': '13.419247474125797',\n",
       " 'display_name': 'Michaelkirchplatz, Luisenstadt, Mitte, Berlin, 10179, Deutschland',\n",
       " 'class': 'leisure',\n",
       " 'type': 'park',\n",
       " 'importance': 0.37000000000000005,\n",
       " 'address': {'leisure': 'Michaelkirchplatz',\n",
       "  'neighbourhood': 'Luisenstadt',\n",
       "  'suburb': 'Mitte',\n",
       "  'borough': 'Mitte',\n",
       "  'city': 'Berlin',\n",
       "  'state': 'Berlin',\n",
       "  'postcode': '10179',\n",
       "  'country': 'Deutschland',\n",
       "  'country_code': 'de'}}"
      ]
     },
     "execution_count": 576,
     "metadata": {},
     "output_type": "execute_result"
    }
   ],
   "source": [
    "Nominatim(user_agent=\"mymap\").geocode('Michaelkirchplatz Berlin', addressdetails=True).raw"
   ]
  },
  {
   "cell_type": "code",
   "execution_count": 505,
   "metadata": {},
   "outputs": [
    {
     "data": {
      "text/plain": [
       "{1861: {'location': 'Denkmal für die im Nationalsozialismus verfolgten Homosexuellen',\n",
       "  'attack': None,\n",
       "  'propaganda': 'anonymous',\n",
       "  'damage_of_property': 'yes',\n",
       "  'structural_discrimination': None,\n",
       "  'reported_police': 'yes'},\n",
       " 2063: {'location': None,\n",
       "  'attack': 'verbal',\n",
       "  'propaganda': None,\n",
       "  'damage_of_property': None,\n",
       "  'structural_discrimination': None,\n",
       "  'reported_police': None},\n",
       " 2194: {'location': 'metro Französische Straße',\n",
       "  'attack': 'physical',\n",
       "  'propaganda': None,\n",
       "  'damage_of_property': None,\n",
       "  'structural_discrimination': None,\n",
       "  'reported_police': None},\n",
       " 2261: {'location': None,\n",
       "  'attack': 'verbal',\n",
       "  'propaganda': None,\n",
       "  'damage_of_property': None,\n",
       "  'structural_discrimination': None,\n",
       "  'reported_police': None},\n",
       " 2275: {'location': 'metro Französische Straße',\n",
       "  'attack': 'physical',\n",
       "  'propaganda': None,\n",
       "  'damage_of_property': None,\n",
       "  'structural_discrimination': None,\n",
       "  'reported_police': None},\n",
       " 2511: {'location': 'metro Französische Straße',\n",
       "  'attack': 'physical',\n",
       "  'propaganda': None,\n",
       "  'damage_of_property': None,\n",
       "  'structural_discrimination': None,\n",
       "  'reported_police': None},\n",
       " 2583: {'location': None,\n",
       "  'attack': 'physical',\n",
       "  'propaganda': None,\n",
       "  'damage_of_property': None,\n",
       "  'structural_discrimination': None,\n",
       "  'reported_police': None},\n",
       " 2587: {'location': 'Mauerpark',\n",
       "  'attack': 'verbal',\n",
       "  'propaganda': None,\n",
       "  'damage_of_property': None,\n",
       "  'structural_discrimination': None,\n",
       "  'reported_police': None},\n",
       " 3070: {'location': 'Nordneukölln',\n",
       "  'attack': 'verbal',\n",
       "  'propaganda': None,\n",
       "  'damage_of_property': None,\n",
       "  'structural_discrimination': None,\n",
       "  'reported_police': None},\n",
       " 3206: {'location': 'Axel-Springer',\n",
       "  'attack': 'verbal',\n",
       "  'propaganda': None,\n",
       "  'damage_of_property': None,\n",
       "  'structural_discrimination': None,\n",
       "  'reported_police': None},\n",
       " 3403: {'location': None,\n",
       "  'attack': 'physical',\n",
       "  'propaganda': None,\n",
       "  'damage_of_property': None,\n",
       "  'structural_discrimination': None,\n",
       "  'reported_police': 'yes'},\n",
       " 3424: {'location': 'Geflüchtetenlager Olympiazentrum',\n",
       "  'attack': 'physical',\n",
       "  'propaganda': None,\n",
       "  'damage_of_property': None,\n",
       "  'structural_discrimination': None,\n",
       "  'reported_police': None},\n",
       " 3645: {'location': None,\n",
       "  'attack': 'physical',\n",
       "  'propaganda': None,\n",
       "  'damage_of_property': None,\n",
       "  'structural_discrimination': None,\n",
       "  'reported_police': None},\n",
       " 3763: {'location': None,\n",
       "  'attack': None,\n",
       "  'propaganda': 'identified',\n",
       "  'damage_of_property': None,\n",
       "  'structural_discrimination': None,\n",
       "  'reported_police': None},\n",
       " 3868: {'location': 'Kottbusser Tor',\n",
       "  'attack': 'physical',\n",
       "  'propaganda': None,\n",
       "  'damage_of_property': None,\n",
       "  'structural_discrimination': None,\n",
       "  'reported_police': None},\n",
       " 4032: {'location': 'Adalbertstraße',\n",
       "  'attack': 'physical',\n",
       "  'propaganda': None,\n",
       "  'damage_of_property': None,\n",
       "  'structural_discrimination': None,\n",
       "  'reported_police': None},\n",
       " 4100: {'location': 'metro Alexanderplatz',\n",
       "  'attack': 'physical',\n",
       "  'propaganda': None,\n",
       "  'damage_of_property': None,\n",
       "  'structural_discrimination': None,\n",
       "  'reported_police': None},\n",
       " 4233: {'location': 'metro Eberswalder Straße',\n",
       "  'attack': 'verbal',\n",
       "  'propaganda': None,\n",
       "  'damage_of_property': None,\n",
       "  'structural_discrimination': None,\n",
       "  'reported_police': None},\n",
       " 4310: {'location': None,\n",
       "  'attack': 'physical',\n",
       "  'propaganda': None,\n",
       "  'damage_of_property': None,\n",
       "  'structural_discrimination': None,\n",
       "  'reported_police': None},\n",
       " 4321: {'location': None,\n",
       "  'attack': 'physical',\n",
       "  'propaganda': None,\n",
       "  'damage_of_property': None,\n",
       "  'structural_discrimination': None,\n",
       "  'reported_police': None},\n",
       " 4398: {'location': 'S Wilhelmsruh',\n",
       "  'attack': 'physical',\n",
       "  'propaganda': None,\n",
       "  'damage_of_property': None,\n",
       "  'structural_discrimination': None,\n",
       "  'reported_police': None},\n",
       " 4405: {'location': None,\n",
       "  'attack': None,\n",
       "  'propaganda': None,\n",
       "  'damage_of_property': None,\n",
       "  'structural_discrimination': 'yes',\n",
       "  'reported_police': None},\n",
       " 4469: {'location': None,\n",
       "  'attack': 'verbal',\n",
       "  'propaganda': None,\n",
       "  'damage_of_property': None,\n",
       "  'structural_discrimination': None,\n",
       "  'reported_police': None},\n",
       " 4520: {'location': 'metro Samariterstraße',\n",
       "  'attack': 'verbal',\n",
       "  'propaganda': None,\n",
       "  'damage_of_property': None,\n",
       "  'structural_discrimination': None,\n",
       "  'reported_police': None},\n",
       " 4884: {'location': 'metro Samariterstraße',\n",
       "  'attack': 'physical',\n",
       "  'propaganda': None,\n",
       "  'damage_of_property': None,\n",
       "  'structural_discrimination': None,\n",
       "  'reported_police': None},\n",
       " 4887: {'location': 'metro Kottbusser Tor',\n",
       "  'attack': 'physical',\n",
       "  'propaganda': None,\n",
       "  'damage_of_property': None,\n",
       "  'structural_discrimination': None,\n",
       "  'reported_police': None},\n",
       " 4892: {'location': None,\n",
       "  'attack': 'verbal',\n",
       "  'propaganda': None,\n",
       "  'damage_of_property': None,\n",
       "  'structural_discrimination': None,\n",
       "  'reported_police': None},\n",
       " 4927: {'location': 'Nordneukölln',\n",
       "  'attack': 'physical',\n",
       "  'propaganda': None,\n",
       "  'damage_of_property': None,\n",
       "  'structural_discrimination': None,\n",
       "  'reported_police': None},\n",
       " 5183: {'location': 'metro Möckernbrücke',\n",
       "  'attack': None,\n",
       "  'propaganda': 'anonymous',\n",
       "  'damage_of_property': 'yes',\n",
       "  'structural_discrimination': None,\n",
       "  'reported_police': None},\n",
       " 5364: {'location': 'Straße des 17. Juni',\n",
       "  'attack': 'physical',\n",
       "  'propaganda': None,\n",
       "  'damage_of_property': None,\n",
       "  'structural_discrimination': None,\n",
       "  'reported_police': None},\n",
       " 5421: {'location': 'metro Hönow',\n",
       "  'attack': 'verbal',\n",
       "  'propaganda': None,\n",
       "  'damage_of_property': None,\n",
       "  'structural_discrimination': None,\n",
       "  'reported_police': None},\n",
       " 5570: {'location': 'Großer Tiergarten',\n",
       "  'attack': 'physical',\n",
       "  'propaganda': None,\n",
       "  'damage_of_property': None,\n",
       "  'structural_discrimination': None,\n",
       "  'reported_police': None},\n",
       " 5821: {'location': 'S Hackescher Markt',\n",
       "  'attack': 'physical',\n",
       "  'propaganda': None,\n",
       "  'damage_of_property': None,\n",
       "  'structural_discrimination': None,\n",
       "  'reported_police': 'yes'},\n",
       " 5829: {'location': 'Straße des 17. Juni',\n",
       "  'attack': 'physical',\n",
       "  'propaganda': None,\n",
       "  'damage_of_property': None,\n",
       "  'structural_discrimination': None,\n",
       "  'reported_police': None},\n",
       " 5830: {'location': 'Straße des 17. Juni',\n",
       "  'attack': 'physical',\n",
       "  'propaganda': None,\n",
       "  'damage_of_property': 'yes',\n",
       "  'structural_discrimination': None,\n",
       "  'reported_police': None},\n",
       " 5919: {'location': 'metro Karl-Marx-Straße',\n",
       "  'attack': 'physical',\n",
       "  'propaganda': None,\n",
       "  'damage_of_property': None,\n",
       "  'structural_discrimination': None,\n",
       "  'reported_police': None},\n",
       " 6213: {'location': 'S Hermannstraße',\n",
       "  'attack': 'physical',\n",
       "  'propaganda': None,\n",
       "  'damage_of_property': None,\n",
       "  'structural_discrimination': None,\n",
       "  'reported_police': 'yes'}}"
      ]
     },
     "execution_count": 505,
     "metadata": {},
     "output_type": "execute_result"
    }
   ],
   "source": [
    "dict_no_ents#[2511]['location'] = 'metro Französische Straße'"
   ]
  },
  {
   "cell_type": "markdown",
   "metadata": {},
   "source": [
    "**Find locations for missing entries after labeling 51 first ones by hand**"
   ]
  },
  {
   "cell_type": "code",
   "execution_count": null,
   "metadata": {},
   "outputs": [],
   "source": [
    "'''\n",
    "'heteronormativ|gay|lgbt|lgtb|lbgt|ltgb|lgbqt|schwul|schwuchtel|lsbt|transgender|'\\\n",
    "'transphob|transsex|transfrau|transperson|transmann|transfeind|homophob|queer|gleichgeschlecht|'\\\n",
    "'homosexu|homofeindlich|sexuelle[rn]* [ovi]|[^a-zöäüß]gender|binär'\n",
    "'''"
   ]
  },
  {
   "cell_type": "code",
   "execution_count": 104,
   "metadata": {},
   "outputs": [],
   "source": [
    "len(docs_no_ents[51:])\n",
    "\n",
    "# parse texts and look for regex\n",
    "loc_lexicon = '[-a-zA-Züöäß]+ ?str[ .,a][sße]{0,3}|[-a-zA-Züöäß]+ ?allee|'\\\n",
    "'[-a-zA-Züöäß]+ ?damm[ .,]+|[-a-zA-Züöäß]+ ?weg[ .,]+|[-a-zA-Züöäß]+ ?platz[ .,]+'\n",
    "\n",
    "street_matches = {}\n",
    "for doc in docs_no_ents[51:]:\n",
    "    doc_i = doc[0]._.index\n",
    "    district = doc[0]._.district\n",
    "    story = doc[0].text\n",
    "    matches = re.findall(loc_lexicon, doc[0].text, flags=re.IGNORECASE)\n",
    "    for match in matches:\n",
    "        query = match + ' ' + district + ' Berlin'\n",
    "        try:\n",
    "            loc = Nominatim(user_agent=\"mymap\").geocode(query, addressdetails=True).raw\n",
    "            if loc['address']['borough'] == district:\n",
    "                street_matches[doc_i] = match\n",
    "        except:\n",
    "            continue\n",
    "\n",
    "\n",
    "#df_lgbt = df_2014_2021[(df_2014_2021['Story'].str.contains(lgbt_lexicon, flags=re.IGNORECASE) == True)|(df_2014_2021['Header'].str.contains(lgbt_lexicon, flags=re.IGNORECASE) == True)]\n"
   ]
  },
  {
   "cell_type": "code",
   "execution_count": 133,
   "metadata": {},
   "outputs": [
    {
     "data": {
      "text/plain": [
       "('Neukölln',\n",
       " LGBTIQ*-feindlicher Angriff in Nordneukölln. Ein 33-jähriger Mann wird gegen 15.45 Uhr in der Hermannstraße von einem unbekannten Mann aus LGBTIQ*feindlicher Motivation beleidigt und auf die Straße gestoßen. Der Unbekannte versucht das Handy des 33-Jährigen zu rauben.)"
      ]
     },
     "execution_count": 133,
     "metadata": {},
     "output_type": "execute_result"
    }
   ],
   "source": [
    "[(doc[0]._.district, doc[0]) for doc in docs if doc[0]._.index in desambiguate_i][6]"
   ]
  },
  {
   "cell_type": "code",
   "execution_count": 159,
   "metadata": {},
   "outputs": [
    {
     "data": {
      "text/plain": [
       "'Mehringdamm '"
      ]
     },
     "execution_count": 159,
     "metadata": {},
     "output_type": "execute_result"
    }
   ],
   "source": [
    "street_matches[9091]"
   ]
  },
  {
   "cell_type": "code",
   "execution_count": 160,
   "metadata": {},
   "outputs": [],
   "source": [
    "for k, v in street_matches.items():\n",
    "    dict_no_ents[k] = {'location': v}"
   ]
  },
  {
   "cell_type": "code",
   "execution_count": 177,
   "metadata": {},
   "outputs": [],
   "source": [
    "with open('pickles/dict_no_ents.pickle', 'wb') as f:\n",
    "    pickle.dump(dict_no_ents, f)"
   ]
  },
  {
   "cell_type": "code",
   "execution_count": null,
   "metadata": {},
   "outputs": [],
   "source": []
  },
  {
   "cell_type": "code",
   "execution_count": null,
   "metadata": {},
   "outputs": [],
   "source": []
  },
  {
   "cell_type": "code",
   "execution_count": null,
   "metadata": {},
   "outputs": [],
   "source": []
  },
  {
   "cell_type": "code",
   "execution_count": 130,
   "metadata": {},
   "outputs": [
    {
     "data": {
      "text/plain": [
       "{'place_id': 18609173,\n",
       " 'licence': 'Data © OpenStreetMap contributors, ODbL 1.0. https://osm.org/copyright',\n",
       " 'osm_type': 'node',\n",
       " 'osm_id': 1927273858,\n",
       " 'boundingbox': ['52.5006496', '52.5007496', '13.3476336', '13.3477336'],\n",
       " 'lat': '52.5006996',\n",
       " 'lon': '13.3476836',\n",
       " 'display_name': 'An der Urania, Kleiststraße, Schöneberg, Tempelhof-Schöneberg, Berlin, Deutschland',\n",
       " 'class': 'highway',\n",
       " 'type': 'bus_stop',\n",
       " 'importance': 0.711,\n",
       " 'icon': 'https://nominatim.openstreetmap.org/ui/mapicons//transport_bus_stop2.p.20.png',\n",
       " 'address': {'highway': 'An der Urania',\n",
       "  'road': 'Kleiststraße',\n",
       "  'suburb': 'Schöneberg',\n",
       "  'borough': 'Tempelhof-Schöneberg',\n",
       "  'city': 'Berlin',\n",
       "  'state': 'Berlin',\n",
       "  'country': 'Deutschland',\n",
       "  'country_code': 'de'}}"
      ]
     },
     "execution_count": 130,
     "metadata": {},
     "output_type": "execute_result"
    }
   ],
   "source": [
    "\n",
    "Nominatim(user_agent=\"mymap\").geocode('Straße An der Urania Tempelhof-Schöneberg berlin', addressdetails=True).raw"
   ]
  },
  {
   "cell_type": "code",
   "execution_count": 99,
   "metadata": {},
   "outputs": [
    {
     "data": {
      "text/plain": [
       "(Diskriminierung am Arbeitsplatz im Nollendorfkiez . Im Nollendorfkiez wurde eine Person über längeren Zeitraum am Arbeitsplatz diskriminiert: rassistische, ablelistische und homophobe Kommentaren wurden von Vorgesetzten getätigt.,\n",
       " {'index': 20214,\n",
       "  'district': 'Tempelhof-Schöneberg',\n",
       "  'MISC': ['Diskriminierung am Arbeitsplatz'],\n",
       "  'LOC': ['Nollendorfkiez', 'Nollendorfkiez']})"
      ]
     },
     "execution_count": 99,
     "metadata": {},
     "output_type": "execute_result"
    }
   ],
   "source": [
    "docs_no_ents[-8]"
   ]
  },
  {
   "cell_type": "code",
   "execution_count": 94,
   "metadata": {},
   "outputs": [
    {
     "data": {
      "text/plain": [
       "{9091: ['Mehringdamm '],\n",
       " 9212: [],\n",
       " 9272: [],\n",
       " 9440: [],\n",
       " 9706: [],\n",
       " 9959: [],\n",
       " 10294: ['Weserstraße'],\n",
       " 10305: ['drei Straße'],\n",
       " 10338: [],\n",
       " 10352: [],\n",
       " 10410: ['Müllerstraße'],\n",
       " 10822: [],\n",
       " 10939: ['Festplatz ', 'Kurt-Schuhmacher-Damm '],\n",
       " 11041: ['Gerichtsstraße'],\n",
       " 11303: ['Hamburger Straße'],\n",
       " 11471: ['von Stra'],\n",
       " 11646: [],\n",
       " 11687: ['Flughafenstraße'],\n",
       " 11773: ['Motzstraße', 'Motzstraße'],\n",
       " 11789: [],\n",
       " 11882: ['Prinzenstraße'],\n",
       " 12330: [],\n",
       " 12365: ['Müllerstraße'],\n",
       " 13143: [],\n",
       " 13235: [],\n",
       " 13425: ['Hermannplatz. '],\n",
       " 13788: [],\n",
       " 13844: ['Urbanstraße', 'Urbanstraße'],\n",
       " 13892: [],\n",
       " 13900: [],\n",
       " 13917: [],\n",
       " 13948: [],\n",
       " 13969: [],\n",
       " 14128: [],\n",
       " 14214: ['Narkauer Weg '],\n",
       " 14278: [],\n",
       " 14563: ['Gneisenaustraße', 'Gneisenaustraße'],\n",
       " 14650: [],\n",
       " 14788: [],\n",
       " 14948: [],\n",
       " 14999: [],\n",
       " 15066: [],\n",
       " 15240: ['Kottbusser Damm '],\n",
       " 15242: ['Fischerhüttenstraße'],\n",
       " 15333: ['Baumschulenweg. '],\n",
       " 15411: [],\n",
       " 15437: [],\n",
       " 15566: ['Alexanderstraße'],\n",
       " 15648: [],\n",
       " 16034: [],\n",
       " 16035: ['Nollendorfplatz '],\n",
       " 16083: ['Lahnstraße'],\n",
       " 16145: ['Boddinstraße'],\n",
       " 16281: ['an Stra'],\n",
       " 16374: [],\n",
       " 16386: [],\n",
       " 16598: [],\n",
       " 16714: [],\n",
       " 16728: [],\n",
       " 17059: [],\n",
       " 17218: [],\n",
       " 17362: [],\n",
       " 17579: ['Kottbusser Damm. '],\n",
       " 17749: ['Froberstr.', 'Frobenstraße'],\n",
       " 18113: [],\n",
       " 18162: [],\n",
       " 18176: [],\n",
       " 18204: ['Arbeitsplatz. ', 'Arbeitsplatz '],\n",
       " 18446: [],\n",
       " 18842: ['Adalbertstraße'],\n",
       " 18929: [],\n",
       " 19048: ['der Straße'],\n",
       " 19152: ['Weserstraße'],\n",
       " 19189: [],\n",
       " 19203: ['Bülowstraße'],\n",
       " 19354: ['Flughafenstr.'],\n",
       " 19375: [],\n",
       " 19591: ['der Straße'],\n",
       " 19700: ['Hermannstraße', 'die Straße'],\n",
       " 19927: [],\n",
       " 19957: [],\n",
       " 20160: [],\n",
       " 20214: ['Arbeitsplatz ', 'Arbeitsplatz '],\n",
       " 20279: ['Mehringplatz ', 'Mehringplatz '],\n",
       " 20313: [],\n",
       " 20356: [],\n",
       " 20746: ['Sonnenallee'],\n",
       " 21416: ['Gruppenadministra'],\n",
       " 21822: [],\n",
       " 21948: ['Seestraße', 'Seestraße']}"
      ]
     },
     "execution_count": 94,
     "metadata": {},
     "output_type": "execute_result"
    }
   ],
   "source": [
    "street_matches"
   ]
  },
  {
   "cell_type": "code",
   "execution_count": 60,
   "metadata": {},
   "outputs": [
    {
     "data": {
      "text/plain": [
       "'[-a-zA-Züöäß]+ ?str[ .a][sße]{0,3}\\x08|[-a-zA-Züöäß]+ ?allee\\x08|[-a-zA-Züöäß]+ ?damm\\x08|[-a-zA-Züöäß]+ ?weg\\x08|\\\\[-a-zA-Züöäß]+ ?platz\\x08'"
      ]
     },
     "execution_count": 60,
     "metadata": {},
     "output_type": "execute_result"
    }
   ],
   "source": [
    "loc_lexicon"
   ]
  },
  {
   "cell_type": "code",
   "execution_count": 72,
   "metadata": {},
   "outputs": [],
   "source": [
    "loc_lexicon = '[-a-zA-Züöäß]+ ?str[ .,a][sße]{0,3}|[-a-zA-Züöäß]+ ?allee|[-a-zA-Züöäß]+ ?damm[ .,]+|[-a-zA-Züöäß]+ ?weg[ .,]+|[-a-zA-Züöäß]+ ?platz[ .,]+'"
   ]
  },
  {
   "cell_type": "code",
   "execution_count": 73,
   "metadata": {},
   "outputs": [
    {
     "data": {
      "text/plain": [
       "'[-a-zA-Züöäß]+ ?str[ .,a][sße]{0,3}|[-a-zA-Züöäß]+ ?allee|[-a-zA-Züöäß]+ ?damm[ .,]+|[-a-zA-Züöäß]+ ?weg[ .,]+|[-a-zA-Züöäß]+ ?platz[ .,]+'"
      ]
     },
     "execution_count": 73,
     "metadata": {},
     "output_type": "execute_result"
    }
   ],
   "source": [
    "loc_lexicon"
   ]
  },
  {
   "cell_type": "code",
   "execution_count": 79,
   "metadata": {
    "scrolled": true
   },
   "outputs": [
    {
     "data": {
      "text/plain": [
       "['Mehringdamm ']"
      ]
     },
     "execution_count": 79,
     "metadata": {},
     "output_type": "execute_result"
    }
   ],
   "source": [
    "re.findall(loc_lexicon, docs_no_ents[51][0].text, flags=re.IGNORECASE)"
   ]
  },
  {
   "cell_type": "code",
   "execution_count": 88,
   "metadata": {},
   "outputs": [
    {
     "data": {
      "text/plain": [
       "'Homophob beleidigt und bespuckt. Vergangene Nacht wurde die Polizei wegen eines homophoben Übergriffs zum U-Bahnhof Mehringdamm gerufen. Dort gab der 20-jährige Geschädigte an, aus einer Gruppe heraus von einem 18-Jährigen aufgrund seiner Frauenkleider beleidigt und bespuckt worden zu sein. Bei der anschließenden Personalienfeststellung des Tatverdächtigen ließ dieser ein Tütchen mit Drogen fallen, die von den Beamten gesichert wurden.\\nNr. 1299'"
      ]
     },
     "execution_count": 88,
     "metadata": {},
     "output_type": "execute_result"
    }
   ],
   "source": [
    "docs_no_ents[51][0].text"
   ]
  },
  {
   "cell_type": "code",
   "execution_count": 43,
   "metadata": {},
   "outputs": [
    {
     "data": {
      "text/plain": [
       "82"
      ]
     },
     "execution_count": 43,
     "metadata": {},
     "output_type": "execute_result"
    }
   ],
   "source": [
    "len(dict_no_ents)"
   ]
  },
  {
   "cell_type": "code",
   "execution_count": null,
   "metadata": {},
   "outputs": [],
   "source": []
  },
  {
   "cell_type": "code",
   "execution_count": null,
   "metadata": {},
   "outputs": [],
   "source": []
  },
  {
   "cell_type": "markdown",
   "metadata": {},
   "source": [
    "**Get coordinates of found locations**"
   ]
  },
  {
   "cell_type": "code",
   "execution_count": 125,
   "metadata": {},
   "outputs": [],
   "source": [
    "# improve this to carry the original index\n",
    "zero_loc_indices = []\n",
    "one_loc_locs = []\n",
    "one_loc_indices = []\n",
    "two_loc_locs = []\n",
    "two_loc_indices = []\n",
    "three_loc_locs = []\n",
    "three_loc_indices = []\n",
    "for i, loc in enumerate(good_loc_lol):\n",
    "    if len(loc) == 1:\n",
    "        one_loc_indices.append(i)\n",
    "        one_loc_locs.append((loc[0]['lat'], loc[0]['lon']))\n",
    "    elif len(loc) == 0:\n",
    "        zero_loc_indices.append(i)\n",
    "    elif len(loc) == 2:\n",
    "        two_loc_indices.append(i)\n",
    "        two_loc_locs.append(((loc[0]['lat'], loc[0]['lon']), \n",
    "                             (loc[1]['lat'], loc[1]['lon'])))\n",
    "    elif len(loc) == 3:\n",
    "        three_loc_indices.append(i)\n",
    "        three_loc_locs.append(((loc[0]['lat'], loc[0]['lon']), \n",
    "                               (loc[1]['lat'], loc[1]['lon']), \n",
    "                               (loc[2]['lat'], loc[2]['lon'])))\n",
    "        "
   ]
  },
  {
   "cell_type": "code",
   "execution_count": 126,
   "metadata": {},
   "outputs": [
    {
     "data": {
      "text/plain": [
       "(253, 141, 283, 182)"
      ]
     },
     "execution_count": 126,
     "metadata": {},
     "output_type": "execute_result"
    }
   ],
   "source": [
    "# zero_loc_indices are the files I will label\n",
    "len(one_loc_indices), len(zero_loc_indices), len(two_loc_indices), len(three_loc_indices)"
   ]
  },
  {
   "cell_type": "markdown",
   "metadata": {},
   "source": [
    "**Locations with one pair of coordinates**"
   ]
  },
  {
   "cell_type": "code",
   "execution_count": 206,
   "metadata": {},
   "outputs": [],
   "source": [
    "# find REAL indices\n",
    "one_loc_indices_real = [docs[i][1]['index'] for i in one_loc_indices]\n",
    "zero_loc_indices_real = [docs[i][1]['index'] for i in zero_loc_indices]\n",
    "two_loc_indices_real = [docs[i][1]['index'] for i in two_loc_indices]\n",
    "three_loc_indices_real = [docs[i][1]['index'] for i in three_loc_indices]"
   ]
  },
  {
   "cell_type": "code",
   "execution_count": 286,
   "metadata": {},
   "outputs": [],
   "source": [
    "latitude = {i:float(lat[0]) for (i, lat) in zip(one_loc_indices_real, one_loc_locs)}\n",
    "longitude = {i:float(lon[1]) for (i, lon) in zip(one_loc_indices_real, one_loc_locs)}"
   ]
  },
  {
   "cell_type": "code",
   "execution_count": 288,
   "metadata": {},
   "outputs": [],
   "source": [
    "df_lgbt['Latitude'] = df_lgbt.index.map(latitude)\n",
    "df_lgbt['Longitude'] = df_lgbt.index.map(longitude)"
   ]
  },
  {
   "cell_type": "markdown",
   "metadata": {},
   "source": [
    "**Check loc entities that are suggesting two places**\n",
    "<br>\n",
    "- managed to retrieve 97 doubled locations in the cases where 2 were detected"
   ]
  },
  {
   "cell_type": "code",
   "execution_count": 290,
   "metadata": {},
   "outputs": [
    {
     "data": {
      "text/plain": [
       "[(Homophober Angriff, S-Bahnhof Blankenburg, S-Bahnhof Blankenburg)]"
      ]
     },
     "execution_count": 290,
     "metadata": {},
     "output_type": "execute_result"
    }
   ],
   "source": [
    "# here I realized that some places can just be repeated \n",
    "two_loc_indices_real[0]\n",
    "[doc[0].ents for doc in docs if doc[0]._.index==1951]"
   ]
  },
  {
   "cell_type": "code",
   "execution_count": 291,
   "metadata": {
    "scrolled": true
   },
   "outputs": [],
   "source": [
    "# These pairs of coordinates are identical\n",
    "two_to_one_loc_dict = {i:a for i, (a, b) in zip(two_loc_indices_real, two_loc_locs) if a == b}"
   ]
  },
  {
   "cell_type": "code",
   "execution_count": 308,
   "metadata": {},
   "outputs": [],
   "source": [
    "for k, v in two_to_one_loc_dict.items():\n",
    "    df_lgbt.loc[k, 'Latitude'] = float(v[0])\n",
    "    df_lgbt.loc[k, 'Longitude'] = float(v[1])"
   ]
  },
  {
   "cell_type": "code",
   "execution_count": 309,
   "metadata": {},
   "outputs": [
    {
     "data": {
      "text/plain": [
       "(350, 12)"
      ]
     },
     "execution_count": 309,
     "metadata": {},
     "output_type": "execute_result"
    }
   ],
   "source": [
    "df_lgbt[df_lgbt['Latitude'].isna() == False].shape"
   ]
  },
  {
   "cell_type": "code",
   "execution_count": 295,
   "metadata": {
    "scrolled": true
   },
   "outputs": [
    {
     "data": {
      "text/plain": [
       "(253, 12)"
      ]
     },
     "execution_count": 295,
     "metadata": {},
     "output_type": "execute_result"
    }
   ],
   "source": [
    "df_lgbt[df_lgbt['Latitude'].isna() == False].shape"
   ]
  },
  {
   "cell_type": "code",
   "execution_count": 312,
   "metadata": {},
   "outputs": [],
   "source": [
    "df_map_test = df_lgbt.drop(['Propaganda', 'Structural Discrimination', 'Material Damage', 'Reported status'], axis=1)\n"
   ]
  },
  {
   "cell_type": "code",
   "execution_count": 317,
   "metadata": {},
   "outputs": [],
   "source": [
    "df_map_test.rename(columns={'Latitude': 'latitude', 'Longitude': 'longitude'}, inplace=True)"
   ]
  },
  {
   "cell_type": "markdown",
   "metadata": {},
   "source": [
    "**Pickle df_map_test**"
   ]
  },
  {
   "cell_type": "code",
   "execution_count": 318,
   "metadata": {},
   "outputs": [],
   "source": [
    "# pickle\n",
    "with open('df_map_test.pickle', 'wb') as f:\n",
    "    pickle.dump(df_map_test, f)"
   ]
  },
  {
   "cell_type": "code",
   "execution_count": 371,
   "metadata": {},
   "outputs": [
    {
     "data": {
      "text/plain": [
       "{'place_id': 574401,\n",
       " 'licence': 'Data © OpenStreetMap contributors, ODbL 1.0. https://osm.org/copyright',\n",
       " 'osm_type': 'node',\n",
       " 'osm_id': 240109189,\n",
       " 'boundingbox': ['52.3570365', '52.6770365', '13.2288599', '13.5488599'],\n",
       " 'lat': '52.5170365',\n",
       " 'lon': '13.3888599',\n",
       " 'display_name': 'Berlin, 10117, Deutschland',\n",
       " 'class': 'place',\n",
       " 'type': 'city',\n",
       " 'importance': 0.8975390282491362,\n",
       " 'icon': 'https://nominatim.openstreetmap.org/ui/mapicons//poi_place_city.p.20.png',\n",
       " 'address': {'city': 'Berlin',\n",
       "  'state': 'Berlin',\n",
       "  'postcode': '10117',\n",
       "  'country': 'Deutschland',\n",
       "  'country_code': 'de'}}"
      ]
     },
     "execution_count": 371,
     "metadata": {},
     "output_type": "execute_result"
    }
   ],
   "source": [
    "Nominatim(user_agent=\"mymap\").geocode('Berlin', addressdetails=True).raw"
   ]
  },
  {
   "cell_type": "code",
   "execution_count": 350,
   "metadata": {
    "scrolled": true
   },
   "outputs": [
    {
     "data": {
      "text/plain": [
       "'29 29 2014'"
      ]
     },
     "execution_count": 350,
     "metadata": {},
     "output_type": "execute_result"
    }
   ],
   "source": [
    "df_map_test['Date'].iloc[0].strftime('%d %d %Y')"
   ]
  },
  {
   "cell_type": "code",
   "execution_count": 357,
   "metadata": {},
   "outputs": [
    {
     "data": {
      "text/plain": [
       "1707     29 29 2014\n",
       "1836     26 26 2014\n",
       "1861     17 17 2014\n",
       "1874     12 12 2014\n",
       "1913     03 03 2014\n",
       "            ...    \n",
       "21900    14 14 2021\n",
       "21930    10 10 2021\n",
       "21933    10 10 2021\n",
       "21948    07 07 2021\n",
       "21974    02 02 2021\n",
       "Name: Date, Length: 1009, dtype: object"
      ]
     },
     "execution_count": 357,
     "metadata": {},
     "output_type": "execute_result"
    }
   ],
   "source": [
    "df_map_test['Date'].apply(lambda d: d.strftime('%d %d %Y'))"
   ]
  },
  {
   "cell_type": "code",
   "execution_count": null,
   "metadata": {},
   "outputs": [],
   "source": [
    "df['formatted_distance'] = df['mrt_distance'].apply(lambda d: f'{round(d, 2):,}')"
   ]
  },
  {
   "cell_type": "code",
   "execution_count": 356,
   "metadata": {
    "scrolled": true
   },
   "outputs": [
    {
     "data": {
      "text/plain": [
       "Timestamp('2014-11-29 00:00:00')"
      ]
     },
     "execution_count": 356,
     "metadata": {},
     "output_type": "execute_result"
    }
   ],
   "source": [
    "df_map_test['Date'].iloc[0]"
   ]
  },
  {
   "cell_type": "code",
   "execution_count": 178,
   "metadata": {},
   "outputs": [
    {
     "data": {
      "text/plain": [
       "(NPD Pankow,\n",
       " NPD,\n",
       " Buch,\n",
       " deutschen,\n",
       " Buch,\n",
       " NPD,\n",
       " Wagenburg,\n",
       " Karow,\n",
       " Punker_innen und Linke,\n",
       " NPD,\n",
       " Deutschen)"
      ]
     },
     "execution_count": 178,
     "metadata": {},
     "output_type": "execute_result"
    }
   ],
   "source": [
    "#ents = [docs[i][0].ents]\n",
    "i=10\n",
    "docs[i][0].ents"
   ]
  },
  {
   "cell_type": "code",
   "execution_count": null,
   "metadata": {},
   "outputs": [],
   "source": []
  },
  {
   "cell_type": "markdown",
   "metadata": {},
   "source": [
    "### Test pipe to find locations in df_lgbt['Story'] and df_lgbt['Header']\n",
    "For comparisson, before including headers: <br>\n",
    "len(stories_with_locs), len(stories_with_orgs), len(stories_with_just_orgs) = (891, 263, 32)"
   ]
  },
  {
   "cell_type": "code",
   "execution_count": 141,
   "metadata": {},
   "outputs": [],
   "source": [
    "nlp = spacy.load('de_core_news_md')"
   ]
  },
  {
   "cell_type": "code",
   "execution_count": 142,
   "metadata": {},
   "outputs": [],
   "source": [
    "story_indices = df_lgbt.index\n",
    "story_districts = df_lgbt['District']"
   ]
  },
  {
   "cell_type": "code",
   "execution_count": 143,
   "metadata": {},
   "outputs": [],
   "source": [
    "# list of strings from header and story, concatenated\n",
    "titled_stories = [title + '. ' + story for (title, story) in zip(df_lgbt['Header'], df_lgbt['Story'])]"
   ]
  },
  {
   "cell_type": "code",
   "execution_count": 151,
   "metadata": {},
   "outputs": [],
   "source": [
    "docs_data = [(ts, {'index': i, 'district': j}) for (ts, i, j) in zip(titled_stories, story_indices, story_districts)]"
   ]
  },
  {
   "cell_type": "code",
   "execution_count": 152,
   "metadata": {},
   "outputs": [],
   "source": [
    "docs = list(nlp.pipe(docs_data, as_tuples=True))"
   ]
  },
  {
   "cell_type": "markdown",
   "metadata": {},
   "source": [
    "**Pickle docs**"
   ]
  },
  {
   "cell_type": "code",
   "execution_count": 269,
   "metadata": {},
   "outputs": [],
   "source": [
    "# pickle\n",
    "with open('pickles/spacy_docs.pickle', 'wb') as f:\n",
    "    pickle.dump(docs, f)"
   ]
  },
  {
   "cell_type": "code",
   "execution_count": 268,
   "metadata": {
    "scrolled": true
   },
   "outputs": [
    {
     "data": {
      "text/plain": [
       "Beschimpfungen und Böller gegen Demonstration. Passant*innen und Anwohner*innen beschimpfen Teilnehmende einer Demonstration, die sich gegen Homophobie richtet. Außerdem wird der Demonstrationszug mit einem Böller beworfen. Ein Teilnehmerin klagt im Anschluss über Schwindel."
      ]
     },
     "execution_count": 268,
     "metadata": {},
     "output_type": "execute_result"
    }
   ],
   "source": [
    "docs"
   ]
  },
  {
   "cell_type": "markdown",
   "metadata": {},
   "source": [
    "**Sort found entities**"
   ]
  },
  {
   "cell_type": "code",
   "execution_count": 260,
   "metadata": {},
   "outputs": [],
   "source": [
    "# Adds entities as metadata to doc_dict \n",
    "def entity_getter():\n",
    "    '''\n",
    "    Adds entities found in docs to a list in context dictionary\n",
    "    '''\n",
    "    no_ents = []\n",
    "    for doc, doc_dict in docs:\n",
    "        if len(doc.ents) == 0:\n",
    "            no_ents.append(doc._.index)\n",
    "        else:\n",
    "            for ent in doc.ents:\n",
    "                try:\n",
    "                    doc_dict[ent.label_].append(ent.text)\n",
    "                except:\n",
    "                    doc_dict[ent.label_] = [ent.text]"
   ]
  },
  {
   "cell_type": "code",
   "execution_count": 24,
   "metadata": {},
   "outputs": [],
   "source": [
    "for doc, doc_dict in docs:\n",
    "    doc_dict['LOC'] = []\n",
    "    doc_dict['ORG'] = []\n",
    "    doc_dict['OTHER'] = []\n",
    "    for ent in doc.ents:\n",
    "        try: # key exists, append\n",
    "            doc_dict[ent.label_].append(ent.text)\n",
    "        \n",
    "\n",
    "        \n",
    "        else: #create key\n",
    "        \n",
    "        \n",
    "        \n",
    "        doct_dict[ent.label_]\n",
    "        if ent.label_ == 'LOC':\n",
    "            doc_dict['LOC'].append(ent.text)\n",
    "        elif ent.label_ == 'ORG':\n",
    "            doc_dict['ORG'].append(ent.text)\n",
    "        else:\n",
    "            doc_dict['OTHER'].append(ent.text)"
   ]
  },
  {
   "cell_type": "code",
   "execution_count": 43,
   "metadata": {},
   "outputs": [
    {
     "data": {
      "text/plain": [
       "(LGBQT feindliche Schmiererei entdeckt!. Am Abend gegen 20.10 Uhr stellen Polizeibeamte eine Farbschmiererei an dem Denkmal für die im Nationalsozialismus verfolgten Homosexuellen fest.,\n",
       " {'index': 1861, 'LOC': [], 'ORG': [], 'OTHER': [LGBQT]})"
      ]
     },
     "execution_count": 43,
     "metadata": {},
     "output_type": "execute_result"
    }
   ],
   "source": [
    "docs[2]"
   ]
  },
  {
   "cell_type": "code",
   "execution_count": 244,
   "metadata": {},
   "outputs": [
    {
     "data": {
      "text/plain": [
       "[8857, 16598, 18204, 19927, 20279, 21822]"
      ]
     },
     "execution_count": 244,
     "metadata": {},
     "output_type": "execute_result"
    }
   ],
   "source": [
    "# list of indices of docs with no found entities\n",
    "no_ents_index = [doc[1]['index'] for doc in docs if len(doc[0].ents) == 0]\n",
    "no_ents_index"
   ]
  },
  {
   "cell_type": "code",
   "execution_count": 249,
   "metadata": {},
   "outputs": [
    {
     "data": {
      "text/plain": [
       "[Paar aus homophober Motivation angespuckt. Am 04.07.17 gegen 17.00 Uhr wurden zwei Männer, die Hand in Hand auf der Rheinstraße liefen, aus einer Gruppe heraus angespuckt.,\n",
       " Rassistisches Mobbing und Kündigung. Eine Schwarze queere Person wurde auf der Arbeit im Rahmen einer Antidiskriminierungsfortbildung gemobbt und danach gekündigt.,\n",
       " LGBTIQ*feindliches Mobbing am Arbeitsplatz. Am Arbeitsplatz wurde ein trans Mensch gemobbt. Das Datum entspricht nicht dem Datum des Vorfalls, sondern dem Datum der Meldung.,\n",
       " E-Mail mit rassistischen und LGBTIQ*-feindlichem Inhalt. An das Bündnis #unteilbar wird eine beleidigende E-Mail mit rassistischen und LGBTIQ*-feindlichem Inhalt gesendet.,\n",
       " Frau am Mehringplatz aus LGBTIQ*-Feindlichkeit beleidigt und geschlagen. Um 21 Uhr soll eine 28-jährige Transfrau am Mehringplatz von einem bisher unbekannten Tatverdächtigen beleidigt und bespuckt worden sein. Im weiten Verlauf soll der Angreifer der Frau gegen den Kopf geschlagen haben. Ein Zeuge, der die Auseinandersetzung mitbekam, konnte den Übergriff beenden. Der Angreifer flüchtete daraufhin und konnte unerkannt entkommen. Die Transfrau wurde nicht verletzt.,\n",
       " LGBTIQ*feindliche Ausgrenzung an einer Hochschule. Ein Dozent an einer Hochschule im Ortsteil Mitte beschwerte sich über das Gendern und meinte, dass das generische Maskulinum auch Frauen und nicht-binäre Menschen mit meine. Damit verteidigte er jedoch die sprachliche Ausgrenzung von Frauen und nicht-binären Menschen.]"
      ]
     },
     "execution_count": 249,
     "metadata": {},
     "output_type": "execute_result"
    }
   ],
   "source": [
    "# list of docs with no found entities\n",
    "no_ents_docs = [doc[0] for doc in docs if doc[1]['index'] in no_ents_index]\n",
    "no_ents_docs"
   ]
  },
  {
   "cell_type": "markdown",
   "metadata": {},
   "source": [
    "**Add custom attributes 'index' and 'district' to Doc**"
   ]
  },
  {
   "cell_type": "code",
   "execution_count": 24,
   "metadata": {},
   "outputs": [
    {
     "data": {
      "text/plain": [
       "1707"
      ]
     },
     "execution_count": 24,
     "metadata": {},
     "output_type": "execute_result"
    }
   ],
   "source": [
    "Doc.set_extension('index', default=None)\n",
    "for doc, context in docs:\n",
    "    doc._.index = context[\"index\"]\n",
    "docs[0][0]._.index"
   ]
  },
  {
   "cell_type": "code",
   "execution_count": 25,
   "metadata": {},
   "outputs": [
    {
     "data": {
      "text/plain": [
       "'Tempelhof-Schöneberg'"
      ]
     },
     "execution_count": 25,
     "metadata": {},
     "output_type": "execute_result"
    }
   ],
   "source": [
    "Doc.set_extension('district', default=None)\n",
    "for doc, context in docs:\n",
    "    doc._.district = context[\"district\"]\n",
    "docs[0][0]._.district"
   ]
  },
  {
   "cell_type": "markdown",
   "metadata": {},
   "source": [
    "**Test create entity**"
   ]
  },
  {
   "cell_type": "code",
   "execution_count": 662,
   "metadata": {},
   "outputs": [],
   "source": [
    "docs[0][1]['locations'].append(docs[0][0].ents)"
   ]
  },
  {
   "cell_type": "code",
   "execution_count": 505,
   "metadata": {},
   "outputs": [],
   "source": [
    "lgbt_stories = df_lgbt['Story']\n",
    "docs = list(nlp.pipe(df_lgbt['Story']))"
   ]
  },
  {
   "cell_type": "code",
   "execution_count": 450,
   "metadata": {},
   "outputs": [],
   "source": [
    "locations = []\n",
    "organizations = []\n",
    "for i, doc in enumerate(docs):\n",
    "    locs_in_story = {i:[]}\n",
    "    orgs_in_story = {i:[]}\n",
    "    try:\n",
    "        for ent in doc.ents:\n",
    "            if ent.label_ == 'LOC':\n",
    "                locs_in_story[i].append(ent)\n",
    "            if ent.label_ == 'ORG':\n",
    "                orgs_in_story[i].append(ent)\n",
    "        if len(locs_in_story[i]) > 0:\n",
    "            locations.append(locs_in_story)\n",
    "        if len(orgs_in_story[i]) > 0:\n",
    "            organizations.append(orgs_in_story)\n",
    "    except:\n",
    "        continue"
   ]
  },
  {
   "cell_type": "code",
   "execution_count": 451,
   "metadata": {},
   "outputs": [],
   "source": [
    "stories_with_locs = []\n",
    "stories_with_orgs = []\n",
    "for i in locations:\n",
    "    stories_with_locs.append(list(i.keys())[0])\n",
    "for i in organizations:\n",
    "    stories_with_orgs.append(list(i.keys())[0])"
   ]
  },
  {
   "cell_type": "code",
   "execution_count": 453,
   "metadata": {},
   "outputs": [],
   "source": [
    "stories_with_just_orgs = [i for i in stories_with_orgs if i not in stories_with_locs]"
   ]
  },
  {
   "cell_type": "code",
   "execution_count": 455,
   "metadata": {},
   "outputs": [],
   "source": [
    "stories_with_some_info = list(stories_with_locs)"
   ]
  },
  {
   "cell_type": "code",
   "execution_count": 456,
   "metadata": {},
   "outputs": [],
   "source": [
    "for i in stories_with_just_orgs:\n",
    "    stories_with_some_info.append(i)"
   ]
  },
  {
   "cell_type": "code",
   "execution_count": 457,
   "metadata": {},
   "outputs": [
    {
     "data": {
      "text/plain": [
       "86"
      ]
     },
     "execution_count": 457,
     "metadata": {},
     "output_type": "execute_result"
    }
   ],
   "source": [
    "# stories with no info: 82\n",
    "len(stories) - len(stories_with_some_info)"
   ]
  },
  {
   "cell_type": "code",
   "execution_count": 454,
   "metadata": {},
   "outputs": [
    {
     "data": {
      "text/plain": [
       "(891, 263, 32)"
      ]
     },
     "execution_count": 454,
     "metadata": {},
     "output_type": "execute_result"
    }
   ],
   "source": [
    "len(stories_with_locs), len(stories_with_orgs), len(stories_with_just_orgs)"
   ]
  },
  {
   "cell_type": "code",
   "execution_count": 460,
   "metadata": {},
   "outputs": [],
   "source": [
    "stories_with_no_info = [i for i in range(len(stories)) if i not in stories_with_some_info]"
   ]
  },
  {
   "cell_type": "code",
   "execution_count": 483,
   "metadata": {
    "scrolled": false
   },
   "outputs": [
    {
     "data": {
      "text/plain": [
       "'Ein 31-jähriger Mann wird gegen 0.20 Uhr in der Adalbertstraße aus homophober Motivation ins Gesicht geschlagen.'"
      ]
     },
     "execution_count": 483,
     "metadata": {},
     "output_type": "execute_result"
    }
   ],
   "source": [
    "# Why didn't it recognize Adalbertstraße ?\n",
    "[stories[i] for i in stories_with_no_info][6]"
   ]
  },
  {
   "cell_type": "code",
   "execution_count": 494,
   "metadata": {},
   "outputs": [
    {
     "data": {
      "text/plain": [
       "[{3: [Tennis Borussia Berlin,\n",
       "   BSV Eintracht Mahlsdorf,\n",
       "   Tennis Borussia Berlin,\n",
       "   Eintracht Mahlsdorf,\n",
       "   NPD,\n",
       "   Tennis Borussia]},\n",
       " {4: [VfB Stuttgart,\n",
       "   Hertha BSC Berlin,\n",
       "   Hertha,\n",
       "   KSC,\n",
       "   Hertha BSC Berlin,\n",
       "   Karlsruher Sport-Club,\n",
       "   KSC,\n",
       "   Hertha,\n",
       "   KSC]},\n",
       " {9: [NSU]},\n",
       " {10: [NPD, NPD, Punker_innen und Linke, NPD]},\n",
       " {15: [NPD, Österreichischen Roten Kreuzes]},\n",
       " {26: [Bundeskanzleramt]},\n",
       " {29: [NPD Pankow]},\n",
       " {32: [Brüsseler Lobbyorganisation, European Dignity Watch]},\n",
       " {38: [Anti-Homosexuellen-Gesetze]},\n",
       " {44: [Axel-Springer-Verlag]},\n",
       " {45: [Junge Alternative, Flüchtlingskrise, Partei, Junge Alternative]},\n",
       " {49: [Berliner Polizei]},\n",
       " {51: [Aktion Lebensrecht für Alle]},\n",
       " {54: [Junge Alternative, Partei, Junge Alternative]},\n",
       " {55: [Polizeiliche Staatschutz]},\n",
       " {56: [Tagesspiegel]},\n",
       " {60: [Männern]},\n",
       " {62: [Bündnisses gegen Homophobie]},\n",
       " {63: [Kleinstpartei, Pro Deutschland, Gender-Wahn]},\n",
       " {67: [Junge Alternative, Partei, Junge Alternative]},\n",
       " {68: [Berliner Polizei]},\n",
       " {71: [Deutschen Historischen Museums]},\n",
       " {74: [Gedenktafeln, Bundeskanzleramt]},\n",
       " {75: [Pro Deutschland,\n",
       "   Migrant_innen,\n",
       "   Gender Mainstreaming,\n",
       "   Deutschenhass,\n",
       "   Etablierten,\n",
       "   NPD]},\n",
       " {80: [Junge Alternative, Partei, Junge Alternative]},\n",
       " {85: [Bundeskanzleramt, Bundespolizei]},\n",
       " {87: [Berliner Polizei]},\n",
       " {88: [Bundeskanzleramt, Gedenktafeln, LSVD]},\n",
       " {90: [U17, U17, Hertha, Hertha]},\n",
       " {91: [Junge Alternative, Partei, Junge Alternative]},\n",
       " {92: [Manuscriptum-Verlag, Konservatismus]},\n",
       " {101: [Junge Alternative, Partei, Junge Alternative]},\n",
       " {104: [PEGIDA, Faschisten]},\n",
       " {107: [Junge Alternative, Partei, Junge Alternative]},\n",
       " {112: [Junge Alternative, Partei, Junge Alternative]},\n",
       " {116: [AfD-Parteitag, Junge Alternative, Partei, Junge Alternative]},\n",
       " {120: [AfD-Parteitag, Junge Alternative, Partei, Junge Alternative]},\n",
       " {122: [Pegida, Junge Alternative, Partei, Junge Alternative]},\n",
       " {128: [BVG]},\n",
       " {130: [Bezirksverband Charlottenburg-Wilmersdorf,\n",
       "   LGBTIQ,\n",
       "   LGBTIQ,\n",
       "   AfD-Fraktion,\n",
       "   Partei]},\n",
       " {133: [AfD Bezirksverband,\n",
       "   Originalen,\n",
       "   Kotzen!!!!,\n",
       "   deutsche Reich,\n",
       "   Deutschen Reiches,\n",
       "   NS-Propagandafilm,\n",
       "   Olympia,\n",
       "   NS-Regisseurin,\n",
       "   Realitätsblind,\n",
       "   ....]},\n",
       " {146: [Jungen Alternativen Berlin,\n",
       "   Partei,\n",
       "   Junge Alternative,\n",
       "   Deutschland,\n",
       "   AfD]},\n",
       " {148: [1. FC Köln]},\n",
       " {150: [Jungen Alternativen Berlin,\n",
       "   Partei,\n",
       "   Junge Alternative,\n",
       "   Deutschland,\n",
       "   AfD,\n",
       "   Café Bleibtreu]},\n",
       " {151: [LGBTIQ]},\n",
       " {155: [Allgemeinen Studierendenausschusses,\n",
       "   Technischen Universität Berlin,\n",
       "   Partei Alternative]},\n",
       " {165: [AfD, AfD]},\n",
       " {166: [AfD, AfD]},\n",
       " {170: [Deutschland, AfD]},\n",
       " {171: [AfD, AfD]},\n",
       " {172: [AfD, AfD]},\n",
       " {174: [AfD, Deutschland, AfD]},\n",
       " {177: [Tagesspiegel]},\n",
       " {179: [Antifa]},\n",
       " {182: [Flüchtenden, Flüchtenden]},\n",
       " {183: [Polizeiliche Staatsschutz des Landeskriminalamts]},\n",
       " {185: [Technischen Universität Berlin,\n",
       "   Googlet Orden der Patrioten,\n",
       "   Orden der Patrioten]},\n",
       " {187: [CSD]},\n",
       " {190: [Christopher Street Day]},\n",
       " {191: [AfD, Einwanderern, Einwanderern, AfD]},\n",
       " {198: [Die Polizei, Lesben- und Schwulenverbands Berlin, LSVD, Tagesspiegel]},\n",
       " {205: [Franz-Marc-Schule]},\n",
       " {206: [ver.di Jugendbildungsstätte Konradshöhe]},\n",
       " {211: [Männern]},\n",
       " {216: [NPD]},\n",
       " {219: [Partei Alternative]},\n",
       " {220: [Jungen Alternativen Berlin, Partei, Junge Alternative]},\n",
       " {225: [Landesverband der „Alternative für Deutschland, AfD, Antifa]},\n",
       " {226: [FSN-TV]},\n",
       " {228: [Jungen Alternativen Berlin, Partei, Junge Alternative]},\n",
       " {230: [Jungen Alternativen Berlin,\n",
       "   Bundeswehr,\n",
       "   Partei,\n",
       "   Junge Alternative,\n",
       "   Deutschland,\n",
       "   AfD]},\n",
       " {231: [FSN-TV]},\n",
       " {232: [Jungen Alternativen Berlin, Partei, Junge Alternative]},\n",
       " {237: [Jungen Alternativen Berlin, Partei, Junge Alternative]},\n",
       " {240: [NACHMELDUNG]},\n",
       " {243: [NPD,\n",
       "   BZ Berlin,\n",
       "   NPD Landesverbands,\n",
       "   NPD Pankow,\n",
       "   NPD Reinickendorf,\n",
       "   JN,\n",
       "   NPD Reinickendorf,\n",
       "   NPD,\n",
       "   NPD,\n",
       "   NPD Reinickendorf]},\n",
       " {246: [BVV, Lichtenberger AfD, Bundes-SPD, Lichtenberger AfD, AfD]},\n",
       " {249: [Neues Deutschland]},\n",
       " {252: [BVV, AfD, BVV, Kommunisten]},\n",
       " {254: [NPD Flyer]},\n",
       " {256: [AfD Treptow-Köpenick,\n",
       "   Bezirksverband,\n",
       "   AfD Treptow-Köpenick,\n",
       "   AfD,\n",
       "   AfD,\n",
       "   Bündnis für Demokratie und Toleranz,\n",
       "   AfD-Fraktion,\n",
       "   AfD]},\n",
       " {257: [NPD, NPD]},\n",
       " {262: [Antifa]},\n",
       " {267: [AfD-Büro]},\n",
       " {269: [AfD, AfD, BVV, LINKE-Politikerin, AfD, BVV, AfD]},\n",
       " {272: [AfD, AfD]},\n",
       " {273: [AfD, AfD]},\n",
       " {274: [AfD, AfD]},\n",
       " {275: [LINKEN]},\n",
       " {276: [Mercedes]},\n",
       " {277: [AfD, AfD]},\n",
       " {278: [AfD, AfD]},\n",
       " {279: [Lichtenberger AfD]},\n",
       " {280: [Deutschland,\n",
       "   AfD,\n",
       "   AfD,\n",
       "   Kleinstpartei Deutsche Mitte,\n",
       "   Kleinstpartei Deutsche Mitte,\n",
       "   NPD,\n",
       "   Die Rechte]},\n",
       " {283: [Lichtenberger AfD]},\n",
       " {284: [AfD Treptow-Köpenick, AfD]},\n",
       " {289: [AfD,\n",
       "   Demonstrationsteilnehmer_innen,\n",
       "   Merkel-Muss-Weg,\n",
       "   Bärgida,\n",
       "   Redner_innen]},\n",
       " {291: [AfD,\n",
       "   United Kingdom Independance Party,\n",
       "   UKIP,\n",
       "   AfD.,\n",
       "   AfD,\n",
       "   AfD,\n",
       "   AfD,\n",
       "   AfD,\n",
       "   AfD]},\n",
       " {294: [AfD, AfD]},\n",
       " {295: [AfD, AfD]},\n",
       " {296: [4.9.2017\n",
       "   Tagesspiegel]},\n",
       " {297: [Deutschland,\n",
       "   AfD,\n",
       "   AfD,\n",
       "   AfD,\n",
       "   Kleinstpartei Deutsche Mitte,\n",
       "   Kleinstpartei Deutsche Mitte,\n",
       "   Bürgerbündnis Solidarität,\n",
       "   BüSo,\n",
       "   Partei BüSo,\n",
       "   NPD,\n",
       "   Die Rechte]},\n",
       " {298: [Deutschland,\n",
       "   AfD,\n",
       "   AfD,\n",
       "   AfD,\n",
       "   AfD,\n",
       "   neonazistische Partei,\n",
       "   NPD,\n",
       "   Partei,\n",
       "   EU-Abgeordnete,\n",
       "   NPD,\n",
       "   Kleinstpartei Deutsche Mitte,\n",
       "   Kleinstpartei Deutsche Mitte,\n",
       "   Bürgerbündnis Solidarität,\n",
       "   BüSo,\n",
       "   BüSo]},\n",
       " {300: [Polizei]},\n",
       " {311: [AfD, AfD, AfD, AfD, AfD]},\n",
       " {312: [NPD, NPD]},\n",
       " {313: [NPD Reinickendorf,\n",
       "   NPD,\n",
       "   Partei,\n",
       "   NPD,\n",
       "   BZ Berlin,\n",
       "   NPD Reinickendorf,\n",
       "   NPD]},\n",
       " {315: [Partei, Partei]},\n",
       " {318: [Homos + Kokser, LGBTIQ-Szene]},\n",
       " {324: [Lichtenberger AfD, BVV, BVV]},\n",
       " {327: [Antisemitismus]},\n",
       " {328: [Thügida,\n",
       "   NPD,\n",
       "   Bündnis Deutscher Patrioten,\n",
       "   German Defence League,\n",
       "   Die Rechte,\n",
       "   IB-Rapper]},\n",
       " {330: [Lichtenberger NPD]},\n",
       " {331: [NPD Neukölln, Asylschnorrer, Bundestags, NPD, Bundestag]},\n",
       " {332: [AfD, AfD, BVV, 1.623., BVV, BVV, AfD, AfD]},\n",
       " {333: [Partei Alternative]},\n",
       " {337: [SPD]},\n",
       " {338: [AfD, AfD]},\n",
       " {339: [AfD Treptow-Köpenick, AfD]},\n",
       " {348: [Vereins Tennis Borussia Berlin]},\n",
       " {356: [AfD, Bölschefest, AfD]},\n",
       " {358: [Bölschefest, AfD Treptow-Köpenick, AfD]},\n",
       " {362: [FDP, BVV-Integrationsausschusses]},\n",
       " {368: [AfD, FDP-Fraktion, FDP-Vertreter, AfD]},\n",
       " {369: [Fitness-Center]},\n",
       " {370: [Bärgida, Muslim*as]},\n",
       " {373: [1. FC Köln,\n",
       "   Kölner Ultràgruppe,\n",
       "   Hertha BSC Berlin,\n",
       "   1. FC Köln,\n",
       "   Harlekin Berlin]},\n",
       " {379: [NPD, NPD, NPD, NPD, NPD Neukölln, NPD Neukölln]},\n",
       " {392: [Tennis Borussia Berlin, Sp]},\n",
       " {400: [NAZI, JN, NPD, UN-Migrationspakt]},\n",
       " {402: [Deutschen Bundestag,\n",
       "   SPD-Abgeordnete,\n",
       "   AfD,\n",
       "   SPD-Redner,\n",
       "   AfD-Vorsitzende des Rechtsausschusses Brandner,\n",
       "   SPD,\n",
       "   SPD-Bundestagsfraktion]},\n",
       " {404: [AfD, BVV, AfD., AfD, AfD]},\n",
       " {405: [Jungen Union, JU, Mute, Wehrmacht]},\n",
       " {415: [Lesben- und Schwulenverbandes Berlin-Brandenburg]},\n",
       " {417: [Mercedes-Benz-World, Eisbären, Mannheim]},\n",
       " {421: [CCC Ülkücü CCC Türk,\n",
       "   CCC,\n",
       "   Graue Wölfe,\n",
       "   Nationale Türkische Rachebrigade]},\n",
       " {422: [LGBTIQ]},\n",
       " {424: [Polizeiliche Staatsschutz]},\n",
       " {436: [Abgeordneten, Die Linke]},\n",
       " {441: [Bündnis für Demokratie und Toleranz,\n",
       "   Putzspaziergangs,\n",
       "   Putzspaziergangs,\n",
       "   Putzspaziergangs]},\n",
       " {448: [CSD, Oranien-]},\n",
       " {449: [Arbeitgeber*innen]},\n",
       " {458: [Männern]},\n",
       " {459: [AfD, AfD, LGBTIQ, AfD]},\n",
       " {463: [Bundespolizei, Polizei Berlin]},\n",
       " {465: [SPD, den Grünen, AfD, AfD, AfD, AfD, SED, AfD]},\n",
       " {473: [AfD, SPD, den Grünen, BVV, Flyer, BVV]},\n",
       " {480: [Kirche]},\n",
       " {484: [AfD, Polizei Köln, Zentrum für Demokratie, SPD, BVV, BVV]},\n",
       " {486: [BVV,\n",
       "   Bündnis Neukölln,\n",
       "   Antisemitismus,\n",
       "   LINKEN,\n",
       "   Antisemitismus,\n",
       "   LINKE,\n",
       "   AfD,\n",
       "   Paritätischen Wohlfahrtsverbands für Kita-Erzieher*innen „Murat,\n",
       "   AfD]},\n",
       " {487: [ASH, ASH]},\n",
       " {491: [SPD, AfD, SPD, den Grünen, AfD, AfD, Die AfD]},\n",
       " {497: [Bundesgesundheitsminister, Bundesminister für Gesundheit]},\n",
       " {501: [BVV,\n",
       "   AfD,\n",
       "   SPD,\n",
       "   SPD,\n",
       "   CSD Berlin,\n",
       "   AfD,\n",
       "   Senats zu Gewalt gegen Frauen,\n",
       "   LGBTIQ,\n",
       "   LGBTIQ,\n",
       "   AfD,\n",
       "   AfD,\n",
       "   BVV,\n",
       "   AfD,\n",
       "   AfD,\n",
       "   SPD,\n",
       "   Grünen,\n",
       "   AfD,\n",
       "   AfD-Fraktion,\n",
       "   AfD]},\n",
       " {502: [AfD-Fraktion,\n",
       "   FDP-Fraktion,\n",
       "   Paritätischen Wohlfahrtsverbandes für Kita-Erzieher_innen,\n",
       "   FDP,\n",
       "   AfD,\n",
       "   AfD,\n",
       "   LGBTIQ]},\n",
       " {503: [Abwehrspray, Kaufland]},\n",
       " {507: [Polizei Berlin]},\n",
       " {518: [AfD Reinickendorf, AfD, Bundestag]},\n",
       " {523: [NPD]},\n",
       " {525: [Schüler_innengruppe]},\n",
       " {531: [Landesliga-Vereins FC Stern Marienfelde,\n",
       "   Tennis Borussia Berlin,\n",
       "   FC Stern,\n",
       "   Bundesligisten,\n",
       "   Hertha BSC,\n",
       "   TeBe]},\n",
       " {532: [Landesliga-Vereins FC Stern Marienfelde,\n",
       "   Tennis Borussia Berlin,\n",
       "   TeBe]},\n",
       " {535: [Holocaust-Mahnmal]},\n",
       " {538: [Aktion]},\n",
       " {543: [Vereins Energie Cottbus]},\n",
       " {548: [NPD-Jugendorganisation, JN]},\n",
       " {553: [AfD CW]},\n",
       " {559: [Polizei Berlin]},\n",
       " {561: [Polizeiliche Staatsschutz]},\n",
       " {564: [Gedenktafeln]},\n",
       " {567: [Wir für Deutschland]},\n",
       " {568: [LGBTIQ]},\n",
       " {577: [Holocaust-Mahnmal]},\n",
       " {578: [Polizeiliche Staatsschutz]},\n",
       " {589: [LKA]},\n",
       " {592: [LSVD]},\n",
       " {593: [Holocaust-Mahnmal]},\n",
       " {596: [Polizeiliche Staatsschutz]},\n",
       " {597: [AfD-Abgeordnete, LSBTIQ]},\n",
       " {598: [die Grünen, Faschisten]},\n",
       " {599: [Polizeiliche Staatsschutz]},\n",
       " {600: [Holocaust-Mahnmal]},\n",
       " {602: [NPD,\n",
       "   NPD,\n",
       "   Partnerschaften für Demokratie,\n",
       "   NPD,\n",
       "   Antifa,\n",
       "   Aktion,\n",
       "   NPD,\n",
       "   Aktion Gewalt,\n",
       "   NPD]},\n",
       " {603: [NPD]},\n",
       " {604: [neonazistischen Partei, NPD]},\n",
       " {609: [CSD]},\n",
       " {610: [CSD]},\n",
       " {611: [CSD]},\n",
       " {612: [Radical Queer March]},\n",
       " {633: [Aktion, JF]},\n",
       " {636: [Mercedes, Polizeiliche Staatsschutz des Landeskriminalamtes]},\n",
       " {643: [Holocaust-Mahnmal]},\n",
       " {646: [Berliner LKA]},\n",
       " {648: [Ca]},\n",
       " {649: [BSR]},\n",
       " {666: [Holocaust-Mahnmal]},\n",
       " {678: [Lichtenberger NPD, Partei, Nationalen Liedermachers, AfD u.A.]},\n",
       " {686: [BVG]},\n",
       " {693: [FEZ Berlin]},\n",
       " {697: [HTW]},\n",
       " {707: [Schlachthofgelände, Platz der Vereinten Nationen]},\n",
       " {712: [AfD Steglitz-Zehlendorf, AfD, Deutschen Bahn-Werbung]},\n",
       " {724: [Neuköllner BVV-Sitzung, LSBTI, Grünen, Die Grünen]},\n",
       " {726: [Ca]},\n",
       " {730: [FCU, Fußballvereins, FC Union]},\n",
       " {731: [NPD, NPD, EU-Wahl, EU-Wahlkampf, NPD, JN]},\n",
       " {735: [Polizeiliche Staatsschutz]},\n",
       " {736: [Neuköllner BVV-Sitzung, Nichtmuslime]},\n",
       " {740: [Sexarbeiter*in]},\n",
       " {752: [Polizeiliche Staatsschutz]},\n",
       " {760: [AfD Neukölln]},\n",
       " {761: [NS-Regimes]},\n",
       " {766: [AfD Charlottenburg-Wilmersdorf, Die Linke]},\n",
       " {767: [AfD]},\n",
       " {772: [AFD-Reinickendorf]},\n",
       " {773: [Antifa, Partei Die Grünen]},\n",
       " {775: [NPD]},\n",
       " {776: [NPD]},\n",
       " {777: [NPD]},\n",
       " {778: [FU]},\n",
       " {779: [Neuköllner AfD]},\n",
       " {780: [NPD]},\n",
       " {782: [Scheiss Punks]},\n",
       " {783: [Gender Mainstreaming]},\n",
       " {808: [Zeugen gerufene Polizei]},\n",
       " {814: [Bundesverbands Lebensrecht, Schoah]},\n",
       " {816: [AfD-Reinickendorf  ]},\n",
       " {819: [LGBTIQ*feindlichen Bündnisses,\n",
       "   Kinder und Jugendliche an pädophile Pflegeväter,\n",
       "   DfA]},\n",
       " {820: [Team-Mitarbeiter]},\n",
       " {832: [GLADT]},\n",
       " {846: [Antifa, Gender Mainstreaming]},\n",
       " {848: [Antifa]},\n",
       " {849: [Polizeiliche Staatsschutz]},\n",
       " {855: [Nase-Mund-Maske]},\n",
       " {859: [Rot-Rot-Grün, AfD-Abgeordnete]},\n",
       " {860: [Antisemitismus,\n",
       "   Grünen-Politiker,\n",
       "   Jüdischen Forum für Demokratie,\n",
       "   Antisemitismus]},\n",
       " {866: [Rot-Grün]},\n",
       " {871: [AFD Reinickendorf]},\n",
       " {883: [GLADT, Zeugen Jehovas]},\n",
       " {896: [AfD, Faschist, KDW, NS-Verharmlosenden]},\n",
       " {903: [AfD Steglitz-Zehlendorf, BVV]},\n",
       " {904: [Bundeskanzleramt, Bundestag, Bundestag, Jutebeutel]},\n",
       " {913: [Männern]},\n",
       " {916: [Polizeiliche Staatsschutz]},\n",
       " {917: [JFE Queeren Jugendzentrums, JN]},\n",
       " {920: [GLADT, Zeugen Jehovas]},\n",
       " {922: [Christlichen Mitte]},\n",
       " {927: [JN, NPD]},\n",
       " {930: [HIV, HIV schütze, EURE]},\n",
       " {935: [Fritz-Erler-Allee]},\n",
       " {950: [Polizeiliche Staatsschutz]},\n",
       " {951: [Polizei, Polizeiliche Staatsschutz]},\n",
       " {956: [TU]},\n",
       " {957: [neonazistischen Partei, NPD, JN, Gender Mainstream, NPD]},\n",
       " {968: [Gedenktafeln]},\n",
       " {973: [NPD]},\n",
       " {976: [JN, Junge Nationalisten]},\n",
       " {980: [LSVD Berlin-Brandenburg]},\n",
       " {981: [JN, Junge Nationalisten, JN]},\n",
       " {990: [Spandauer Facebook-Gruppe]},\n",
       " {996: [Antifaschismus, Antifa]},\n",
       " {999: [NPD, Antifa, LGBTIQ]},\n",
       " {1006: [NPD]}]"
      ]
     },
     "execution_count": 494,
     "metadata": {},
     "output_type": "execute_result"
    }
   ],
   "source": [
    "organizations"
   ]
  },
  {
   "cell_type": "markdown",
   "metadata": {},
   "source": [
    "____"
   ]
  },
  {
   "cell_type": "markdown",
   "metadata": {},
   "source": [
    "# Pickle df_lgbt"
   ]
  },
  {
   "cell_type": "code",
   "execution_count": 252,
   "metadata": {},
   "outputs": [],
   "source": [
    "# pickle\n",
    "with open('pickles/df_lgbt.pickle', 'wb') as f:\n",
    "    pickle.dump(df_lgbt, f)"
   ]
  },
  {
   "cell_type": "markdown",
   "metadata": {},
   "source": [
    "# Pickle df_map"
   ]
  },
  {
   "cell_type": "code",
   "execution_count": 254,
   "metadata": {},
   "outputs": [],
   "source": [
    "# pickle df_map_test\n",
    "with open('pickles/df_map_test.pickle', 'wb' ) as f:\n",
    "    pickle.dump(df_map, f)"
   ]
  },
  {
   "cell_type": "code",
   "execution_count": null,
   "metadata": {},
   "outputs": [],
   "source": []
  }
 ],
 "metadata": {
  "kernelspec": {
   "display_name": "Python 3",
   "language": "python",
   "name": "python3"
  },
  "language_info": {
   "codemirror_mode": {
    "name": "ipython",
    "version": 3
   },
   "file_extension": ".py",
   "mimetype": "text/x-python",
   "name": "python",
   "nbconvert_exporter": "python",
   "pygments_lexer": "ipython3",
   "version": "3.8.5"
  }
 },
 "nbformat": 4,
 "nbformat_minor": 4
}
