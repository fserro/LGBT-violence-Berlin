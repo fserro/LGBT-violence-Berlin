{
 "cells": [
  {
   "cell_type": "code",
   "execution_count": 4,
   "metadata": {},
   "outputs": [],
   "source": [
    "import requests\n",
    "from bs4 import BeautifulSoup\n",
    "import re\n",
    "import sys\n",
    "import pandas as pd\n",
    "import numpy as np\n",
    "import pickle\n",
    "import string"
   ]
  },
  {
   "cell_type": "code",
   "execution_count": 71,
   "metadata": {},
   "outputs": [],
   "source": [
    "LETTERS = string.ascii_uppercase"
   ]
  },
  {
   "cell_type": "code",
   "execution_count": 76,
   "metadata": {},
   "outputs": [
    {
     "name": "stdout",
     "output_type": "stream",
     "text": [
      "CPU times: user 5.86 s, sys: 268 ms, total: 6.13 s\n",
      "Wall time: 16.6 s\n"
     ]
    }
   ],
   "source": [
    "def scrape_streets():\n",
    "    LETTERS = string.ascii_uppercase\n",
    "    streets = []\n",
    "    localities = []\n",
    "    for letter in LETTERS:\n",
    "        path = f'https://berlin.kauperts.de/Strassenverzeichnis/{letter}'\n",
    "        response = requests.get(path)\n",
    "        page_html = response.text\n",
    "        page_soup = BeautifulSoup(page_html)\n",
    "        table_soup = page_soup.find(attrs={'class': 'default streets'}).find_all('td')\n",
    "        for i, line in enumerate(table_soup):\n",
    "            if i % 2 == 0: # it's a street\n",
    "                streets.append(line.text)\n",
    "            else: # it's an Ortsteil\n",
    "                localities.append(line.text)\n",
    "    streets_dict = {'Straße': streets, 'Ortsteile': localities}\n",
    "    return streets_dict"
   ]
  },
  {
   "cell_type": "code",
   "execution_count": null,
   "metadata": {},
   "outputs": [],
   "source": [
    "streets_dict = scrape_parks()"
   ]
  },
  {
   "cell_type": "code",
   "execution_count": 255,
   "metadata": {
    "scrolled": true
   },
   "outputs": [],
   "source": [
    "# pickle streets_dict\n",
    "with open('berlin_streets_dict.pickle', 'wb') as f:\n",
    "    pickle.dump(streets_dict, f)"
   ]
  },
  {
   "cell_type": "code",
   "execution_count": 330,
   "metadata": {},
   "outputs": [],
   "source": [
    "with open('berlin_streets_dict.pickle', 'rb') as f:\n",
    "    loaded_streets_dict = pickle.load(f)"
   ]
  },
  {
   "cell_type": "code",
   "execution_count": 331,
   "metadata": {},
   "outputs": [
    {
     "data": {
      "text/plain": [
       "True"
      ]
     },
     "execution_count": 331,
     "metadata": {},
     "output_type": "execute_result"
    }
   ],
   "source": [
    "streets_dict == loaded_streets_dict"
   ]
  },
  {
   "cell_type": "code",
   "execution_count": 319,
   "metadata": {
    "scrolled": true
   },
   "outputs": [],
   "source": [
    "def scrape_parks():\n",
    "    LETTERS = string.ascii_uppercase\n",
    "    parks = []\n",
    "    park_locations = []\n",
    "    park_PLZ = []\n",
    "    for letter in LETTERS:\n",
    "        path = f'https://berlin.kauperts.de/Adressen/Gruenanlage/{letter}'\n",
    "        response = requests.get(path)\n",
    "        page_html = response.text\n",
    "        page_soup = BeautifulSoup(page_html)\n",
    "        try:\n",
    "            table_soup = page_soup.find(attrs={'class': 'default providers'}).find_all('td')\n",
    "        except:\n",
    "            continue\n",
    "        for i, cell in enumerate(table_soup):\n",
    "            if i % 3 == 0:\n",
    "                parks.append(cell.a.text)\n",
    "            elif i % 3 == 1:\n",
    "                location, plz = re.findall(' +(.*)\\\\xa0–\\\\n *(\\d{5})', cell.string)[0]\n",
    "                park_locations.append(location)\n",
    "                park_PLZ.append(plz)\n",
    "            else:\n",
    "                continue\n",
    "    parks_dict = {'Park': parks, 'Ortsteil': park_locations, 'PLZ': park_PLZ}\n",
    "    return parks_dict"
   ]
  },
  {
   "cell_type": "code",
   "execution_count": 320,
   "metadata": {},
   "outputs": [],
   "source": [
    "parks_dict = scrape_parks()"
   ]
  },
  {
   "cell_type": "code",
   "execution_count": 322,
   "metadata": {},
   "outputs": [],
   "source": [
    "# pickle parks_dict\n",
    "with open('berlin_parks_dict.pickle', 'wb') as f:\n",
    "    pickle.dump(parks_dict, f)"
   ]
  },
  {
   "cell_type": "code",
   "execution_count": 325,
   "metadata": {},
   "outputs": [],
   "source": [
    "with open('berlin_parks_dict.pickle', 'rb') as f:\n",
    "    loaded_parks_dict = pickle.load(f)"
   ]
  },
  {
   "cell_type": "code",
   "execution_count": 326,
   "metadata": {},
   "outputs": [
    {
     "data": {
      "text/plain": [
       "True"
      ]
     },
     "execution_count": 326,
     "metadata": {},
     "output_type": "execute_result"
    }
   ],
   "source": [
    "parks_dict == loaded_parks_dict"
   ]
  },
  {
   "cell_type": "code",
   "execution_count": null,
   "metadata": {},
   "outputs": [],
   "source": []
  }
 ],
 "metadata": {
  "kernelspec": {
   "display_name": "Python 3",
   "language": "python",
   "name": "python3"
  },
  "language_info": {
   "codemirror_mode": {
    "name": "ipython",
    "version": 3
   },
   "file_extension": ".py",
   "mimetype": "text/x-python",
   "name": "python",
   "nbconvert_exporter": "python",
   "pygments_lexer": "ipython3",
   "version": "3.8.5"
  }
 },
 "nbformat": 4,
 "nbformat_minor": 4
}
